{
 "cells": [
  {
   "cell_type": "code",
   "execution_count": null,
   "id": "0ea7c653-9a78-4bff-a0f2-c5eafc9b8f0c",
   "metadata": {},
   "outputs": [],
   "source": [
    "#For Kaggle\n",
    "#date=''\n",
    "\n",
    "#For WL data\n",
    "source='WL'\n",
    "date='20241118'\n",
    "\n",
    "saveImage=False\n",
    "\n",
    "print('done')"
   ]
  },
  {
   "cell_type": "code",
   "execution_count": null,
   "id": "2f70aed8-d656-4966-ac6a-97a6e4238c7a",
   "metadata": {},
   "outputs": [],
   "source": [
    "import sys\n",
    "import os\n",
    "from importlib import reload\n",
    "fpath = os.path.join('..//scripts')\n",
    "sys.path.append(fpath)\n",
    "\n",
    "import warnings\n",
    "warnings.filterwarnings('ignore')\n",
    "\n",
    "#loading internal scripts\n",
    "import frauddetection as fd\n",
    "import sourcedata as sd\n",
    "import dataimport as di\n",
    "import result as resultMd\n",
    "import sampling as sp\n",
    "reload(fd)\n",
    "reload(sd)\n",
    "reload(di)\n",
    "reload(resultMd)\n",
    "reload(sp)\n",
    "\n",
    "print('done')"
   ]
  },
  {
   "cell_type": "code",
   "execution_count": null,
   "id": "5a1a881b-aca4-410b-881c-a0cdc2cf6530",
   "metadata": {},
   "outputs": [],
   "source": [
    "import pandas as pd\n",
    "\n",
    "dfTrx = pd.read_csv('../data/cleaned/'+source+'export'+date+'.csv')\n",
    "dfTrx.head(5)"
   ]
  },
  {
   "cell_type": "markdown",
   "id": "afaa0e91-1b34-41e7-b983-d845f68e140b",
   "metadata": {},
   "source": [
    "# Sampling in Python"
   ]
  },
  {
   "cell_type": "code",
   "execution_count": null,
   "id": "2f3b6712-19dc-4cd7-ab1e-531291780b9f",
   "metadata": {},
   "outputs": [],
   "source": [
    "from sklearn.model_selection import train_test_split\n",
    "\n",
    "predictors = fd.getPredictors(dfTrx)\n",
    "TEST_SIZE = 0.20 # test size using_train_test_split\n",
    "RANDOM_STATE = 0\n",
    "x_train0, x_test, y_train0, y_test = train_test_split(dfTrx[predictors], dfTrx['Class'], test_size = TEST_SIZE, \n",
    "                                                        stratify= dfTrx['Class'],\n",
    "                                                        random_state = RANDOM_STATE)\n",
    "\n",
    "x_train= x_train0.copy()\n",
    "x_test = x_test.copy()\n",
    "\n"
   ]
  },
  {
   "cell_type": "markdown",
   "id": "895d738b-5e05-4768-aa82-53f9c870e961",
   "metadata": {},
   "source": [
    "# Over sampling\n",
    "* randomOverSampling\n",
    "* smoteOverSampling\n",
    "\n",
    "# Under sampling\n",
    "* randomUnderSampling\n",
    "* NearMiss\n",
    "* EditedNearestNeighbours (very slow)\n",
    "* NeighbourhoodCleaningRule\n",
    "* oneSidedSelection\n",
    "* tomekLinks (very slow 33 minutes)\n",
    "\n",
    "# Combined approach\n",
    "* Combined random over and underSampling\n"
   ]
  },
  {
   "cell_type": "markdown",
   "id": "2165da3e-49a1-4c3c-b80a-35cf50b1138d",
   "metadata": {},
   "source": [
    "# Over sampling"
   ]
  },
  {
   "cell_type": "code",
   "execution_count": null,
   "id": "e4ea85c3-a906-4573-846b-745e8e5329e7",
   "metadata": {},
   "outputs": [],
   "source": [
    "x_train, y_train = sp.randomOverSampling(x_train0, y_train0,rateOverSampling=5)\n",
    "sp.draw2DPCAScaterPlot(x_train0,y_train0,x_train,y_train)\n",
    "#sp.saveTrainData(x_train,y_train,\"TempTrainRandomOverSampling.pkl\")\n",
    "#x_train2, y_train2=sp.loadTrainData(\"TempTrainRandomOverSampling.pkl\")\n",
    "#sp.draw2DPCAScaterPlot(x_train0,y_train0,x_train2,y_train2)"
   ]
  },
  {
   "cell_type": "code",
   "execution_count": null,
   "id": "4f0bb89f-4c25-41c5-b52c-1aa065f7aed2",
   "metadata": {},
   "outputs": [],
   "source": [
    "\n",
    "x_train, y_train = sp.smoteOverSampling(x_train0, y_train0,rateOverSampling=5)\n",
    "\n",
    "sp.draw2DPCAScaterPlot(x_train0,y_train0,x_train,y_train)\n"
   ]
  },
  {
   "cell_type": "markdown",
   "id": "2500a523-ae76-4a20-ae45-1d25f113f842",
   "metadata": {},
   "source": [
    "# Under sampling"
   ]
  },
  {
   "cell_type": "code",
   "execution_count": null,
   "id": "0af4e859-7921-41f6-943a-83a85479e1a7",
   "metadata": {},
   "outputs": [],
   "source": [
    "x_train, y_train = sp.randomUnderSampling(x_train0, y_train0,rate=1/100)\n",
    "sp.draw2DPCAScaterPlot(x_train0,y_train0,x_train,y_train)"
   ]
  },
  {
   "cell_type": "code",
   "execution_count": null,
   "id": "1547094b-0085-49d5-83b6-ebd09dff56b3",
   "metadata": {},
   "outputs": [],
   "source": [
    "x_train, y_train = sp.nearMissV1UnderSampling(x_train0, y_train0,rate=1/100)\n",
    "\n",
    "sp.draw2DPCAScaterPlot(x_train0,y_train0,x_train,y_train)\n"
   ]
  },
  {
   "cell_type": "code",
   "execution_count": null,
   "id": "59f7815a-ef8c-403c-bc5e-2bc4797c7d16",
   "metadata": {},
   "outputs": [],
   "source": [
    "x_train, y_train = sp.nearMissV2UnderSampling(x_train0, y_train0,rate=1/100)\n",
    "\n",
    "sp.draw2DPCAScaterPlot(x_train0,y_train0,x_train,y_train)"
   ]
  },
  {
   "cell_type": "code",
   "execution_count": null,
   "id": "ed408dba-e779-4e85-87d1-d04ebf7749ff",
   "metadata": {},
   "outputs": [],
   "source": [
    "x_train, y_train = sp.oneSidedSelectionUnderSampling(x_train0, y_train0)\n",
    "\n",
    "sp.draw2DPCAScaterPlot(x_train0,y_train0,x_train,y_train)"
   ]
  },
  {
   "cell_type": "code",
   "execution_count": null,
   "id": "24cec90d-b67b-4682-a8dd-05a19e53e625",
   "metadata": {},
   "outputs": [],
   "source": [
    "# 33 minutes 1998s\n",
    "\n",
    "#After\n",
    "#Class\n",
    "#0    846839\n",
    "#1      1040\n",
    "\n",
    "#After\n",
    "#Class\n",
    "#0    846493\n",
    "#1      1040\n",
    "\n",
    "x_train, y_train = sp.tomekLinksUnderSampling(x_train0, y_train0)\n",
    "\n",
    "sp.draw2DPCAScaterPlot(x_train0,y_train0,x_train,y_train)\n",
    "sp.saveTrainData(x_train,y_train,\"TempTrainTomekLinksUnderSampling.pkl\")"
   ]
  },
  {
   "cell_type": "code",
   "execution_count": null,
   "id": "2a5f638a-8960-41e1-805f-76d239aef529",
   "metadata": {},
   "outputs": [],
   "source": [
    "# Duration 2103.2 s \n",
    "\n",
    "x_train, y_train = sp.neighbourhoodCleaningRuleUnderSampling(x_train0, y_train0,rate=1/100)\n",
    "\n",
    "sp.draw2DPCAScaterPlot(x_train0,y_train0,x_train,y_train)"
   ]
  },
  {
   "cell_type": "markdown",
   "id": "64600db1-ea70-4012-adf0-8464c2d24da1",
   "metadata": {},
   "source": [
    "# combined approach"
   ]
  },
  {
   "cell_type": "code",
   "execution_count": null,
   "id": "a5b331ee-3c35-4fe8-a4cc-05d775ebdcb7",
   "metadata": {},
   "outputs": [],
   "source": [
    "x_train, y_train = sp.randomOverUnderSampling(x_train0, y_train0)\n",
    "sp.draw2DPCAScaterPlot(x_train0,y_train0,x_train,y_train)"
   ]
  },
  {
   "cell_type": "code",
   "execution_count": null,
   "id": "617bac93-0394-4018-8384-9ce8bd9a471d",
   "metadata": {},
   "outputs": [],
   "source": []
  }
 ],
 "metadata": {
  "kernelspec": {
   "display_name": "Python 3 (ipykernel)",
   "language": "python",
   "name": "python3"
  },
  "language_info": {
   "codemirror_mode": {
    "name": "ipython",
    "version": 3
   },
   "file_extension": ".py",
   "mimetype": "text/x-python",
   "name": "python",
   "nbconvert_exporter": "python",
   "pygments_lexer": "ipython3",
   "version": "3.12.4"
  }
 },
 "nbformat": 4,
 "nbformat_minor": 5
}
