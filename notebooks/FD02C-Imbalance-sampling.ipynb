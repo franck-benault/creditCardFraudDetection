{
 "cells": [
  {
   "cell_type": "code",
   "execution_count": null,
   "id": "0ea7c653-9a78-4bff-a0f2-c5eafc9b8f0c",
   "metadata": {},
   "outputs": [],
   "source": [
    "#For Kaggle\n",
    "#date=''\n",
    "\n",
    "#For WL data\n",
    "source='WL'\n",
    "date='20241118'\n",
    "\n",
    "saveImage=False\n",
    "\n",
    "print('done')"
   ]
  },
  {
   "cell_type": "code",
   "execution_count": null,
   "id": "2f70aed8-d656-4966-ac6a-97a6e4238c7a",
   "metadata": {},
   "outputs": [],
   "source": [
    "import sys\n",
    "import os\n",
    "from importlib import reload\n",
    "fpath = os.path.join('..//scripts')\n",
    "sys.path.append(fpath)\n",
    "\n",
    "import warnings\n",
    "warnings.filterwarnings('ignore')\n",
    "\n",
    "#loading internal scripts\n",
    "import frauddetection as fd\n",
    "import sourcedata as sd\n",
    "import dataimport as di\n",
    "import result as resultMd\n",
    "import sampling as sp\n",
    "reload(fd)\n",
    "reload(sd)\n",
    "reload(di)\n",
    "reload(resultMd)\n",
    "reload(sp)\n",
    "\n",
    "print('done')"
   ]
  },
  {
   "cell_type": "code",
   "execution_count": null,
   "id": "5a1a881b-aca4-410b-881c-a0cdc2cf6530",
   "metadata": {},
   "outputs": [],
   "source": [
    "import pandas as pd\n",
    "\n",
    "dfTrx0 = pd.read_csv('../data/cleaned/'+source+'export'+date+'.csv')\n",
    "dfTrx0.head(5)\n",
    "predictors = fd.getPredictors(dfTrx0)\n",
    "dfTrx=fd.getStandardScaledData('export'+date+'.csv',source,predictors)"
   ]
  },
  {
   "cell_type": "markdown",
   "id": "afaa0e91-1b34-41e7-b983-d845f68e140b",
   "metadata": {},
   "source": [
    "# Sampling in Python"
   ]
  },
  {
   "cell_type": "code",
   "execution_count": null,
   "id": "2f3b6712-19dc-4cd7-ab1e-531291780b9f",
   "metadata": {},
   "outputs": [],
   "source": [
    "from sklearn.model_selection import train_test_split\n",
    "\n",
    "predictors = fd.getPredictors(dfTrx0)\n",
    "TEST_SIZE = 0.20 # test size using_train_test_split\n",
    "RANDOM_STATE = 0\n",
    "x_train0, x_test, y_train0, y_test = train_test_split(dfTrx[predictors], dfTrx['Class'], test_size = TEST_SIZE, \n",
    "                                                        stratify= dfTrx['Class'],\n",
    "                                                        random_state = RANDOM_STATE)\n",
    "\n",
    "x_train= x_train0.copy()\n",
    "x_test = x_test.copy()\n",
    "\n"
   ]
  },
  {
   "cell_type": "markdown",
   "id": "c332c711-dafb-4cd4-900e-ad505e5176f8",
   "metadata": {},
   "source": [
    "# Over sampling\n",
    "* randomOverSampling\n",
    "* smoteOverSampling\n",
    "\n",
    "# Under sampling\n",
    "* randomUnderSampling\n",
    "* NearMiss (version 1, 2 and 3)\n",
    "* EditedNearestNeighbours (very slow)\n",
    "* NeighbourhoodCleaningRule\n",
    "* oneSidedSelection\n",
    "* tomekLinks (very slow 33 minutes)\n",
    "\n",
    "# Combined approach\n",
    "* Combined random over and underSampling\n"
   ]
  },
  {
   "cell_type": "markdown",
   "id": "2165da3e-49a1-4c3c-b80a-35cf50b1138d",
   "metadata": {},
   "source": [
    "# Over sampling"
   ]
  },
  {
   "cell_type": "code",
   "execution_count": null,
   "id": "e4ea85c3-a906-4573-846b-745e8e5329e7",
   "metadata": {},
   "outputs": [],
   "source": [
    "x_train, y_train = sp.randomOverSampling(x_train0, y_train0,rateOverSampling=1.5)\n",
    "sp.draw2DPCAScaterPlotV2(x_train0, y_train0,x_train, y_train,title='After random over sampling')"
   ]
  },
  {
   "cell_type": "code",
   "execution_count": null,
   "id": "4f0bb89f-4c25-41c5-b52c-1aa065f7aed2",
   "metadata": {},
   "outputs": [],
   "source": [
    "\n",
    "x_train, y_train = sp.adasynOverSampling(x_train0, y_train0,rateOverSampling=3)\n",
    "\n",
    "sp.draw2DPCAScaterPlotV2(x_train0, y_train0,x_train, y_train,title='After adasyn over sampling')\n"
   ]
  },
  {
   "cell_type": "code",
   "execution_count": null,
   "id": "fa2238ce-a6d1-4797-b6da-50f6ee669a41",
   "metadata": {},
   "outputs": [],
   "source": [
    "x_train, y_train = sp.smoteOverSampling(x_train0, y_train0,rateOverSampling=3)\n",
    "\n",
    "sp.draw2DPCAScaterPlotV2(x_train0, y_train0,x_train, y_train,title='After smote over sampling')"
   ]
  },
  {
   "cell_type": "markdown",
   "id": "2500a523-ae76-4a20-ae45-1d25f113f842",
   "metadata": {},
   "source": [
    "# Under sampling"
   ]
  },
  {
   "cell_type": "code",
   "execution_count": null,
   "id": "0af4e859-7921-41f6-943a-83a85479e1a7",
   "metadata": {},
   "outputs": [],
   "source": [
    "x_train, y_train = sp.randomUnderSampling(x_train0, y_train0,rate=1/100)\n",
    "\n",
    "sp.draw2DPCAScaterPlotV2(x_train0, y_train0,x_train, y_train,title='After random under sampling')"
   ]
  },
  {
   "cell_type": "code",
   "execution_count": null,
   "id": "1547094b-0085-49d5-83b6-ebd09dff56b3",
   "metadata": {},
   "outputs": [],
   "source": [
    "x_train, y_train = sp.nearMissV1UnderSampling(x_train0, y_train0,rate=1/100)\n",
    "\n",
    "sp.draw2DPCAScaterPlotV2(x_train0, y_train0,x_train, y_train,title='After near miss v1 under sampling')\n"
   ]
  },
  {
   "cell_type": "code",
   "execution_count": null,
   "id": "59f7815a-ef8c-403c-bc5e-2bc4797c7d16",
   "metadata": {},
   "outputs": [],
   "source": [
    "x_train, y_train = sp.nearMissV2UnderSampling(x_train0, y_train0,rate=1/100)\n",
    "\n",
    "sp.draw2DPCAScaterPlotV2(x_train0, y_train0,x_train, y_train,title='After near miss v2 under sampling')"
   ]
  },
  {
   "cell_type": "code",
   "execution_count": null,
   "id": "ed408dba-e779-4e85-87d1-d04ebf7749ff",
   "metadata": {},
   "outputs": [],
   "source": [
    "#%%script false\n",
    "# slow  503 s -> 288 s after sampling\n",
    "x_train, y_train = sp.oneSidedSelectionUnderSampling(x_train0, y_train0)\n",
    "\n",
    "sp.draw2DPCAScaterPlotV2(x_train0, y_train0,x_train, y_train,title='After one side selection under sampling')\n",
    "sp.saveTrainData(x_train,y_train,\"TempTrainOneSidedSelectionUnderSampling.pkl\")"
   ]
  },
  {
   "cell_type": "code",
   "execution_count": null,
   "id": "24cec90d-b67b-4682-a8dd-05a19e53e625",
   "metadata": {},
   "outputs": [],
   "source": [
    "%%script false\n",
    "# 33 minutes 1998s -> 2638.4 s \n",
    "\n",
    "#After\n",
    "#Class\n",
    "#0    846839\n",
    "#1      1040\n",
    "\n",
    "#After\n",
    "#Class\n",
    "#0    846493\n",
    "#1      1040\n",
    "\n",
    "x_train, y_train = sp.tomekLinksUnderSampling(x_train0, y_train0)\n",
    "\n",
    "sp.draw2DPCAScaterPlotV2(x_train0, y_train0,x_train, y_train,title='After tomek links under sampling')\n",
    "sp.saveTrainData(x_train,y_train,\"TempTrainTomekLinksUnderSampling.pkl\")"
   ]
  },
  {
   "cell_type": "code",
   "execution_count": null,
   "id": "2a5f638a-8960-41e1-805f-76d239aef529",
   "metadata": {},
   "outputs": [],
   "source": [
    "%%script false\n",
    "# Duration 2103.2 s 35 min ? -> 2620.3 s\n",
    "\n",
    "#0    846839\n",
    "#1      1040\n",
    "#Name: count, dtype: int64\n",
    "#Class\n",
    "#0    844422\n",
    "#1      1040\n",
    "\n",
    "x_train, y_train = sp.neighbourhoodCleaningRuleUnderSampling(x_train0, y_train0,rate=1/100)\n",
    "\n",
    "sp.draw2DPCAScaterPlotV2(x_train0, y_train0,x_train, y_train,title='After neighbourhood Cleaning Rule under sampling')\n",
    "sp.saveTrainData(x_train,y_train,\"TempTrainNeighbourhoodCleaningRuleUnderSampling.pkl\")"
   ]
  },
  {
   "cell_type": "markdown",
   "id": "64600db1-ea70-4012-adf0-8464c2d24da1",
   "metadata": {},
   "source": [
    "# Hybrid approachs"
   ]
  },
  {
   "cell_type": "code",
   "execution_count": null,
   "id": "a5b331ee-3c35-4fe8-a4cc-05d775ebdcb7",
   "metadata": {},
   "outputs": [],
   "source": [
    "x_train, y_train = sp.randomOverUnderSampling(x_train0, y_train0)\n",
    "sp.draw2DPCAScaterPlotV2(x_train0, y_train0,x_train, y_train,title='After combined random over under sampling')"
   ]
  },
  {
   "cell_type": "code",
   "execution_count": null,
   "id": "617bac93-0394-4018-8384-9ce8bd9a471d",
   "metadata": {
    "scrolled": true
   },
   "outputs": [],
   "source": [
    "import matplotlib.pyplot as plt\n",
    "from sklearn.decomposition import PCA\n",
    "from sklearn.preprocessing import StandardScaler\n",
    "\n",
    "x_train1, y_train1 = sp.randomOverSampling(x_train0, y_train0)\n",
    "x_train2, y_train2 = sp.randomUnderSampling(x_train0, y_train0)\n",
    "x_train3, y_train3 = sp.randomOverUnderSampling(x_train0, y_train0)\n",
    "x_train4, y_train4 = sp.smoteOverSampling(x_train0, y_train0)\n",
    "x_train5, y_train5 = sp.loadTrainData(\"TempTrainTomekLinksUnderSampling.pkl\")\n",
    "\n",
    "\n",
    "pca = PCA(n_components=2)\n",
    "sc = StandardScaler()\n",
    "x2 = sc.fit_transform(x_train0)\n",
    "x_pca = pca.fit_transform(x2)\n",
    "\n",
    "# giving a larger plot\n",
    "fig,ax = plt.subplots(3,2)\n",
    "fig.set_figheight(8)\n",
    "fig.set_figwidth(8)\n",
    "ax[0][0].set_title('Before sampling')\n",
    "ax[0][0].scatter(x_pca[:, 0], x_pca[:, 1],\n",
    "            c=y_train0,\n",
    "            cmap='plasma')\n",
    "# labeling x and y axes\n",
    "#ax[0][0].set_xlabel('First Principal Component')\n",
    "#ax[0][0].set_ylabel('Second Principal Component')\n",
    "\n",
    "x1 = sc.transform(x_train1)\n",
    "x_pca1 = pca.transform(x1)\n",
    "\n",
    "ax[0][1].set_title('After random over sampling')\n",
    "ax[0][1].scatter(x_pca1[:, 0], x_pca1[:, 1],\n",
    "            c=y_train1,\n",
    "            cmap='plasma')\n",
    "\n",
    "    # labeling x and y axes\n",
    "#ax[0][1].set_xlabel('First Principal Component')\n",
    "#ax[0][1].set_ylabel('Second Principal Component')\n",
    "\n",
    "#-----------\n",
    "\n",
    "x2 = sc.transform(x_train2)\n",
    "x_pca2 = pca.transform(x2)\n",
    "\n",
    "ax[1][0].set_title('After random under sampling')\n",
    "ax[1][0].scatter(x_pca2[:, 0], x_pca2[:, 1],\n",
    "            c=y_train2,\n",
    "            cmap='plasma')\n",
    "\n",
    "    # labeling x and y axes\n",
    "#ax[1][0].set_xlabel('First Principal Component')\n",
    "#ax[1][0].set_ylabel('Second Principal Component')\n",
    "\n",
    "#-------------------\n",
    "x3 = sc.transform(x_train3)\n",
    "x_pca3 = pca.transform(x3)\n",
    "\n",
    "ax[1][1].set_title('After random over under sampling')\n",
    "ax[1][1].scatter(x_pca3[:, 0], x_pca3[:, 1],\n",
    "            c=y_train3,\n",
    "            cmap='plasma')\n",
    "\n",
    "    # labeling x and y axes\n",
    "#ax[1][1].set_xlabel('First Principal Component')\n",
    "#ax[1][1].set_ylabel('Second Principal Component')\n",
    "\n",
    "#-------------------\n",
    "\n",
    "x4 = sc.transform(x_train4)\n",
    "x_pca4 = pca.transform(x4)\n",
    "\n",
    "ax[2][0].set_title('After Smote over sampling')\n",
    "ax[2][0].scatter(x_pca4[:, 0], x_pca4[:, 1],\n",
    "            c=y_train4,\n",
    "            cmap='plasma')\n",
    "\n",
    "    # labeling x and y axes\n",
    "#ax[1][1].set_xlabel('First Principal Component')\n",
    "#ax[1][1].set_ylabel('Second Principal Component')\n",
    "\n",
    "#-------------------\n",
    "\n",
    "x5 = sc.transform(x_train5)\n",
    "x_pca5 = pca.transform(x5)\n",
    "\n",
    "ax[2][1].set_title('After Tomek under sampling')\n",
    "ax[2][1].scatter(x_pca5[:, 0], x_pca5[:, 1],\n",
    "            c=y_train5,\n",
    "            cmap='plasma')\n",
    "\n",
    "    # labeling x and y axes\n",
    "#ax[1][1].set_xlabel('First Principal Component')\n",
    "#ax[1][1].set_ylabel('Second Principal Component')\n",
    "\n",
    "plt.show()\n"
   ]
  },
  {
   "cell_type": "code",
   "execution_count": null,
   "id": "c4d1fc15-041d-487a-bb6b-d71e7252e260",
   "metadata": {},
   "outputs": [],
   "source": [
    "%%script false \n",
    "# too slow !!!!\n",
    "\n",
    "from imblearn.combine import SMOTETomek\n",
    "from imblearn.under_sampling import TomekLinks\n",
    "from datetime import datetime\n",
    "\n",
    "def smoteTomekSampling(x,y,rateOverSampling=3):\n",
    "    fraudRate=y.value_counts()[1]/y.value_counts()[0]\n",
    "    print(\"Before Sampling shape {0} fraud rate {1:.5f} \".format(x.shape,fraudRate))\n",
    "\n",
    "    then= datetime.now()\n",
    "    oversample = SMOTETomek(sampling_strategy=fraudRate*rateOverSampling,tomek=TomekLinks(sampling_strategy='majority'))\n",
    "    x_train, y_train = oversample.fit_resample(x, y)\n",
    "\n",
    "    now = datetime.now()\n",
    "    duration= now - then\n",
    "    duration_in_s = duration.total_seconds()\n",
    "    print(\"Duration {0:.1f} s \".format(duration_in_s))\n",
    "    \n",
    "    fraudRate2=y_train.value_counts()[1]/y_train.value_counts()[0]\n",
    "    print(\"After Sampling shape  {0} fraud rate {1:.5f} \".format(x_train.shape,fraudRate2))\n",
    "    return x_train, y_train\n",
    "\n",
    "x_train, y_train = smoteTomekSampling(x_train0, y_train0)\n",
    "\n",
    "sp.draw2DPCAScaterPlotV2(x_train0, y_train0,x_train, y_train,title='After Smote tomek sampling')\n",
    "\n"
   ]
  },
  {
   "cell_type": "code",
   "execution_count": null,
   "id": "6f73c5ff-e03b-4366-a396-85acbe3befda",
   "metadata": {},
   "outputs": [],
   "source": [
    "%%script false \n",
    "# too slow !!!!\n",
    "\n",
    "from imblearn.combine import SMOTEENN\n",
    "\n",
    "\n",
    "from datetime import datetime\n",
    "\n",
    "def SMOTEENNSampling(x,y):\n",
    "    fraudRate=y.value_counts()[1]/y.value_counts()[0]\n",
    "    print(\"Before Sampling shape {0} fraud rate {1:.5f} \".format(x.shape,fraudRate))\n",
    "\n",
    "    then= datetime.now()\n",
    "    resample=SMOTEENN(random_state=42)\n",
    "    #SMOTEENN(enn=EditedNearestNeighbours(sampling_strategy='all'))\n",
    "    x_train, y_train = resample.fit_resample(x, y)\n",
    "\n",
    "    now = datetime.now()\n",
    "    duration= now - then\n",
    "    duration_in_s = duration.total_seconds()\n",
    "    print(\"Duration {0:.1f} s \".format(duration_in_s))\n",
    "    \n",
    "    fraudRate2=y_train.value_counts()[1]/y_train.value_counts()[0]\n",
    "    print(\"After Sampling shape  {0} fraud rate {1:.5f} \".format(x_train.shape,fraudRate2))\n",
    "    return x_train, y_train\n",
    "\n",
    "x_train, y_train = SMOTEENNSampling(x_train0, y_train0)\n",
    "\n",
    "sp.draw2DPCAScaterPlotV2(x_train0, y_train0,x_train, y_train,title='After Smote tomek sampling')"
   ]
  },
  {
   "cell_type": "code",
   "execution_count": null,
   "id": "1795a73d-08a1-443a-9559-da3d9427f41a",
   "metadata": {},
   "outputs": [],
   "source": [
    "#%%script false \n",
    "\n",
    "\n",
    "\n",
    "from imblearn.combine import SMOTEENN\n",
    "\n",
    "\n",
    "from datetime import datetime\n",
    "\n",
    "def SMOTEENNSampling(x,y, ratio):\n",
    "    fraudRate=y.value_counts()[1]/y.value_counts()[0]\n",
    "    print(\"Before Sampling shape {0} fraud rate {1:.5f} \".format(x.shape,fraudRate))\n",
    "\n",
    "    then= datetime.now()\n",
    "    resample=SMOTEENN(random_state=42, sampling_strategy=ratio)\n",
    "    #SMOTEENN(enn=EditedNearestNeighbours(sampling_strategy='all'))\n",
    "    x_train, y_train = resample.fit_resample(x, y)\n",
    "\n",
    "    now = datetime.now()\n",
    "    duration= now - then\n",
    "    duration_in_s = duration.total_seconds()\n",
    "    print(\"Duration {0:.1f} s \".format(duration_in_s))\n",
    "    \n",
    "    fraudRate2=y_train.value_counts()[1]/y_train.value_counts()[0]\n",
    "    print(\"After Sampling shape  {0} fraud rate {1:.5f} \".format(x_train.shape,fraudRate2))\n",
    "    return x_train, y_train\n",
    "\n",
    "x_train1, y_train1 = sp.randomUnderSampling(x_train0, y_train0,rate=1/200)\n",
    "x_train, y_train = SMOTEENNSampling(x_train1, y_train1,1/100) \n",
    "\n",
    "sp.draw2DPCAScaterPlotV2(x_train0, y_train0,x_train, y_train,title='After Smote tomek sampling')"
   ]
  },
  {
   "cell_type": "code",
   "execution_count": null,
   "id": "949c8ddf-0a3d-4640-934f-eff9306db97d",
   "metadata": {
    "jp-MarkdownHeadingCollapsed": true
   },
   "outputs": [],
   "source": [
    "import numpy as np\n",
    "\n",
    "data=resultMd.load_sampling_time_result()\n",
    "\n",
    "print(\"Comparison sampling methods (process time in second)\")\n",
    "style_test=pd.DataFrame(data=data,\n",
    "             columns=['Type', 'Name','Process time']).style.background_gradient(axis='index')\n",
    "style_test.hide(axis=\"index\")\n",
    "\n",
    "\n",
    "style_test"
   ]
  },
  {
   "cell_type": "code",
   "execution_count": null,
   "id": "8f2109ee-09a7-4f8f-b8d0-105523ca0e88",
   "metadata": {},
   "outputs": [],
   "source": []
  }
 ],
 "metadata": {
  "kernelspec": {
   "display_name": "Python 3 (ipykernel)",
   "language": "python",
   "name": "python3"
  },
  "language_info": {
   "codemirror_mode": {
    "name": "ipython",
    "version": 3
   },
   "file_extension": ".py",
   "mimetype": "text/x-python",
   "name": "python",
   "nbconvert_exporter": "python",
   "pygments_lexer": "ipython3",
   "version": "3.12.4"
  }
 },
 "nbformat": 4,
 "nbformat_minor": 5
}
