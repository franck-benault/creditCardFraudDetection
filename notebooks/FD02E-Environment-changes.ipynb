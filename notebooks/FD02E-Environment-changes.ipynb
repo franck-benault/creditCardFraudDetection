{
 "cells": [
  {
   "cell_type": "code",
   "execution_count": null,
   "id": "7d81b91d-fbf1-4242-a8d5-e80b750be34b",
   "metadata": {},
   "outputs": [],
   "source": [
    "#For Kaggle\n",
    "#date=''\n",
    "\n",
    "#For WL data\n",
    "date='20241118'\n",
    "source='WL'\n",
    "\n",
    "saveImg=False\n",
    "\n",
    "print('done')"
   ]
  },
  {
   "cell_type": "code",
   "execution_count": null,
   "id": "1c662f53-7cd0-4423-8d38-800d8e2b887b",
   "metadata": {},
   "outputs": [],
   "source": [
    "import sys\n",
    "import os\n",
    "from importlib import reload\n",
    "fpath = os.path.join('..//scripts')\n",
    "sys.path.append(fpath)\n",
    "\n",
    "import warnings\n",
    "warnings.filterwarnings('ignore')\n",
    "\n",
    "#loading internal scripts\n",
    "import frauddetection as fd\n",
    "import sourcedata as sd\n",
    "import dataimport as di\n",
    "import countrymanagement as cm\n",
    "import mccmanagement\n",
    "reload(fd)\n",
    "reload(sd)\n",
    "reload(di)\n",
    "reload(cm)\n",
    "reload(mccmanagement)\n",
    "\n",
    "print('done')"
   ]
  },
  {
   "cell_type": "code",
   "execution_count": null,
   "id": "3e2cf5ff-ebd9-4a75-b8e9-090e2d585cfe",
   "metadata": {},
   "outputs": [],
   "source": [
    "import pandas as pd\n",
    "import matplotlib.pyplot as plt\n",
    "\n",
    "dates =['20241118', '20241119','20241120','20241121','20241125']\n",
    "unknownCards=[]\n",
    "unknownMerchants=[]\n",
    "dateIndex=[1,2,3,4,7]\n",
    "for date in dates:\n",
    "    print('process',date)\n",
    "    dfTrxSaved = pd.read_csv('../data/cleaned/'+source+'export'+date+'.csv')\n",
    "    #print(dfTrxSaved.head(2))\n",
    "    unknownMerchants.append(dfTrxSaved[(dfTrxSaved['clusterMerchant_UNKNOWN']==1)].shape[0])\n",
    "    unknownCards.append(dfTrxSaved[(dfTrxSaved['clusterCardHolder_UNKNOWN']==1)].shape[0])\n",
    "print(date)\n",
    "print(unknownMerchants)\n",
    "print(unknownCards)\n",
    "\n",
    "fig, ax = plt.subplots() # Create the figure and axes object\n",
    "# Plot the first x and y axes:\n",
    "ax.plot(dateIndex, unknownMerchants) \n",
    "ax.set_ylabel(\"unknown merchants\",color=\"b\")\n",
    "ax2 = ax.twinx()\n",
    "\n",
    "ax2.plot(dateIndex, unknownCards, color='r') \n",
    "ax2.set_ylabel(\"unknown cards\",color=\"r\")"
   ]
  },
  {
   "cell_type": "code",
   "execution_count": null,
   "id": "35917cfa-707d-4b17-818e-00c16cb89f67",
   "metadata": {},
   "outputs": [],
   "source": []
  }
 ],
 "metadata": {
  "kernelspec": {
   "display_name": "Python 3 (ipykernel)",
   "language": "python",
   "name": "python3"
  },
  "language_info": {
   "codemirror_mode": {
    "name": "ipython",
    "version": 3
   },
   "file_extension": ".py",
   "mimetype": "text/x-python",
   "name": "python",
   "nbconvert_exporter": "python",
   "pygments_lexer": "ipython3",
   "version": "3.12.4"
  }
 },
 "nbformat": 4,
 "nbformat_minor": 5
}
