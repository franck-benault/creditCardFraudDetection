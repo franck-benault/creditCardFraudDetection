{
 "cells": [
  {
   "cell_type": "code",
   "execution_count": null,
   "id": "54c2babf-89bf-461d-8c82-e8dde7974531",
   "metadata": {},
   "outputs": [],
   "source": [
    "#For Kaggle\n",
    "#date=''\n",
    "\n",
    "#For WL data\n",
    "source='WL'\n",
    "date='20241118'\n",
    "\n",
    "saveImage=False\n",
    "\n",
    "print('done')"
   ]
  },
  {
   "cell_type": "code",
   "execution_count": null,
   "id": "99510ba6-2f13-42f0-a598-c6beaa7207c5",
   "metadata": {},
   "outputs": [],
   "source": [
    "import sys\n",
    "import os\n",
    "from importlib import reload\n",
    "fpath = os.path.join('..//scripts')\n",
    "sys.path.append(fpath)\n",
    "\n",
    "import warnings\n",
    "warnings.filterwarnings('ignore')\n",
    "\n",
    "#loading internal scripts\n",
    "import frauddetection as fd\n",
    "import sourcedata as sd\n",
    "import dataimport as di\n",
    "import result as resultMd\n",
    "reload(fd)\n",
    "reload(sd)\n",
    "reload(di)\n",
    "reload(resultMd)\n",
    "\n",
    "print('done')"
   ]
  },
  {
   "cell_type": "code",
   "execution_count": null,
   "id": "ec6b87d8-ae8a-4e9f-a9ec-e87caeddcaf0",
   "metadata": {},
   "outputs": [],
   "source": [
    "import pandas as pd\n",
    "\n",
    "dfTrx = pd.read_csv('../data/cleaned/'+source+'export'+date+'.csv')\n",
    "dfTrx.head(5)"
   ]
  },
  {
   "cell_type": "markdown",
   "id": "4d2f9dfd-a7f0-41ab-ad05-8e3a6522d8fc",
   "metadata": {},
   "source": [
    "# Test with updated hyperparameters"
   ]
  },
  {
   "cell_type": "code",
   "execution_count": null,
   "id": "16fcab9d-be8f-491f-a9af-c40daf1dffbc",
   "metadata": {},
   "outputs": [],
   "source": [
    "import xgboost as xgb\n",
    "import matplotlib.pyplot as plt\n",
    "from datetime import datetime\n",
    "\n",
    "then= datetime.now()\n",
    "predictors = fd.getPredictors(dfTrx)\n",
    "\n",
    "x_train, x_test, y_train, y_test, scaler =fd.split_data(dfTrx,predictors)\n",
    "parameters= {'colsample_bytree': 1.0, 'learning_rate': 0.005, 'max_depth': 15, 'n_estimators': 440, 'subsample': 1.0}\n",
    "\n",
    "\n",
    "modelClf = xgb.XGBClassifier()\n",
    "modelClf.set_params(**parameters)\n",
    "modelClf.fit(x_train, y_train)\n",
    "predsTrain = modelClf.predict(x_train)\n",
    "predsTest = modelClf.predict(x_test)\n",
    "\n",
    "now = datetime.now()\n",
    "duration= now - then\n",
    "duration_in_s = duration.total_seconds()\n",
    "print(\"Duration \",duration_in_s)\n",
    "#resultMd.update_time_response_result('08-xgboost','XGBClassifier','2-After tuning', duration_in_s)\n",
    "f1,mcc,roc=fd.print_scores(y_test, predsTest,'all')\n",
    "#resultMd.update_performance_test_result('08-xgboost','XGBClassifier','2-After tuning', f1,mcc,roc)\n",
    "\n",
    "fd.print_scores(y_train, predsTrain,'f1', False)\n",
    "fd.print_scores(y_test, predsTest,'f1')\n",
    "fd.show_importance(modelClf, predictors)\n",
    "fd.show_confusion_matrix(y_test, predsTest)\n",
    "fd.show_prediction_graph(modelClf, x_test,y_test)\n"
   ]
  },
  {
   "cell_type": "markdown",
   "id": "620390b1-2487-46af-87ab-2f512452aa4a",
   "metadata": {},
   "source": [
    "# Threshold management"
   ]
  },
  {
   "cell_type": "code",
   "execution_count": null,
   "id": "b167d2a4-5f34-4e49-8b57-38079d014ccb",
   "metadata": {},
   "outputs": [],
   "source": [
    "y_pred_prob = modelClf.predict_proba(x_test)[:,1]\n",
    "\n",
    "range = []\n",
    "f1s = []\n",
    "rocs = []\n",
    "for threshold  in [0.025,0.05,0.1,0.2,0.25,0.3,0.4,0.5,0.6]:\n",
    "    print(\"--- threshold --\", threshold)\n",
    "    y_pred_adjusted = (y_pred_prob>threshold).astype(int)\n",
    "    f1,mcc,roc=fd.print_scores(y_test, y_pred_adjusted,'all')\n",
    "    range.append(threshold)\n",
    "    f1s.append(f1)\n",
    "    rocs.append(roc)\n",
    "\n",
    "fd.plt_train_test(range, f1s,\"f1 score\",rocs,\"rocs score\")\n"
   ]
  },
  {
   "cell_type": "code",
   "execution_count": null,
   "id": "11b184a2-610a-49da-9f46-6ee26af14e65",
   "metadata": {},
   "outputs": [],
   "source": [
    "files = fd.getAllFiles()\n",
    "\n",
    "range = []\n",
    "f1s = []\n",
    "rocs = []\n",
    "loop =0\n",
    "threshold=0.2\n",
    "for file in files:\n",
    "    loop=loop+1\n",
    "    range.append(loop)\n",
    "    print(file)\n",
    "  \n",
    "    dfTrx = pd.read_csv('../data/cleaned/'+source+file)\n",
    "    predictors = fd.getPredictors(dfTrx)\n",
    "\n",
    "    y_pred_prob = modelClf.predict_proba(dfTrx[predictors])[:,1]\n",
    "    y_pred_adjusted = (y_pred_prob>threshold).astype(int)\n",
    "\n",
    "    f1,mcc,roc= fd.print_scores(dfTrx['Class'], y_pred_adjusted,'All', True)\n",
    "    #fd.show_importance(modelClf,predictors)\n",
    "    fd.show_confusion_matrix(dfTrx['Class'], y_pred_adjusted)\n",
    "    f1s.append(f1)\n",
    "    rocs.append(roc)\n",
    "\n",
    "fd.plt_train_test(range, f1s)\n",
    "resultMd.update_performance_nextdays_result('08-xgboost','XGBClassifier','3-After threshold', f1s[0],f1s[1],f1s[2],f1s[3],rocs[0],rocs[1],rocs[2],rocs[3])\n"
   ]
  },
  {
   "cell_type": "code",
   "execution_count": null,
   "id": "8a901e05-534b-423c-b962-0c6051e2391e",
   "metadata": {},
   "outputs": [],
   "source": []
  }
 ],
 "metadata": {
  "kernelspec": {
   "display_name": "Python 3 (ipykernel)",
   "language": "python",
   "name": "python3"
  },
  "language_info": {
   "codemirror_mode": {
    "name": "ipython",
    "version": 3
   },
   "file_extension": ".py",
   "mimetype": "text/x-python",
   "name": "python",
   "nbconvert_exporter": "python",
   "pygments_lexer": "ipython3",
   "version": "3.12.4"
  }
 },
 "nbformat": 4,
 "nbformat_minor": 5
}
