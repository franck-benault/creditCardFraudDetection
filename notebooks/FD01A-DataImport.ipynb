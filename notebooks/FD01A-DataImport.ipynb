{
 "cells": [
  {
   "cell_type": "markdown",
   "id": "b8a90146-e2f6-40c4-98ae-cbaedec58cc5",
   "metadata": {},
   "source": [
    "# Import Kaggle data"
   ]
  },
  {
   "cell_type": "code",
   "execution_count": null,
   "id": "c79c9948-a8b0-41e8-b455-046997504813",
   "metadata": {},
   "outputs": [],
   "source": [
    "import kagglehub\n",
    "\n",
    "# Download latest version\n",
    "path = kagglehub.dataset_download(\"mlg-ulb/creditcardfraud\")\n",
    "\n",
    "print(\"Path to dataset files:\", path)"
   ]
  },
  {
   "cell_type": "code",
   "execution_count": null,
   "id": "ec3e3e20-1d67-4596-9dc0-3a3dc8bf7c96",
   "metadata": {},
   "outputs": [],
   "source": [
    "#For Kaggle\n",
    "\n",
    "#For WL data\n",
    "date=''\n",
    "source='KAGGLE'\n",
    "saveImg=True\n",
    "\n",
    "print('done')"
   ]
  },
  {
   "cell_type": "code",
   "execution_count": null,
   "id": "3dfc9336-1cef-4399-a179-57b578729c63",
   "metadata": {},
   "outputs": [],
   "source": [
    "import sys\n",
    "import os\n",
    "from importlib import reload\n",
    "fpath = os.path.join('..//scripts')\n",
    "sys.path.append(fpath)\n",
    "\n",
    "import warnings\n",
    "warnings.filterwarnings('ignore')\n",
    "\n",
    "#loading internal scripts\n",
    "import frauddetection as fd\n",
    "import sourcedata as sd\n",
    "import mccmanagement \n",
    "reload(fd)\n",
    "reload(sd)\n",
    "\n",
    "\n",
    "print('done')"
   ]
  },
  {
   "cell_type": "code",
   "execution_count": null,
   "id": "f975a256-faea-4980-8b72-22459acaac25",
   "metadata": {},
   "outputs": [],
   "source": [
    "import dataimport as di\n",
    "import pandas as pd \n",
    "   \n",
    "dfTrx = dfTrx = pd.read_csv('../data/raw/'+source+'export'+date+'.csv')\n",
    "dfTrx.head(5)"
   ]
  },
  {
   "cell_type": "code",
   "execution_count": null,
   "id": "98108b0e-9faa-4153-af70-e4a45f2c51be",
   "metadata": {},
   "outputs": [],
   "source": [
    "# Import libraries\n",
    "import seaborn as sns\n",
    "import matplotlib.pyplot as plt\n",
    "\n",
    "# Creating plot\n",
    "sns.boxplot(data=dfTrx,y='Amount', hue='Class')\n",
    "\n",
    "# Show the plot\n",
    "if(saveImg):\n",
    "    plt.savefig('../imgs/FD01A-Amount-boxplot.png')\n",
    "plt.show()"
   ]
  },
  {
   "cell_type": "code",
   "execution_count": null,
   "id": "885a7ab2-46c5-4862-9ade-16ec0b4c8a9f",
   "metadata": {},
   "outputs": [],
   "source": [
    "import numpy as np\n",
    "import matplotlib.pyplot as plt\n",
    "\n",
    "dfTrx['trx_amount_log10']=np.log10(1+dfTrx['Amount'])\n",
    "\n",
    "# Creating plot\n",
    "sns.boxplot(data=dfTrx,y='trx_amount_log10', hue='Class')\n",
    "\n",
    "# Show the plot\n",
    "if(saveImg):\n",
    "    plt.savefig('../imgs/FD01A-Amount-log10-boxplot.png')\n",
    "plt.show()"
   ]
  },
  {
   "cell_type": "code",
   "execution_count": null,
   "id": "2712d0ee-1b05-4ef0-8b83-a9f263bb497c",
   "metadata": {},
   "outputs": [],
   "source": [
    "import numpy as np\n",
    "max = 6\n",
    "\n",
    "print('trx_amount bin cut')\n",
    "for bins in np.arange(2,max,1):\n",
    "    dfTrx['amountBin']=pd.cut(dfTrx['Amount'], bins=bins)\n",
    "    print(f'IV trx_local_amt_val bins={bins} {fd.calc_iv(dfTrx,'amountBin','Class',pr=0)}')\n",
    "\n",
    "print('trx_amount bin qcut')\n",
    "for bins in np.arange(2,max,1):\n",
    "    dfTrx['amountBin']=pd.qcut(dfTrx['Amount'], q=bins)\n",
    "    print(f'IV trx_local_amt_val bins={bins} {fd.calc_iv(dfTrx,'amountBin','Class',pr=0)}')\n",
    "\n",
    "dfTrx['trx_amount_Log10']=np.log10(1+dfTrx['Amount'])\n",
    "print('trx_amount log10 bin cut')\n",
    "for bins in np.arange(2,max,1):\n",
    "    dfTrx['amountBin']=pd.cut(dfTrx['trx_amount_Log10'], bins=bins)\n",
    "    print(f'IV trx_local_amt_val bins={bins} {fd.calc_iv(dfTrx,'amountBin','Class',pr=0)}')\n",
    "\n",
    "print('trx_amount log10 bin qcut')\n",
    "for bins in np.arange(2,max,1):\n",
    "    dfTrx['amountBin']=pd.qcut(dfTrx['trx_amount_Log10'], q=bins)\n",
    "    print(f'IV trx_local_amt_val bins={bins} {fd.calc_iv(dfTrx,'amountBin','Class',pr=0)}')"
   ]
  },
  {
   "cell_type": "code",
   "execution_count": null,
   "id": "ca188c36-c34b-4c80-a6fe-673826662c9e",
   "metadata": {},
   "outputs": [],
   "source": []
  }
 ],
 "metadata": {
  "kernelspec": {
   "display_name": "Python 3 (ipykernel)",
   "language": "python",
   "name": "python3"
  },
  "language_info": {
   "codemirror_mode": {
    "name": "ipython",
    "version": 3
   },
   "file_extension": ".py",
   "mimetype": "text/x-python",
   "name": "python",
   "nbconvert_exporter": "python",
   "pygments_lexer": "ipython3",
   "version": "3.12.4"
  }
 },
 "nbformat": 4,
 "nbformat_minor": 5
}
