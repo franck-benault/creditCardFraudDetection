{
 "cells": [
  {
   "cell_type": "code",
   "execution_count": null,
   "id": "6b9e922f-84cb-4556-a6d9-dea7ce222301",
   "metadata": {},
   "outputs": [],
   "source": [
    "#For Kaggle\n",
    "#date=''\n",
    "\n",
    "#For WL data\n",
    "source='WL'\n",
    "date='20241118'\n",
    "\n",
    "saveImage=False\n",
    "\n",
    "packageName='07-sklearn.ensemble.b-boosting'\n",
    "classifierName='4-GradientBoostingClassifier'\n",
    "extraParameterName='3-Random undersampling'\n",
    "\n",
    "print('done')"
   ]
  },
  {
   "cell_type": "code",
   "execution_count": null,
   "id": "53106652-5d8c-4b52-8d38-a65e992b1abe",
   "metadata": {},
   "outputs": [],
   "source": [
    "import sys\n",
    "import os\n",
    "from importlib import reload\n",
    "fpath = os.path.join('..//scripts')\n",
    "sys.path.append(fpath)\n",
    "\n",
    "import warnings\n",
    "warnings.filterwarnings('ignore')\n",
    "\n",
    "#loading internal scripts\n",
    "import frauddetection as fd\n",
    "import sourcedata as sd\n",
    "import dataimport as di\n",
    "import result as resultMd\n",
    "import sampling as sp\n",
    "reload(fd)\n",
    "reload(sd)\n",
    "reload(di)\n",
    "reload(resultMd)\n",
    "reload(sp)\n",
    "\n",
    "print('done')"
   ]
  },
  {
   "cell_type": "code",
   "execution_count": null,
   "id": "9c72c8e2-8cd2-405b-9dfb-8aa0386dc912",
   "metadata": {},
   "outputs": [],
   "source": [
    "# Hyperparameters Results\n",
    "\n",
    "learning_rateFound=0.1\n",
    "n_estimatorsFound=188\n",
    "max_depthFound=5\n",
    "\n",
    "\n",
    "resultMd.update_hyperparameter_config_result(packageName,classifierName,extraParameterName,max_depthFound,n_estimatorsFound)\n",
    "\n",
    "print('done')"
   ]
  },
  {
   "cell_type": "code",
   "execution_count": null,
   "id": "5a6f119e-bb6e-4236-88de-526cb617e9ec",
   "metadata": {},
   "outputs": [],
   "source": [
    "import pandas as pd\n",
    "\n",
    "dfTrx0 = pd.read_csv('../data/cleaned/'+source+'export'+date+'.csv')\n",
    "predictors = fd.getPredictors(dfTrx0)\n",
    "dfTrx=fd.getStandardScaledData('export'+date+'.csv',source,predictors)\n",
    "dfTrx.head(5)"
   ]
  },
  {
   "cell_type": "code",
   "execution_count": null,
   "id": "10b8400d-fcbe-41b4-a771-44d893ec44b2",
   "metadata": {},
   "outputs": [],
   "source": [
    "from sklearn.model_selection import train_test_split\n",
    "\n",
    "predictors = fd.getPredictors(dfTrx0)\n",
    "TEST_SIZE = 0.20 # test size using_train_test_split\n",
    "RANDOM_STATE = 0\n",
    "x_train0, x_test, y_train0, y_test = train_test_split(dfTrx[predictors], dfTrx['Class'], test_size = TEST_SIZE, \n",
    "                                                        stratify= dfTrx['Class'],\n",
    "                                                        random_state = RANDOM_STATE)\n",
    "\n",
    "x_train, y_train = sp.randomUnderSampling(x_train0, y_train0,1/100)"
   ]
  },
  {
   "cell_type": "markdown",
   "id": "a51a3422-edaf-46fd-b23c-bd435c9314b9",
   "metadata": {},
   "source": [
    "# Hyperparameters tuning"
   ]
  },
  {
   "cell_type": "code",
   "execution_count": null,
   "id": "aa23a4ce-3ec8-4af9-ba0c-a3d380a34688",
   "metadata": {},
   "outputs": [],
   "source": [
    "%%script false\n",
    "\n",
    "from scipy.stats import randint\n",
    "from sklearn.ensemble import GradientBoostingClassifier\n",
    " \n",
    "modelClf = GradientBoostingClassifier(random_state=42)\n",
    "dic_param={\n",
    "    'learning_rate': [0.1], \n",
    "    'n_estimators': randint(70,140),\n",
    "    'max_depth':randint(6,14)\n",
    "}\n",
    "\n",
    "res=fd.hyperparameterSelectionRandomizedSearchCVSampling(modelClf, dic_param, 'f1', x_train, y_train, iter=4)\n",
    "print(res)\n",
    "\n",
    "#{'learning_rate': 0.1, 'max_depth': 10, 'n_estimators': 128}\n",
    "#0.39061483927489943\n",
    "#score   0.7520759193357058\n",
    "\n",
    "#{'learning_rate': 0.1, 'max_depth': 7, 'n_estimators': 115}\n",
    "#0.463531176370061\n",
    "#score   0.9044193216855088\n",
    "\n"
   ]
  },
  {
   "cell_type": "code",
   "execution_count": null,
   "id": "02e6f9c8-6914-417e-bdd1-b7bb101980a4",
   "metadata": {},
   "outputs": [],
   "source": [
    "%%script false\n",
    "from sklearn.ensemble import GradientBoostingClassifier\n",
    " \n",
    "modelClf = GradientBoostingClassifier(random_state=42)\n",
    "\n",
    "dic_param={\n",
    "    'learning_rate': [0.1], \n",
    "    'n_estimators': [185,188,191],\n",
    "    'max_depth': [3,5,7]\n",
    "}\n",
    "res=fd.hyperparameterSelectionGridSearchCVSampling(modelClf, dic_param, 'f1', x_train, y_train)\n",
    "print(res)\n",
    "\n",
    "\n",
    "#{'learning_rate': 0.1, 'max_depth': 5, 'n_estimators': 180}\n",
    "#0.48130066612256617\n",
    "#scoref1 0.7821727019498608\n",
    "\n",
    "#{'learning_rate': 0.1, 'max_depth': 5, 'n_estimators': 185}\n",
    "#0.4836569902350957\n",
    "#scoref1 0.7868670005564831\n",
    "\n",
    "#{'learning_rate': 0.1, 'max_depth': 5, 'n_estimators': 187}\n",
    "#0.48564831980345835\n",
    "#scoref1 0.7891231964483907\n",
    "\n",
    "#{'learning_rate': 0.1, 'max_depth': 5, 'n_estimators': 188}\n",
    "#0.485929996720035\n",
    "#scoref1 0.7893569844789357\n",
    "\n"
   ]
  },
  {
   "cell_type": "markdown",
   "id": "2826bd40-4eb9-498c-92f6-4956e158fd3c",
   "metadata": {},
   "source": [
    "# Final validation"
   ]
  },
  {
   "cell_type": "code",
   "execution_count": null,
   "id": "d5a56853-7d3c-42b4-a268-97e3393e4f13",
   "metadata": {},
   "outputs": [],
   "source": [
    "import numpy as np\n",
    "from sklearn.ensemble import GradientBoostingClassifier\n",
    " \n",
    "modelClf = GradientBoostingClassifier(random_state=42)\n",
    "parameters={'learning_rate': learning_rateFound, 'n_estimators':n_estimatorsFound, 'max_depth':max_depthFound}\n",
    "modelClf.set_params(**parameters)\n",
    "modelClf.fit(x_train, y_train)\n",
    "\n",
    "predsTrain = modelClf.predict(x_train)\n",
    "predsTest = modelClf.predict(x_test)\n",
    "\n",
    "f1Train=fd.print_scores(y_train, predsTrain,'f1', False)\n",
    "f1Test=fd.print_scores(y_test, predsTest,'f1')\n",
    "fd.show_importance(modelClf, predictors)\n",
    "fd.show_confusion_matrix(y_test, predsTest)\n",
    "fd.show_prediction_graph(modelClf, x_test,y_test)\n",
    "\n",
    "diffF1=f1Train-f1Test\n",
    "print(\"diffF1\",diffF1)\n",
    "\n",
    "tmp = pd.DataFrame({'Feature': predictors, 'Feature importance': modelClf.feature_importances_})\n",
    "val=tmp[(tmp['Feature']=='trx_amount_log10')]['Feature importance']\n",
    "amountImportance =val.values[0]\n",
    "print(\"amount importance\",amountImportance)"
   ]
  },
  {
   "cell_type": "code",
   "execution_count": null,
   "id": "9e8d9491-f833-4537-9a65-076404bde78c",
   "metadata": {},
   "outputs": [],
   "source": [
    "files = fd.getAllFiles()\n",
    "predictors = fd.getPredictors(dfTrx0)\n",
    "\n",
    "range = []\n",
    "f1s = []\n",
    "rocs = []\n",
    "loop =0\n",
    "for file in files:\n",
    "    loop=loop+1\n",
    "    range.append(loop)\n",
    "    print(file)\n",
    "  \n",
    "    dfTrx=fd.getStandardScaledData(file,source,predictors)\n",
    "    preds = modelClf.predict(dfTrx[predictors])\n",
    "\n",
    "    f1,mcc,roc= fd.print_scores(dfTrx['Class'], preds,'All', True)\n",
    "    #fd.show_importance(modelClf,predictors)\n",
    "    fd.show_confusion_matrix(dfTrx['Class'], preds)\n",
    "    f1s.append(f1)\n",
    "    rocs.append(roc)\n",
    "\n",
    "fd.plt_train_test(range, f1s)\n",
    "resultMd.update_performance_nextdays_result(packageName,classifierName,extraParameterName, f1s[0],f1s[1],f1s[2],f1s[3],rocs[0],rocs[1],rocs[2],rocs[3],diffF1,amountImportance)\n"
   ]
  },
  {
   "cell_type": "code",
   "execution_count": null,
   "id": "c0873f93-7127-4739-9309-f50696481a2c",
   "metadata": {},
   "outputs": [],
   "source": []
  }
 ],
 "metadata": {
  "kernelspec": {
   "display_name": "Python 3 (ipykernel)",
   "language": "python",
   "name": "python3"
  },
  "language_info": {
   "codemirror_mode": {
    "name": "ipython",
    "version": 3
   },
   "file_extension": ".py",
   "mimetype": "text/x-python",
   "name": "python",
   "nbconvert_exporter": "python",
   "pygments_lexer": "ipython3",
   "version": "3.12.4"
  }
 },
 "nbformat": 4,
 "nbformat_minor": 5
}
