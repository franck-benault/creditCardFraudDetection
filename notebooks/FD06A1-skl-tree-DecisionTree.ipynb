{
 "cells": [
  {
   "cell_type": "code",
   "execution_count": null,
   "id": "dd04d046-f137-4182-ab56-af1d32ee31dc",
   "metadata": {},
   "outputs": [],
   "source": [
    "#For Kaggle\n",
    "#date=''\n",
    "\n",
    "#For WL data\n",
    "source='WL'\n",
    "date='20241118'\n",
    "\n",
    "saveImage=False\n",
    "\n",
    "print('done')"
   ]
  },
  {
   "cell_type": "code",
   "execution_count": null,
   "id": "522c43ed-4ffa-4e8f-8bb2-7a2b94d94f92",
   "metadata": {},
   "outputs": [],
   "source": [
    "import sys\n",
    "import os\n",
    "from importlib import reload\n",
    "fpath = os.path.join('..//scripts')\n",
    "sys.path.append(fpath)\n",
    "\n",
    "import warnings\n",
    "warnings.filterwarnings('ignore')\n",
    "\n",
    "#loading internal scripts\n",
    "import frauddetection as fd\n",
    "import sourcedata as sd\n",
    "import dataimport as di\n",
    "import result as resultMd\n",
    "reload(fd)\n",
    "reload(sd)\n",
    "reload(di)\n",
    "reload(resultMd)\n",
    "\n",
    "print('done')"
   ]
  },
  {
   "cell_type": "code",
   "execution_count": null,
   "id": "969c7829-775e-40d2-9dfa-1c867112f1e0",
   "metadata": {},
   "outputs": [],
   "source": [
    "import pandas as pd\n",
    "\n",
    "dfTrx = pd.read_csv('../data/cleaned/'+source+'export'+date+'.csv')\n",
    "dfTrx.head(5)"
   ]
  },
  {
   "cell_type": "markdown",
   "id": "c903a5d4-a60f-4193-883f-51954e3eea8b",
   "metadata": {},
   "source": [
    "# Test with default hyperparameters"
   ]
  },
  {
   "cell_type": "code",
   "execution_count": null,
   "id": "d75171fd-14de-43ec-be80-6bab0d67f07a",
   "metadata": {},
   "outputs": [],
   "source": [
    "from sklearn.tree import DecisionTreeClassifier\n",
    "import matplotlib.pyplot as plt\n",
    "from datetime import datetime\n",
    "\n",
    "then= datetime.now()\n",
    "predictors = fd.getPredictors(dfTrx)\n",
    "\n",
    "x_train, x_test, y_train, y_test, scaler =fd.split_data(dfTrx,predictors)\n",
    "\n",
    "modelClf = DecisionTreeClassifier(random_state=42)\n",
    "modelClf.fit(x_train, y_train)\n",
    "predsTrain = modelClf.predict(x_train)\n",
    "predsTest = modelClf.predict(x_test)\n",
    "\n",
    "now = datetime.now()\n",
    "duration= now - then\n",
    "duration_in_s = duration.total_seconds()\n",
    "print(\"Duration \",duration_in_s)\n",
    "resultMd.update_time_response_result('06-sklearn.tree','DecisionTree','1-Default', duration_in_s)\n",
    "f1,mcc,roc=fd.print_scores(y_test, predsTest,'all')\n",
    "resultMd.update_performance_test_result('06-sklearn.tree','DecisionTree','1-Default', f1,mcc,roc)\n",
    "\n",
    "fd.print_scores(y_train, predsTrain,'f1', False)\n",
    "fd.print_scores(y_test, predsTest,'f1')\n",
    "fd.show_importance(modelClf, predictors)\n",
    "fd.show_confusion_matrix(y_test, predsTest)\n",
    "#fd.show_precision_recall_curve(modelClf,x_train,y_train,x_test,y_test)\n",
    "fd.show_prediction_graph(modelClf, x_test,y_test)\n",
    "\n"
   ]
  },
  {
   "cell_type": "markdown",
   "id": "e0e7fbfd-572b-414c-8285-c7c1b8e9f9e7",
   "metadata": {},
   "source": [
    "# Scaling choice\n",
    "with decision tree the scaling has no influence"
   ]
  },
  {
   "cell_type": "markdown",
   "id": "a98572a8-5f7f-48ea-931f-dc708437374b",
   "metadata": {},
   "source": [
    "# Hyperparameters tuning"
   ]
  },
  {
   "cell_type": "code",
   "execution_count": null,
   "id": "bbf92254-b0b1-4875-93b3-fb15641283ff",
   "metadata": {},
   "outputs": [],
   "source": [
    "%%script false\n",
    "\n",
    "from scipy.stats import randint\n",
    "\n",
    "modelClf = DecisionTreeClassifier(random_state=42)\n",
    "dic_param={\n",
    "    'criterion':[\"gini\",\"entropy\"],\n",
    "    'max_depth': randint(2,9),\n",
    "    'min_samples_leaf': randint(10,30),\n",
    "    'min_samples_split': randint(20,80),\n",
    "}\n",
    "\n",
    "#{'criterion': 'gini', 'max_depth': 7, 'min_samples_leaf': 14, 'min_samples_split': 21}\n",
    "#0.07117798295274644\n",
    "#score   0.08776844070961717\n",
    "#scoref1 0.08776844070961717\n",
    "\n",
    "res=fd.hyperparameterSelectionRandomizedSearchCV(modelClf, dic_param, 'f1', dfTrx, predictors, [], None)\n",
    "print(res)"
   ]
  },
  {
   "cell_type": "code",
   "execution_count": null,
   "id": "c084293c-ba4f-4c3e-950a-05ef2793248c",
   "metadata": {},
   "outputs": [],
   "source": [
    "%%script false\n",
    "\n",
    "modelClf = DecisionTreeClassifier(random_state=42)\n",
    "# starting point n_estimators=100,  max_depth=7 \n",
    "dic_param={\n",
    "    'criterion':[\"gini\",\"entropy\"],\n",
    "    'max_depth': [6,7,8],\n",
    "    'min_samples_leaf': [15,16,17,18,19,20,21],\n",
    "    'min_samples_split': [20,25,29,30,31,35,40]\n",
    "}\n",
    "res=fd.hyperparameterSelectionGridSearchCV(modelClf, dic_param, 'f1', dfTrx, predictors, [], None)\n",
    "print(res)\n",
    "#{'criterion': 'gini', 'max_depth': 6, 'min_samples_leaf': 12, 'min_samples_split': 19}\n",
    "#0.07155657962109574\n",
    "#scoref1 0.08776844070961717\n"
   ]
  },
  {
   "cell_type": "code",
   "execution_count": null,
   "id": "5ce5c9ce-86b7-44c5-9d9d-0bff2ed143c9",
   "metadata": {},
   "outputs": [],
   "source": [
    "from sklearn.tree import DecisionTreeClassifier\n",
    "import matplotlib.pyplot as plt\n",
    "from datetime import datetime\n",
    "\n",
    "then= datetime.now()\n",
    "predictors = fd.getPredictors(dfTrx)\n",
    "\n",
    "x_train, x_test, y_train, y_test, scaler =fd.split_data(dfTrx,predictors)\n",
    "\n",
    "modelClf = DecisionTreeClassifier(random_state=42)\n",
    "parameters={'criterion': 'gini', 'max_depth': 6, 'min_samples_leaf': 15, 'min_samples_split': 20}\n",
    "modelClf.set_params(**parameters)\n",
    "\n",
    "modelClf.fit(x_train, y_train)\n",
    "predsTrain = modelClf.predict(x_train)\n",
    "predsTest = modelClf.predict(x_test)\n",
    "\n",
    "now = datetime.now()\n",
    "duration= now - then\n",
    "duration_in_s = duration.total_seconds()\n",
    "print(\"Duration \",duration_in_s)\n",
    "resultMd.update_time_response_result('06-sklearn.tree','DecisionTree','2-After tuning', duration_in_s)\n",
    "f1,mcc,roc=fd.print_scores(y_test, predsTest,'all')\n",
    "resultMd.update_performance_test_result('06-sklearn.tree','DecisionTree','2-After tuning', f1,mcc,roc)\n",
    "\n",
    "fd.print_scores(y_train, predsTrain,'f1', False)\n",
    "fd.print_scores(y_test, predsTest,'f1')\n",
    "fd.show_importance(modelClf, predictors)\n",
    "fd.show_confusion_matrix(y_test, predsTest)\n",
    "fd.show_prediction_graph(modelClf, x_test,y_test,'../imgs/FD06A-DecisionTreeClassifierProbaHistogram' if saveImage else None)\n",
    "#fd.show_precision_recall_curve(modelClf,x_train,y_train,x_test,y_test)\n"
   ]
  },
  {
   "cell_type": "code",
   "execution_count": null,
   "id": "9afc9a5e-cde4-4ffa-847b-b97dab577fe2",
   "metadata": {},
   "outputs": [],
   "source": [
    "import matplotlib.pyplot as plt\n",
    "from sklearn.tree import plot_tree\n",
    "# Plot the decision tree\n",
    "plt.figure(figsize=(20, 10))\n",
    "plot_tree(modelClf, filled=True, feature_names=dfTrx.columns, class_names=['Geniune', 'Fraudulent'])\n",
    "plt.show()\n"
   ]
  },
  {
   "cell_type": "code",
   "execution_count": null,
   "id": "67707476-eee8-4947-ac31-357071e8744e",
   "metadata": {},
   "outputs": [],
   "source": [
    "files = fd.getAllFiles()\n",
    "\n",
    "range = []\n",
    "f1s = []\n",
    "rocs = []\n",
    "loop =0\n",
    "for file in files:\n",
    "    loop=loop+1\n",
    "    range.append(loop)\n",
    "    print(file)\n",
    "  \n",
    "    dfTrx = pd.read_csv('../data/cleaned/'+source+file)\n",
    "    predictors = fd.getPredictors(dfTrx)\n",
    "\n",
    "    preds = modelClf.predict(dfTrx[predictors])\n",
    "\n",
    "    f1,mcc,roc= fd.print_scores(dfTrx['Class'], preds,'All', True)\n",
    "    #fd.show_importance(modelClf,predictors)\n",
    "    fd.show_confusion_matrix(dfTrx['Class'], preds)\n",
    "    f1s.append(f1)\n",
    "    rocs.append(roc)\n",
    "\n",
    "fd.plt_train_test(range, f1s)\n",
    "resultMd.update_performance_nextdays_result('06-sklearn.tree','DecisionTreeClassifier','2-After tuning', f1s[0],f1s[1],f1s[2],f1s[3],rocs[0],rocs[1],rocs[2],rocs[3])\n",
    "\n"
   ]
  },
  {
   "cell_type": "code",
   "execution_count": null,
   "id": "553ae40c-a7c7-42ce-ba5d-c996f5906814",
   "metadata": {},
   "outputs": [],
   "source": []
  }
 ],
 "metadata": {
  "kernelspec": {
   "display_name": "Python 3 (ipykernel)",
   "language": "python",
   "name": "python3"
  },
  "language_info": {
   "codemirror_mode": {
    "name": "ipython",
    "version": 3
   },
   "file_extension": ".py",
   "mimetype": "text/x-python",
   "name": "python",
   "nbconvert_exporter": "python",
   "pygments_lexer": "ipython3",
   "version": "3.12.4"
  }
 },
 "nbformat": 4,
 "nbformat_minor": 5
}
