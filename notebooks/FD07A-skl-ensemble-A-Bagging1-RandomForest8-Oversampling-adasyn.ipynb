{
 "cells": [
  {
   "cell_type": "code",
   "execution_count": null,
   "id": "6b9e922f-84cb-4556-a6d9-dea7ce222301",
   "metadata": {},
   "outputs": [],
   "source": [
    "#For Kaggle\n",
    "#date=''\n",
    "\n",
    "#For WL data\n",
    "source='WL'\n",
    "date='20241118'\n",
    "\n",
    "saveImage=False\n",
    "\n",
    "packageName='07-sklearn.ensemble.a-bagging'\n",
    "classifierName='2-RandomForestClassifier'\n",
    "extraParameterName='8-AdasynOverSampling'\n",
    "\n",
    "print('done')"
   ]
  },
  {
   "cell_type": "code",
   "execution_count": null,
   "id": "53106652-5d8c-4b52-8d38-a65e992b1abe",
   "metadata": {},
   "outputs": [],
   "source": [
    "import sys\n",
    "import os\n",
    "from importlib import reload\n",
    "fpath = os.path.join('..//scripts')\n",
    "sys.path.append(fpath)\n",
    "\n",
    "import warnings\n",
    "warnings.filterwarnings('ignore')\n",
    "\n",
    "#loading internal scripts\n",
    "import frauddetection as fd\n",
    "import sourcedata as sd\n",
    "import dataimport as di\n",
    "import result as resultMd\n",
    "import sampling as sp\n",
    "reload(fd)\n",
    "reload(sd)\n",
    "reload(di)\n",
    "reload(resultMd)\n",
    "reload(sp)\n",
    "\n",
    "print('done')"
   ]
  },
  {
   "cell_type": "code",
   "execution_count": null,
   "id": "5a6f119e-bb6e-4236-88de-526cb617e9ec",
   "metadata": {},
   "outputs": [],
   "source": [
    "import pandas as pd\n",
    "\n",
    "dfTrx0 = pd.read_csv('../data/cleaned/'+source+'export'+date+'.csv')\n",
    "predictors = fd.getPredictors(dfTrx0)\n",
    "dfTrx=fd.getStandardScaledData('export'+date+'.csv',source,predictors)\n",
    "dfTrx.head(5)"
   ]
  },
  {
   "cell_type": "code",
   "execution_count": null,
   "id": "d9b77da5-499e-4568-a579-1ec5ab677920",
   "metadata": {},
   "outputs": [],
   "source": [
    "# Hyperparameters Results\n",
    "\n",
    "n_estimatorsFound=55\n",
    "max_depthFound=28\n",
    "\n",
    "resultMd.update_hyperparameter_config_result(packageName,classifierName,extraParameterName,max_depthFound,n_estimatorsFound)\n",
    "\n",
    "\n",
    "print('done')"
   ]
  },
  {
   "cell_type": "code",
   "execution_count": null,
   "id": "5ef1a6ac-10f2-4b80-a3ad-ebd67d7ea707",
   "metadata": {},
   "outputs": [],
   "source": [
    "from sklearn.model_selection import train_test_split\n",
    "\n",
    "predictors = fd.getPredictors(dfTrx0)\n",
    "TEST_SIZE = 0.20 # test size using_train_test_split\n",
    "RANDOM_STATE = 0\n",
    "x_train0, x_test, y_train0, y_test = train_test_split(dfTrx[predictors], dfTrx['Class'], test_size = TEST_SIZE, \n",
    "                                                        stratify= dfTrx['Class'],\n",
    "                                                        random_state = RANDOM_STATE)\n",
    "\n",
    "x_train, y_train = sp.adasynOverSampling(x_train0, y_train0)"
   ]
  },
  {
   "cell_type": "markdown",
   "id": "135f96cf-92de-48c6-86ca-2d1c2cce8536",
   "metadata": {},
   "source": [
    "# Hyperparameters tuning"
   ]
  },
  {
   "cell_type": "code",
   "execution_count": null,
   "id": "0c3465b2-7f9f-448e-bbf6-d03dccf0a9d6",
   "metadata": {},
   "outputs": [],
   "source": [
    "%%script false\n",
    "\n",
    "from scipy.stats import randint\n",
    "from sklearn.ensemble import RandomForestClassifier\n",
    "\n",
    "modelClf = RandomForestClassifier(random_state=42)\n",
    "dic_param={\n",
    "    'n_estimators': randint(35,90),\n",
    "    'max_depth': randint(17,33)\n",
    "}\n",
    "res=fd.hyperparameterSelectionRandomizedSearchCVSampling(modelClf, dic_param, 'f1', x_train, y_train, iter=4)\n",
    "print(res)\n",
    "\n"
   ]
  },
  {
   "cell_type": "code",
   "execution_count": null,
   "id": "d05ef32f-7959-423f-8307-54d68d0b94f2",
   "metadata": {},
   "outputs": [],
   "source": [
    "#%%script false\n",
    "from sklearn.ensemble import RandomForestClassifier\n",
    "\n",
    "modelClf = RandomForestClassifier(random_state=42)\n",
    "\n",
    "dic_param={\n",
    "    'n_estimators':[50,55,60],\n",
    "    'max_depth':[27,28,29]\n",
    "}\n",
    "res=fd.hyperparameterSelectionGridSearchCVSampling(modelClf, dic_param, 'f1', x_train, y_train)\n",
    "print(res)\n",
    "\n",
    "\n",
    "#{'max_depth': 25, 'n_estimators': 70}\n",
    "#0.7084165317256744\n",
    "#scoref1 0.9451182534869618\n",
    "\n",
    "#{'max_depth': 26, 'n_estimators': 65}\n",
    "#0.718778082321198\n",
    "#scoref1 0.9522230595327807\n",
    "\n",
    "#{'max_depth': 27, 'n_estimators': 60}\n",
    "#0.7183407318957855\n",
    "#scoref1 0.9587244821934138\n",
    "\n",
    "#{'max_depth': 28, 'n_estimators': 55}\n",
    "#0.7175286085247935\n",
    "#scoref1 0.9672544080604534\n"
   ]
  },
  {
   "cell_type": "markdown",
   "id": "76be3214-178e-40f4-90a4-df0f1bd7fff7",
   "metadata": {},
   "source": [
    "# Final validation"
   ]
  },
  {
   "cell_type": "code",
   "execution_count": null,
   "id": "56ae1be4-a998-4ad9-8cd0-131e5ce3af52",
   "metadata": {},
   "outputs": [],
   "source": [
    "import numpy as np\n",
    "from sklearn.ensemble import RandomForestClassifier\n",
    "\n",
    " \n",
    "modelClf = RandomForestClassifier(random_state=42)\n",
    "parameters={'max_depth': max_depthFound, 'n_estimators':n_estimatorsFound}\n",
    "modelClf.set_params(**parameters)\n",
    "modelClf.fit(x_train, y_train)\n",
    "\n",
    "predsTrain = modelClf.predict(x_train)\n",
    "predsTest = modelClf.predict(x_test)\n",
    "\n",
    "f1Train=fd.print_scores(y_train, predsTrain,'f1', False)\n",
    "f1Test=fd.print_scores(y_test, predsTest,'f1')\n",
    "fd.show_importance(modelClf, predictors)\n",
    "fd.show_confusion_matrix(y_test, predsTest)\n",
    "fd.show_prediction_graph(modelClf, x_test,y_test)\n",
    "\n",
    "diffF1=f1Train-f1Test\n",
    "print(\"diffF1\",diffF1)\n",
    "\n",
    "tmp = pd.DataFrame({'Feature': predictors, 'Feature importance': modelClf.feature_importances_})\n",
    "val=tmp[(tmp['Feature']=='amountBin')]['Feature importance']\n",
    "amountImportance =val.values[0]\n",
    "print(\"amount importance\",amountImportance)"
   ]
  },
  {
   "cell_type": "code",
   "execution_count": null,
   "id": "9e8d9491-f833-4537-9a65-076404bde78c",
   "metadata": {},
   "outputs": [],
   "source": [
    "files = fd.getAllFiles()\n",
    "predictors = fd.getPredictors(dfTrx0)\n",
    "\n",
    "range = []\n",
    "f1s = []\n",
    "rocs = []\n",
    "loop =0\n",
    "for file in files:\n",
    "    loop=loop+1\n",
    "    range.append(loop)\n",
    "    print(file)\n",
    "  \n",
    "    dfTrx=fd.getStandardScaledData(file,source,predictors)\n",
    "    preds = modelClf.predict(dfTrx[predictors])\n",
    "\n",
    "    f1,mcc,roc= fd.print_scores(dfTrx['Class'], preds,'All', True)\n",
    "    #fd.show_importance(modelClf,predictors)\n",
    "    fd.show_confusion_matrix(dfTrx['Class'], preds)\n",
    "    f1s.append(f1)\n",
    "    rocs.append(roc)\n",
    "\n",
    "fd.plt_train_test(range, f1s)\n",
    "resultMd.update_performance_nextdays_result(packageName,classifierName,extraParameterName, f1s[0],f1s[1],f1s[2],f1s[3],rocs[0],rocs[1],rocs[2],rocs[3],diffF1,amountImportance)\n",
    "\n"
   ]
  },
  {
   "cell_type": "code",
   "execution_count": null,
   "id": "dc3136a0-130e-4a4e-8c05-362b0e56fe5d",
   "metadata": {},
   "outputs": [],
   "source": []
  }
 ],
 "metadata": {
  "kernelspec": {
   "display_name": "Python 3 (ipykernel)",
   "language": "python",
   "name": "python3"
  },
  "language_info": {
   "codemirror_mode": {
    "name": "ipython",
    "version": 3
   },
   "file_extension": ".py",
   "mimetype": "text/x-python",
   "name": "python",
   "nbconvert_exporter": "python",
   "pygments_lexer": "ipython3",
   "version": "3.12.4"
  }
 },
 "nbformat": 4,
 "nbformat_minor": 5
}
