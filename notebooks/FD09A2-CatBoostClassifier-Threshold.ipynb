{
 "cells": [
  {
   "cell_type": "code",
   "execution_count": null,
   "id": "a4ba6e08-247b-450e-850b-a90204bea267",
   "metadata": {},
   "outputs": [],
   "source": [
    "#For Kaggle\n",
    "#date=''\n",
    "\n",
    "#For WL data\n",
    "source='WL'\n",
    "date='20241118'\n",
    "\n",
    "saveImage=False\n",
    "\n",
    "print('done')"
   ]
  },
  {
   "cell_type": "code",
   "execution_count": null,
   "id": "80fd733a-5bad-4d85-b55e-4d60541add74",
   "metadata": {},
   "outputs": [],
   "source": [
    "import sys\n",
    "import os\n",
    "from importlib import reload\n",
    "fpath = os.path.join('..//scripts')\n",
    "sys.path.append(fpath)\n",
    "\n",
    "import warnings\n",
    "warnings.filterwarnings('ignore')\n",
    "\n",
    "#loading internal scripts\n",
    "import frauddetection as fd\n",
    "import sourcedata as sd\n",
    "import dataimport as di\n",
    "import result as resultMd\n",
    "reload(fd)\n",
    "reload(sd)\n",
    "reload(di)\n",
    "reload(resultMd)\n",
    "\n",
    "print('done')"
   ]
  },
  {
   "cell_type": "code",
   "execution_count": null,
   "id": "f6942d29-e7fb-40eb-b043-5272b788c819",
   "metadata": {},
   "outputs": [],
   "source": [
    "import pandas as pd\n",
    "\n",
    "dfTrx = pd.read_csv('../data/cleaned/'+source+'export'+date+'.csv')\n",
    "dfTrx.head(5)"
   ]
  },
  {
   "cell_type": "markdown",
   "id": "bf55b4ca-c0bc-42ca-bcb1-7bb9c2abfbb4",
   "metadata": {},
   "source": [
    "# Test with updated hyperparameters"
   ]
  },
  {
   "cell_type": "code",
   "execution_count": null,
   "id": "e6ec8d10-882f-4ff1-8dab-5e29cd2b41e6",
   "metadata": {},
   "outputs": [],
   "source": [
    "import xgboost as xgb\n",
    "import matplotlib.pyplot as plt\n",
    "from datetime import datetime\n",
    "from catboost import CatBoostClassifier\n",
    "\n",
    "then= datetime.now()\n",
    "predictors = fd.getPredictors(dfTrx)\n",
    "\n",
    "x_train, x_test, y_train, y_test, scaler =fd.split_data(dfTrx,predictors)\n",
    "parameters= {'bagging_temperature': 0.4, 'border_count': 200, 'depth': 9, 'iterations': 1200, \n",
    "             'l2_leaf_reg': 5,'random_strength': 0.7, 'learning_rate': 0.005, 'od_type':'Iter',  'od_wait':50}\n",
    "\n",
    "\n",
    "modelClf = CatBoostClassifier(silent=True, eval_metric='TotalF1')\n",
    "modelClf.set_params(**parameters)\n",
    "modelClf.fit(x_train, y_train)\n",
    "predsTrain = modelClf.predict(x_train)\n",
    "predsTest = modelClf.predict(x_test)\n",
    "\n",
    "now = datetime.now()\n",
    "duration= now - then\n",
    "duration_in_s = duration.total_seconds()\n",
    "print(\"Duration \",duration_in_s)\n",
    "\n",
    "#resultMd.update_time_response_result('09-catboost','CatBoostClassifier','2-After tuning', duration_in_s)\n",
    "f1,mcc,roc=fd.print_scores(y_test, predsTest,'all')\n",
    "#resultMd.update_performance_test_result('09-catboost','CatBoostClassifier','2-After tuning', f1,mcc,roc)\n",
    "\n",
    "fd.print_scores(y_train, predsTrain,'f1', False)\n",
    "fd.print_scores(y_test, predsTest,'f1')\n",
    "fd.show_importance(modelClf, predictors)\n",
    "fd.show_confusion_matrix(y_test, predsTest)\n",
    "fd.show_prediction_graph(modelClf, x_test,y_test)\n",
    "\n",
    "## result  (26/01/2025)\n",
    "#test f1 score: 0.1286 mcc score: 0.1592 roc auc score: 0.5403"
   ]
  },
  {
   "cell_type": "markdown",
   "id": "13c3cec6-c929-44b4-b119-80a0e83f9b5d",
   "metadata": {},
   "source": [
    "# Threshold management"
   ]
  },
  {
   "cell_type": "code",
   "execution_count": null,
   "id": "0c6f31ac-31df-410b-91f0-f6e27b0ea25b",
   "metadata": {},
   "outputs": [],
   "source": [
    "y_pred_prob = modelClf.predict_proba(x_test)[:,1]\n",
    "\n",
    "range = []\n",
    "f1s = []\n",
    "rocs = []\n",
    "for threshold  in [0.025,0.05,0.1,0.15,0.2,0.25,0.3,0.4,0.5,0.6]:\n",
    "    print(\"--- threshold --\", threshold)\n",
    "    y_pred_adjusted = (y_pred_prob>threshold).astype(int)\n",
    "    f1,mcc,roc=fd.print_scores(y_test, y_pred_adjusted,'all')\n",
    "    range.append(threshold)\n",
    "    f1s.append(f1)\n",
    "    rocs.append(roc)\n",
    "\n",
    "fd.plt_train_test(range, f1s,\"f1 score\",rocs,\"rocs score\")"
   ]
  },
  {
   "cell_type": "code",
   "execution_count": null,
   "id": "e3d7fadb-100d-42ca-af8a-39946c76a1b1",
   "metadata": {},
   "outputs": [],
   "source": [
    "files = fd.getAllFiles()\n",
    "\n",
    "range = []\n",
    "f1s = []\n",
    "rocs = []\n",
    "loop =0\n",
    "threshold=0.10\n",
    "for file in files:\n",
    "    loop=loop+1\n",
    "    range.append(loop)\n",
    "    print(file)\n",
    "  \n",
    "    dfTrx = pd.read_csv('../data/cleaned/'+source+file)\n",
    "    predictors = fd.getPredictors(dfTrx)\n",
    "\n",
    "    y_pred_prob = modelClf.predict_proba(dfTrx[predictors])[:,1]\n",
    "    y_pred_adjusted = (y_pred_prob>threshold).astype(int)\n",
    "\n",
    "    f1,mcc,roc= fd.print_scores(dfTrx['Class'], y_pred_adjusted,'All', True)\n",
    "    #fd.show_importance(modelClf,predictors)\n",
    "    fd.show_confusion_matrix(dfTrx['Class'], y_pred_adjusted)\n",
    "    f1s.append(f1)\n",
    "    rocs.append(roc)\n",
    "\n",
    "fd.plt_train_test(range, f1s)\n",
    "resultMd.update_performance_nextdays_result('09-catboost','CatBoostClassifier','3-After threshold', f1s[0],f1s[1],f1s[2],f1s[3],rocs[0],rocs[1],rocs[2],rocs[3])\n"
   ]
  },
  {
   "cell_type": "code",
   "execution_count": null,
   "id": "fd30dd3c-f941-4aee-9189-e8168e1e2b72",
   "metadata": {},
   "outputs": [],
   "source": []
  }
 ],
 "metadata": {
  "kernelspec": {
   "display_name": "Python 3 (ipykernel)",
   "language": "python",
   "name": "python3"
  },
  "language_info": {
   "codemirror_mode": {
    "name": "ipython",
    "version": 3
   },
   "file_extension": ".py",
   "mimetype": "text/x-python",
   "name": "python",
   "nbconvert_exporter": "python",
   "pygments_lexer": "ipython3",
   "version": "3.12.4"
  }
 },
 "nbformat": 4,
 "nbformat_minor": 5
}
