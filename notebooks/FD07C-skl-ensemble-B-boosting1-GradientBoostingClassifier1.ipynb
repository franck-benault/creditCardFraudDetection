{
 "cells": [
  {
   "cell_type": "code",
   "execution_count": null,
   "id": "6b9e922f-84cb-4556-a6d9-dea7ce222301",
   "metadata": {},
   "outputs": [],
   "source": [
    "#For Kaggle\n",
    "#date=''\n",
    "\n",
    "#For WL data\n",
    "source='WL'\n",
    "date='20241118'\n",
    "\n",
    "saveImage=False\n",
    "\n",
    "packageName='07-sklearn.ensemble.b-boosting'\n",
    "classifierName='4-GradientBoostingClassifier'\n",
    "extraParameterName='1-Default'\n",
    "\n",
    "\n",
    "print('done')"
   ]
  },
  {
   "cell_type": "code",
   "execution_count": null,
   "id": "53106652-5d8c-4b52-8d38-a65e992b1abe",
   "metadata": {},
   "outputs": [],
   "source": [
    "import sys\n",
    "import os\n",
    "from importlib import reload\n",
    "fpath = os.path.join('..//scripts')\n",
    "sys.path.append(fpath)\n",
    "\n",
    "import warnings\n",
    "warnings.filterwarnings('ignore')\n",
    "\n",
    "#loading internal scripts\n",
    "import frauddetection as fd\n",
    "import sourcedata as sd\n",
    "import dataimport as di\n",
    "import result as resultMd\n",
    "reload(fd)\n",
    "reload(sd)\n",
    "reload(di)\n",
    "reload(resultMd)\n",
    "\n",
    "print('done')"
   ]
  },
  {
   "cell_type": "code",
   "execution_count": null,
   "id": "5f56772e-cbd9-4d3a-a0cf-4da0c345b462",
   "metadata": {},
   "outputs": [],
   "source": [
    "# Hyperparameters Results\n",
    "\n",
    "learning_rateFound=0.05\n",
    "n_estimatorsFound=350\n",
    "max_depthFound=1\n",
    "\n",
    "resultMd.update_hyperparameter_config_result(packageName,classifierName,extraParameterName,max_depthFound,n_estimatorsFound)\n",
    "\n",
    "print('done')"
   ]
  },
  {
   "cell_type": "code",
   "execution_count": null,
   "id": "5a6f119e-bb6e-4236-88de-526cb617e9ec",
   "metadata": {},
   "outputs": [],
   "source": [
    "import pandas as pd\n",
    "\n",
    "dfTrx0 = pd.read_csv('../data/cleaned/'+source+'export'+date+'.csv')\n",
    "predictors = fd.getPredictors(dfTrx0)\n",
    "dfTrx=fd.getStandardScaledData('export'+date+'.csv',source,predictors)\n",
    "dfTrx.head(5)"
   ]
  },
  {
   "cell_type": "markdown",
   "id": "d50b4b4b-05dc-4db9-b6f3-26133ac817e6",
   "metadata": {},
   "source": [
    "# Test with default hyperparameters"
   ]
  },
  {
   "cell_type": "code",
   "execution_count": null,
   "id": "3f9c75f3-9d3a-45dd-a778-abbe0e12efc6",
   "metadata": {},
   "outputs": [],
   "source": [
    "%%script false\n",
    "\n",
    "from sklearn.ensemble import GradientBoostingClassifier\n",
    "import matplotlib.pyplot as plt\n",
    "from datetime import datetime\n",
    "\n",
    "then= datetime.now()\n",
    "predictors = fd.getPredictors(dfTrx0)\n",
    "\n",
    "x_train, x_test, y_train, y_test, scaler =fd.split_data(dfTrx,predictors)\n",
    "\n",
    "modelClf = GradientBoostingClassifier(random_state=42)\n",
    "modelClf.fit(x_train, y_train)\n",
    "predsTrain = modelClf.predict(x_train)\n",
    "predsTest = modelClf.predict(x_test)\n",
    "\n",
    "now = datetime.now()\n",
    "duration= now - then\n",
    "duration_in_s = duration.total_seconds()\n",
    "print(\"Duration \",duration_in_s)\n",
    "resultMd.update_time_response_result('07-sklearn.ensemble.b-boosting','GradientBoostingClassifier','1-Default', duration_in_s)\n",
    "f1,mcc,roc=fd.print_scores(y_test, predsTest,'all')\n",
    "resultMd.update_performance_test_result('07-sklearn.ensemble.b-boosting','GradientBoostingClassifier','1-Default', f1,mcc,roc)\n",
    "\n",
    "fd.print_scores(y_train, predsTrain,'f1', False)\n",
    "fd.print_scores(y_test, predsTest,'f1')\n",
    "fd.show_importance(modelClf, predictors)\n",
    "fd.show_confusion_matrix(y_test, predsTest)\n",
    "fd.show_prediction_graph(modelClf, x_test,y_test)\n",
    "\n"
   ]
  },
  {
   "cell_type": "markdown",
   "id": "2b648edd-976a-4134-9728-5b281c0af27c",
   "metadata": {},
   "source": [
    "# Default parameters conclusion\n",
    "No overfitting but poor result"
   ]
  },
  {
   "cell_type": "markdown",
   "id": "3ce6ca63-69d3-4c6d-8b22-c31e12dd6ace",
   "metadata": {},
   "source": [
    "# Check about overfitting\n",
    "max_depth must be greater enough to have result <p>\n",
    "but a too high value occurs overfitting"
   ]
  },
  {
   "cell_type": "markdown",
   "id": "9f97321e-c728-4570-82f1-2991bbadf1bf",
   "metadata": {},
   "source": [
    "# Hyperparameters tuning\n",
    "starting point\n",
    "max_depth between 3 and 8\n",
    "n_estimators=50,\n",
    "learning_rate=0.01 to avoid overfitting"
   ]
  },
  {
   "cell_type": "code",
   "execution_count": null,
   "id": "e9d35d7e-1461-4e89-a719-1bfa8d71e452",
   "metadata": {
    "scrolled": true
   },
   "outputs": [],
   "source": [
    "%%script false\n",
    "from scipy.stats import randint\n",
    "from sklearn.ensemble import GradientBoostingClassifier\n",
    "\n",
    "modelClf = GradientBoostingClassifier(random_state=42)\n",
    "# starting point n_estimators=100,  max_depth=7 \n",
    "dic_param={\n",
    "    'n_estimators': randint(30,150),\n",
    "    'max_depth': randint(4,10),\n",
    "    'learning_rate':[0.1]\n",
    "}\n",
    "res=fd.hyperparameterSelectionRandomizedSearchCV(modelClf, dic_param, 'f1', dfTrx, predictors, [], None,iter=3)\n",
    "print(res)\n",
    "\n",
    "#{'learning_rate': 0.1, 'max_depth': 9, 'n_estimators': 97}\n",
    "#0.15631370729794503\n",
    "#score   0.472992700729927"
   ]
  },
  {
   "cell_type": "code",
   "execution_count": null,
   "id": "6dbce2a8-4478-4f86-a525-511298da766a",
   "metadata": {
    "scrolled": true
   },
   "outputs": [],
   "source": [
    "#%%script false\n",
    "from sklearn.ensemble import GradientBoostingClassifier\n",
    "\n",
    "modelClf = GradientBoostingClassifier(random_state=42)\n",
    " \n",
    "dic_param={\n",
    "    'n_estimators':[349,350,351],\n",
    "    'max_depth':[1],\n",
    "    'learning_rate':[0.05]\n",
    "}\n",
    "res=fd.hyperparameterSelectionGridSearchCV(modelClf, dic_param, 'f1', dfTrx, predictors, [], None)\n",
    "print(res)\n",
    "\n",
    "###################\n",
    "#{'learning_rate': 0.05, 'max_depth': 1, 'n_estimators': 300}\n",
    "#0.06726697291419226\n",
    "#scoref1 0.07730263157894737\n",
    "\n",
    "#{'learning_rate': 0.05, 'max_depth': 1, 'n_estimators': 350}\n",
    "#0.07858577508051487\n",
    "#scoref1 0.07730263157894737\n",
    "\n",
    "\n",
    "\n"
   ]
  },
  {
   "cell_type": "code",
   "execution_count": null,
   "id": "56ae1be4-a998-4ad9-8cd0-131e5ce3af52",
   "metadata": {},
   "outputs": [],
   "source": [
    "from sklearn.ensemble import GradientBoostingClassifier\n",
    "import matplotlib.pyplot as plt\n",
    "from datetime import datetime\n",
    "\n",
    "then= datetime.now()\n",
    "x_train, x_test, y_train, y_test, scaler =fd.split_data(dfTrx,predictors)\n",
    "\n",
    "modelClf = GradientBoostingClassifier(random_state=42)\n",
    "parameters={'learning_rate': learning_rateFound, 'n_estimators':n_estimatorsFound, 'max_depth':max_depthFound}\n",
    "modelClf.set_params(**parameters)\n",
    "\n",
    "modelClf.fit(x_train, y_train)\n",
    "predsTrain = modelClf.predict(x_train)\n",
    "predsTest = modelClf.predict(x_test)\n",
    "\n",
    "now = datetime.now()\n",
    "duration= now - then\n",
    "duration_in_s = duration.total_seconds()\n",
    "print(\"Duration \",duration_in_s)\n",
    "resultMd.update_time_response_result('07-sklearn.ensemble.b-boosting','GradientBoostingClassifier','2-After tuning', duration_in_s)\n",
    "f1,mcc,roc=fd.print_scores(y_test, predsTest,'all')\n",
    "resultMd.update_performance_test_result('07-sklearn.ensemble.b-boosting','GradientBoostingClassifier','2-After tuning', f1,mcc,roc)\n",
    "\n",
    "f1Train=fd.print_scores(y_train, predsTrain,'f1', False)\n",
    "f1Test=fd.print_scores(y_test, predsTest,'f1')\n",
    "fd.show_importance(modelClf, predictors)\n",
    "fd.show_confusion_matrix(y_test, predsTest)\n",
    "fd.show_prediction_graph(modelClf, x_test,y_test,'../imgs/FD07C-GradientBoostingClassifierProbaHistogram' if saveImage else None)\n",
    "\n",
    "diffF1=f1Train-f1Test\n",
    "print(\"diffF1\",diffF1)\n",
    "\n",
    "tmp = pd.DataFrame({'Feature': predictors, 'Feature importance': modelClf.feature_importances_})\n",
    "val=tmp[(tmp['Feature']=='amountBin')]['Feature importance']\n",
    "amountImportance =val.values[0]\n",
    "print(\"amount importance\",amountImportance)\n",
    "\n"
   ]
  },
  {
   "cell_type": "code",
   "execution_count": null,
   "id": "9e8d9491-f833-4537-9a65-076404bde78c",
   "metadata": {},
   "outputs": [],
   "source": [
    "files = fd.getAllFiles()\n",
    "predictors = fd.getPredictors(dfTrx0)\n",
    "\n",
    "range = []\n",
    "f1s = []\n",
    "rocs = []\n",
    "loop =0\n",
    "for file in files:\n",
    "    loop=loop+1\n",
    "    range.append(loop)\n",
    "    print(file)\n",
    "  \n",
    "    dfTrx=fd.getStandardScaledData(file,source,predictors)\n",
    "    preds = modelClf.predict(dfTrx[predictors])\n",
    "\n",
    "    f1,mcc,roc= fd.print_scores(dfTrx['Class'], preds,'All', True)\n",
    "    #fd.show_importance(modelClf,predictors)\n",
    "    fd.show_confusion_matrix(dfTrx['Class'], preds)\n",
    "    f1s.append(f1)\n",
    "    rocs.append(roc)\n",
    "\n",
    "fd.plt_train_test(range, f1s)\n",
    "resultMd.update_performance_nextdays_result(packageName,classifierName,extraParameterName, f1s[0],f1s[1],f1s[2],f1s[3],rocs[0],rocs[1],rocs[2],rocs[3],diffF1,amountImportance)\n",
    "\n"
   ]
  },
  {
   "cell_type": "code",
   "execution_count": null,
   "id": "c0873f93-7127-4739-9309-f50696481a2c",
   "metadata": {},
   "outputs": [],
   "source": []
  }
 ],
 "metadata": {
  "kernelspec": {
   "display_name": "Python 3 (ipykernel)",
   "language": "python",
   "name": "python3"
  },
  "language_info": {
   "codemirror_mode": {
    "name": "ipython",
    "version": 3
   },
   "file_extension": ".py",
   "mimetype": "text/x-python",
   "name": "python",
   "nbconvert_exporter": "python",
   "pygments_lexer": "ipython3",
   "version": "3.12.4"
  }
 },
 "nbformat": 4,
 "nbformat_minor": 5
}
