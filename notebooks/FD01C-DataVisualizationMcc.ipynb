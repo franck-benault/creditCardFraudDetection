{
 "cells": [
  {
   "cell_type": "code",
   "execution_count": null,
   "id": "57386724-323a-4754-8aa1-22afa1998069",
   "metadata": {},
   "outputs": [],
   "source": [
    "#For Kaggle\n",
    "\n",
    "#For WL data\n",
    "date='20241118'\n",
    "source='WL'\n",
    "saveImg=False\n",
    "\n",
    "print('done')"
   ]
  },
  {
   "cell_type": "code",
   "execution_count": null,
   "id": "3d764589-ffdf-4e49-a061-37a45f7d0432",
   "metadata": {},
   "outputs": [],
   "source": [
    "import sys\n",
    "import os\n",
    "from importlib import reload\n",
    "fpath = os.path.join('..//scripts')\n",
    "sys.path.append(fpath)\n",
    "\n",
    "import warnings\n",
    "warnings.filterwarnings('ignore')\n",
    "\n",
    "#loading internal scripts\n",
    "import frauddetection as fd\n",
    "import sourcedata as sd\n",
    "import mccmanagement \n",
    "import result\n",
    "\n",
    "reload(fd)\n",
    "reload(sd)\n",
    "reload(mccmanagement)\n",
    "reload(result)\n",
    "\n",
    "print('done')"
   ]
  },
  {
   "cell_type": "markdown",
   "id": "3c006c9b-1652-42cd-801c-5c8bb3f3df88",
   "metadata": {},
   "source": [
    "# Loading raw transactions file"
   ]
  },
  {
   "cell_type": "code",
   "execution_count": null,
   "id": "3dea50ce-b5ae-41ac-be8b-39973e2ac066",
   "metadata": {},
   "outputs": [],
   "source": [
    "import dataimport as di\n",
    "import pandas as pd \n",
    "   \n",
    "dfTrx = di.read_file('../data/raw/'+source+'export'+date+'.csv')\n",
    "#dfTrx['term_mcc'] = dfTrx['term_mcc'].astype('str')\n",
    "dfTrx.head(5)"
   ]
  },
  {
   "cell_type": "code",
   "execution_count": null,
   "id": "c6382b2e-4392-441e-b284-bd6e27202c25",
   "metadata": {},
   "outputs": [],
   "source": [
    "print(dfTrx['term_mcc'].value_counts())\n",
    "print(dfTrx['term_mcc'].value_counts().shape)"
   ]
  },
  {
   "cell_type": "code",
   "execution_count": null,
   "id": "1aa85eba-072b-4378-8157-211cc53706e8",
   "metadata": {},
   "outputs": [],
   "source": [
    "from datetime import datetime\n",
    "\n",
    "then= datetime.now()\n",
    "iv=fd.calc_iv(dfTrx,'term_mcc','Class',pr=0)\n",
    "print(f\"IV term_mcc {iv:.3f}\")\n",
    "result.update_features_IV_result('term_mcc',iv)\n",
    "now = datetime.now()\n",
    "duration= now - then\n",
    "duration_in_s = duration.total_seconds()\n",
    "print(f\"Duration {duration_in_s:.1f} s\")\n",
    "#result 1.404 (21/01/2025)"
   ]
  },
  {
   "cell_type": "markdown",
   "id": "b99cbf30-3b44-43a7-8e01-3a96f1cc9af2",
   "metadata": {},
   "source": [
    "# Grouping MCC"
   ]
  },
  {
   "cell_type": "markdown",
   "id": "2d3999e1-d784-4899-9706-5b98430c842c",
   "metadata": {},
   "source": [
    "## Group https://www.commercegate.com/ultimate-guide-high-risk-mcc-codes"
   ]
  },
  {
   "cell_type": "code",
   "execution_count": null,
   "id": "22dfaaae-225a-4e25-8d68-20925ed4ea0c",
   "metadata": {},
   "outputs": [],
   "source": [
    "dfTrx['mcc_group'] = dfTrx['term_mcc'].apply(mccmanagement.get_highrisk_mcc_group)\n",
    "print(f\"IV term_country {fd.calc_iv(dfTrx,'mcc_group','Class',pr=0):.5f}\")\n",
    "print(dfTrx['mcc_group'].value_counts())\n",
    "# IV = 0.0001 not a good solution "
   ]
  },
  {
   "cell_type": "markdown",
   "id": "4ce7914c-e1f2-4048-886f-cc76f593e0b5",
   "metadata": {},
   "source": [
    "# Group MCC ATM 6011"
   ]
  },
  {
   "cell_type": "code",
   "execution_count": null,
   "id": "21eb3956-3e9f-4306-9336-73fea91469b4",
   "metadata": {},
   "outputs": [],
   "source": [
    "dfTrx['mcc_group'] = dfTrx['term_mcc'].apply(mccmanagement.get_mcc_group_ATM)\n",
    "print(f\"IV term_country {fd.calc_iv(dfTrx,'mcc_group','Class',pr=0):.3f}\")\n",
    "print(dfTrx['mcc_group'].value_counts())\n",
    "# IV = 0.023 not enough ?"
   ]
  },
  {
   "cell_type": "code",
   "execution_count": null,
   "id": "aefea872-9d38-4fdd-8fe4-1c6a2f2dcb34",
   "metadata": {},
   "outputs": [],
   "source": [
    "import matplotlib.pyplot as plt\n",
    "\n",
    "print(\"Mcc group:\")\n",
    "plt.pie(dfTrx['mcc_group'].value_counts(), autopct='%1.1f%%', labels=['OTHER','ATM'],)\n",
    "if(saveImg):\n",
    "    plt.savefig('../imgs/FD01D-piediag-mcc-group-atm.png')\n",
    "plt.show()"
   ]
  },
  {
   "cell_type": "markdown",
   "id": "9de81276-ab4b-4f74-94ae-502abed67faf",
   "metadata": {},
   "source": [
    "## Group https://www.citibank.com/tts/solutions/commercial-cards/assets/docs/govt/Merchant-Category-Codes.pdf"
   ]
  },
  {
   "cell_type": "code",
   "execution_count": null,
   "id": "92fd96e6-2ea6-4cf7-9f06-ec08d04b8ab7",
   "metadata": {
    "scrolled": true
   },
   "outputs": [],
   "source": [
    "dfTrx['mcc_group'] = dfTrx['term_mcc'].apply(mccmanagement.get_mcc_group_citybank)\n",
    "print(f\"IV term_country {fd.calc_iv(dfTrx,'mcc_group','Class',pr=0):.3f}\")\n",
    "print(dfTrx['mcc_group'].value_counts())\n",
    "# IV = 0.241 not a good solution ?"
   ]
  },
  {
   "cell_type": "code",
   "execution_count": null,
   "id": "8716b67d-e763-4b09-ab49-4cb0d8eec09a",
   "metadata": {},
   "outputs": [],
   "source": [
    "import matplotlib.pyplot as plt\n",
    "\n",
    "print(\"Mcc group:\")\n",
    "plt.pie(dfTrx['mcc_group'].value_counts())\n",
    "if(saveImg):\n",
    "    plt.savefig('../imgs/FD01D-piediag-mcc-group.png')\n",
    "plt.show()"
   ]
  },
  {
   "cell_type": "code",
   "execution_count": null,
   "id": "3619c451-49e9-465f-b0c5-aa545e9af0e1",
   "metadata": {},
   "outputs": [],
   "source": [
    "#AGRICULTURAL\n",
    "import numpy as np\n",
    "\n",
    "dfTrx['mcc_group'] = dfTrx['term_mcc'].apply(mccmanagement.get_mcc_group_citybank)\n",
    "dfTrx['mcc_group'] = np.where(dfTrx.mcc_group.isin(['AGRICULTURAL']), 'AGRICULTURAL','OTHER')\n",
    "\n",
    "print(f\"IV term_country {fd.calc_iv(dfTrx,'mcc_group','Class',pr=0):.3f}\")\n",
    "print(dfTrx['mcc_group'].value_counts())\n",
    "# AGRICULTURAL is NOT a good candidate IV=0.001"
   ]
  },
  {
   "cell_type": "code",
   "execution_count": null,
   "id": "47161050-abba-49e2-9e17-ff394e469226",
   "metadata": {},
   "outputs": [],
   "source": [
    "#CONTRACTED_SERVICES\n",
    "import numpy as np\n",
    "\n",
    "dfTrx['mcc_group'] = dfTrx['term_mcc'].apply(mccmanagement.get_mcc_group_citybank)\n",
    "dfTrx['mcc_group'] = np.where(dfTrx.mcc_group.isin(['CONTRACTED_SERVICES']), 'CONTRACTED_SERVICES','OTHER')\n",
    "\n",
    "print(f\"IV term_country {fd.calc_iv(dfTrx,'mcc_group','Class',pr=0):.3f}\")\n",
    "print(dfTrx['mcc_group'].value_counts())\n",
    "# CONTRACTED_SERVICES is NOT a good candidate IV=0.000"
   ]
  },
  {
   "cell_type": "code",
   "execution_count": null,
   "id": "8a083e2c-7e02-4951-830d-05ad0202906b",
   "metadata": {},
   "outputs": [],
   "source": [
    "#AIRLINES\n",
    "import numpy as np\n",
    "\n",
    "dfTrx['mcc_group'] = dfTrx['term_mcc'].apply(mccmanagement.get_mcc_group_citybank)\n",
    "dfTrx['mcc_group'] = np.where(dfTrx.mcc_group.isin(['AIRLINES']), 'AIRLINES','OTHER')\n",
    "\n",
    "print(f\"IV term_country {fd.calc_iv(dfTrx,'mcc_group','Class',pr=0):.3f}\")\n",
    "print(dfTrx['mcc_group'].value_counts())\n",
    "# AIRLINES is NOT a good candidate IV=0.001"
   ]
  },
  {
   "cell_type": "code",
   "execution_count": null,
   "id": "5b26c3f9-b9ea-4aff-9539-36bea06833f2",
   "metadata": {},
   "outputs": [],
   "source": [
    "#CAR_RENTAL\n",
    "\n",
    "import numpy as np\n",
    "\n",
    "dfTrx['mcc_group'] = dfTrx['term_mcc'].apply(mccmanagement.get_mcc_group_citybank)\n",
    "dfTrx['mcc_group'] = np.where(dfTrx.mcc_group.isin(['CAR_RENTAL']), 'CAR_RENTAL','OTHER')\n",
    "\n",
    "print(f\"IV term_country {fd.calc_iv(dfTrx,'mcc_group','Class',pr=0):.3f}\")\n",
    "print(dfTrx['mcc_group'].value_counts())\n",
    "# CAR_RENTAL is NOT a good candidate IV=0.000"
   ]
  },
  {
   "cell_type": "code",
   "execution_count": null,
   "id": "6ff0fbc0-2a2a-4932-a3b2-ac1266e27eca",
   "metadata": {},
   "outputs": [],
   "source": [
    "#LODGING \n",
    "\n",
    "import numpy as np\n",
    "\n",
    "dfTrx['mcc_group'] = dfTrx['term_mcc'].apply(mccmanagement.get_mcc_group_citybank)\n",
    "dfTrx['mcc_group'] = np.where(dfTrx.mcc_group.isin(['LODGING']), 'LODGING','OTHER')\n",
    "\n",
    "print(f\"IV term_country {fd.calc_iv(dfTrx,'mcc_group','Class',pr=0):.3f}\")\n",
    "print(dfTrx['mcc_group'].value_counts())\n",
    "# LODGING  is NOT a good candidate IV=0.001"
   ]
  },
  {
   "cell_type": "code",
   "execution_count": null,
   "id": "da8a2dde-83e3-4f86-ae36-df4c4ada3ea0",
   "metadata": {},
   "outputs": [],
   "source": [
    "#TRANSPORTATION_SERVICES\n",
    "import numpy as np\n",
    "\n",
    "dfTrx['mcc_group'] = dfTrx['term_mcc'].apply(mccmanagement.get_mcc_group_citybank)\n",
    "dfTrx['mcc_group'] = np.where(dfTrx.mcc_group.isin(['TRANSPORTATION_SERVICES']), 'TRANSPORTATION_SERVICES','OTHER')\n",
    "\n",
    "print(f\"IV term_country {fd.calc_iv(dfTrx,'mcc_group','Class',pr=0):.3f}\")\n",
    "print(dfTrx['mcc_group'].value_counts())\n",
    "# TRANSPORTATION_SERVICES  is NOT a good candidate IV=0.000"
   ]
  },
  {
   "cell_type": "code",
   "execution_count": null,
   "id": "6d7f571f-b57b-45d0-b5d5-3fea5b362dfa",
   "metadata": {},
   "outputs": [],
   "source": [
    "# UTILITY_SERVICES\n",
    "dfTrx['mcc_group'] = dfTrx['term_mcc'].apply(mccmanagement.get_mcc_group_citybank)\n",
    "dfTrx['mcc_group'] = np.where(dfTrx.mcc_group.isin(['UTILITY_SERVICES']), 'UTILITY_SERVICES','OTHER')\n",
    "\n",
    "print(f\"IV term_country {fd.calc_iv(dfTrx,'mcc_group','Class',pr=0):.3f}\")\n",
    "print(dfTrx['mcc_group'].value_counts())\n",
    "# UTILITY_SERVICES is a GOOD candidate IV=0.034"
   ]
  },
  {
   "cell_type": "code",
   "execution_count": null,
   "id": "267369a7-9608-4bdb-9691-3fa581f6eedb",
   "metadata": {},
   "outputs": [],
   "source": [
    "#RETAIL_OUTLET_SERVICES\n",
    "\n",
    "import numpy as np\n",
    "\n",
    "dfTrx['mcc_group'] = dfTrx['term_mcc'].apply(mccmanagement.get_mcc_group_citybank)\n",
    "dfTrx['mcc_group'] = np.where(dfTrx.mcc_group.isin(['RETAIL_OUTLET_SERVICES']), 'RETAIL_OUTLET_SERVICES','OTHER')\n",
    "\n",
    "print(f\"IV mcc_group {fd.calc_iv(dfTrx,'mcc_group','Class',pr=0):.3f}\")\n",
    "print(dfTrx['mcc_group'].value_counts())\n",
    "# RETAIL_OUTLET_SERVICES is a GOOD candidate IV=0.078"
   ]
  },
  {
   "cell_type": "code",
   "execution_count": null,
   "id": "5c263d79-6351-4c4a-bb2b-b7792ac80110",
   "metadata": {},
   "outputs": [],
   "source": [
    "#CLOTHING_STORES\n",
    "\n",
    "import numpy as np\n",
    "\n",
    "dfTrx['mcc_group'] = dfTrx['term_mcc'].apply(mccmanagement.get_mcc_group_citybank)\n",
    "dfTrx['mcc_group'] = np.where(dfTrx.mcc_group.isin(['CLOTHING_STORES']), 'CLOTHING_STORES','OTHER')\n",
    "\n",
    "print(f\"IV term_country {fd.calc_iv(dfTrx,'mcc_group','Class',pr=0):.3f}\")\n",
    "print(dfTrx['mcc_group'].value_counts())\n",
    "# CLOTHING_STORES is a GOOD candidate IV=0.029"
   ]
  },
  {
   "cell_type": "code",
   "execution_count": null,
   "id": "3aa3716c-a344-4c84-8584-201c51f04a4c",
   "metadata": {},
   "outputs": [],
   "source": [
    "#MISCELLANOUS_STORES\n",
    "\n",
    "import numpy as np\n",
    "\n",
    "dfTrx['mcc_group'] = dfTrx['term_mcc'].apply(mccmanagement.get_mcc_group_citybank)\n",
    "dfTrx['mcc_group'] = np.where(dfTrx.mcc_group.isin(['MISCELLANOUS_STORES']), 'MISCELLANOUS_STORES','OTHER')\n",
    "\n",
    "print(f\"IV term_country {fd.calc_iv(dfTrx,'mcc_group','Class',pr=0):.3f}\")\n",
    "print(dfTrx['mcc_group'].value_counts())\n",
    "# MISCELLANOUS_STORES is NOT a good candidate IV=0.069\n",
    "\n"
   ]
  },
  {
   "cell_type": "code",
   "execution_count": null,
   "id": "11e8075f-dea5-4303-9828-4a24d2da2ccc",
   "metadata": {},
   "outputs": [],
   "source": [
    "import numpy as np\n",
    "\n",
    "dfTrx['mcc_group'] = dfTrx['term_mcc'].apply(mccmanagement.get_mcc_group_citybank)\n",
    "dfTrx['mcc_group'] = np.where(dfTrx.mcc_group.isin(['BUSINESS_SERVICES']), 'BUSINESS_SERVICES','OTHER')\n",
    "\n",
    "print(f\"IV term_country {fd.calc_iv(dfTrx,'mcc_group','Class',pr=0):.3f}\")\n",
    "print(dfTrx['mcc_group'].value_counts())\n",
    "# BUSINESS_SERVICES is NOT a good candidate IV=0.001"
   ]
  },
  {
   "cell_type": "code",
   "execution_count": null,
   "id": "ba5c7645-9002-451d-8518-5f7e0e650457",
   "metadata": {},
   "outputs": [],
   "source": [
    "#PROFESSIONAL_SERVICES\n",
    "import numpy as np\n",
    "\n",
    "dfTrx['mcc_group'] = dfTrx['term_mcc'].apply(mccmanagement.get_mcc_group_citybank)\n",
    "dfTrx['mcc_group'] = np.where(dfTrx.mcc_group.isin(['PROFESSIONAL_SERVICES']), 'PROFESSIONAL_SERVICES','OTHER')\n",
    "\n",
    "print(f\"IV term_country {fd.calc_iv(dfTrx,'mcc_group','Class',pr=0):.3f}\")\n",
    "print(dfTrx['mcc_group'].value_counts())\n",
    "# PROFESSIONAL_SERVICES is a GOOD candidate IV=0.001"
   ]
  },
  {
   "cell_type": "code",
   "execution_count": null,
   "id": "4947f40e-8eca-42e7-b0df-f53f4646a971",
   "metadata": {},
   "outputs": [],
   "source": [
    "#PROFESSIONAL_SERVICES\n",
    "import numpy as np\n",
    "\n",
    "dfTrx['mcc_group'] = dfTrx['term_mcc'].apply(mccmanagement.get_mcc_group_citybank)\n",
    "dfTrx['mcc_group'] = np.where(dfTrx.mcc_group.isin(['GOUVERNEMENT_SERVICES']), 'GOUVERNEMENT_SERVICES','OTHER')\n",
    "\n",
    "print(f\"IV term_country {fd.calc_iv(dfTrx,'mcc_group','Class',pr=0):.3f}\")\n",
    "print(dfTrx['mcc_group'].value_counts())\n",
    "# GOUVERNEMENT_SERVICES is a GOOD candidate IV=0.001"
   ]
  },
  {
   "cell_type": "markdown",
   "id": "78f50ea5-e1ba-4f68-96c2-ecc09187385c",
   "metadata": {},
   "source": [
    "# Final test group"
   ]
  },
  {
   "cell_type": "code",
   "execution_count": null,
   "id": "e6040f5f-31f3-4bee-87db-36f2adeeeca5",
   "metadata": {},
   "outputs": [],
   "source": [
    "import numpy as np\n",
    "\n",
    "dfTrx['mcc_group'] = dfTrx['term_mcc'].apply(mccmanagement.get_mcc_group_citybank)\n",
    "dfTrx['mcc_group'] = np.where(dfTrx.term_mcc.isin([mccmanagement.mccATM]),'ATM',dfTrx['mcc_group'] )\n",
    "dfTrx['mcc_group'] = np.where(dfTrx.mcc_group.isin(['AGRICULTURAL']), 'OTHER',dfTrx['mcc_group'] )\n",
    "dfTrx['mcc_group'] = np.where(dfTrx.mcc_group.isin(['CONTRACTED_SERVICES']), 'OTHER',dfTrx['mcc_group'] )\n",
    "dfTrx['mcc_group'] = np.where(dfTrx.mcc_group.isin(['AIRLINES']),'OTHER',dfTrx['mcc_group'] )\n",
    "dfTrx['mcc_group'] = np.where(dfTrx.mcc_group.isin(['CAR_RENTAL']), 'OTHER',dfTrx['mcc_group'] )\n",
    "dfTrx['mcc_group'] = np.where(dfTrx.mcc_group.isin(['LODGING']),'OTHER',dfTrx['mcc_group'] )\n",
    "dfTrx['mcc_group'] = np.where(dfTrx.mcc_group.isin(['TRANSPORTATION_SERVICES']), 'OTHER',dfTrx['mcc_group'] )\n",
    "dfTrx['mcc_group'] = np.where(dfTrx.mcc_group.isin(['MISCELLANOUS_STORES']), 'OTHER',dfTrx['mcc_group'] )\n",
    "dfTrx['mcc_group'] = np.where(dfTrx.mcc_group.isin(['BUSINESS_SERVICES']), 'OTHER',dfTrx['mcc_group'] )\n",
    "\n",
    "iv=fd.calc_iv(dfTrx,'mcc_group','Class',pr=0)\n",
    "print(f\"IV term_country {iv:.3f}\")\n",
    "print(dfTrx['mcc_group'].value_counts())\n",
    "result.update_features_IV_result('mcc_group',iv)\n",
    "\n",
    "# 0.249 with 13 categories\n",
    "# to 0.260 with 7 categories"
   ]
  },
  {
   "cell_type": "code",
   "execution_count": null,
   "id": "d8c4f1f5-65ce-4624-9a45-51dad80b2c94",
   "metadata": {},
   "outputs": [],
   "source": []
  }
 ],
 "metadata": {
  "kernelspec": {
   "display_name": "Python 3 (ipykernel)",
   "language": "python",
   "name": "python3"
  },
  "language_info": {
   "codemirror_mode": {
    "name": "ipython",
    "version": 3
   },
   "file_extension": ".py",
   "mimetype": "text/x-python",
   "name": "python",
   "nbconvert_exporter": "python",
   "pygments_lexer": "ipython3",
   "version": "3.12.4"
  }
 },
 "nbformat": 4,
 "nbformat_minor": 5
}
