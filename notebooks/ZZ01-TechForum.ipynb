{
 "cells": [
  {
   "cell_type": "markdown",
   "id": "69caa9dd-35ed-4da6-81a1-f4b931640679",
   "metadata": {
    "jp-MarkdownHeadingCollapsed": true
   },
   "source": [
    "# Tech Forum 2025 (severe) imbalanced data\n"
   ]
  },
  {
   "cell_type": "markdown",
   "id": "1636daae-b8b0-4c4f-8534-7b9e450e6f0b",
   "metadata": {
    "jp-MarkdownHeadingCollapsed": true
   },
   "source": [
    "## Supervised machine learning \"binary classification\" \n",
    "I will speak about supervised machine learning \"binary classification\" \n",
    "\n",
    "in the context of fraud detection on the card credit transactions"
   ]
  },
  {
   "cell_type": "markdown",
   "id": "d8e4e07f-ee15-4835-8d37-d99311caaf42",
   "metadata": {},
   "source": [
    "# My own libraries, variables, data sets ..."
   ]
  },
  {
   "cell_type": "code",
   "execution_count": null,
   "id": "21f9594e-18cb-48d7-9543-9afec09bb138",
   "metadata": {},
   "outputs": [],
   "source": [
    "import sys\n",
    "import os\n",
    "from importlib import reload\n",
    "fpath = os.path.join('..//scripts')\n",
    "sys.path.append(fpath)\n",
    "\n",
    "import warnings\n",
    "warnings.filterwarnings('ignore')\n",
    "\n",
    "#loading internal scripts\n",
    "import frauddetection as fd\n",
    "import sourcedata as sd\n",
    "import mccmanagement \n",
    "import result\n",
    "\n",
    "reload(fd)\n",
    "reload(sd)\n",
    "reload(mccmanagement)\n",
    "reload(result)\n",
    "\n",
    "print('done')"
   ]
  },
  {
   "cell_type": "code",
   "execution_count": null,
   "id": "917d69d1-c50a-44af-8ea7-101df5fb2475",
   "metadata": {},
   "outputs": [],
   "source": [
    "# standard librairies\n",
    "import numpy as np\n",
    "import pandas as pd\n",
    "import numpy\n",
    "import pandas\n",
    "import sklearn\n",
    "import imblearn\n",
    "import dataframe_image as dfi\n",
    "import dataimport as di\n",
    "from datetime import datetime\n",
    "\n",
    "#diagrams\n",
    "import seaborn as sns\n",
    "import matplotlib.pyplot as plt\n",
    "\n",
    "#Classifiers\n",
    "from sklearn.dummy import DummyClassifier\n",
    "from imblearn.ensemble import BalancedRandomForestClassifier\n",
    "from sklearn.tree import DecisionTreeClassifier\n",
    "\n",
    "#metrics\n",
    "from sklearn.metrics import accuracy_score\n",
    "\n"
   ]
  },
  {
   "cell_type": "code",
   "execution_count": null,
   "id": "ff672d58-8b7f-439d-8446-bfbd6b4b82cd",
   "metadata": {},
   "outputs": [],
   "source": [
    "source='WL'\n",
    "date='20241118'"
   ]
  },
  {
   "cell_type": "code",
   "execution_count": null,
   "id": "e0174193-93b2-436b-b9ad-c2acf1b6b27f",
   "metadata": {},
   "outputs": [],
   "source": [
    "def IR(dfTrx, target='Class'):\n",
    "    majorityCount=dfTrx[target].value_counts()[0]\n",
    "    minorityCount=dfTrx[target].value_counts()[1]\n",
    "    return majorityCount/minorityCount\n",
    "\n",
    "def fraudRate(dfTrx, target='Class'):\n",
    "    majorityCount=dfTrx[target].value_counts()[0]\n",
    "    minorityCount=dfTrx[target].value_counts()[1]\n",
    "    return minorityCount/(minorityCount+majorityCount)\n",
    "\n",
    "def printMessage(message,figure,format=\"{0}\"):\n",
    "    fullMessage=message +\" \\033[1m\\033[94m\"+format+\"\\033[0m\"\n",
    "    print(fullMessage.format(figure))\n",
    "    "
   ]
  },
  {
   "cell_type": "code",
   "execution_count": null,
   "id": "cf4cfd48-51fd-4116-8684-167153003c1a",
   "metadata": {},
   "outputs": [],
   "source": [
    "\n",
    "dfTrxRaw = di.read_file('../data/raw/'+source+'export'+date+'.csv')\n",
    "dfTrxRaw.head(5)\n",
    "\n",
    "dfTrxClean22 = pd.read_csv('../data/cleaned/'+source+'export'+date+'.csv')\n",
    "predictors = fd.getPredictors(dfTrxClean22)\n",
    "dfTrxScaled=fd.getStandardScaledData('export'+date+'.csv',source,predictors)\n",
    "dfTrxScaled.head(5)"
   ]
  },
  {
   "cell_type": "code",
   "execution_count": null,
   "id": "8ff2d0cb-a338-426b-a790-a98915586bc3",
   "metadata": {},
   "outputs": [],
   "source": [
    "row = 10000\n",
    "cols = 5\n",
    "\n",
    "Random = np.random.randint(low=0, high=100, size=(row, cols))\n",
    "\n",
    "dfCreditApproval = pd.DataFrame(Random)\n",
    "\n",
    "#print(df)\n",
    "\n",
    "dfCreditApproval['Class'] = np.random.choice([0, 1], p=[0.75, 0.25], size=len(dfCreditApproval))\n",
    "dfCreditApproval.Class.value_counts()"
   ]
  },
  {
   "cell_type": "code",
   "execution_count": null,
   "id": "f3764b35-df51-4369-b56d-e7059837a4d5",
   "metadata": {},
   "outputs": [],
   "source": [
    "row = 10000\n",
    "cols = 5\n",
    "\n",
    "Random = np.random.randint(low=0, high=100, size=(row, cols))\n",
    "\n",
    "dfBankChurn = pd.DataFrame(Random)\n",
    "\n",
    "#print(df)\n",
    "\n",
    "dfBankChurn['Class'] = np.random.choice([0, 1], p=[0.8, 0.2], size=len(dfCreditApproval))\n",
    "dfBankChurn.Class.value_counts()"
   ]
  },
  {
   "cell_type": "markdown",
   "id": "575ad17a-0a4c-4b5e-bd96-48abb0a0ad6c",
   "metadata": {},
   "source": [
    "# IR Imbalance Ratio"
   ]
  },
  {
   "cell_type": "code",
   "execution_count": null,
   "id": "38d901f0-dbf8-458e-acfd-38c493350665",
   "metadata": {},
   "outputs": [],
   "source": [
    "#The value IR imbalance ratio is defined for the binary classification by the ratio number of negative class examples on the number of positive class examples. It should be greater or equal to 1.\n",
    "#IR = (number positive examples) / (number of negative examples)\n",
    "#IR >=1\n",
    "#Because the fraud rate is very low we can set that\n",
    "#IR =1/(Fraud rate at transaction level)\n",
    "\n",
    "\n",
    "#-\tCredit approval (refused 75%, approved 25%)\n",
    "printMessage(\"IR for credit approval\",IR(dfCreditApproval),\"{0:.2f}\")\n",
    "\n",
    "#-\tBank churn (retained 80%, churn 20%) \n",
    "printMessage(\"IR for bank churn\",IR(dfBankChurn),\"{0:.2f}\")\n"
   ]
  },
  {
   "cell_type": "code",
   "execution_count": null,
   "id": "e2b52b8f-7820-49b0-8292-01f0909989c2",
   "metadata": {},
   "outputs": [],
   "source": [
    "\n",
    "printMessage(\"IR for fraud card credit transactions\",IR(dfTrxRaw),\"{0:.2f}\")\n",
    "printMessage(\"Fraud rate credit transactions\",fraudRate(dfTrxRaw,'Class'),\"{0:.5f}\")\n",
    "\n"
   ]
  },
  {
   "cell_type": "markdown",
   "id": "5830c3a2-6ebf-4aca-9e7e-0e0fc3e01289",
   "metadata": {},
   "source": [
    "## Count plot"
   ]
  },
  {
   "cell_type": "code",
   "execution_count": null,
   "id": "266b24ba-5c97-4944-b4c2-8d18443b68a9",
   "metadata": {},
   "outputs": [],
   "source": [
    "fig, ax =plt.subplots(1,2)\n",
    "sns.countplot(x='Class', data=dfCreditApproval, ax=ax[0], orient=\"v\") \n",
    "ax[0].set_title(\"Credit approval\")\n",
    "sns.countplot(x='Class', data=dfTrxRaw, ax=ax[1], orient=\"v\") \n",
    "ax[0].set_title(\"Credit card fraud\")\n",
    "fig.show()"
   ]
  },
  {
   "cell_type": "markdown",
   "id": "f93dfa6d-56bb-47fb-9812-1cde2518b7e5",
   "metadata": {},
   "source": [
    "## Pie diagram\n",
    "Yes pie diagram is sometimes misleading"
   ]
  },
  {
   "cell_type": "code",
   "execution_count": null,
   "id": "16f93bef-308f-48f3-a279-f7980bbbbdb4",
   "metadata": {},
   "outputs": [],
   "source": [
    "# add pie diagram\n",
    "fig, ax =plt.subplots(1,2)\n",
    "fig.set_figheight(6)\n",
    "fig.set_figwidth(12)\n",
    "ax[0].pie(dfCreditApproval['Class'].value_counts(),autopct='%1.1f%%', labels=['Refused','Approved'], colors=['yellowgreen','r'])\n",
    "ax[0].set_title(\"Credit approval\")\n",
    "ax[1].pie(dfTrxRaw['Class'].value_counts(),autopct='%1.1f%%', labels=['Genuine','Fraud'], colors=['yellowgreen','r'])\n",
    "ax[1].set_title(\"Credit card fraud\")\n",
    "fig.show()"
   ]
  },
  {
   "cell_type": "markdown",
   "id": "fb5cb3b5-2631-49aa-8c30-66cce733c07f",
   "metadata": {
    "jp-MarkdownHeadingCollapsed": true
   },
   "source": [
    "# Libraries used "
   ]
  },
  {
   "cell_type": "code",
   "execution_count": null,
   "id": "4fdaff24-0034-40cf-997f-2bce93fc0f71",
   "metadata": {},
   "outputs": [],
   "source": [
    "print(\"Numpy\",numpy.__version__)\n",
    "print(\"Pandas\",pandas.__version__)\n",
    "print(\"Sklearn\",sklearn.__version__)\n",
    "print(\"Imblearn\",imblearn.__version__)\n",
    "print(\"Imbalanced-learn is fully compliant scikit-learn\")"
   ]
  },
  {
   "cell_type": "markdown",
   "id": "c6fe2603-f487-41fb-b829-36f5b0618643",
   "metadata": {
    "jp-MarkdownHeadingCollapsed": true
   },
   "source": [
    "# Choose the good metrics"
   ]
  },
  {
   "cell_type": "code",
   "execution_count": null,
   "id": "fa9b4295-ee22-4c2d-841e-b8f8eecd0ff3",
   "metadata": {},
   "outputs": [],
   "source": [
    "# issue with accuracy\n",
    "# Accuracy =(Num Correct Predictions) / ( Num Total Predictions)"
   ]
  },
  {
   "cell_type": "code",
   "execution_count": null,
   "id": "0cb3655a-5c5b-445e-b45f-37c06190d7f0",
   "metadata": {},
   "outputs": [],
   "source": [
    "x_train, x_test, y_train, y_test, scaler =fd.split_data(dfTrxRaw,[])\n",
    "\n",
    "modelClf = DummyClassifier(strategy=\"most_frequent\")\n",
    "modelClf.fit(x_train, y_train)\n",
    "y_predictTest = modelClf.predict(x_test)\n",
    "printMessage(\"\",\"Dummy classifier\")\n",
    "printMessage(\"Accuracy score\",accuracy_score(y_test,y_predictTest),\"{0:.4f}\")\n"
   ]
  },
  {
   "cell_type": "code",
   "execution_count": null,
   "id": "63fd6761-7e5c-4ac7-8ed9-5e28af8f770b",
   "metadata": {
    "scrolled": true
   },
   "outputs": [],
   "source": [
    "printMessage(\"Accuracy =\",\"(Num Correct Predictions) / ( Num Total Predictions)\")\n",
    "fd.show_confusion_matrix(y_test, y_predictTest)\n"
   ]
  },
  {
   "cell_type": "markdown",
   "id": "e368a1eb-7c63-4d69-9853-dbda46f7d973",
   "metadata": {},
   "source": [
    "![stop.png](../imgs/presentation/stop.png)\n",
    "v>\n",
    "## Accuracy is not the good metrics for imbalanced data\n",
    "## You can use\n",
    "* F1 Score (calculated from precision and recall\n",
    "    * Precision = TP / (TP + FP)\r",
    "    * \r\n",
    "Recall = TP / (TP + FN)\n",
    "* there are many other metg)cs"
   ]
  },
  {
   "cell_type": "markdown",
   "id": "571f70b1-7442-47ab-871e-b648f79589b5",
   "metadata": {},
   "source": [
    "* F1 Score (calculated from precision and recall\n",
    "    * Precision = TP / (TP + FP)\n",
    "    * Recall = TP / (TP + FN)\n",
    "\n",
    "![confusionMatrix.png](../imgs/presentation/confusionMatrix.png)"
   ]
  },
  {
   "cell_type": "markdown",
   "id": "99a36a04-a5ee-4c20-a915-fb4fa3e91138",
   "metadata": {
    "jp-MarkdownHeadingCollapsed": true
   },
   "source": [
    "# IV (information value)"
   ]
  },
  {
   "cell_type": "markdown",
   "id": "3fe392f0-4d37-436b-880e-58775463eff7",
   "metadata": {
    "jp-MarkdownHeadingCollapsed": true
   },
   "source": [
    "## Definition IV\n",
    "information value (IV) is a metric used to assess the predictive power of a feature\n",
    "in capturing the relationship between an independent variable and a binary dependent variable. \n",
    "It helps determine which features are most important for predicting a binary outcome.\n",
    "\n",
    "This is not present in scitkit-learn\n"
   ]
  },
  {
   "cell_type": "code",
   "execution_count": null,
   "id": "d5fa78b9-0710-429d-b7ff-edf79765898b",
   "metadata": {},
   "outputs": [],
   "source": [
    "data = result.load_features_IV_result()\n",
    "\n",
    "data = data[ \n",
    "    ((data.IV>0.0) & (data.IV <0.03))\n",
    "    | (data.IV> 1.7)\n",
    "    ]\n",
    "style_test=pd.DataFrame(data=data,\n",
    "             columns=['Feature', 'IV']).style.background_gradient(axis='index')\n",
    "style_test.hide(axis=\"index\")\n",
    "\n",
    "style_test"
   ]
  },
  {
   "cell_type": "markdown",
   "id": "eaea6717-5a1d-492d-a882-a1ad85abcf51",
   "metadata": {
    "jp-MarkdownHeadingCollapsed": true
   },
   "source": [
    "## Good example Visa score"
   ]
  },
  {
   "cell_type": "code",
   "execution_count": null,
   "id": "82c5f441-5649-41f2-ba24-e8022f74a14f",
   "metadata": {},
   "outputs": [],
   "source": [
    "sns.violinplot(x='Class', y='vaa_score', data=dfTrxRaw, palette=['#2f7ed8', '#d6604d'])\n",
    "plt.xlabel('Class (0 = Genuine, 1 = Fraud)')\n",
    "plt.ylabel('mcd_fraud_score')\n",
    "\n",
    "plt.tight_layout()\n",
    "plt.suptitle(\"Visa score per class\", y=1.02, fontsize=16)\n",
    "plt.show()"
   ]
  },
  {
   "cell_type": "markdown",
   "id": "dd3d284a-d309-4424-bce6-f3ee05be7614",
   "metadata": {
    "jp-MarkdownHeadingCollapsed": true
   },
   "source": [
    "## Bad example TRX_3D_SECURED"
   ]
  },
  {
   "cell_type": "code",
   "execution_count": null,
   "id": "12639db4-d570-44fd-8a8a-66f9d92d3982",
   "metadata": {},
   "outputs": [],
   "source": [
    "printMessage(\"IV for TRX_3D_SECURED\",fd.calc_iv(dfTrxRaw,'TRX_3D_SECURED','Class',pr=0),\"{0:.3f}\")\n",
    "\n",
    "print(\"TRX_3D_SECURED values\")\n",
    "print(dfTrxRaw.TRX_3D_SECURED.value_counts())\n",
    "\n",
    "print(\"\")\n",
    "print(\"------------------------\")\n",
    "print(\"Fraud rate 'TRX_3D_SECURED'=1\")\n",
    "temp=dfTrxRaw[(dfTrxRaw['TRX_3D_SECURED']==1)]\n",
    "print(temp.Class.value_counts(normalize=True))\n",
    "\n",
    "print(\"\")\n",
    "print(\"------------------------\")\n",
    "print(\"Fraud rate 'TRX_3D_SECURED'=0\")\n",
    "temp=dfTrxRaw[(dfTrxRaw['TRX_3D_SECURED']==0)]\n",
    "print(temp.Class.value_counts(normalize=True))\n"
   ]
  },
  {
   "cell_type": "code",
   "execution_count": null,
   "id": "d3a98c63-23a6-4697-8858-af257dd1658b",
   "metadata": {},
   "outputs": [],
   "source": [
    "fig, ax =plt.subplots(1,3)\n",
    "fig.set_figheight(8)\n",
    "fig.set_figwidth(24)\n",
    "ax[0].pie(dfTrxRaw['TRX_3D_SECURED'].value_counts(),autopct='%1.1f%%', labels=['0','1'], colors=['yellowgreen','r'],\n",
    "         textprops={'fontsize': 25})\n",
    "ax[0].set_title(\"TRX_3D_SECURED value\", fontsize=25)\n",
    "\n",
    "temp1=dfTrxRaw[(dfTrxRaw['TRX_3D_SECURED']==1)]\n",
    "ax[1].pie(temp1['Class'].value_counts(),autopct='%1.2f%%', labels=['0','1'], colors=['yellowgreen','r'],\n",
    "         textprops={'fontsize': 25})\n",
    "ax[1].set_title(\"Fraud rate for TRX_3D_SECURED=1\", fontsize=25)\n",
    "\n",
    "temp2=dfTrxRaw[(dfTrxRaw['TRX_3D_SECURED']==0)]\n",
    "ax[2].pie(temp2['Class'].value_counts(),autopct='%1.2f%%', labels=['0','1'], colors=['yellowgreen','r'],\n",
    "         textprops={'fontsize': 25})\n",
    "ax[2].set_title(\"Fraud rate for TRX_3D_SECURED=0\", fontsize=25)\n",
    "\n",
    "fig.show()\n"
   ]
  },
  {
   "cell_type": "markdown",
   "id": "783de9c0-82c4-42a0-ace0-a30e836316ca",
   "metadata": {},
   "source": [
    "# Stratified train-test split"
   ]
  },
  {
   "cell_type": "code",
   "execution_count": null,
   "id": "eb9faeb9-043e-4ae1-971d-f1c04fb09886",
   "metadata": {},
   "outputs": [],
   "source": [
    "## Important\n",
    "printMessage(\"During the split train test data \",\"use option stratify= target class...\")"
   ]
  },
  {
   "cell_type": "code",
   "execution_count": null,
   "id": "ba68d0a2-1072-4f7e-9eee-b1e21496eae3",
   "metadata": {},
   "outputs": [],
   "source": [
    "from sklearn.model_selection import train_test_split\n",
    "TEST_SIZE=0.2\n",
    "RANDOM_STATE=44\n",
    "\n",
    "x_train0, x_test0, y_train0, y_test0 = train_test_split(dfTrxRaw, dfTrxRaw['Class'], test_size = TEST_SIZE, \n",
    "                                                        stratify= dfTrxRaw['Class'],\n",
    "                                                        random_state = RANDOM_STATE)\n",
    "\n",
    "x_train1, x_test1, y_train1, y_test1 = train_test_split(dfTrxRaw, dfTrxRaw['Class'], test_size = TEST_SIZE, \n",
    "                                                        random_state = RANDOM_STATE)\n"
   ]
  },
  {
   "cell_type": "code",
   "execution_count": null,
   "id": "cd25916e-3e6e-4b0d-8e7f-6a2b72be50ff",
   "metadata": {},
   "outputs": [],
   "source": [
    "fig, ax =plt.subplots(1,3)\n",
    "fig.set_figheight(8)\n",
    "fig.set_figwidth(24)\n",
    "ax[0].pie(dfTrxRaw['Class'].value_counts(),autopct='%1.3f%%', labels=['0','1'], colors=['yellowgreen','r'],\n",
    "         textprops={'fontsize': 25})\n",
    "ax[0].set_title(\"Initial data\", fontsize=25)\n",
    "\n",
    "ax[1].pie(y_test0.value_counts(),autopct='%1.3f%%', labels=['0','1'], colors=['yellowgreen','r'],\n",
    "         textprops={'fontsize': 25})\n",
    "ax[1].set_title(\"Test data stratify\", fontsize=25)\n",
    "\n",
    "ax[2].pie(y_test1.value_counts(),autopct='%1.3f%%', labels=['0','1'], colors=['yellowgreen','r'],\n",
    "         textprops={'fontsize': 25})\n",
    "ax[2].set_title(\"Test data not stratify\", fontsize=25)\n",
    "\n",
    "fig.show()\n"
   ]
  },
  {
   "attachments": {},
   "cell_type": "markdown",
   "id": "9a28fc29-80ef-4c40-8231-a85b2cc810e5",
   "metadata": {},
   "source": [
    "# Class-weight (scitkit-learn)"
   ]
  },
  {
   "cell_type": "markdown",
   "id": "9e10d732-540a-4e4e-b905-b8e33a2ecead",
   "metadata": {},
   "source": [
    "## Explanation\n",
    "The class_weight parameter in Scikit-learn is used to assign weights to the classes in the data. \n",
    "This is particularly useful when you have an imbalanced dataset. \n",
    "By assigning a higher weight to the minority class and a lower weight to the majority class, \n",
    "the model is forced to pay more attention to the minority class during training."
   ]
  },
  {
   "cell_type": "code",
   "execution_count": null,
   "id": "3bfd1dd4-21c0-448e-b97f-09d8e64951e6",
   "metadata": {},
   "outputs": [],
   "source": [
    "x_train, x_test, y_train, y_test, scaler =fd.split_data(dfTrxScaled,predictors)\n",
    "\n",
    "\n",
    "max_depthFound=15\n",
    "min_samples_leafFound=4\n",
    "min_samples_splitFound=21\n",
    "criterionFound='entropy'"
   ]
  },
  {
   "cell_type": "code",
   "execution_count": null,
   "id": "21d22d36-e4ec-49fb-8866-111a928c5646",
   "metadata": {},
   "outputs": [],
   "source": [
    "modelClf = DecisionTreeClassifier(random_state=42)\n",
    "parameters={'criterion': criterionFound, 'max_depth': max_depthFound, \n",
    "            'min_samples_leaf': min_samples_leafFound, 'min_samples_split': min_samples_splitFound}\n",
    "modelClf.set_params(**parameters)\n",
    "\n",
    "modelClf.fit(x_train, y_train)\n",
    "predsTrain = modelClf.predict(x_train)\n",
    "predsTest = modelClf.predict(x_test)\n",
    "\n",
    "fd.print_scores(y_test, predsTest,'f1')\n",
    "fd.show_confusion_matrix(y_test, predsTest)\n"
   ]
  },
  {
   "cell_type": "code",
   "execution_count": null,
   "id": "92897e12-e2a4-4065-a8d9-ea05a20f6196",
   "metadata": {},
   "outputs": [],
   "source": [
    "class_weightFound={0: 1, 1: 5}\n",
    "\n",
    "modelClf = DecisionTreeClassifier(random_state=42)\n",
    "parameters={'criterion': criterionFound, 'max_depth': max_depthFound, \n",
    "            'min_samples_leaf': min_samples_leafFound, 'min_samples_split': min_samples_splitFound,\n",
    "            'class_weight':class_weightFound}\n",
    "modelClf.set_params(**parameters)\n",
    "\n",
    "modelClf.fit(x_train, y_train)\n",
    "predsTrain = modelClf.predict(x_train)\n",
    "predsTest = modelClf.predict(x_test)\n",
    "\n",
    "fd.print_scores(y_test, predsTest,'f1')\n",
    "fd.show_confusion_matrix(y_test, predsTest)"
   ]
  },
  {
   "cell_type": "markdown",
   "id": "51480bf9-7c38-40e5-8a26-ca7eacd3d53b",
   "metadata": {},
   "source": [
    "## 'class_weight' parameter does not exist for the boosting (AdaBoost, GradientBoosting)"
   ]
  },
  {
   "cell_type": "markdown",
   "id": "646501fa-54af-4553-bc77-78e26a729a91",
   "metadata": {
    "jp-MarkdownHeadingCollapsed": true
   },
   "source": [
    "# Sampling\n",
    "* oversampling\n",
    "* undersampling\n",
    "* combined method\n",
    "\n",
    "Without sampling, for the fraud detection the result are very poor\n"
   ]
  },
  {
   "cell_type": "code",
   "execution_count": null,
   "id": "e4391e65-596a-4b39-af72-a05be9552316",
   "metadata": {},
   "outputs": [],
   "source": [
    "# stop scaling needed (for advanced technics"
   ]
  },
  {
   "cell_type": "code",
   "execution_count": null,
   "id": "63d2751a-8990-48f7-b10a-bea3e56c2ab8",
   "metadata": {},
   "outputs": [],
   "source": [
    "\n",
    "\n",
    "data=result.load_performance_nextdays_result()\n",
    "\n",
    "data['f1']=np.around((data['F1 Day2']+data['F1 Day3']+data['F1 Day4'])/3, decimals=3)\n",
    "\n",
    "data = data[['Name','ExtraParameters','f1']]\n",
    "data = data[ \n",
    "    (data.Name!='BaggingClassifier')\n",
    "    & (data.Name!='BalancedRandomForestClassifier')\n",
    "    & (data.Name!='EasyEnsembleClassifier')\n",
    "    & (data.Name!='CatBoostClassifier')\n",
    "    & (data.Name!='XGBClassifier')\n",
    "    & (data.Name!='3-ExtraTreesClassifier')\n",
    "    #& (data.Name!='GradientBoostingClassifier')\n",
    "    ]\n",
    "res = pd.crosstab(data['ExtraParameters'], data['Name'], values=data['f1'], aggfunc='mean')\n",
    "style_test=res.style.background_gradient(axis='index')\n",
    "\n",
    "styles = [dict(selector=\"caption\",\n",
    "                       props=[(\"text-align\", \"center\"),\n",
    "                              (\"font-size\", \"200%\"),\n",
    "                              (\"color\", 'black')])]\n",
    "\n",
    "style_test.set_caption(\"F1 result\").set_table_styles(styles)\n",
    "dfi.export(style_test, '../imgs/temp.png',table_conversion = 'matplotlib')\n",
    "\n",
    "style_test"
   ]
  },
  {
   "cell_type": "code",
   "execution_count": null,
   "id": "2be8c860-bc14-4ea3-b01f-dc6c4862de1e",
   "metadata": {
    "jp-MarkdownHeadingCollapsed": true
   },
   "outputs": [],
   "source": [
    "#Stop Scaling needed"
   ]
  },
  {
   "cell_type": "markdown",
   "id": "1cd85f90-cc61-4cf3-9f58-b93d8a7d900b",
   "metadata": {},
   "source": [
    "# Choose the good algorithm\n",
    "* ensemble bagging\n",
    "* ensemble boosting"
   ]
  },
  {
   "cell_type": "markdown",
   "id": "8216f595-fe26-4892-981e-402db8f3ae4e",
   "metadata": {},
   "source": [
    "# Prediction diagram"
   ]
  },
  {
   "cell_type": "markdown",
   "id": "5cb78f86-308a-42c3-ab21-d4ecb0f0fa88",
   "metadata": {},
   "source": [
    "## Classification or Scoring\n",
    "in scikit-learn classifier there is also a score (between 0.0 and 1.0)\n",
    "if the score is greater than a threshold (0.5) the record is classfied on one side or one the other side.\n",
    "let us create an histogram with these scores.\n"
   ]
  },
  {
   "cell_type": "code",
   "execution_count": null,
   "id": "1c19e20c-800a-49d0-b275-b2ffd8337270",
   "metadata": {},
   "outputs": [],
   "source": [
    "\n",
    "x_train, x_test, y_train, y_test, scaler =fd.split_data(dfTrxScaled,predictors)\n",
    "\n",
    "modelClf = BalancedRandomForestClassifier(random_state=42)\n",
    "n_estimatorsFound=80\n",
    "max_depthFound=12\n",
    "parameters={'max_depth': max_depthFound, 'n_estimators':n_estimatorsFound}\n",
    "modelClf.set_params(**parameters)\n",
    "\n",
    "modelClf.fit(x_train, y_train)\n",
    "predsTrain = modelClf.predict(x_train)\n",
    "predsTest = modelClf.predict(x_test)\n",
    "\n",
    "#f1Train=fd.print_scores(y_train, predsTrain,'f1', False)\n",
    "f1Test=fd.print_scores(y_test, predsTest,'f1')\n"
   ]
  },
  {
   "cell_type": "code",
   "execution_count": null,
   "id": "f1c8ef41-f60d-40c9-9119-32478129e939",
   "metadata": {},
   "outputs": [],
   "source": [
    "fd.show_prediction_graphNoCorrection(modelClf, x_test,y_test,None)"
   ]
  },
  {
   "cell_type": "code",
   "execution_count": null,
   "id": "a7e0c17a-1007-4864-9dd8-5d4b401aace8",
   "metadata": {},
   "outputs": [],
   "source": [
    "fd.show_prediction_graph(modelClf, x_test,y_test,None)"
   ]
  },
  {
   "cell_type": "markdown",
   "id": "8d10822b-1f1f-40bf-8a78-bacc500a9cdb",
   "metadata": {},
   "source": [
    "# Conclusion\n",
    "* There are tools to manage imbalanced data\n",
    "* But for fraud detection the imbalance is severe and there are some limitations"
   ]
  },
  {
   "cell_type": "code",
   "execution_count": null,
   "id": "f2fd78cf-c157-4439-ad8f-27e535d16bb3",
   "metadata": {},
   "outputs": [],
   "source": []
  }
 ],
 "metadata": {
  "kernelspec": {
   "display_name": "Python 3 (ipykernel)",
   "language": "python",
   "name": "python3"
  },
  "language_info": {
   "codemirror_mode": {
    "name": "ipython",
    "version": 3
   },
   "file_extension": ".py",
   "mimetype": "text/x-python",
   "name": "python",
   "nbconvert_exporter": "python",
   "pygments_lexer": "ipython3",
   "version": "3.12.4"
  }
 },
 "nbformat": 4,
 "nbformat_minor": 5
}
