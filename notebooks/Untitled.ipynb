{
 "cells": [
  {
   "cell_type": "code",
   "execution_count": null,
   "id": "7cfadbb6-5198-4bdd-b164-c98c0f5f7e8d",
   "metadata": {},
   "outputs": [],
   "source": [
    "print('foo')"
   ]
  },
  {
   "cell_type": "code",
   "execution_count": null,
   "id": "cd91aa18-64bb-4bd6-822e-1b2adef0b714",
   "metadata": {},
   "outputs": [],
   "source": [
    "import sys\n",
    "import os\n",
    "fpath = os.path.join('..//scripts')\n",
    "sys.path.append(fpath)\n",
    "\n",
    "import frauddetection as fd\n",
    "import importlib\n",
    "importlib.reload(fd)\n",
    "fd.foo()"
   ]
  },
  {
   "cell_type": "code",
   "execution_count": null,
   "id": "9ec043a1-d43b-4815-876a-ed238ff0a401",
   "metadata": {},
   "outputs": [],
   "source": []
  },
  {
   "cell_type": "code",
   "execution_count": null,
   "id": "b8130b12-17e2-4083-91e1-d04f94a1a113",
   "metadata": {},
   "outputs": [],
   "source": []
  }
 ],
 "metadata": {
  "kernelspec": {
   "display_name": "Python 3 (ipykernel)",
   "language": "python",
   "name": "python3"
  },
  "language_info": {
   "codemirror_mode": {
    "name": "ipython",
    "version": 3
   },
   "file_extension": ".py",
   "mimetype": "text/x-python",
   "name": "python",
   "nbconvert_exporter": "python",
   "pygments_lexer": "ipython3",
   "version": "3.12.4"
  }
 },
 "nbformat": 4,
 "nbformat_minor": 5
}
