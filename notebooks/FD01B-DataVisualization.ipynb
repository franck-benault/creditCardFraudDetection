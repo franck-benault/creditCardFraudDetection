{
 "cells": [
  {
   "cell_type": "code",
   "execution_count": null,
   "id": "fa997773-95bb-41de-96d0-77c7fad12015",
   "metadata": {},
   "outputs": [],
   "source": [
    "#For Kaggle\n",
    "#date=''\n",
    "\n",
    "#For WL data\n",
    "source='WL'\n",
    "date='20241118'\n",
    "\n",
    "saveImg=False\n",
    "\n",
    "print('done')"
   ]
  },
  {
   "cell_type": "code",
   "execution_count": null,
   "id": "cd91aa18-64bb-4bd6-822e-1b2adef0b714",
   "metadata": {},
   "outputs": [],
   "source": [
    "import sys\n",
    "import os\n",
    "from importlib import reload\n",
    "fpath = os.path.join('..//scripts')\n",
    "sys.path.append(fpath)\n",
    "\n",
    "import warnings\n",
    "warnings.filterwarnings('ignore')\n",
    "\n",
    "#loading internal scripts\n",
    "import frauddetection as fd\n",
    "import sourcedata as sd\n",
    "import result\n",
    "\n",
    "reload(fd)\n",
    "reload(sd)\n",
    "reload(result)\n",
    "\n",
    "import pandas as pd\n",
    "\n",
    "print('done')"
   ]
  },
  {
   "cell_type": "markdown",
   "id": "95d70ff9-057e-40c9-977f-3f55d9ab21b9",
   "metadata": {},
   "source": [
    "# Loading raw transactions file"
   ]
  },
  {
   "cell_type": "code",
   "execution_count": null,
   "id": "9ec043a1-d43b-4815-876a-ed238ff0a401",
   "metadata": {},
   "outputs": [],
   "source": [
    "import dataimport as di\n",
    "import pandas as pd \n",
    "   \n",
    "dfTrx = di.read_file('../data/raw/'+source+'export'+date+'.csv')\n",
    "dfTrx.head(5)\n"
   ]
  },
  {
   "cell_type": "markdown",
   "id": "c2b06671-a32f-445e-9c31-5c92601fb35f",
   "metadata": {},
   "source": [
    "# Pie diagram showing the imbalanced data"
   ]
  },
  {
   "cell_type": "code",
   "execution_count": null,
   "id": "c0e7892f-ac03-4505-ba06-98a8d7d0f02d",
   "metadata": {
    "scrolled": true
   },
   "outputs": [],
   "source": [
    "import matplotlib.pyplot as plt\n",
    "\n",
    "print(\"Pie chart fraud are very unbalanced data:\")\n",
    "plt.pie(dfTrx['Class'].value_counts(),autopct='%1.1f%%', labels=['Genuine','Fraud'], colors=['yellowgreen','r'])\n",
    "if(saveImg):\n",
    "    plt.savefig('../imgs/FD01B-piediag-transaction.png')\n",
    "plt.show()\n"
   ]
  },
  {
   "cell_type": "markdown",
   "id": "31c746f5-e5ec-4996-a3a3-2a9925111e25",
   "metadata": {},
   "source": [
    "# Count plot showing the imbalanced data"
   ]
  },
  {
   "cell_type": "code",
   "execution_count": null,
   "id": "1ea40bdf-7a24-4f63-880c-743433ff11a6",
   "metadata": {},
   "outputs": [],
   "source": [
    "import seaborn as sns\n",
    "import matplotlib.pyplot as plt\n",
    "  \n",
    "# count plot on single categorical variable\n",
    "sns.countplot(x ='Class', data = dfTrx)\n",
    "plt.title(\"Fraud on credit card transactions\")\n",
    "plt.xlabel(\"0=Genuine    1=Fraudulent\")\n",
    "plt.ylabel(\"Nb transactions\")\n",
    " \n",
    "# Show the plot\n",
    "if(saveImg):\n",
    "    plt.savefig('../imgs/FD01B-count-plot-transaction.png')\n",
    "plt.show()"
   ]
  },
  {
   "cell_type": "code",
   "execution_count": null,
   "id": "4e27ce14-2835-4983-bdb0-df63669922c7",
   "metadata": {},
   "outputs": [],
   "source": [
    "dfTrx.info()"
   ]
  },
  {
   "cell_type": "code",
   "execution_count": null,
   "id": "4c577d07-09a7-4df2-bf95-a568f1c10a6f",
   "metadata": {},
   "outputs": [],
   "source": [
    "nan_count = dfTrx.isnull().sum()\n",
    "print('Number of NaN values:', nan_count)"
   ]
  },
  {
   "cell_type": "markdown",
   "id": "687d569c-5d10-4049-ad31-153026f89091",
   "metadata": {},
   "source": [
    "# Score Visa and Mastercard"
   ]
  },
  {
   "cell_type": "code",
   "execution_count": null,
   "id": "8a2774ad-f8fc-46fb-a90e-e4b654e45f9a",
   "metadata": {
    "scrolled": true
   },
   "outputs": [],
   "source": [
    "import matplotlib.pyplot as plt\n",
    "\n",
    "dfTrx0= dfTrx[(dfTrx['card_brand']=='MCD')]\n",
    "dfTrx1= dfTrx[(dfTrx['card_brand']=='MCD') &(dfTrx['Class']==1)]\n",
    "dfTrx2= dfTrx[(dfTrx['card_brand']=='MCD') &(dfTrx['Class']==0)]\n",
    "\n",
    "fig,ax = plt.subplots(2,1)\n",
    "\n",
    "ax[0].hist(x=dfTrx2['mcd_fraud_score'], label='geniune', bins=20, color='green', alpha=0.7, rwidth=0.85)\n",
    "ax[0].set_title('Score Mastercard for geniune')\n",
    "\n",
    "ax[1].set_title('Score Mastercard for fraudulent')\n",
    "ax[1].hist(x=dfTrx1['mcd_fraud_score'], label='Frandulent', bins=20, color='red', alpha=0.7, rwidth=0.85)\n",
    "\n",
    "fig.autofmt_xdate()\n",
    "plt.show()"
   ]
  },
  {
   "cell_type": "code",
   "execution_count": null,
   "id": "53fdef93-08f9-4e17-8b4a-e0e86fa94f99",
   "metadata": {},
   "outputs": [],
   "source": [
    "sns.boxplot(data=dfTrx,y='mcd_fraud_score', hue='Class')"
   ]
  },
  {
   "cell_type": "code",
   "execution_count": null,
   "id": "ef231572-dd6c-46ce-9ed8-4eff90d9bcec",
   "metadata": {},
   "outputs": [],
   "source": [
    "import seaborn as sns\n",
    "\n",
    "\n",
    "sns.violinplot(x='Class', y='mcd_fraud_score', data=dfTrx0, palette=['#2f7ed8', '#d6604d'])\n",
    "plt.title(f'{'mcd_fraud_score'} Distribution by Class')\n",
    "plt.xlabel('Class (0 = Non-Fraud, 1 = Fraud)')\n",
    "plt.ylabel('mcd_fraud_score')\n",
    "\n",
    "plt.tight_layout()\n",
    "plt.suptitle(\"Feature Distribution Comparison by Class\", y=1.02, fontsize=16)\n",
    "plt.show()"
   ]
  },
  {
   "cell_type": "code",
   "execution_count": null,
   "id": "9a03f125-b6db-47be-89f4-8f20ba186cf0",
   "metadata": {},
   "outputs": [],
   "source": [
    "import matplotlib.pyplot as plt\n",
    "\n",
    "dfTrx0= dfTrx[(dfTrx['card_brand']=='VIS')]\n",
    "dfTrx1= dfTrx[(dfTrx['card_brand']=='VIS') &(dfTrx['Class']==1)]\n",
    "dfTrx2= dfTrx[(dfTrx['card_brand']=='VIS') &(dfTrx['Class']==0)]\n",
    "\n",
    "fig,ax = plt.subplots(2,1)\n",
    "\n",
    "ax[0].hist(x=dfTrx2['vaa_score'], label='geniune', bins=20, color='green', alpha=0.7, rwidth=0.85)\n",
    "ax[0].set_title('Score Visa for geniune')\n",
    "\n",
    "ax[1].set_title('Score Visa for fraudulent')\n",
    "ax[1].hist(x=dfTrx1['vaa_score'], label='Frandulent', bins=20, color='red', alpha=0.7, rwidth=0.85)\n",
    "\n",
    "fig.autofmt_xdate()\n",
    "plt.show()"
   ]
  },
  {
   "cell_type": "code",
   "execution_count": null,
   "id": "a0d1ee24-247a-4a4f-b711-5bc1b985a16d",
   "metadata": {},
   "outputs": [],
   "source": [
    "sns.boxplot(data=dfTrx,y='vaa_score', hue='Class')"
   ]
  },
  {
   "cell_type": "code",
   "execution_count": null,
   "id": "ae5c0b9d-9e59-4ad2-992f-2865c5d6d733",
   "metadata": {},
   "outputs": [],
   "source": [
    "import seaborn as sns\n",
    "\n",
    "sns.violinplot(x='Class', y='vaa_score', data=dfTrx0, palette=['#2f7ed8', '#d6604d'])\n",
    "plt.title(f'{'vaa_score'} Distribution by Class')\n",
    "plt.xlabel('Class (0 = Non-Fraud, 1 = Fraud)')\n",
    "plt.ylabel('vaa_score')\n",
    "\n",
    "plt.tight_layout()\n",
    "plt.suptitle(\"Feature Distribution Comparison by Class\", y=1.02, fontsize=16)\n",
    "plt.show()"
   ]
  },
  {
   "cell_type": "code",
   "execution_count": null,
   "id": "0c198a9d-6a07-4e4c-883d-7826baefeeb1",
   "metadata": {},
   "outputs": [],
   "source": [
    "import numpy as np\n",
    "dfTrx2 =dfTrx.copy()\n",
    "dfTrx2['mcd_fraud_score'].fillna(np.mean(dfTrx2['mcd_fraud_score']), inplace=True)\n",
    "dfTrx2['vaa_score'].fillna(np.mean(dfTrx2['vaa_score']), inplace=True)\n",
    "\n",
    "\n",
    "\n",
    "dfTrx2['vaa_scoreBin']=pd.cut(dfTrx2['vaa_score'], bins=5)\n",
    "iv=fd.calc_iv(dfTrx2,'vaa_scoreBin','Class',pr=0)\n",
    "print(f'IV vaa_score {iv}')\n",
    "result.update_features_IV_result('vaa_score',iv)\n",
    "\n",
    "dfTrx3= dfTrx2[(dfTrx2['card_brand']=='VIS')]\n",
    "dfTrx3['vaa_scoreBin']=pd.cut(dfTrx3['vaa_score'], bins=5)\n",
    "iv=fd.calc_iv(dfTrx3,'vaa_scoreBin','Class',pr=0)\n",
    "print(f'IV vaa_score (visa only) {iv}')\n",
    "result.update_features_IV_result('vaa_score (visa only)',iv)\n",
    "\n",
    "dfTrx2['mcd_fraud_scoreBin']=pd.cut(dfTrx2['mcd_fraud_score'], bins=5)\n",
    "iv=fd.calc_iv(dfTrx2,'mcd_fraud_scoreBin','Class',pr=0)\n",
    "print(f'IV mcd_fraud_score {iv}')\n",
    "result.update_features_IV_result('mcd_fraud_score',iv)\n",
    "\n",
    "dfTrx3= dfTrx2[(dfTrx2['card_brand']=='MCD')]\n",
    "dfTrx3['mcd_fraud_scoreBinBin']=pd.cut(dfTrx3['mcd_fraud_score'], bins=5)\n",
    "iv=fd.calc_iv(dfTrx3,'mcd_fraud_scoreBin','Class',pr=0)\n",
    "print(f'IV mcd_fraud_score (mcd only) {iv}')\n",
    "result.update_features_IV_result('mcd_fraud_score (mcd only)',iv)\n",
    "\n",
    "nan_count = dfTrx.isnull().sum()\n",
    "print('Number of NaN values:', nan_count)"
   ]
  },
  {
   "cell_type": "markdown",
   "id": "73d26d63-f428-4584-8835-fa5851cf6dd3",
   "metadata": {},
   "source": [
    "# Issue with cluster profile"
   ]
  },
  {
   "cell_type": "code",
   "execution_count": null,
   "id": "188f1bd6-95a2-49dc-bdea-ab4635297c41",
   "metadata": {},
   "outputs": [],
   "source": [
    "# issue cluster profile\n",
    "print(\"All transactions\")\n",
    "print( dfTrx.cluster_profile.value_counts())\n",
    "print(\"-----------------------\")\n",
    "print(\"Fraudulent transactions\")\n",
    "print( dfTrx[dfTrx['Class']==1].cluster_profile.value_counts())\n",
    "# bug almost all fraudulent transaction have cluster profile equals to UNKNOWN"
   ]
  },
  {
   "cell_type": "markdown",
   "id": "9d4bb744-2e74-467e-9738-b8a9837f0d35",
   "metadata": {},
   "source": [
    "# Transaction Amount"
   ]
  },
  {
   "cell_type": "code",
   "execution_count": null,
   "id": "39470b14-bf82-48af-8b5e-9e0a576bbce6",
   "metadata": {},
   "outputs": [],
   "source": [
    "# Import libraries\n",
    "import seaborn as sns\n",
    "\n",
    "# Creating plot\n",
    "sns.boxplot(data=dfTrx,y='trx_amount', hue='Class')\n",
    "\n",
    "# Show the plot\n",
    "if(saveImg):\n",
    "    plt.savefig('../imgs/FD01B-Amount-boxplot.png')\n",
    "plt.show()"
   ]
  },
  {
   "cell_type": "code",
   "execution_count": null,
   "id": "da44f9f3-1faf-41f4-b50f-cf95bb9fa844",
   "metadata": {},
   "outputs": [],
   "source": [
    "import matplotlib.pyplot as plt\n",
    "\n",
    "# An \"interface\" to matplotlib.axes.Axes.hist() method\n",
    "plt.hist(x=dfTrx['trx_amount'], bins=75, color='#0504aa', alpha=0.7, rwidth=0.85)\n",
    "plt.grid(axis='y', alpha=0.75)\n",
    "plt.xlabel('Value')\n",
    "plt.ylabel('Frequency')\n",
    "plt.title('Amount histogram')\n",
    "\n",
    "# Show the plot\n",
    "if(saveImg):\n",
    "    plt.savefig('../imgs/FD01B-Amount-histogram.png')\n",
    "plt.show()\n"
   ]
  },
  {
   "cell_type": "code",
   "execution_count": null,
   "id": "ed8faef1-be11-4108-893b-754bd010494c",
   "metadata": {},
   "outputs": [],
   "source": [
    "import numpy as np\n",
    "dfTrx['trx_amount_log10']=np.log10(1+dfTrx['trx_amount'])\n",
    "\n",
    "# Creating plot\n",
    "sns.boxplot(data=dfTrx,y='trx_amount_log10', hue='Class')\n",
    "\n",
    "# Show the plot\n",
    "if(saveImg):\n",
    "    plt.savefig('../imgs/FD01B-Amount-log10-boxplot.png')\n",
    "plt.show()"
   ]
  },
  {
   "cell_type": "code",
   "execution_count": null,
   "id": "bc0f8f9f-d4f7-44b7-9e55-9962301c247e",
   "metadata": {},
   "outputs": [],
   "source": [
    "import matplotlib.pyplot as plt\n",
    "\n",
    "# An \"interface\" to matplotlib.axes.Axes.hist() method\n",
    "plt.hist(x=dfTrx['trx_amount_log10'], bins=75, color='#0504aa', alpha=0.7, rwidth=0.85)\n",
    "plt.grid(axis='y', alpha=0.75)\n",
    "plt.xlabel('Value')\n",
    "plt.ylabel('Frequency')\n",
    "plt.title('Log10 Amount histogram')\n",
    "\n",
    "# Show the plot\n",
    "if(saveImg):\n",
    "    plt.savefig('../imgs/FD01B-Amount-log10-histogram.png')\n",
    "plt.show()\n"
   ]
  },
  {
   "cell_type": "code",
   "execution_count": null,
   "id": "586b38aa-5c3e-4770-93d2-0c8dd934c071",
   "metadata": {},
   "outputs": [],
   "source": [
    "import seaborn as sns\n",
    "\n",
    "title='trx_amount'\n",
    "dfTrx['temp']=dfTrx['trx_amount']\n",
    "\n",
    "bins=5\n",
    "dfTrx['amountBin']=pd.qcut(dfTrx['temp'], q=bins)\n",
    "iv=fd.calc_iv(dfTrx,'amountBin','Class',pr=0)\n",
    "print(f'IV qcut bins={bins} {iv}')\n",
    "\n",
    "dfTrx['amountBin']=pd.cut(dfTrx['temp'], bins=bins)\n",
    "iv=fd.calc_iv(dfTrx,'amountBin','Class',pr=0)\n",
    "print(f'IV  cut bins={bins} {iv}')\n",
    "\n",
    "sns.violinplot(x='Class', y='temp', data=dfTrx, palette=['#2f7ed8', '#d6604d'])\n",
    "plt.title(f'{title} Distribution by Class')\n",
    "plt.xlabel('Class (0 = Non-Fraud, 1 = Fraud)')\n",
    "plt.ylabel(title)\n",
    "\n",
    "plt.tight_layout()\n",
    "plt.suptitle(\"Feature Distribution Comparison by Class\", y=1.02, fontsize=16)\n",
    "plt.show()"
   ]
  },
  {
   "cell_type": "code",
   "execution_count": null,
   "id": "52f99098-2996-4eb8-9f32-8d6b363997d4",
   "metadata": {},
   "outputs": [],
   "source": [
    "title='trx_amount'\n",
    "#dfTrx['temp']=dfTrx['trx_amount']\n",
    "dfTrx['temp']=np.log10(1+dfTrx['trx_amount'])\n",
    "\n",
    "bin_labels_5 = ['1', '2','3','4','5']\n",
    "bins=5\n",
    "dfTrx['amountBin']=pd.cut(dfTrx['temp'], bins=bins, labels=bin_labels_5)\n",
    "\n",
    "#print(dfTrx['amountBin'].value_counts())\n",
    "\n",
    "cols = ['bin', 'val']\n",
    "rows_list = []\n",
    "for bin in bin_labels_5:\n",
    "    temp=dfTrx[(dfTrx['amountBin']==bin)]\n",
    "    #print(temp['Class'].value_counts(normalize=True))\n",
    "    value=0.0\n",
    "    if(temp['Class'].value_counts(normalize=True)[0]!=1.0):\n",
    "        value=temp['Class'].value_counts(normalize=True)[1]\n",
    "    #print(value)\n",
    "    dataNew = {\n",
    "        'bin': bin,\n",
    "        'value': value\n",
    "    }\n",
    "    rows_list.append(dataNew)\n",
    "\n",
    "output = pd.DataFrame(rows_list)  \n",
    "\n",
    "print(output.head())\n",
    "\n",
    "\n",
    "plt.figure(figsize=(12, 4))\n",
    "sns.barplot(data=output, x='bin', y='value', palette='viridis')\n",
    "plt.title('Average Fraud Probability by bin')\n",
    "plt.xlabel(\"bin\")\n",
    "plt.ylabel(\"Avg. Fraud Probability\")\n",
    "plt.xticks(range(0, 5))\n",
    "plt.grid()\n",
    "plt.show()"
   ]
  },
  {
   "cell_type": "code",
   "execution_count": null,
   "id": "3283431d-51a5-413a-892b-3a9eda649590",
   "metadata": {},
   "outputs": [],
   "source": [
    "import seaborn as sns\n",
    "\n",
    "title='trx_amount_log10'\n",
    "dfTrx['temp']=np.log10(1+dfTrx['trx_amount'])\n",
    "\n",
    "bins=5\n",
    "dfTrx['amountBin']=pd.qcut(dfTrx['temp'], q=bins)\n",
    "iv=fd.calc_iv(dfTrx,'amountBin','Class',pr=0)\n",
    "print(f'IV qcut bins={bins} {iv}')\n",
    "\n",
    "dfTrx['amountBin']=pd.cut(dfTrx['temp'], bins=bins)\n",
    "iv=fd.calc_iv(dfTrx,'amountBin','Class',pr=0)\n",
    "print(f'IV  cut bins={bins} {iv}')\n",
    "\n",
    "sns.violinplot(x='Class', y='temp', data=dfTrx, palette=['#2f7ed8', '#d6604d'])\n",
    "plt.title(f'{title} Distribution by Class')\n",
    "plt.xlabel('Class (0 = Non-Fraud, 1 = Fraud)')\n",
    "plt.ylabel(title)\n",
    "\n",
    "plt.tight_layout()\n",
    "plt.suptitle(\"Feature Distribution Comparison by Class\", y=1.02, fontsize=16)\n",
    "plt.show()"
   ]
  },
  {
   "cell_type": "code",
   "execution_count": null,
   "id": "905b8d3c-8868-4d75-892d-69689803700f",
   "metadata": {},
   "outputs": [],
   "source": [
    "import seaborn as sns\n",
    "title='trx_amount_log2'\n",
    "dfTrx['temp']=np.log2(1+dfTrx['trx_amount'])\n",
    "\n",
    "bins=5\n",
    "dfTrx['amountBin']=pd.qcut(dfTrx['temp'], q=bins)\n",
    "iv=fd.calc_iv(dfTrx,'amountBin','Class',pr=0)\n",
    "print(f'IV qcut bins={bins} {iv}')\n",
    "\n",
    "dfTrx['amountBin']=pd.cut(dfTrx['temp'], bins=bins)\n",
    "iv=fd.calc_iv(dfTrx,'amountBin','Class',pr=0)\n",
    "print(f'IV  cut bins={bins} {iv}')\n",
    "\n",
    "sns.violinplot(x='Class', y='temp', data=dfTrx, palette=['#2f7ed8', '#d6604d'])\n",
    "plt.title(f'{title} Distribution by Class')\n",
    "plt.xlabel('Class (0 = Non-Fraud, 1 = Fraud)')\n",
    "plt.ylabel(title)\n",
    "\n",
    "plt.tight_layout()\n",
    "plt.suptitle(\"Feature Distribution Comparison by Class\", y=1.02, fontsize=16)\n",
    "plt.show()"
   ]
  },
  {
   "cell_type": "code",
   "execution_count": null,
   "id": "872af336-8b05-45e2-bb68-62ec3cc442cf",
   "metadata": {},
   "outputs": [],
   "source": [
    "import seaborn as sns\n",
    "title='trx_amount_log1p'\n",
    "dfTrx['temp']=np.log1p(dfTrx['trx_amount'])\n",
    "\n",
    "bins=5\n",
    "dfTrx['amountBin']=pd.qcut(dfTrx['temp'], q=bins)\n",
    "iv=fd.calc_iv(dfTrx,'amountBin','Class',pr=0)\n",
    "print(f'IV qcut bins={bins} {iv}')\n",
    "\n",
    "dfTrx['amountBin']=pd.cut(dfTrx['temp'], bins=bins)\n",
    "iv=fd.calc_iv(dfTrx,'amountBin','Class',pr=0)\n",
    "print(f'IV  cut bins={bins} {iv}')\n",
    "\n",
    "sns.violinplot(x='Class', y='temp', data=dfTrx, palette=['#2f7ed8', '#d6604d'])\n",
    "plt.title(f'{title} Distribution by Class')\n",
    "plt.xlabel('Class (0 = Non-Fraud, 1 = Fraud)')\n",
    "plt.ylabel(title)\n",
    "\n",
    "plt.tight_layout()\n",
    "plt.suptitle(\"Feature Distribution Comparison by Class\", y=1.02, fontsize=16)\n",
    "plt.show()"
   ]
  },
  {
   "cell_type": "code",
   "execution_count": null,
   "id": "968a4566-e3df-4304-bb32-5b04445dae48",
   "metadata": {},
   "outputs": [],
   "source": [
    "from scipy.stats import boxcox\n",
    "import seaborn as sns\n",
    "\n",
    "title='boxcox'\n",
    "dfTrx[\"temp\"], lam = boxcox(1+dfTrx[\"trx_amount\"])\n",
    "\n",
    "bins=5\n",
    "dfTrx['amountBin']=pd.qcut(dfTrx['temp'], q=bins)\n",
    "iv=fd.calc_iv(dfTrx,'amountBin','Class',pr=0)\n",
    "print(f'IV qcut bins={bins} {iv}')\n",
    "\n",
    "dfTrx['amountBin']=pd.cut(dfTrx['temp'], bins=bins)\n",
    "iv=fd.calc_iv(dfTrx,'amountBin','Class',pr=0)\n",
    "print(f'IV  cut bins={bins} {iv}')\n",
    "\n",
    "sns.violinplot(x='Class', y='temp', data=dfTrx, palette=['#2f7ed8', '#d6604d'])\n",
    "plt.title(f'{title} Distribution by Class')\n",
    "plt.xlabel('Class (0 = Non-Fraud, 1 = Fraud)')\n",
    "plt.ylabel(title)\n",
    "\n",
    "plt.tight_layout()\n",
    "plt.suptitle(\"Feature Distribution Comparison by Class\", y=1.02, fontsize=16)\n",
    "plt.show()"
   ]
  },
  {
   "cell_type": "code",
   "execution_count": null,
   "id": "d84d012f-b5ef-4614-a201-d10728e25090",
   "metadata": {},
   "outputs": [],
   "source": [
    "from scipy.stats import yeojohnson\n",
    "import seaborn as sns\n",
    "\n",
    "title='yeojohnson'\n",
    "dfTrx[\"temp\"], lam = yeojohnson(dfTrx[\"trx_amount\"])\n",
    "\n",
    "bins=5\n",
    "dfTrx['amountBin']=pd.qcut(dfTrx['temp'], q=bins)\n",
    "iv=fd.calc_iv(dfTrx,'amountBin','Class',pr=0)\n",
    "print(f'IV qcut bins={bins} {iv}')\n",
    "\n",
    "dfTrx['amountBin']=pd.cut(dfTrx['temp'], bins=bins)\n",
    "iv=fd.calc_iv(dfTrx,'amountBin','Class',pr=0)\n",
    "print(f'IV  cut bins={bins} {iv}')\n",
    "\n",
    "sns.violinplot(x='Class', y='temp', data=dfTrx, palette=['#2f7ed8', '#d6604d'])\n",
    "plt.title(f'{title} Distribution by Class')\n",
    "plt.xlabel('Class (0 = Non-Fraud, 1 = Fraud)')\n",
    "plt.ylabel(title)\n",
    "\n",
    "plt.tight_layout()\n",
    "plt.suptitle(\"Feature Distribution Comparison by Class\", y=1.02, fontsize=16)\n",
    "plt.show()"
   ]
  },
  {
   "cell_type": "code",
   "execution_count": null,
   "id": "daa9387a-d97b-423b-b83d-c9ba914c8f9a",
   "metadata": {},
   "outputs": [],
   "source": [
    "import seaborn as sns\n",
    "\n",
    "title='square root'\n",
    "dfTrx[\"temp\"] = dfTrx[\"trx_amount\"]**(1/2)\n",
    "\n",
    "bins=5\n",
    "dfTrx['amountBin']=pd.qcut(dfTrx['temp'], q=bins)\n",
    "iv=fd.calc_iv(dfTrx,'amountBin','Class',pr=0)\n",
    "print(f'IV qcut bins={bins} {iv}')\n",
    "\n",
    "dfTrx['amountBin']=pd.cut(dfTrx['temp'], bins=bins)\n",
    "iv=fd.calc_iv(dfTrx,'amountBin','Class',pr=0)\n",
    "print(f'IV  cut bins={bins} {iv}')\n",
    "\n",
    "sns.violinplot(x='Class', y='temp', data=dfTrx, palette=['#2f7ed8', '#d6604d'])\n",
    "plt.title(f'{title} Distribution by Class')\n",
    "plt.xlabel('Class (0 = Non-Fraud, 1 = Fraud)')\n",
    "plt.ylabel(title)\n",
    "\n",
    "plt.tight_layout()\n",
    "plt.suptitle(\"Feature Distribution Comparison by Class\", y=1.02, fontsize=16)\n",
    "plt.show()"
   ]
  },
  {
   "cell_type": "code",
   "execution_count": null,
   "id": "509d18c0-ee35-4e87-a723-60d2e8a18642",
   "metadata": {},
   "outputs": [],
   "source": [
    "import seaborn as sns\n",
    "\n",
    "title='reverse'\n",
    "dfTrx[\"temp\"] = 1/(1+dfTrx[\"trx_amount\"])\n",
    "\n",
    "bins=5\n",
    "dfTrx['amountBin']=pd.qcut(dfTrx['temp'], q=bins)\n",
    "iv=fd.calc_iv(dfTrx,'amountBin','Class',pr=0)\n",
    "print(f'IV qcut bins={bins} {iv}')\n",
    "\n",
    "dfTrx['amountBin']=pd.cut(dfTrx['temp'], bins=bins)\n",
    "iv=fd.calc_iv(dfTrx,'amountBin','Class',pr=0)\n",
    "print(f'IV  cut bins={bins} {iv}')\n",
    "\n",
    "sns.violinplot(x='Class', y='temp', data=dfTrx, palette=['#2f7ed8', '#d6604d'])\n",
    "plt.title(f'{title} Distribution by Class')\n",
    "plt.xlabel('Class (0 = Non-Fraud, 1 = Fraud)')\n",
    "plt.ylabel(title)\n",
    "\n",
    "plt.tight_layout()\n",
    "plt.suptitle(\"Feature Distribution Comparison by Class\", y=1.02, fontsize=16)\n",
    "plt.show()"
   ]
  },
  {
   "cell_type": "code",
   "execution_count": null,
   "id": "60df6bd3-cda4-41b0-be95-7812476ff966",
   "metadata": {},
   "outputs": [],
   "source": [
    "import numpy as np\n",
    "max = 6\n",
    "\n",
    "print('trx_amount bin cut')\n",
    "for bins in np.arange(2,max,1):\n",
    "    dfTrx['amountBin']=pd.cut(dfTrx['trx_amount'], bins=bins)\n",
    "    iv=fd.calc_iv(dfTrx,'amountBin','Class',pr=0)\n",
    "    print(f'IV trx_local_amt_val bins={bins} {iv}')\n",
    "    \n",
    "\n",
    "print('trx_amount bin qcut')\n",
    "for bins in np.arange(2,max,1):\n",
    "    dfTrx['amountBin']=pd.qcut(dfTrx['trx_amount'], q=bins)\n",
    "    iv=fd.calc_iv(dfTrx,'amountBin','Class',pr=0)\n",
    "    print(f'IV trx_local_amt_val bins={bins} {iv}')\n",
    "\n",
    "dfTrx['trx_amount_Log10']=np.log10(1+dfTrx['trx_amount'])\n",
    "print('trx_amount log10 bin cut')\n",
    "for bins in np.arange(2,max,1):\n",
    "    dfTrx['amountBin']=pd.cut(dfTrx['trx_amount_Log10'], bins=bins)\n",
    "    iv=fd.calc_iv(dfTrx,'amountBin','Class',pr=0)\n",
    "    print(f'IV trx_local_amt_val bins={bins} {iv}')\n",
    "\n",
    "print('trx_amount log10 bin qcut')\n",
    "for bins in np.arange(2,max,1):\n",
    "    dfTrx['amountBin']=pd.qcut(dfTrx['trx_amount_Log10'], q=bins)\n",
    "    iv=fd.calc_iv(dfTrx,'amountBin','Class',pr=0)\n",
    "    print(f'IV trx_local_amt_val bins={bins} {iv}')\n",
    "result.update_features_IV_result(f'trx_local_amt_val bins={max-1}',iv)"
   ]
  },
  {
   "cell_type": "markdown",
   "id": "da474920-9d04-4501-8f01-19e28fbf53b4",
   "metadata": {},
   "source": [
    "# Reversal column"
   ]
  },
  {
   "cell_type": "code",
   "execution_count": null,
   "id": "33a366d0-597b-412e-9cd4-84bcc4b015af",
   "metadata": {},
   "outputs": [],
   "source": [
    "dfTrx['trx_reversal']\n",
    "print(dfTrx.trx_reversal.value_counts())\n",
    "print('------------ fraudulent--------')\n",
    "print( dfTrx[dfTrx['Class']==1].trx_reversal.value_counts())\n",
    "\n",
    "iv =fd.calc_iv(dfTrx,'trx_reversal','Class',pr=0)\n",
    "print(f'IV trx_reversal  {iv}')\n",
    "result.update_features_IV_result('trx_reversal',iv)\n"
   ]
  },
  {
   "cell_type": "code",
   "execution_count": null,
   "id": "9c7879e6-70a1-4f43-aa6d-72db4d5f54a1",
   "metadata": {},
   "outputs": [],
   "source": [
    "import matplotlib.pyplot as plt\n",
    "\n",
    "print(\"Pie chart trx reversal\")\n",
    "plt.pie(dfTrx['trx_reversal'].value_counts(),autopct='%1.1f%%', labels=['NO REVERSAL','FULL REVERSAL','PARTIAL REVERSAL'], colors=['yellowgreen','r','r'])\n",
    "#if(saveImg):\n",
    "#    plt.savefig('../imgs/FD01B-piediag-transaction.png')\n",
    "plt.show()"
   ]
  },
  {
   "cell_type": "code",
   "execution_count": null,
   "id": "b19ce9a7-f26f-4524-a9c6-02bccaf81105",
   "metadata": {},
   "outputs": [],
   "source": [
    "dfTrx.trx_cnp.value_counts()\n",
    "\n",
    "dfTrx['trx_cnp']\n",
    "print(dfTrx.trx_cnp.value_counts())\n",
    "\n",
    "print('------------ Geniune--------')\n",
    "print( dfTrx[dfTrx['Class']==0].trx_cnp.value_counts())\n",
    "print( dfTrx[dfTrx['Class']==0].trx_cnp.value_counts(normalize=True))\n",
    "print('------------ fraudulent--------')\n",
    "print( dfTrx[dfTrx['Class']==1].trx_cnp.value_counts())\n",
    "print( dfTrx[dfTrx['Class']==1].trx_cnp.value_counts(normalize=True))\n",
    "\n",
    "iv=fd.calc_iv(dfTrx,'trx_cnp','Class',pr=0)\n",
    "\n",
    "print(f'IV trx_cnp  {iv}')\n",
    "result.update_features_IV_result('trx_cnp',iv)"
   ]
  },
  {
   "cell_type": "code",
   "execution_count": null,
   "id": "c1832fe1-f92a-4af6-9d69-6c24f2dd2d65",
   "metadata": {},
   "outputs": [],
   "source": [
    "dfTrx['ecom'] =np.where(dfTrx.card_entry_mode.isin([5,6,9]), 1,0)\n",
    "\n",
    "iv=fd.calc_iv(dfTrx,'ecom','Class',pr=0)\n",
    "\n",
    "print(f'IV ecom {iv}')\n",
    "result.update_features_IV_result('ecom',iv)"
   ]
  },
  {
   "cell_type": "code",
   "execution_count": null,
   "id": "8d52a026-b012-449b-9eb2-1dc492e1af1d",
   "metadata": {},
   "outputs": [],
   "source": [
    "def get_seconds(date):\n",
    "    return date.hour*60*24+date.minute*60+date.second\n",
    "\n",
    "# Histogram \n",
    "# set the style \n",
    "sns.set_style('whitegrid')\n",
    "# create a histogram\n",
    "plt.figure(figsize=(12, 3))\n",
    "dfTrx['Time']= dfTrx['trx_date_time'].apply(get_seconds)\n",
    "sns.histplot( dfTrx['Time'], bins=30, kde=True, color='blue')\n",
    "plt.title('Distribution of Transaction Time')\n",
    "plt.xlabel(\"Time (in Seconds)\")\n",
    "plt.ylabel(\"Frequency\")\n",
    "plt.axvline(x =  dfTrx['Time'].median(), color='red', linestyle='dashed', linewidth=2, label='Median Time')\n",
    "plt.axvline(x =  dfTrx['Time'].mean(), color='green', linestyle='dashed', linewidth=2, label='Mean Time')\n",
    "plt.legend()\n",
    "plt.show()\n",
    "# LinePlot \n",
    "# create a line plot to analyze fraud over time \n",
    "plt.figure(figsize=(12, 3))\n",
    "time_fruad =  dfTrx.groupby('Time')['Class'].mean().reset_index()\n",
    "plt.plot(time_fruad['Time'], time_fruad['Class'], color='blue')\n",
    "plt.title('Fraud Probability Over Time')\n",
    "plt.xlabel(\"Time (in Seconds)\")\n",
    "plt.ylabel(\"Fraud Probability\")\n",
    "plt.grid()\n",
    "plt.show()"
   ]
  },
  {
   "cell_type": "code",
   "execution_count": null,
   "id": "401ce2a5-69c7-497e-bada-c1be126973ec",
   "metadata": {},
   "outputs": [],
   "source": [
    "def get_hours(date):\n",
    "    return date.hour\n",
    "\n",
    "\n",
    "dfTrx['Hour']= dfTrx['trx_date_time'].apply(get_hours)\n",
    "\n",
    "# caluclate the mean fraud probability by hour \n",
    "hour_fraud = dfTrx.groupby('Hour')['Class'].mean().reset_index()\n",
    "\n",
    "# plotting the average fruad probability by hour \n",
    "plt.figure(figsize=(12, 4))\n",
    "sns.barplot(data=hour_fraud, x='Hour', y='Class', palette='viridis')\n",
    "plt.title('Average Fraud Probability by Hour of the Day')\n",
    "plt.xlabel(\"Hour of the Day\")\n",
    "plt.ylabel(\"Avg. Fraud Probability\")\n",
    "plt.xticks(range(0, 24))\n",
    "plt.grid()\n",
    "plt.show()"
   ]
  },
  {
   "cell_type": "code",
   "execution_count": null,
   "id": "2bb8edf6-8429-4390-914c-35599aa74e2d",
   "metadata": {},
   "outputs": [],
   "source": [
    "iv=fd.calc_iv(dfTrx,'Hour','Class',pr=0)\n",
    "print(iv)\n",
    "result.update_features_IV_result('Hour',iv)"
   ]
  },
  {
   "cell_type": "code",
   "execution_count": null,
   "id": "5628b4e7-f7d3-409a-add4-c38992d6f2e3",
   "metadata": {},
   "outputs": [],
   "source": [
    "iv=fd.calc_iv(dfTrx,'ecom_indicator','Class',pr=0)\n",
    "#dataIV.loc[len(dataIV)] = [\"ecom_indicator\", iv]\n",
    "print(iv)\n",
    "result.update_features_IV_result('ecom_indicator',iv)"
   ]
  },
  {
   "cell_type": "code",
   "execution_count": null,
   "id": "fcbcf530-1c27-4558-b9f3-9364d54ee29c",
   "metadata": {},
   "outputs": [],
   "source": [
    "print(dfTrx.ecom_indicator.value_counts())\n",
    "\n",
    "print(0)\n",
    "print(dfTrx[dfTrx.ecom_indicator==0].Class.value_counts())\n",
    "print(2)\n",
    "print(dfTrx[dfTrx.ecom_indicator==2].Class.value_counts())\n",
    "print(5)\n",
    "print(dfTrx[dfTrx.ecom_indicator==5].Class.value_counts())\n",
    "print(61)\n",
    "print(dfTrx[dfTrx.ecom_indicator==61].Class.value_counts())\n",
    "print(60)\n",
    "print(dfTrx[dfTrx.ecom_indicator==60].Class.value_counts())\n",
    "print(62)\n",
    "print(dfTrx[dfTrx.ecom_indicator==62].Class.value_counts())\n",
    "print(7)\n",
    "print(dfTrx[dfTrx.ecom_indicator==7].Class.value_counts())\n",
    "print(dfTrx[dfTrx.ecom_indicator==28].Class.value_counts())\n",
    "print(dfTrx[dfTrx.ecom_indicator==4].Class.value_counts())\n",
    "print(dfTrx[dfTrx.ecom_indicator==1].Class.value_counts())\n"
   ]
  },
  {
   "cell_type": "code",
   "execution_count": null,
   "id": "b1a70385-fe01-47dd-b03d-ebed3a814a6e",
   "metadata": {},
   "outputs": [],
   "source": [
    "dfTrx['ecom_indicator2'] = np.where(dfTrx.ecom_indicator.isin([0,2,5]), dfTrx.ecom_indicator,10)\n",
    "\n",
    "\n",
    "print(dfTrx.ecom_indicator2.value_counts())\n",
    "iv=fd.calc_iv(dfTrx,'ecom_indicator2','Class',pr=0)\n",
    "print(iv)"
   ]
  },
  {
   "cell_type": "code",
   "execution_count": null,
   "id": "2e878c37-3f47-472e-9558-bc093683acf2",
   "metadata": {},
   "outputs": [],
   "source": [
    "\n",
    "\n"
   ]
  }
 ],
 "metadata": {
  "kernelspec": {
   "display_name": "Python 3 (ipykernel)",
   "language": "python",
   "name": "python3"
  },
  "language_info": {
   "codemirror_mode": {
    "name": "ipython",
    "version": 3
   },
   "file_extension": ".py",
   "mimetype": "text/x-python",
   "name": "python",
   "nbconvert_exporter": "python",
   "pygments_lexer": "ipython3",
   "version": "3.12.4"
  }
 },
 "nbformat": 4,
 "nbformat_minor": 5
}
