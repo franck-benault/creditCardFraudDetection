{
 "cells": [
  {
   "cell_type": "code",
   "execution_count": null,
   "id": "fa997773-95bb-41de-96d0-77c7fad12015",
   "metadata": {},
   "outputs": [],
   "source": [
    "#For Kaggle\n",
    "#date=''\n",
    "\n",
    "#For WL data\n",
    "source='WL'\n",
    "date='20241118'\n",
    "\n",
    "saveImg=False\n",
    "\n",
    "print('done')"
   ]
  },
  {
   "cell_type": "code",
   "execution_count": null,
   "id": "cd91aa18-64bb-4bd6-822e-1b2adef0b714",
   "metadata": {},
   "outputs": [],
   "source": [
    "import sys\n",
    "import os\n",
    "from importlib import reload\n",
    "fpath = os.path.join('..//scripts')\n",
    "sys.path.append(fpath)\n",
    "\n",
    "import warnings\n",
    "warnings.filterwarnings('ignore')\n",
    "\n",
    "#loading internal scripts\n",
    "import frauddetection as fd\n",
    "import sourcedata as sd\n",
    "reload(fd)\n",
    "reload(sd)\n",
    "\n",
    "print('done')"
   ]
  },
  {
   "cell_type": "markdown",
   "id": "95d70ff9-057e-40c9-977f-3f55d9ab21b9",
   "metadata": {},
   "source": [
    "# Loading raw transactions file"
   ]
  },
  {
   "cell_type": "code",
   "execution_count": null,
   "id": "9ec043a1-d43b-4815-876a-ed238ff0a401",
   "metadata": {},
   "outputs": [],
   "source": [
    "import dataimport as di\n",
    "import pandas as pd \n",
    "   \n",
    "dfTrx = di.read_file('../data/raw/'+source+'export'+date+'.csv')\n",
    "dfTrx.head(5)\n"
   ]
  },
  {
   "cell_type": "markdown",
   "id": "c2b06671-a32f-445e-9c31-5c92601fb35f",
   "metadata": {},
   "source": [
    "# Pie diagram showing the imbalanced data"
   ]
  },
  {
   "cell_type": "code",
   "execution_count": null,
   "id": "c0e7892f-ac03-4505-ba06-98a8d7d0f02d",
   "metadata": {
    "scrolled": true
   },
   "outputs": [],
   "source": [
    "import matplotlib.pyplot as plt\n",
    "\n",
    "print(\"Pie chart fraud are very unbalanced data:\")\n",
    "plt.pie(dfTrx['Class'].value_counts(),autopct='%1.1f%%', labels=['Genuine','Fraud'], colors=['yellowgreen','r'])\n",
    "if(saveImg):\n",
    "    plt.savefig('../imgs/FD01B-piediag-transaction.png')\n",
    "plt.show()\n"
   ]
  },
  {
   "cell_type": "markdown",
   "id": "31c746f5-e5ec-4996-a3a3-2a9925111e25",
   "metadata": {},
   "source": [
    "# Count plot showing the imbalanced data"
   ]
  },
  {
   "cell_type": "code",
   "execution_count": null,
   "id": "1ea40bdf-7a24-4f63-880c-743433ff11a6",
   "metadata": {},
   "outputs": [],
   "source": [
    "import seaborn as sns\n",
    "import matplotlib.pyplot as plt\n",
    "  \n",
    "# count plot on single categorical variable\n",
    "sns.countplot(x ='Class', data = dfTrx)\n",
    "plt.title(\"Fraud on credit card transactions\")\n",
    "plt.xlabel(\"0=Genuine    1=Fraudulent\")\n",
    "plt.ylabel(\"Nb transactions\")\n",
    " \n",
    "# Show the plot\n",
    "if(saveImg):\n",
    "    plt.savefig('../imgs/FD01B-count-plot-transaction.png')\n",
    "plt.show()"
   ]
  },
  {
   "cell_type": "code",
   "execution_count": null,
   "id": "4e27ce14-2835-4983-bdb0-df63669922c7",
   "metadata": {},
   "outputs": [],
   "source": [
    "dfTrx.info()"
   ]
  },
  {
   "cell_type": "code",
   "execution_count": null,
   "id": "4c577d07-09a7-4df2-bf95-a568f1c10a6f",
   "metadata": {},
   "outputs": [],
   "source": [
    "nan_count = dfTrx.isnull().sum()\n",
    "print('Number of NaN values:', nan_count)"
   ]
  },
  {
   "cell_type": "markdown",
   "id": "73d26d63-f428-4584-8835-fa5851cf6dd3",
   "metadata": {},
   "source": [
    "# Issue with cluster profile"
   ]
  },
  {
   "cell_type": "code",
   "execution_count": null,
   "id": "188f1bd6-95a2-49dc-bdea-ab4635297c41",
   "metadata": {},
   "outputs": [],
   "source": [
    "# issue cluster profile\n",
    "print(\"All transactions\")\n",
    "print( dfTrx.cluster_profile.value_counts())\n",
    "print(\"-----------------------\")\n",
    "print(\"Fraudulent transactions\")\n",
    "print( dfTrx[dfTrx['Class']==1].cluster_profile.value_counts())\n",
    "# bug almost all fraudulent transaction have cluster profile equals to UNKNOWN"
   ]
  },
  {
   "cell_type": "markdown",
   "id": "9d4bb744-2e74-467e-9738-b8a9837f0d35",
   "metadata": {},
   "source": [
    "# Transaction Amount"
   ]
  },
  {
   "cell_type": "code",
   "execution_count": null,
   "id": "39470b14-bf82-48af-8b5e-9e0a576bbce6",
   "metadata": {},
   "outputs": [],
   "source": [
    "# Import libraries\n",
    "import seaborn as sns\n",
    "\n",
    "# Creating plot\n",
    "sns.boxplot(data=dfTrx,y='trx_amount', hue='Class')\n",
    "\n",
    "# Show the plot\n",
    "if(saveImg):\n",
    "    plt.savefig('../imgs/FD01B-Amount-boxplot.png')\n",
    "plt.show()"
   ]
  },
  {
   "cell_type": "code",
   "execution_count": null,
   "id": "da44f9f3-1faf-41f4-b50f-cf95bb9fa844",
   "metadata": {},
   "outputs": [],
   "source": [
    "import matplotlib.pyplot as plt\n",
    "\n",
    "# An \"interface\" to matplotlib.axes.Axes.hist() method\n",
    "plt.hist(x=dfTrx['trx_amount'], bins=75, color='#0504aa', alpha=0.7, rwidth=0.85)\n",
    "plt.grid(axis='y', alpha=0.75)\n",
    "plt.xlabel('Value')\n",
    "plt.ylabel('Frequency')\n",
    "plt.title('Amount histogram')\n",
    "\n",
    "# Show the plot\n",
    "if(saveImg):\n",
    "    plt.savefig('../imgs/FD01B-Amount-histogram.png')\n",
    "plt.show()\n"
   ]
  },
  {
   "cell_type": "code",
   "execution_count": null,
   "id": "ed8faef1-be11-4108-893b-754bd010494c",
   "metadata": {},
   "outputs": [],
   "source": [
    "import numpy as np\n",
    "dfTrx['trx_amount_log10']=np.log10(1+dfTrx['trx_amount'])\n",
    "\n",
    "# Creating plot\n",
    "sns.boxplot(data=dfTrx,y='trx_amount_log10', hue='Class')\n",
    "\n",
    "# Show the plot\n",
    "if(saveImg):\n",
    "    plt.savefig('../imgs/FD01B-Amount-log10-boxplot.png')\n",
    "plt.show()"
   ]
  },
  {
   "cell_type": "code",
   "execution_count": null,
   "id": "bc0f8f9f-d4f7-44b7-9e55-9962301c247e",
   "metadata": {},
   "outputs": [],
   "source": [
    "import matplotlib.pyplot as plt\n",
    "\n",
    "# An \"interface\" to matplotlib.axes.Axes.hist() method\n",
    "plt.hist(x=dfTrx['trx_amount_log10'], bins=75, color='#0504aa', alpha=0.7, rwidth=0.85)\n",
    "plt.grid(axis='y', alpha=0.75)\n",
    "plt.xlabel('Value')\n",
    "plt.ylabel('Frequency')\n",
    "plt.title('Log10 Amount histogram')\n",
    "\n",
    "# Show the plot\n",
    "if(saveImg):\n",
    "    plt.savefig('../imgs/FD01B-Amount-log10-histogram.png')\n",
    "plt.show()\n"
   ]
  },
  {
   "cell_type": "code",
   "execution_count": null,
   "id": "60df6bd3-cda4-41b0-be95-7812476ff966",
   "metadata": {},
   "outputs": [],
   "source": [
    "import numpy as np\n",
    "max = 6\n",
    "\n",
    "print('trx_amount bin cut')\n",
    "for bins in np.arange(2,max,1):\n",
    "    dfTrx['amountBin']=pd.cut(dfTrx['trx_amount'], bins=bins)\n",
    "    print(f'IV trx_local_amt_val bins={bins} {fd.calc_iv(dfTrx,'amountBin','Class',pr=0)}')\n",
    "\n",
    "print('trx_amount bin qcut')\n",
    "for bins in np.arange(2,max,1):\n",
    "    dfTrx['amountBin']=pd.qcut(dfTrx['trx_amount'], q=bins)\n",
    "    print(f'IV trx_local_amt_val bins={bins} {fd.calc_iv(dfTrx,'amountBin','Class',pr=0)}')\n",
    "\n",
    "dfTrx['trx_amount_Log10']=np.log10(1+dfTrx['trx_amount'])\n",
    "print('trx_amount log10 bin cut')\n",
    "for bins in np.arange(2,max,1):\n",
    "    dfTrx['amountBin']=pd.cut(dfTrx['trx_amount_Log10'], bins=bins)\n",
    "    print(f'IV trx_local_amt_val bins={bins} {fd.calc_iv(dfTrx,'amountBin','Class',pr=0)}')\n",
    "\n",
    "print('trx_amount log10 bin qcut')\n",
    "for bins in np.arange(2,max,1):\n",
    "    dfTrx['amountBin']=pd.qcut(dfTrx['trx_amount_Log10'], q=bins)\n",
    "    print(f'IV trx_local_amt_val bins={bins} {fd.calc_iv(dfTrx,'amountBin','Class',pr=0)}')"
   ]
  },
  {
   "cell_type": "markdown",
   "id": "da474920-9d04-4501-8f01-19e28fbf53b4",
   "metadata": {},
   "source": [
    "# Reversal column"
   ]
  },
  {
   "cell_type": "code",
   "execution_count": null,
   "id": "33a366d0-597b-412e-9cd4-84bcc4b015af",
   "metadata": {},
   "outputs": [],
   "source": [
    "dfTrx['trx_reversal']\n",
    "print(dfTrx.trx_reversal.value_counts())\n",
    "print('------------ fraudulent--------')\n",
    "print( dfTrx[dfTrx['Class']==1].trx_reversal.value_counts())\n",
    "print(f'IV trx_reversal  {fd.calc_iv(dfTrx,'trx_reversal','Class',pr=0)}')\n"
   ]
  },
  {
   "cell_type": "code",
   "execution_count": null,
   "id": "9c7879e6-70a1-4f43-aa6d-72db4d5f54a1",
   "metadata": {},
   "outputs": [],
   "source": []
  }
 ],
 "metadata": {
  "kernelspec": {
   "display_name": "Python 3 (ipykernel)",
   "language": "python",
   "name": "python3"
  },
  "language_info": {
   "codemirror_mode": {
    "name": "ipython",
    "version": 3
   },
   "file_extension": ".py",
   "mimetype": "text/x-python",
   "name": "python",
   "nbconvert_exporter": "python",
   "pygments_lexer": "ipython3",
   "version": "3.12.4"
  }
 },
 "nbformat": 4,
 "nbformat_minor": 5
}
