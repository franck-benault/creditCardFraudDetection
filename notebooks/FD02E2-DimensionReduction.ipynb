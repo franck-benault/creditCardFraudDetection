{
 "cells": [
  {
   "cell_type": "code",
   "execution_count": null,
   "id": "802f6872-70e3-4435-998e-e05ca8c01004",
   "metadata": {},
   "outputs": [],
   "source": [
    "#For Kaggle\n",
    "#date=''\n",
    "\n",
    "#For WL data\n",
    "date='20241118'\n",
    "source='WL'\n",
    "\n",
    "saveImg=False\n",
    "\n",
    "print('done')"
   ]
  },
  {
   "cell_type": "code",
   "execution_count": null,
   "id": "eb06f4d9-c280-4727-a6ca-a917e334f782",
   "metadata": {},
   "outputs": [],
   "source": [
    "import sys\n",
    "import os\n",
    "from importlib import reload\n",
    "fpath = os.path.join('..//scripts')\n",
    "sys.path.append(fpath)\n",
    "\n",
    "import warnings\n",
    "warnings.filterwarnings('ignore')\n",
    "\n",
    "#loading internal scripts\n",
    "import frauddetection as fd\n",
    "import sourcedata as sd\n",
    "import dataimport as di\n",
    "import countrymanagement as cm\n",
    "import mccmanagement\n",
    "reload(fd)\n",
    "reload(sd)\n",
    "reload(di)\n",
    "reload(cm)\n",
    "reload(mccmanagement)\n",
    "\n",
    "print('done')"
   ]
  },
  {
   "cell_type": "code",
   "execution_count": null,
   "id": "432762a5-8029-4af0-9ba3-5cff53873691",
   "metadata": {},
   "outputs": [],
   "source": [
    "import pandas as pd\n",
    "\n",
    "dfTrx = pd.read_csv('../data/cleaned/'+source+'export'+date+'.csv')\n",
    "dfTrx.head(5)"
   ]
  },
  {
   "cell_type": "code",
   "execution_count": null,
   "id": "041d2d7c-ee3b-4925-8e6e-a5889bfb23a5",
   "metadata": {},
   "outputs": [],
   "source": []
  },
  {
   "cell_type": "code",
   "execution_count": null,
   "id": "d1b6b347-b5f1-4faa-a2da-ac29e8cfee75",
   "metadata": {},
   "outputs": [],
   "source": []
  },
  {
   "cell_type": "code",
   "execution_count": null,
   "id": "bcc0083d-d54c-451b-bf99-486d9cba17e2",
   "metadata": {},
   "outputs": [],
   "source": [
    "%%script false\n",
    "\n",
    "from imblearn.under_sampling import RandomUnderSampler\n",
    "import matplotlib.pyplot as plt\n",
    "import seaborn as sns\n",
    "\n",
    "plt.style.use('fivethirtyeight')\n",
    "sns.set_style(\"white\")\n",
    "rate=500\n",
    "undersample = RandomUnderSampler(sampling_strategy=1/rate,random_state=42)\n",
    "x, y = undersample.fit_resample(dfTrx[['mcd_fraud_score', 'vaa_score', 'trx_amount_log10','distancePrevTrx','Class']], dfTrx[['Class']])\n",
    "\n",
    "sns.pairplot(x[['mcd_fraud_score', 'vaa_score', 'trx_amount_log10','distancePrevTrx','Class']], hue = 'Class' , size=3)"
   ]
  },
  {
   "cell_type": "code",
   "execution_count": null,
   "id": "c5a0b4cd-7e1f-4905-822e-f02f5d3cc001",
   "metadata": {},
   "outputs": [],
   "source": []
  },
  {
   "cell_type": "markdown",
   "id": "8142e56e-fffe-4573-b36e-3ebf950d86e9",
   "metadata": {},
   "source": [
    "# Dimension Reduction\n",
    "# PCA and t-sne"
   ]
  },
  {
   "cell_type": "code",
   "execution_count": null,
   "id": "431ca04a-1628-48bb-969c-6537629681ff",
   "metadata": {},
   "outputs": [],
   "source": [
    "%%script false\n",
    "\n",
    "from sklearn.decomposition import PCA\n",
    "import matplotlib.pyplot as plt\n",
    "from sklearn.preprocessing import StandardScaler\n",
    "from imblearn.under_sampling import RandomUnderSampler\n",
    "\n",
    "predictors = fd.getPredictors(dfTrx)\n",
    "\n",
    "undersample = RandomUnderSampler(sampling_strategy=0.01,random_state=42)\n",
    "x1, y1 = undersample.fit_resample(dfTrx[predictors], dfTrx['Class'])\n",
    "\n",
    "pca = PCA(n_components=2)\n",
    "sc = StandardScaler()\n",
    "x2 = sc.fit_transform(x1)\n",
    "x_pca = pca.fit_transform(x2)\n",
    "\n",
    "# giving a larger plot\n",
    "plt.figure(figsize=(8, 6))\n",
    "\n",
    "plt.scatter(x_pca[:, 0], x_pca[:, 1],\n",
    "            c=y1,\n",
    "            cmap='plasma')\n",
    "\n",
    "# labeling x and y axes\n",
    "plt.xlabel('First Principal Component')\n",
    "plt.ylabel('Second Principal Component')\n",
    "plt.show()\n",
    "\n"
   ]
  },
  {
   "cell_type": "code",
   "execution_count": null,
   "id": "6c861eb7-3e5f-4a46-bae7-7af7356de176",
   "metadata": {},
   "outputs": [],
   "source": [
    "%%script false\n",
    "# computationally intensive\n",
    "# very slow too slow \n",
    "\n",
    "from sklearn.manifold import TSNE\n",
    "import matplotlib.pyplot as plt\n",
    "from sklearn.preprocessing import StandardScaler\n",
    "from imblearn.under_sampling import RandomUnderSampler\n",
    "\n",
    "predictors = fd.getPredictors(dfTrx)\n",
    "\n",
    "undersample = RandomUnderSampler(sampling_strategy=0.01,random_state=42)\n",
    "x1, y1 = undersample.fit_resample(dfTrx[predictors], dfTrx['Class'])\n",
    "\n",
    "\n",
    "sc = StandardScaler()\n",
    "tsne = TSNE(n_components=2, random_state=42)\n",
    "x2 = sc.fit_transform(x1)\n",
    "x_tsne = tsne.fit_transform(x2)\n",
    "\n",
    "# giving a larger plot\n",
    "plt.figure(figsize=(8, 6))\n",
    "\n",
    "plt.scatter(x_tsne[:, 0], x_tsne[:, 1],\n",
    "            c=y1,\n",
    "            cmap='plasma')\n",
    "\n",
    "# labeling x and y axes\n",
    "plt.xlabel('First Principal Component')\n",
    "plt.ylabel('Second Principal Component')\n",
    "plt.show()\n",
    "\n"
   ]
  },
  {
   "cell_type": "code",
   "execution_count": null,
   "id": "693bfbc1-febd-415c-8025-71ac9dfde58b",
   "metadata": {},
   "outputs": [],
   "source": [
    "#%%script false\n",
    "import matplotlib.pyplot as plt\n",
    "from imblearn.under_sampling import RandomUnderSampler\n",
    "import seaborn as sns\n",
    "\n",
    "plt.style.use('fivethirtyeight')\n",
    "sns.set_style(\"white\")\n",
    "rate=500\n",
    "undersample = RandomUnderSampler(sampling_strategy=1/rate,random_state=42)\n",
    "x, y = undersample.fit_resample(dfTrx[['mcd_fraud_score', 'vaa_score', 'trx_amount_log10','distancePrevTrx','Class']], dfTrx[['Class']])\n",
    "\n",
    "sns.pairplot(x[['mcd_fraud_score', 'vaa_score', 'trx_amount_log10','distancePrevTrx','Class']], hue = 'Class' , size=3)"
   ]
  },
  {
   "cell_type": "code",
   "execution_count": null,
   "id": "c7ab59e9-9ed1-4439-9a86-2dcdf6d1345f",
   "metadata": {},
   "outputs": [],
   "source": []
  }
 ],
 "metadata": {
  "kernelspec": {
   "display_name": "Python 3 (ipykernel)",
   "language": "python",
   "name": "python3"
  },
  "language_info": {
   "codemirror_mode": {
    "name": "ipython",
    "version": 3
   },
   "file_extension": ".py",
   "mimetype": "text/x-python",
   "name": "python",
   "nbconvert_exporter": "python",
   "pygments_lexer": "ipython3",
   "version": "3.12.4"
  }
 },
 "nbformat": 4,
 "nbformat_minor": 5
}
