{
 "cells": [
  {
   "cell_type": "code",
   "execution_count": null,
   "id": "7d81b91d-fbf1-4242-a8d5-e80b750be34b",
   "metadata": {},
   "outputs": [],
   "source": [
    "#For Kaggle\n",
    "#date=''\n",
    "\n",
    "#For WL data\n",
    "date='20241118'\n",
    "source='WL'\n",
    "\n",
    "saveImg=False\n",
    "\n",
    "print('done')"
   ]
  },
  {
   "cell_type": "code",
   "execution_count": null,
   "id": "6af3711f-0265-4a23-b3c8-4cd49e3c200c",
   "metadata": {},
   "outputs": [],
   "source": [
    "import sys\n",
    "import os\n",
    "from importlib import reload\n",
    "fpath = os.path.join('..//scripts')\n",
    "sys.path.append(fpath)\n",
    "\n",
    "import warnings\n",
    "warnings.filterwarnings('ignore')\n",
    "\n",
    "#loading internal scripts\n",
    "import frauddetection as fd\n",
    "import sourcedata as sd\n",
    "import dataimport as di\n",
    "import countrymanagement as cm\n",
    "import mccmanagement\n",
    "reload(fd)\n",
    "reload(sd)\n",
    "reload(di)\n",
    "reload(cm)\n",
    "reload(mccmanagement)\n",
    "\n",
    "print('done')"
   ]
  },
  {
   "cell_type": "code",
   "execution_count": null,
   "id": "5c5a7b21-a1cc-491b-abd3-4ea08fe7f9ec",
   "metadata": {},
   "outputs": [],
   "source": [
    "import pandas as pd\n",
    "\n",
    "\n",
    "PATH=\"../data/raw/\"\n",
    "cards = pd.read_csv(PATH+'WLcardIdSummary.csv', sep=\";\")\n",
    "cards.head()"
   ]
  },
  {
   "cell_type": "code",
   "execution_count": null,
   "id": "0e63f70f-232e-469a-b0a8-f1d0b7d04740",
   "metadata": {},
   "outputs": [],
   "source": [
    "import matplotlib.pyplot as plt\n",
    "import seaborn as sns\n",
    "\n",
    "# Creating plot\n",
    "sns.boxplot(data=cards,y='sum_amount')\n",
    "plt.title('Card holder sum amount box plot')\n",
    "\n",
    "# Show the plot\n",
    "if(saveImg):\n",
    "    plt.savefig('../imgs/FD02A-SumAmount-boxplot.png')\n",
    "plt.show()"
   ]
  },
  {
   "cell_type": "code",
   "execution_count": null,
   "id": "99ddb4e1-dfaa-418a-9e4b-8f6f8d398d17",
   "metadata": {},
   "outputs": [],
   "source": [
    "import matplotlib.pyplot as plt\n",
    "\n",
    "# An \"interface\" to matplotlib.axes.Axes.hist() method\n",
    "plt.hist(x=cards['sum_amount'], bins=75, color='#0504aa', alpha=0.7, rwidth=0.85)\n",
    "plt.grid(axis='y', alpha=0.75)\n",
    "plt.xlabel('Value (sum amount')\n",
    "plt.ylabel('Frequency')\n",
    "plt.title('Card holder sum amount histogram')\n",
    "\n",
    "# Show the plot\n",
    "if(saveImg):\n",
    "    plt.savefig('../imgs/FD02A-SumAmount-histogram.png')\n",
    "plt.show()"
   ]
  },
  {
   "cell_type": "code",
   "execution_count": null,
   "id": "3c643d56-497e-4e61-b5b6-b3589bbb189a",
   "metadata": {},
   "outputs": [],
   "source": [
    "import numpy as np\n",
    "\n",
    "cards['sum_amount_log10']=np.log10(1+cards['sum_amount'])\n",
    "\n",
    "# Creating plot\n",
    "sns.boxplot(data=cards,y='sum_amount_log10')\n",
    "plt.title('Card holder log10 sum amount box plot')\n",
    "\n",
    "# Show the plot\n",
    "if(saveImg):\n",
    "    plt.savefig('../imgs/FD02A-SumAmount-log10-boxplot.png')\n",
    "plt.show()"
   ]
  },
  {
   "cell_type": "code",
   "execution_count": null,
   "id": "0ca1cc87-266a-488d-8797-9bb56f61a9b8",
   "metadata": {},
   "outputs": [],
   "source": [
    "import matplotlib.pyplot as plt\n",
    "\n",
    "# An \"interface\" to matplotlib.axes.Axes.hist() method\n",
    "plt.hist(x=cards['sum_amount_log10'], bins=75, color='#0504aa', alpha=0.7, rwidth=0.85)\n",
    "plt.grid(axis='y', alpha=0.75)\n",
    "plt.xlabel('Value (log10 sum amount')\n",
    "plt.ylabel('Frequency')\n",
    "plt.title('Card holder log10 sum amount histogram')\n",
    "\n",
    "# Show the plot\n",
    "if(saveImg):\n",
    "    plt.savefig('../imgs/FD02A-SumAmount-log10-histogram.png')\n",
    "plt.show()"
   ]
  },
  {
   "cell_type": "code",
   "execution_count": null,
   "id": "31d97cd6-7b86-43a6-ac15-dbac7b19e7ec",
   "metadata": {},
   "outputs": [],
   "source": []
  }
 ],
 "metadata": {
  "kernelspec": {
   "display_name": "Python 3 (ipykernel)",
   "language": "python",
   "name": "python3"
  },
  "language_info": {
   "codemirror_mode": {
    "name": "ipython",
    "version": 3
   },
   "file_extension": ".py",
   "mimetype": "text/x-python",
   "name": "python",
   "nbconvert_exporter": "python",
   "pygments_lexer": "ipython3",
   "version": "3.12.4"
  }
 },
 "nbformat": 4,
 "nbformat_minor": 5
}
