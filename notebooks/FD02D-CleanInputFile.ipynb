{
 "cells": [
  {
   "cell_type": "code",
   "execution_count": null,
   "id": "802f6872-70e3-4435-998e-e05ca8c01004",
   "metadata": {},
   "outputs": [],
   "source": [
    "#For Kaggle\n",
    "#date=''\n",
    "\n",
    "#For WL data\n",
    "date='20241118'\n",
    "source='WL'\n",
    "\n",
    "saveImg=False\n",
    "\n",
    "print('done')"
   ]
  },
  {
   "cell_type": "code",
   "execution_count": null,
   "id": "eb06f4d9-c280-4727-a6ca-a917e334f782",
   "metadata": {},
   "outputs": [],
   "source": [
    "import sys\n",
    "import os\n",
    "from importlib import reload\n",
    "fpath = os.path.join('..//scripts')\n",
    "sys.path.append(fpath)\n",
    "\n",
    "import warnings\n",
    "warnings.filterwarnings('ignore')\n",
    "\n",
    "#loading internal scripts\n",
    "import frauddetection as fd\n",
    "import sourcedata as sd\n",
    "import dataimport as di\n",
    "import countrymanagement as cm\n",
    "import mccmanagement\n",
    "reload(fd)\n",
    "reload(sd)\n",
    "reload(di)\n",
    "reload(cm)\n",
    "reload(mccmanagement)\n",
    "\n",
    "print('done')"
   ]
  },
  {
   "cell_type": "code",
   "execution_count": null,
   "id": "99f18295-1c15-4def-85bf-25cae921a753",
   "metadata": {},
   "outputs": [],
   "source": [
    "import dataimport as di\n",
    "import pandas as pd \n",
    "   \n",
    "dfTrx = di.read_file('../data/raw/'+source+'export'+date+'.csv')\n",
    "dfTrx.head(5)"
   ]
  },
  {
   "cell_type": "markdown",
   "id": "b79cb697-0758-4fae-b077-7bf7f0a72242",
   "metadata": {},
   "source": [
    "# Fill missing values"
   ]
  },
  {
   "cell_type": "code",
   "execution_count": null,
   "id": "b3564af2-edbd-4458-88ad-98d81ea76d87",
   "metadata": {},
   "outputs": [],
   "source": [
    "import numpy as np\n",
    "\n",
    "nan_count = dfTrx.isnull().sum()\n",
    "print('Number of NaN values:', nan_count)\n",
    "\n",
    "\n",
    "dfTrx['mcd_fraud_score'].fillna(np.mean(dfTrx['mcd_fraud_score']), inplace=True)\n",
    "dfTrx['vaa_score'].fillna(np.mean(dfTrx['vaa_score']), inplace=True)\n",
    "dfTrx.head()"
   ]
  },
  {
   "cell_type": "markdown",
   "id": "44e7d4d1-0746-4256-8f55-e2a05eaf9136",
   "metadata": {},
   "source": [
    "# Grouping countries"
   ]
  },
  {
   "cell_type": "code",
   "execution_count": null,
   "id": "7c441a60-3d4c-4ee1-84c3-8ca94aa15b34",
   "metadata": {},
   "outputs": [],
   "source": [
    "dfTrx['country_group'] = dfTrx['term_country'].apply(cm.get_country_group)\n",
    "#dfTrx= dfTrx.drop(columns=['term_country'])\n",
    "dfTrx.head()"
   ]
  },
  {
   "cell_type": "markdown",
   "id": "58313c4a-c632-4bae-a69f-805892669ee3",
   "metadata": {},
   "source": [
    "# Grouping MCC"
   ]
  },
  {
   "cell_type": "code",
   "execution_count": null,
   "id": "08eafc4f-e60f-4b30-8532-9680fd8cc26b",
   "metadata": {},
   "outputs": [],
   "source": [
    "dfTrx['mcc_group'] = dfTrx['term_mcc'].apply(mccmanagement.get_mcc_group_citybank)\n",
    "dfTrx['mcc_group'] = np.where(dfTrx.term_mcc.isin([mccmanagement.get_mcc_group_ATM]),'ATM',dfTrx['mcc_group'] )\n",
    "dfTrx['mcc_group'] = np.where(dfTrx.mcc_group.isin(['AGRICULTURAL']), 'OTHER',dfTrx['mcc_group'] )\n",
    "dfTrx['mcc_group'] = np.where(dfTrx.mcc_group.isin(['CONTRACTED_SERVICES']), 'OTHER',dfTrx['mcc_group'] )\n",
    "dfTrx['mcc_group'] = np.where(dfTrx.mcc_group.isin(['AIRLINES']),'OTHER',dfTrx['mcc_group'] )\n",
    "dfTrx['mcc_group'] = np.where(dfTrx.mcc_group.isin(['CAR_RENTAL']), 'OTHER',dfTrx['mcc_group'] )\n",
    "dfTrx['mcc_group'] = np.where(dfTrx.mcc_group.isin(['LODGING']),'OTHER',dfTrx['mcc_group'] )\n",
    "dfTrx['mcc_group'] = np.where(dfTrx.mcc_group.isin(['TRANSPORTATION_SERVICES']), 'OTHER',dfTrx['mcc_group'] )\n",
    "dfTrx['mcc_group'] = np.where(dfTrx.mcc_group.isin(['MISCELLANOUS_STORES']), 'OTHER',dfTrx['mcc_group'] )\n",
    "dfTrx['mcc_group'] = np.where(dfTrx.mcc_group.isin(['BUSINESS_SERVICES']), 'OTHER',dfTrx['mcc_group'] )\n",
    "dfTrx['term_mcc'] = dfTrx['term_mcc'].astype('str')\n",
    "dfTrx.head()"
   ]
  },
  {
   "cell_type": "markdown",
   "id": "2cfa7ac1-17aa-4be9-850b-8659e038c54c",
   "metadata": {},
   "source": [
    "# Fix reversal"
   ]
  },
  {
   "cell_type": "code",
   "execution_count": null,
   "id": "311c0e93-cf67-4c07-a3d9-e45e6a0d0509",
   "metadata": {},
   "outputs": [],
   "source": [
    "dfTrx = di.reversal_fix(dfTrx)\n",
    "dfTrx.head()"
   ]
  },
  {
   "cell_type": "markdown",
   "id": "eeec5ea4-8c7e-485c-ba83-89fd326a5506",
   "metadata": {},
   "source": [
    "# Amount log10 transformation "
   ]
  },
  {
   "cell_type": "code",
   "execution_count": null,
   "id": "30bc1651-6248-4325-88bd-fbb990576752",
   "metadata": {},
   "outputs": [],
   "source": [
    "import numpy as np\n",
    "\n",
    "dfTrx['trx_amount_log10']=np.log10(1+dfTrx['trx_amount'])\n",
    "dfTrx= dfTrx.drop(columns=['trx_amount'])\n",
    "dfTrx.head()"
   ]
  },
  {
   "cell_type": "markdown",
   "id": "512669b7-9dce-4a9a-bd99-eda91aa662c2",
   "metadata": {},
   "source": [
    "# Get card profile"
   ]
  },
  {
   "cell_type": "code",
   "execution_count": null,
   "id": "f101e109-9124-4c4a-bb79-6229ae3d94e1",
   "metadata": {},
   "outputs": [],
   "source": [
    "import pandas as pd\n",
    "\n",
    "dfCardProfile = pd.read_csv('../data/processed/'+'WLCardHolderProfileFull.csv')\n",
    "dfCardProfile.head(5)"
   ]
  },
  {
   "cell_type": "code",
   "execution_count": null,
   "id": "9db0a489-548d-4b70-a013-7d9c09c2711d",
   "metadata": {},
   "outputs": [],
   "source": [
    "print(dfTrx.shape)\n",
    "dfTrx=pd.merge(dfTrx, dfCardProfile, left_on='card_pan_id', \n",
    "               right_on='card_pan_id', how='left')\n",
    "\n",
    "\n",
    "#print(dfTrx.head())\n",
    "print(\"Fix clusterProfile\")\n",
    "print(dfTrx['clusterCardHolder'].value_counts())\n",
    "dfTrx['clusterCardHolder'] = dfTrx['clusterCardHolder'].apply(lambda x: 'UNKNOWN' if pd.isnull(x) == True else x)\n",
    "dfTrx.clusterCardHolder.value_counts()"
   ]
  },
  {
   "cell_type": "markdown",
   "id": "455aee92-a8f0-4701-87d7-7593cc065df7",
   "metadata": {},
   "source": [
    "# Get merchant profile"
   ]
  },
  {
   "cell_type": "code",
   "execution_count": null,
   "id": "dcfbd168-9140-4a58-8799-7ddf3bf9bb68",
   "metadata": {},
   "outputs": [],
   "source": [
    "import pandas as pd\n",
    "\n",
    "dfMerchantProfile = pd.read_csv('../data/processed/'+'WLAcceptorProfile.csv')\n",
    "dfMerchantProfile['term_mcc'] = dfMerchantProfile['term_mcc'].astype('str')\n",
    "dfMerchantProfile.head(5)"
   ]
  },
  {
   "cell_type": "code",
   "execution_count": null,
   "id": "aff3e189-6d78-41f9-950a-1224060272bb",
   "metadata": {},
   "outputs": [],
   "source": [
    "print(dfTrx.shape)\n",
    "dfTrx=pd.merge(dfTrx, dfMerchantProfile, left_on=['acceptor_id','term_mcc','term_country'],\n",
    "                right_on=['acceptor_id','term_mcc','term_country'], how='left')\n",
    "print(dfTrx.shape)\n",
    "print(dfTrx['clusterMerchant'].value_counts())\n",
    "print(\"Fix merchantProfile\")\n",
    "dfTrx['clusterMerchant'] = dfTrx['clusterMerchant'].apply(lambda x: 'UNKNOWN' if pd.isnull(x) == True else x)\n",
    "dfTrx.clusterMerchant.value_counts()"
   ]
  },
  {
   "cell_type": "markdown",
   "id": "545b68c2-4882-4ac0-a20f-848a45668c62",
   "metadata": {},
   "source": [
    "# Ecom or F2F"
   ]
  },
  {
   "cell_type": "code",
   "execution_count": null,
   "id": "9d0349f1-a7cb-4d8a-ba27-35db68fc847a",
   "metadata": {},
   "outputs": [],
   "source": [
    "dfTrx['ecom'] = np.where(dfTrx.card_entry_mode.isin([5,6,9]), 1,0)\n",
    "dfTrx= dfTrx.drop(columns=['card_entry_mode'])\n",
    "\n",
    "dfTrx.ecom.value_counts()"
   ]
  },
  {
   "cell_type": "markdown",
   "id": "02766185-52f8-45de-a6b9-e9a9bd6395cc",
   "metadata": {},
   "source": [
    "# Ecom indicator group"
   ]
  },
  {
   "cell_type": "code",
   "execution_count": null,
   "id": "e7a558e5-1b8c-438b-9bfb-22f051f129b3",
   "metadata": {},
   "outputs": [],
   "source": [
    "dfTrx['ecom_indicator_group'] = np.where(dfTrx.ecom_indicator.isin([2, 61]), 1,0)\n",
    "dfTrx= dfTrx.drop(columns=['ecom_indicator'])"
   ]
  },
  {
   "cell_type": "markdown",
   "id": "4655ceec-7678-49c4-bef6-5cd79d57ba24",
   "metadata": {},
   "source": [
    "# trx_authentication"
   ]
  },
  {
   "cell_type": "code",
   "execution_count": null,
   "id": "5c56c88b-aedb-4ea9-a42a-fe4e0e2d7d6c",
   "metadata": {},
   "outputs": [],
   "source": [
    "dfTrx['trx_authentication_group'] = np.where(dfTrx.trx_authentication.isin(['S']), 1,0)\n",
    "dfTrx= dfTrx.drop(columns=['trx_authentication'])\n"
   ]
  },
  {
   "cell_type": "markdown",
   "id": "da75a9af-442d-4b29-a4a0-4dafaa3ff007",
   "metadata": {},
   "source": [
    "# ch_present"
   ]
  },
  {
   "cell_type": "code",
   "execution_count": null,
   "id": "31a060e6-4529-4f1a-baed-af1281127c83",
   "metadata": {},
   "outputs": [],
   "source": [
    "dfTrx['ch_present_group'] = np.where(dfTrx.ch_present.isin([2, 3, 1, 4]), 1,0)\n",
    "dfTrx= dfTrx.drop(columns=['ch_present'])\n"
   ]
  },
  {
   "cell_type": "markdown",
   "id": "b671dc62-2bd1-4712-89ee-e58e96ec39a9",
   "metadata": {},
   "source": [
    "# trx_response_code"
   ]
  },
  {
   "cell_type": "code",
   "execution_count": null,
   "id": "6aab40d2-3b77-490f-9c7d-8175e0ca8279",
   "metadata": {},
   "outputs": [],
   "source": [
    "\n",
    "\n",
    "dfTrx['trx_response_code_group'] = np.where(dfTrx.trx_response_code.isin(['13', '83', '59', '63', 'N7']), 1,0)\n",
    "dfTrx= dfTrx.drop(columns=['trx_response_code'])"
   ]
  },
  {
   "cell_type": "markdown",
   "id": "98834de4-4253-453e-9e8a-0fca261c4d9f",
   "metadata": {},
   "source": [
    "# pos_entry_mode"
   ]
  },
  {
   "cell_type": "code",
   "execution_count": null,
   "id": "34605714-40cb-4de5-8f43-c5506769972b",
   "metadata": {},
   "outputs": [],
   "source": [
    "dfTrx['pos_entry_mode_group'] = np.where(dfTrx.pos_entry_mode.isin([801, 11, 12, 10, 810, 812, 100]), 1,0)\n",
    "dfTrx= dfTrx.drop(columns=['pos_entry_mode'])"
   ]
  },
  {
   "cell_type": "markdown",
   "id": "887e73e9-dd28-490c-ba3d-b7f340161fdc",
   "metadata": {},
   "source": [
    "# trx_winning_bit"
   ]
  },
  {
   "cell_type": "code",
   "execution_count": null,
   "id": "e054e1e0-0029-4e71-903f-e96f2acdaaad",
   "metadata": {},
   "outputs": [],
   "source": [
    "dfTrx['trx_winning_bit_group'] = np.where(dfTrx.trx_winning_bit.isin([138, 48, 140, 129, 178]), 1,0)\n",
    "dfTrx= dfTrx.drop(columns=['trx_winning_bit'])\n"
   ]
  },
  {
   "cell_type": "markdown",
   "id": "fabb82fd-79d2-4973-8fa9-273bad5d9317",
   "metadata": {},
   "source": [
    "# One hot encoding"
   ]
  },
  {
   "cell_type": "code",
   "execution_count": null,
   "id": "5dbf7dbc-0e86-4f06-b7fb-07d028c831b5",
   "metadata": {},
   "outputs": [],
   "source": [
    "dfTrx=pd.get_dummies(dfTrx,columns=['card_brand','country_group','mcc_group','trx_reversal','clusterCardHolder','clusterMerchant' ], dtype = int)\n",
    "dfTrx.head()"
   ]
  },
  {
   "cell_type": "markdown",
   "id": "284b8923-2750-4668-8ce7-86724c800b3f",
   "metadata": {},
   "source": [
    "# Previous transactions"
   ]
  },
  {
   "cell_type": "code",
   "execution_count": null,
   "id": "c0f529b0-23ab-4624-99ac-81a53dd0df33",
   "metadata": {},
   "outputs": [],
   "source": [
    "\n",
    "dfTrx['previous_trx']=0\n",
    "dfTrx['wordV2']=dfTrx['term_country']+dfTrx['term_mcc']\n",
    "sorted_df = dfTrx.sort_values(by=['card_pan_id','trx_date_time'])\n",
    "\n",
    "sorted_df['card_pan_id1'] = sorted_df['card_pan_id'].shift(-1)\n",
    "sorted_df['wordV2P'] = sorted_df['wordV2'].shift(-1)\n",
    "dfTrx['wordV2P'] = sorted_df['wordV2P']\n",
    "dfTrx['card_pan_id1']=sorted_df['card_pan_id1']\n",
    "\n",
    "sorted_dfTemp=sorted_df[(sorted_df['card_pan_id']==sorted_df['card_pan_id1'])]\n",
    "dfTrx['previous_trx']=np.where(sorted_df.index.isin(sorted_dfTemp.index),1,dfTrx['previous_trx'])\n",
    "\n",
    "dfTrx['distancePrevTrx']=1.1\n",
    "\n",
    "f = open(\"../data/processed/wordV2.txt\", \"r\")\n",
    "text=f.read()\n",
    "\n",
    "import gensim\n",
    "from gensim.models import Word2Vec\n",
    "from nltk.tokenize import sent_tokenize, word_tokenize\n",
    "import warnings \n",
    "warnings.filterwarnings(action='ignore')\n",
    "\n",
    "data = []\n",
    "for i in sent_tokenize(text):\n",
    "    temp = [] \n",
    "    # tokenize the sentence into words\n",
    "    for j in word_tokenize(i):\n",
    "        temp.append(j) \n",
    "    data.append(temp)\n",
    "model = Word2Vec(data,min_count=1,window=2,max_vocab_size=2000000)\n",
    "\n",
    "\n",
    "def word_not_present(wordT,model):\n",
    "    if (wordT in model.wv.key_to_index):\n",
    "        return wordT\n",
    "    else:\n",
    "        #print(wordT)\n",
    "        return 'BEL5411'\n",
    "\n",
    "dfTrx['wordV2'] = dfTrx['wordV2'].apply(lambda x:word_not_present(x,model))\n",
    "dfTrx['wordV2P'] = dfTrx['wordV2P'].apply(lambda x:word_not_present(x,model))\n",
    "\n",
    "def calculDistance(input0,input1,input2,input3,model):\n",
    "    if(input0!=input1):\n",
    "        return 1.1\n",
    "    else:\n",
    "        return model.wv.similarity(input2,input3)\n",
    "    \n",
    "\n",
    "dfTrx['distancePrevTrx']= dfTrx.apply(lambda x: calculDistance(x.card_pan_id,x.card_pan_id1,x.wordV2P,x.wordV2,model), axis=1)\n",
    "\n",
    "\n",
    "dfTrx= dfTrx.drop(columns=['wordV2','wordV2P','card_pan_id1'])\n",
    "dfTrx.head()"
   ]
  },
  {
   "cell_type": "markdown",
   "id": "f594fb6c-4dd7-4d26-beda-c1dc82a6b264",
   "metadata": {},
   "source": [
    "# Trx_cnp (card not present) -> nothing to do\n",
    "# trx_accepted -> nothing to do\n",
    "# TRX_3D_SECURED -> nothing to do but low IV value\n",
    "# Trx_authentication_group (actually s = signature)\n",
    "# ch_present_group"
   ]
  },
  {
   "cell_type": "markdown",
   "id": "8b9fd104-0a5a-4767-977a-41b481ebf50a",
   "metadata": {},
   "source": [
    "# Remove columns"
   ]
  },
  {
   "cell_type": "code",
   "execution_count": null,
   "id": "282e6dfa-c214-45b7-9202-253919d678af",
   "metadata": {},
   "outputs": [],
   "source": [
    "# remove db_uuid?\n",
    "dfTrx= dfTrx.drop(columns=['acceptor_id'])\n",
    "\n",
    "\n",
    "# too low IV ( previous_trx)\n",
    "dfTrx= dfTrx.drop(columns=['previous_trx','magstripe_fallback'])\n",
    "\n",
    "# acceptor_id used for merchant group link\n",
    "\n",
    "# Remove columns with corelation to another or grouping columns\n",
    "dfTrx= dfTrx.drop(columns=['card_brand_VIS'])\n",
    "print(dfTrx.shape)\n",
    "dfTrx.head()\n"
   ]
  },
  {
   "cell_type": "markdown",
   "id": "8cb0cb90-3df7-49cf-a82b-c8437b111b22",
   "metadata": {},
   "source": [
    "# Save clean file"
   ]
  },
  {
   "cell_type": "code",
   "execution_count": null,
   "id": "ae4aab1a-b60b-4c3a-a3fd-76a8c10a843b",
   "metadata": {},
   "outputs": [],
   "source": [
    "dfTrx.to_csv('../data/cleaned/'+source+'export'+date+'.csv', index=False) \n",
    "print('done')"
   ]
  },
  {
   "cell_type": "markdown",
   "id": "bbee6fd0-5d5f-4ef9-91e0-624024b76e4d",
   "metadata": {},
   "source": [
    "# Read saved file"
   ]
  },
  {
   "cell_type": "code",
   "execution_count": null,
   "id": "95b98ccc-58a3-42fc-a307-d1ddeebfbb83",
   "metadata": {},
   "outputs": [],
   "source": [
    "dfTrxSaved = pd.read_csv('../data/cleaned/'+source+'export'+date+'.csv')\n",
    "dfTrxSaved.head(5)"
   ]
  },
  {
   "cell_type": "code",
   "execution_count": null,
   "id": "a569689b-b5db-4715-a7e8-59814c825438",
   "metadata": {
    "scrolled": true
   },
   "outputs": [],
   "source": [
    "import dataimport as di\n",
    "import pandas as pd \n",
    "   \n",
    "dfTrx = di.read_file('../data/raw/'+source+'export'+date+'.csv')\n",
    "dfTrx = di.fill_missing_values(dfTrx)\n",
    "dfTrx = di.category_grouping(dfTrx)\n",
    "dfTrx = di.reversal_fix(dfTrx)\n",
    "dfTrx = di.ecom(dfTrx)\n",
    "dfTrx = di.trx_authentication_group(dfTrx)\n",
    "dfTrx = di.ch_present_group(dfTrx)\n",
    "dfTrx = di.trx_response_code_group(dfTrx)\n",
    "dfTrx = di.pos_entry_mode_group(dfTrx)\n",
    "dfTrx = di.trx_winning_bit_group(dfTrx)\n",
    "dfTrx = di.join_card_holder_profile(dfTrx,'WLCardHolderProfileFull.csv')\n",
    "dfTrx = di.join_merchant_profile(dfTrx,'WLAcceptorProfile.csv')\n",
    "dfTrx = di.category_encoding(dfTrx)\n",
    "dfTrx = di.amount_transformation(dfTrx)\n",
    "dfTrx = di.previous_trx(dfTrx)\n",
    "dfTrx = di.remove_columns(dfTrx)\n",
    "dfTrx.head(5)"
   ]
  },
  {
   "cell_type": "code",
   "execution_count": null,
   "id": "d1b6b347-b5f1-4faa-a2da-ac29e8cfee75",
   "metadata": {},
   "outputs": [],
   "source": [
    "dfTrx = di.full_import_and_clean('../data/raw/'+source+'export'+date+'.csv','WLCardHolderProfileFull.csv','WLAcceptorProfile.csv')\n",
    "dfTrx.to_csv('../data/cleaned/'+source+'export'+date+'.csv', index=False) \n",
    "dfTrxSaved = pd.read_csv('../data/cleaned/'+source+'export'+date+'.csv')\n",
    "print(dfTrxSaved.columns.values)\n",
    "dfTrxSaved.head(5)"
   ]
  },
  {
   "cell_type": "markdown",
   "id": "7d04c459-1888-48f7-8040-ddf1d21cbc6a",
   "metadata": {},
   "source": [
    "# Import file and clean a raw files"
   ]
  },
  {
   "cell_type": "code",
   "execution_count": null,
   "id": "026e034c-8d2a-4f24-823e-74d14e33bc3e",
   "metadata": {},
   "outputs": [],
   "source": [
    "dates =['20241118', '20241119','20241120','20241121','20241125']\n",
    "for date in dates:\n",
    "    print('process',date)\n",
    "    dfTrx = di.full_import_and_clean('../data/raw/'+source+'export'+date+'.csv', 'WLCardHolderProfileFull.csv','WLAcceptorProfile.csv')\n",
    "    dfTrx.to_csv('../data/cleaned/'+source+'export'+date+'.csv', index=False) \n",
    "\n",
    "print('done')\n"
   ]
  },
  {
   "cell_type": "code",
   "execution_count": null,
   "id": "693bfbc1-febd-415c-8025-71ac9dfde58b",
   "metadata": {},
   "outputs": [],
   "source": []
  }
 ],
 "metadata": {
  "kernelspec": {
   "display_name": "Python 3 (ipykernel)",
   "language": "python",
   "name": "python3"
  },
  "language_info": {
   "codemirror_mode": {
    "name": "ipython",
    "version": 3
   },
   "file_extension": ".py",
   "mimetype": "text/x-python",
   "name": "python",
   "nbconvert_exporter": "python",
   "pygments_lexer": "ipython3",
   "version": "3.12.4"
  }
 },
 "nbformat": 4,
 "nbformat_minor": 5
}
