{
 "cells": [
  {
   "cell_type": "markdown",
   "id": "69caa9dd-35ed-4da6-81a1-f4b931640679",
   "metadata": {},
   "source": [
    "# Tech forum 2025 (severe) imbalanced data"
   ]
  },
  {
   "cell_type": "code",
   "execution_count": null,
   "id": "16f93bef-308f-48f3-a279-f7980bbbbdb4",
   "metadata": {},
   "outputs": [],
   "source": []
  }
 ],
 "metadata": {
  "kernelspec": {
   "display_name": "Python 3 (ipykernel)",
   "language": "python",
   "name": "python3"
  },
  "language_info": {
   "codemirror_mode": {
    "name": "ipython",
    "version": 3
   },
   "file_extension": ".py",
   "mimetype": "text/x-python",
   "name": "python",
   "nbconvert_exporter": "python",
   "pygments_lexer": "ipython3",
   "version": "3.12.4"
  }
 },
 "nbformat": 4,
 "nbformat_minor": 5
}
