{
 "cells": [
  {
   "cell_type": "code",
   "execution_count": null,
   "id": "802f6872-70e3-4435-998e-e05ca8c01004",
   "metadata": {},
   "outputs": [],
   "source": [
    "#For Kaggle\n",
    "#date=''\n",
    "\n",
    "#For WL data\n",
    "date='20241118'\n",
    "\n",
    "saveImg=False\n",
    "\n",
    "print('done')"
   ]
  },
  {
   "cell_type": "code",
   "execution_count": null,
   "id": "eb06f4d9-c280-4727-a6ca-a917e334f782",
   "metadata": {},
   "outputs": [],
   "source": [
    "import sys\n",
    "import os\n",
    "from importlib import reload\n",
    "fpath = os.path.join('..//scripts')\n",
    "sys.path.append(fpath)\n",
    "\n",
    "import warnings\n",
    "warnings.filterwarnings('ignore')\n",
    "\n",
    "#loading internal scripts\n",
    "import frauddetection as fd\n",
    "import sourcedata as sd\n",
    "reload(fd)\n",
    "reload(sd)\n",
    "\n",
    "print('done')"
   ]
  },
  {
   "cell_type": "code",
   "execution_count": null,
   "id": "99f18295-1c15-4def-85bf-25cae921a753",
   "metadata": {},
   "outputs": [],
   "source": [
    "import frauddetection as fd\n",
    "import pandas as pd \n",
    "   \n",
    "dfTrx = fd.read_file('../data/raw/'+sd.source+'export'+date+'.csv')\n",
    "dfTrx.head(5)"
   ]
  },
  {
   "cell_type": "markdown",
   "id": "684879e1-8aa6-42f8-90e1-4a717efeee8b",
   "metadata": {},
   "source": [
    "# Remove unless columns"
   ]
  },
  {
   "cell_type": "code",
   "execution_count": null,
   "id": "943f4928-5c8c-43c5-8323-c4094aec5479",
   "metadata": {},
   "outputs": [],
   "source": [
    "# remove db_uuid issuer_id cluster_profile\n",
    "\n",
    "dfTrx2= dfTrx.drop(columns=['db_uuid','issuer_id', 'cluster_profile'])\n",
    "dfTrx2.head()"
   ]
  },
  {
   "cell_type": "markdown",
   "id": "b79cb697-0758-4fae-b077-7bf7f0a72242",
   "metadata": {},
   "source": [
    "# Fill missing values"
   ]
  },
  {
   "cell_type": "code",
   "execution_count": null,
   "id": "b3564af2-edbd-4458-88ad-98d81ea76d87",
   "metadata": {},
   "outputs": [],
   "source": [
    "import numpy as np\n",
    "\n",
    "nan_count = dfTrx2.isnull().sum()\n",
    "print('Number of NaN values:', nan_count)\n",
    "\n",
    "\n",
    "dfTrx2['mcd_fraud_score'].fillna(np.mean(dfTrx2['mcd_fraud_score']), inplace=True)\n",
    "dfTrx2['vaa_score'].fillna(np.mean(dfTrx['vaa_score']), inplace=True)\n",
    "dfTrx2.head()"
   ]
  },
  {
   "cell_type": "code",
   "execution_count": null,
   "id": "ae4aab1a-b60b-4c3a-a3fd-76a8c10a843b",
   "metadata": {},
   "outputs": [],
   "source": []
  }
 ],
 "metadata": {
  "kernelspec": {
   "display_name": "Python 3 (ipykernel)",
   "language": "python",
   "name": "python3"
  },
  "language_info": {
   "codemirror_mode": {
    "name": "ipython",
    "version": 3
   },
   "file_extension": ".py",
   "mimetype": "text/x-python",
   "name": "python",
   "nbconvert_exporter": "python",
   "pygments_lexer": "ipython3",
   "version": "3.12.4"
  }
 },
 "nbformat": 4,
 "nbformat_minor": 5
}
