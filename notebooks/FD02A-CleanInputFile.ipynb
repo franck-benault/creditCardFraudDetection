{
 "cells": [
  {
   "cell_type": "code",
   "execution_count": null,
   "id": "802f6872-70e3-4435-998e-e05ca8c01004",
   "metadata": {},
   "outputs": [],
   "source": [
    "#For Kaggle\n",
    "#date=''\n",
    "\n",
    "#For WL data\n",
    "date='20241118'\n",
    "source='WL'\n",
    "\n",
    "saveImg=False\n",
    "\n",
    "print('done')"
   ]
  },
  {
   "cell_type": "code",
   "execution_count": null,
   "id": "eb06f4d9-c280-4727-a6ca-a917e334f782",
   "metadata": {},
   "outputs": [],
   "source": [
    "import sys\n",
    "import os\n",
    "from importlib import reload\n",
    "fpath = os.path.join('..//scripts')\n",
    "sys.path.append(fpath)\n",
    "\n",
    "import warnings\n",
    "warnings.filterwarnings('ignore')\n",
    "\n",
    "#loading internal scripts\n",
    "import frauddetection as fd\n",
    "import sourcedata as sd\n",
    "import dataimport as di\n",
    "import countrymanagement as cm\n",
    "import mccmanagement\n",
    "reload(fd)\n",
    "reload(sd)\n",
    "reload(di)\n",
    "reload(cm)\n",
    "reload(mccmanagement)\n",
    "\n",
    "print('done')"
   ]
  },
  {
   "cell_type": "code",
   "execution_count": null,
   "id": "99f18295-1c15-4def-85bf-25cae921a753",
   "metadata": {},
   "outputs": [],
   "source": [
    "import dataimport as di\n",
    "import pandas as pd \n",
    "   \n",
    "dfTrx = di.read_file('../data/raw/'+source+'export'+date+'.csv')\n",
    "dfTrx.head(5)"
   ]
  },
  {
   "cell_type": "markdown",
   "id": "684879e1-8aa6-42f8-90e1-4a717efeee8b",
   "metadata": {},
   "source": [
    "# Remove unless columns"
   ]
  },
  {
   "cell_type": "code",
   "execution_count": null,
   "id": "943f4928-5c8c-43c5-8323-c4094aec5479",
   "metadata": {},
   "outputs": [],
   "source": [
    "# remove db_uuid issuer_id cluster_profile\n",
    "\n",
    "dfTrx= dfTrx.drop(columns=['issuer_id', 'cluster_profile'])\n",
    "dfTrx.head()"
   ]
  },
  {
   "cell_type": "markdown",
   "id": "b79cb697-0758-4fae-b077-7bf7f0a72242",
   "metadata": {},
   "source": [
    "# Fill missing values"
   ]
  },
  {
   "cell_type": "code",
   "execution_count": null,
   "id": "b3564af2-edbd-4458-88ad-98d81ea76d87",
   "metadata": {},
   "outputs": [],
   "source": [
    "import numpy as np\n",
    "\n",
    "nan_count = dfTrx.isnull().sum()\n",
    "print('Number of NaN values:', nan_count)\n",
    "\n",
    "\n",
    "dfTrx['mcd_fraud_score'].fillna(np.mean(dfTrx['mcd_fraud_score']), inplace=True)\n",
    "dfTrx['vaa_score'].fillna(np.mean(dfTrx['vaa_score']), inplace=True)\n",
    "dfTrx.head()"
   ]
  },
  {
   "cell_type": "markdown",
   "id": "44e7d4d1-0746-4256-8f55-e2a05eaf9136",
   "metadata": {},
   "source": [
    "# Grouping countries"
   ]
  },
  {
   "cell_type": "code",
   "execution_count": null,
   "id": "7c441a60-3d4c-4ee1-84c3-8ca94aa15b34",
   "metadata": {},
   "outputs": [],
   "source": [
    "dfTrx['country_group'] = dfTrx['term_country'].apply(cm.get_country_group)\n",
    "dfTrx= dfTrx.drop(columns=['term_country'])\n",
    "dfTrx.head()"
   ]
  },
  {
   "cell_type": "markdown",
   "id": "58313c4a-c632-4bae-a69f-805892669ee3",
   "metadata": {},
   "source": [
    "# Grouping MCC"
   ]
  },
  {
   "cell_type": "code",
   "execution_count": null,
   "id": "08eafc4f-e60f-4b30-8532-9680fd8cc26b",
   "metadata": {},
   "outputs": [],
   "source": [
    "dfTrx['mcc_group'] = dfTrx['term_mcc'].apply(mccmanagement.get_mcc_group_ATM)\n",
    "dfTrx= dfTrx.drop(columns=['term_mcc'])\n",
    "dfTrx.head()"
   ]
  },
  {
   "cell_type": "markdown",
   "id": "fabb82fd-79d2-4973-8fa9-273bad5d9317",
   "metadata": {},
   "source": [
    "# One hot encoding"
   ]
  },
  {
   "cell_type": "code",
   "execution_count": null,
   "id": "5dbf7dbc-0e86-4f06-b7fb-07d028c831b5",
   "metadata": {},
   "outputs": [],
   "source": [
    "dfTrx=pd.get_dummies(dfTrx,columns=['card_brand','country_group','mcc_group'], dtype = int)\n",
    "dfTrx.head()"
   ]
  },
  {
   "cell_type": "markdown",
   "id": "8b9fd104-0a5a-4767-977a-41b481ebf50a",
   "metadata": {},
   "source": [
    "# Remove columns not yet managed"
   ]
  },
  {
   "cell_type": "code",
   "execution_count": null,
   "id": "282e6dfa-c214-45b7-9202-253919d678af",
   "metadata": {},
   "outputs": [],
   "source": [
    "dfTrx= dfTrx.drop(columns=['TRX_3D_SECURED','trx_accepted','trx_cnp','trx_response_code','trx_reversal',\n",
    "                             'ecom_indicator','trx_authentication','pos_entry_mode','card_entry_mode','ch_present',\n",
    "                            'card_pan_id'])\n",
    "dfTrx.head()"
   ]
  },
  {
   "cell_type": "markdown",
   "id": "8cb0cb90-3df7-49cf-a82b-c8437b111b22",
   "metadata": {},
   "source": [
    "# Save clean file"
   ]
  },
  {
   "cell_type": "code",
   "execution_count": null,
   "id": "ae4aab1a-b60b-4c3a-a3fd-76a8c10a843b",
   "metadata": {},
   "outputs": [],
   "source": [
    "dfTrx.to_csv('../data/cleaned/'+source+'export'+date+'.csv', index=False) "
   ]
  },
  {
   "cell_type": "markdown",
   "id": "bbee6fd0-5d5f-4ef9-91e0-624024b76e4d",
   "metadata": {},
   "source": [
    "# Read saved file"
   ]
  },
  {
   "cell_type": "code",
   "execution_count": null,
   "id": "95b98ccc-58a3-42fc-a307-d1ddeebfbb83",
   "metadata": {},
   "outputs": [],
   "source": [
    "dfTrxSaved = pd.read_csv('../data/cleaned/'+source+'export'+date+'.csv')\n",
    "dfTrxSaved.head(5)"
   ]
  },
  {
   "cell_type": "code",
   "execution_count": null,
   "id": "a569689b-b5db-4715-a7e8-59814c825438",
   "metadata": {},
   "outputs": [],
   "source": [
    "import dataimport as di\n",
    "import pandas as pd \n",
    "   \n",
    "dfTrx = di.read_file('../data/raw/'+source+'export'+date+'.csv')\n",
    "dfTrx = di.remove_columns(dfTrx)\n",
    "dfTrx = di.fill_missing_values(dfTrx)\n",
    "dfTrx = di.category_grouping(dfTrx)\n",
    "dfTrx = di.category_encoding(dfTrx)\n",
    "dfTrx = di.remove_column_not_yet_managed(dfTrx)\n",
    "dfTrx.head(5)"
   ]
  },
  {
   "cell_type": "code",
   "execution_count": null,
   "id": "d1b6b347-b5f1-4faa-a2da-ac29e8cfee75",
   "metadata": {},
   "outputs": [],
   "source": [
    "dfTrx = di.full_import_and_clean('../data/raw/'+source+'export'+date+'.csv')\n",
    "dfTrx.to_csv('../data/cleaned/'+source+'export'+date+'.csv', index=False) \n",
    "dfTrxSaved = pd.read_csv('../data/cleaned/'+source+'export'+date+'.csv')\n",
    "dfTrxSaved.head(5)"
   ]
  },
  {
   "cell_type": "markdown",
   "id": "7d04c459-1888-48f7-8040-ddf1d21cbc6a",
   "metadata": {},
   "source": [
    "# Import fill and clean a raw files"
   ]
  },
  {
   "cell_type": "code",
   "execution_count": null,
   "id": "026e034c-8d2a-4f24-823e-74d14e33bc3e",
   "metadata": {},
   "outputs": [],
   "source": [
    "dates =['20241118', '20241119','20241120','20241125']\n",
    "for date in dates:\n",
    "    print('process',date)\n",
    "    dfTrx = di.full_import_and_clean('../data/raw/'+source+'export'+date+'.csv')\n",
    "    dfTrx.to_csv('../data/cleaned/'+source+'export'+date+'.csv', index=False) \n",
    "\n",
    "print('done')\n"
   ]
  },
  {
   "cell_type": "code",
   "execution_count": null,
   "id": "693bfbc1-febd-415c-8025-71ac9dfde58b",
   "metadata": {},
   "outputs": [],
   "source": []
  }
 ],
 "metadata": {
  "kernelspec": {
   "display_name": "Python 3 (ipykernel)",
   "language": "python",
   "name": "python3"
  },
  "language_info": {
   "codemirror_mode": {
    "name": "ipython",
    "version": 3
   },
   "file_extension": ".py",
   "mimetype": "text/x-python",
   "name": "python",
   "nbconvert_exporter": "python",
   "pygments_lexer": "ipython3",
   "version": "3.12.4"
  }
 },
 "nbformat": 4,
 "nbformat_minor": 5
}
