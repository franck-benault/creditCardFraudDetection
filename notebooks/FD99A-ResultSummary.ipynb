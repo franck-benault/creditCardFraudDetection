{
 "cells": [
  {
   "cell_type": "code",
   "execution_count": null,
   "id": "f9841171-2bdf-42d9-80bb-b5cd66530fd6",
   "metadata": {},
   "outputs": [],
   "source": [
    "\n",
    "\n",
    "import re\n",
    "import os\n",
    "import numpy as np \n",
    "import pandas as pd \n",
    "from sklearn.svm import SVC\n",
    "import plotly.express as px\n",
    "from sklearn.naive_bayes import MultinomialNB\n",
    "from sklearn.preprocessing import LabelEncoder\n",
    "from sklearn.tree import DecisionTreeClassifier\n",
    "from sklearn.model_selection import GridSearchCV\n",
    "from sklearn.neighbors import KNeighborsClassifier\n",
    "from sklearn.model_selection import train_test_split\n",
    "from imblearn.under_sampling import RandomUnderSampler\n",
    "from sklearn.feature_extraction.text import CountVectorizer\n",
    "from sklearn.linear_model import SGDClassifier, LogisticRegression\n",
    "from sklearn.metrics import recall_score,precision_score,make_scorer\n",
    "from sklearn.ensemble import RandomForestClassifier,AdaBoostClassifier\n",
    "from imblearn.ensemble import BalancedRandomForestClassifier,EasyEnsembleClassifier,RUSBoostClassifier\n",
    "\n",
    "#tableau final resultat\n",
    "\n",
    "f1s = []\n",
    "mccs = []\n",
    "rocs = []\n",
    "packages =[]\n",
    "names = []\n",
    "hyperparams =[]\n",
    "\n",
    "models = [\n",
    "    ('sklearn.dummy','DummyClassifier','strategy=\"most_frequent\"',0.0000,0.0000,0.5000),\n",
    "    ('sklearn.naive_bayes','GaussianNB','-',0.0281, 0.0862,0.7663)\n",
    "         ]\n",
    "\n",
    "for package,name,hyperparam,f1,mcc,roc in models:\n",
    "    packages.append(package)\n",
    "    names.append(name)\n",
    "    hyperparams.append(hyperparam)\n",
    "    f1s.append(f1)\n",
    "    mccs.append(mcc)\n",
    "    rocs.append(roc)\n",
    "\n",
    "pd.DataFrame(data=zip(packages,names,f1s,mccs,rocs),index=names,columns=['package','name','f1','mcc','roc']).style.background_gradient()\n"
   ]
  },
  {
   "cell_type": "code",
   "execution_count": null,
   "id": "ce847b56-431b-4521-a785-5207bac25ba1",
   "metadata": {},
   "outputs": [],
   "source": []
  }
 ],
 "metadata": {
  "kernelspec": {
   "display_name": "Python 3 (ipykernel)",
   "language": "python",
   "name": "python3"
  },
  "language_info": {
   "codemirror_mode": {
    "name": "ipython",
    "version": 3
   },
   "file_extension": ".py",
   "mimetype": "text/x-python",
   "name": "python",
   "nbconvert_exporter": "python",
   "pygments_lexer": "ipython3",
   "version": "3.12.4"
  }
 },
 "nbformat": 4,
 "nbformat_minor": 5
}
