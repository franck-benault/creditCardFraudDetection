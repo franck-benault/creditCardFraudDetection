{
 "cells": [
  {
   "cell_type": "markdown",
   "id": "bbbdc4f0-c70e-491a-9933-6dcd37b5e9ed",
   "metadata": {},
   "source": [
    "# Performance result init test"
   ]
  },
  {
   "cell_type": "code",
   "execution_count": null,
   "id": "bd4b6508-1456-44a0-a0bd-1904b7ef57c4",
   "metadata": {},
   "outputs": [],
   "source": [
    "#For Kaggle\n",
    "#date=''\n",
    "\n",
    "#For WL data\n",
    "source='WL'\n",
    "date='20241118'\n",
    "\n",
    "saveImage=False\n",
    "\n",
    "print('done')"
   ]
  },
  {
   "cell_type": "code",
   "execution_count": null,
   "id": "7621d50c-3293-4034-a301-4922b9161492",
   "metadata": {},
   "outputs": [],
   "source": [
    "import sys\n",
    "import os\n",
    "from importlib import reload\n",
    "fpath = os.path.join('..//scripts')\n",
    "sys.path.append(fpath)\n",
    "\n",
    "import warnings\n",
    "warnings.filterwarnings('ignore')\n",
    "\n",
    "#loading internal scripts\n",
    "import frauddetection as fd\n",
    "import sourcedata as sd\n",
    "import mccmanagement \n",
    "import result\n",
    "\n",
    "reload(fd)\n",
    "reload(sd)\n",
    "reload(mccmanagement)\n",
    "reload(result)\n",
    "\n",
    "print('done')"
   ]
  },
  {
   "cell_type": "code",
   "execution_count": null,
   "id": "1a8533cd-5dad-488b-be9d-6387baf42e81",
   "metadata": {},
   "outputs": [],
   "source": [
    "import pandas as pd \n",
    "\n",
    "timeResponse = result.load_time_response_result()\n",
    "\n",
    "style_test=pd.DataFrame(data=timeResponse, \n",
    "             columns=['Package','Name','Hyperparameters','Learning time']).style.background_gradient(axis='index')\n",
    "style_test.hide(axis=\"index\")\n",
    "\n",
    "import dataframe_image as dfi\n",
    "\n",
    "if(saveImage):\n",
    "    dfi.export(style_test, '../imgs/FD99A-Summary-timeLearning.png',table_conversion = 'matplotlib')\n",
    "\n",
    "style_test"
   ]
  },
  {
   "cell_type": "code",
   "execution_count": null,
   "id": "f9841171-2bdf-42d9-80bb-b5cd66530fd6",
   "metadata": {
    "scrolled": true
   },
   "outputs": [],
   "source": [
    "import pandas as pd \n",
    "\n",
    "performanceTest = result.load_performance_test_result()\n",
    "\n",
    "style_test=pd.DataFrame(data=performanceTest,\n",
    "             columns=['Package','Name','Hyperparameters','F1','Mcc','ROC']).style.background_gradient(axis='index')\n",
    "style_test.hide(axis=\"index\")\n",
    "\n",
    "import dataframe_image as dfi\n",
    "\n",
    "if(saveImage):\n",
    "    dfi.export(style_test, '../imgs/FD99A-Summary-metrics.png',table_conversion = 'matplotlib')\n",
    "\n",
    "style_test"
   ]
  },
  {
   "cell_type": "code",
   "execution_count": null,
   "id": "ce847b56-431b-4521-a785-5207bac25ba1",
   "metadata": {},
   "outputs": [],
   "source": []
  }
 ],
 "metadata": {
  "kernelspec": {
   "display_name": "Python 3 (ipykernel)",
   "language": "python",
   "name": "python3"
  },
  "language_info": {
   "codemirror_mode": {
    "name": "ipython",
    "version": 3
   },
   "file_extension": ".py",
   "mimetype": "text/x-python",
   "name": "python",
   "nbconvert_exporter": "python",
   "pygments_lexer": "ipython3",
   "version": "3.12.4"
  }
 },
 "nbformat": 4,
 "nbformat_minor": 5
}
