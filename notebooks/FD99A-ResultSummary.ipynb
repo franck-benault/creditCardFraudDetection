{
 "cells": [
  {
   "cell_type": "markdown",
   "id": "07144068-d40c-4789-b702-96e1fc7c27fc",
   "metadata": {},
   "source": [
    "# Libraries version used"
   ]
  },
  {
   "cell_type": "code",
   "execution_count": null,
   "id": "9a93b21e-7eeb-4859-ad1e-4509a672cd18",
   "metadata": {},
   "outputs": [],
   "source": [
    "import numpy\n",
    "import pandas\n",
    "import sklearn\n",
    "import imblearn\n",
    "\n",
    "print(\"numpy\",numpy.__version__)\n",
    "print(\"pandas\",pandas.__version__)\n",
    "print(\"sklearn\",sklearn.__version__)\n",
    "print(\"imblearn\",imblearn.__version__)"
   ]
  },
  {
   "cell_type": "markdown",
   "id": "bbbdc4f0-c70e-491a-9933-6dcd37b5e9ed",
   "metadata": {},
   "source": [
    "# Performance result init test"
   ]
  },
  {
   "cell_type": "code",
   "execution_count": null,
   "id": "bd4b6508-1456-44a0-a0bd-1904b7ef57c4",
   "metadata": {},
   "outputs": [],
   "source": [
    "#For Kaggle\n",
    "#date=''\n",
    "\n",
    "#For WL data\n",
    "source='WL'\n",
    "date='20241118'\n",
    "\n",
    "saveImage=False\n",
    "\n",
    "print('done')"
   ]
  },
  {
   "cell_type": "code",
   "execution_count": null,
   "id": "7621d50c-3293-4034-a301-4922b9161492",
   "metadata": {},
   "outputs": [],
   "source": [
    "import sys\n",
    "import os\n",
    "from importlib import reload\n",
    "fpath = os.path.join('..//scripts')\n",
    "sys.path.append(fpath)\n",
    "\n",
    "import warnings\n",
    "warnings.filterwarnings('ignore')\n",
    "\n",
    "#loading internal scripts\n",
    "import frauddetection as fd\n",
    "import sourcedata as sd\n",
    "import mccmanagement \n",
    "import result\n",
    "\n",
    "reload(fd)\n",
    "reload(sd)\n",
    "reload(mccmanagement)\n",
    "reload(result)\n",
    "\n",
    "print('done')"
   ]
  },
  {
   "cell_type": "code",
   "execution_count": null,
   "id": "1a8533cd-5dad-488b-be9d-6387baf42e81",
   "metadata": {},
   "outputs": [],
   "source": [
    "import pandas as pd \n",
    "\n",
    "timeResponse = result.load_time_response_result()\n",
    "\n",
    "timeResponse = timeResponse[ \n",
    "    (timeResponse.ExtraParameters=='2-After tuning')\n",
    "    ]\n",
    "\n",
    "style_test=pd.DataFrame(data=timeResponse, \n",
    "             columns=['Package','Name','ExtraParameters','Learning time']).style.background_gradient(axis='index')\n",
    "style_test.hide(axis=\"index\")\n",
    "\n",
    "import dataframe_image as dfi\n",
    "\n",
    "if(saveImage):\n",
    "    dfi.export(style_test, '../imgs/FD99A-Summary-timeLearning.png',table_conversion = 'matplotlib')\n",
    "\n",
    "styles = [dict(selector=\"caption\",\n",
    "                       props=[(\"text-align\", \"center\"),\n",
    "                              (\"font-size\", \"200%\"),\n",
    "                              (\"color\", 'black')])]\n",
    "\n",
    "style_test.set_caption(\"Learning time in seconds\").set_table_styles(styles)\n",
    "\n",
    "style_test"
   ]
  },
  {
   "cell_type": "code",
   "execution_count": null,
   "id": "f9841171-2bdf-42d9-80bb-b5cd66530fd6",
   "metadata": {
    "scrolled": true
   },
   "outputs": [],
   "source": [
    "import pandas as pd \n",
    "\n",
    "performanceTest = result.load_performance_test_result()\n",
    "\n",
    "style_test=pd.DataFrame(data=performanceTest,\n",
    "             columns=['Package','Name','ExtraParameters','F1','Mcc','ROC']).style.background_gradient(axis='index')\n",
    "style_test.hide(axis=\"index\")\n",
    "\n",
    "import dataframe_image as dfi\n",
    "\n",
    "if(saveImage):\n",
    "    dfi.export(style_test, '../imgs/FD99A-Summary-metrics.png',table_conversion = 'matplotlib')\n",
    "\n",
    "style_test"
   ]
  },
  {
   "cell_type": "code",
   "execution_count": null,
   "id": "ce847b56-431b-4521-a785-5207bac25ba1",
   "metadata": {
    "scrolled": true
   },
   "outputs": [],
   "source": [
    "import pandas as pd \n",
    "\n",
    "performanceTest = result.load_performance_nextdays_result()\n",
    "\n",
    "style_test=pd.DataFrame(data=performanceTest,\n",
    "             columns=['Package','Name','ExtraParameters','F1 Day1','F1 Day2','F1 Day3', 'F1 Day4','ROC Day1','ROC Day2','ROC Day3', 'ROC Day4','DiffF1']).style.background_gradient(axis='index')\n",
    "style_test.hide(axis=\"index\")\n",
    "\n",
    "import dataframe_image as dfi\n",
    "\n",
    "if(saveImage):\n",
    "    dfi.export(style_test, '../imgs/FD99A-Summary-nextdays.png',table_conversion = 'matplotlib')\n",
    "\n",
    "style_test"
   ]
  },
  {
   "cell_type": "code",
   "execution_count": null,
   "id": "d853b7bd-1fc2-429d-9754-31a5dca77052",
   "metadata": {},
   "outputs": [],
   "source": [
    "import pandas as pd \n",
    "\n",
    "usecols = ['Package','Name','Conclusion','Comment']\n",
    "conclusion = pd.read_csv(\"../data/results/conclusion.csv\", usecols=usecols)\n",
    "conclusion=conclusion.sort_values([\"Package\", \"Name\"])\n",
    "\n",
    "\n",
    "style_test=pd.DataFrame(data=conclusion,\n",
    "             columns=['Package','Name','Conclusion','Comment']).style.background_gradient(axis='index')\n",
    "style_test.hide(axis=\"index\")\n",
    "\n",
    "import dataframe_image as dfi\n",
    "\n",
    "if(saveImage):\n",
    "    dfi.export(style_test, '../imgs/FD99A-Conclusie.png',table_conversion = 'matplotlib')\n",
    "\n",
    "style_test"
   ]
  },
  {
   "cell_type": "code",
   "execution_count": null,
   "id": "c97701db-1456-48b0-9b7e-4374365f0a5e",
   "metadata": {},
   "outputs": [],
   "source": [
    "import pandas as pd \n",
    "import dataframe_image as dfi\n",
    "\n",
    "featureIV = result.load_features_IV_result()\n",
    "style_test=pd.DataFrame(data=featureIV,\n",
    "             columns=['Feature', 'IV']).style.background_gradient(axis='index')\n",
    "style_test.hide(axis=\"index\")\n",
    "\n",
    "\n",
    "if(saveImage):\n",
    "    dfi.export(style_test, '../imgs/FD99A-FeaturesIV.png',table_conversion = 'matplotlib')\n",
    "\n",
    "style_test"
   ]
  },
  {
   "cell_type": "code",
   "execution_count": null,
   "id": "ed490c42-a5a8-48a7-9077-b383d7f3fee7",
   "metadata": {
    "scrolled": true
   },
   "outputs": [],
   "source": [
    "import numpy as np\n",
    "\n",
    "data=result.load_performance_nextdays_result()\n",
    "\n",
    "data['f1']=np.around((data['F1 Day2']+data['F1 Day3']+data['F1 Day4'])/3, decimals=3)\n",
    "\n",
    "data = data[['Name','ExtraParameters','f1']]\n",
    "data = data[ \n",
    "    (data.Name!='BaggingClassifier')\n",
    "    & (data.Name!='BalancedRandomForestClassifier')\n",
    "    & (data.Name!='EasyEnsembleClassifier')\n",
    "    & (data.Name!='CatBoostClassifier')\n",
    "    & (data.Name!='XGBClassifier')\n",
    "    & (data.Name!='ExtraTreesClassifier')\n",
    "\n",
    "    #& (data.Name!='GradientBoostingClassifier')\n",
    "    ]\n",
    "#data\n",
    "res = pd.crosstab(data['ExtraParameters'], data['Name'], values=data['f1'], aggfunc='mean')\n",
    "style_test=res.style.background_gradient(axis='index')\n",
    "\n",
    "styles = [dict(selector=\"caption\",\n",
    "                       props=[(\"text-align\", \"center\"),\n",
    "                              (\"font-size\", \"200%\"),\n",
    "                              (\"color\", 'black')])]\n",
    "\n",
    "style_test.set_caption(\"F1 result\").set_table_styles(styles)\n",
    "#dfi.export(style_test, '../imgs/temp.png',table_conversion = 'matplotlib')\n",
    "\n",
    "style_test"
   ]
  },
  {
   "cell_type": "code",
   "execution_count": null,
   "id": "c33947d1-3d05-4772-8aa6-e0e23bba3a4b",
   "metadata": {
    "scrolled": true
   },
   "outputs": [],
   "source": [
    "data=result.load_hyperparameter_config_result()\n",
    "\n",
    "data = data[ \n",
    "     (data.Name!='ExtraTreesClassifier')\n",
    "   ]\n",
    "\n",
    "\n",
    "#data\n",
    "pd.options.display.float_format = '{:.0f}%'.format\n",
    "res = pd.crosstab(data['ExtraParameters'], data['Name'], values=data['max_depth'], aggfunc='mean')\n",
    "\n",
    "style_test=res.style.background_gradient(axis='index')\n",
    "styles = [dict(selector=\"caption\",\n",
    "                       props=[(\"text-align\", \"center\"),\n",
    "                              (\"font-size\", \"150%\"),\n",
    "                              (\"color\", 'black')])]\n",
    "\n",
    "style_test.set_caption(\"Max depth following the sampling method and the algorithm\").set_table_styles(styles)\n",
    "#dfi.export(style_test, '../imgs/temp.png',table_conversion = 'matplotlib')\n",
    "style_test"
   ]
  },
  {
   "cell_type": "code",
   "execution_count": null,
   "id": "bdffb693-86c1-475b-8333-53bf88fa95f9",
   "metadata": {},
   "outputs": [],
   "source": [
    "data=result.load_hyperparameter_config_result()\n",
    "\n",
    "data = data[ \n",
    "     (data.Name!='ExtraTreesClassifier')\n",
    "   ]\n",
    "\n",
    "#data\n",
    "pd.options.display.float_format = '{:.0f}%'.format\n",
    "res = pd.crosstab(data['ExtraParameters'], data['Name'], values=data['n_estimators'], aggfunc='mean')\n",
    "\n",
    "style_test=res.style.background_gradient(axis='index')\n",
    "style_test"
   ]
  },
  {
   "cell_type": "code",
   "execution_count": null,
   "id": "a4f19f6c-fa11-4209-916d-0d5b509e185d",
   "metadata": {},
   "outputs": [],
   "source": [
    "import numpy as np\n",
    "\n",
    "data=result.load_performance_nextdays_result()\n",
    "\n",
    "\n",
    "\n",
    "data = data[['Name','ExtraParameters','DiffF1']]\n",
    "data = data[ \n",
    "    (data.Name!='BaggingClassifier')\n",
    "    & (data.Name!='BalancedRandomForestClassifier')\n",
    "    & (data.Name!='EasyEnsembleClassifier')\n",
    "    & (data.Name!='CatBoostClassifier')\n",
    "    & (data.Name!='XGBClassifier')\n",
    "    & (data.Name!='ExtraTreesClassifier')\n",
    "\n",
    "    #& (data.Name!='GradientBoostingClassifier')\n",
    "    ]\n",
    "#data\n",
    "res = pd.crosstab(data['ExtraParameters'], data['Name'], values=data['DiffF1'], aggfunc='mean')\n",
    "style_test=res.style.background_gradient(axis='index')\n",
    "\n",
    "styles = [dict(selector=\"caption\",\n",
    "                       props=[(\"text-align\", \"center\"),\n",
    "                              (\"font-size\", \"200%\"),\n",
    "                              (\"color\", 'black')])]\n",
    "\n",
    "style_test.set_caption(\"Diff F1 Train F1 Test (overfitting check)\").set_table_styles(styles)\n",
    "#dfi.export(style_test, '../imgs/temp.png',table_conversion = 'matplotlib')\n",
    "\n",
    "style_test"
   ]
  },
  {
   "cell_type": "code",
   "execution_count": null,
   "id": "8c3d3b0f-2db7-491c-a3e9-34ca21054993",
   "metadata": {},
   "outputs": [],
   "source": []
  },
  {
   "cell_type": "code",
   "execution_count": null,
   "id": "b15fbc85-e11d-46b8-97c0-21e2e3cdbdf0",
   "metadata": {},
   "outputs": [],
   "source": []
  }
 ],
 "metadata": {
  "kernelspec": {
   "display_name": "Python 3 (ipykernel)",
   "language": "python",
   "name": "python3"
  },
  "language_info": {
   "codemirror_mode": {
    "name": "ipython",
    "version": 3
   },
   "file_extension": ".py",
   "mimetype": "text/x-python",
   "name": "python",
   "nbconvert_exporter": "python",
   "pygments_lexer": "ipython3",
   "version": "3.12.4"
  }
 },
 "nbformat": 4,
 "nbformat_minor": 5
}
