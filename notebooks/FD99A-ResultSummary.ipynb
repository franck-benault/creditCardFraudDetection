{
 "cells": [
  {
   "cell_type": "markdown",
   "id": "bbbdc4f0-c70e-491a-9933-6dcd37b5e9ed",
   "metadata": {},
   "source": [
    "# Performance result init test"
   ]
  },
  {
   "cell_type": "code",
   "execution_count": null,
   "id": "bd4b6508-1456-44a0-a0bd-1904b7ef57c4",
   "metadata": {},
   "outputs": [],
   "source": [
    "#For Kaggle\n",
    "#date=''\n",
    "\n",
    "#For WL data\n",
    "source='WL'\n",
    "date='20241118'\n",
    "\n",
    "saveImage=False\n",
    "\n",
    "print('done')"
   ]
  },
  {
   "cell_type": "code",
   "execution_count": null,
   "id": "1a8533cd-5dad-488b-be9d-6387baf42e81",
   "metadata": {},
   "outputs": [],
   "source": [
    "import pandas as pd \n",
    "\n",
    "models = [\n",
    "    (1,'sklearn.dummy','DummyClassifier','strategy=\"most_frequent\"',0.07),\n",
    "    (2,'sklearn.naive_bayes','GaussianNB','-',2.2),\n",
    "    (3,'sklearn.ensemble','AdaBoostClassifier','Default',60.6),\n",
    "    (4,'sklearn.ensemble','AdaBoostClassifier','After tunning',27.8),\n",
    "    (5,'xgboost','XGBClassifier','Default',6.1),\n",
    "    (6,'xgboost','XGBClassifier','After tunning',36.9),\n",
    "    (7,'imblearn.ensemble','EasyEnsembleClassifier','Default',42.9)\n",
    "] \n",
    "index=[]\n",
    "packages =[]\n",
    "names = []\n",
    "hyperparams =[]\n",
    "learningTimes =[]\n",
    "\n",
    "for nb,package,name,hyperparam,learningTime in models:\n",
    "    index.append(nb)\n",
    "    packages.append(package)\n",
    "    names.append(name)\n",
    "    hyperparams.append(hyperparam),\n",
    "    learningTimes.append(learningTime)\n",
    "\n",
    "style_test=pd.DataFrame(data=zip(packages,names, hyperparams, learningTimes),\n",
    "             index=index,columns=['Package','Name','Hyperparamters','Learning time']).style.background_gradient()\n",
    "\n",
    "import dataframe_image as dfi\n",
    "\n",
    "if(saveImage):\n",
    "    dfi.export(style_test, '../imgs/FD99A-Summary-timeLearning.png')\n",
    "\n",
    "style_test"
   ]
  },
  {
   "cell_type": "code",
   "execution_count": null,
   "id": "f9841171-2bdf-42d9-80bb-b5cd66530fd6",
   "metadata": {},
   "outputs": [],
   "source": [
    "import pandas as pd \n",
    "\n",
    "#tableau final resultat\n",
    "\n",
    "index =[]\n",
    "f1s = []\n",
    "mccs = []\n",
    "rocs = []\n",
    "packages =[]\n",
    "names = []\n",
    "hyperparams =[]\n",
    "\n",
    "models = [\n",
    "    (1,'sklearn.dummy','DummyClassifier','strategy=\"most_frequent\"',0.0000,0.0000,0.5000),\n",
    "    (2,'sklearn.dummy','DummyClassifier','strategy=\"uniform\"',0.0024,0.0039,0.5303),\n",
    "    (3,'sklearn.dummy','DummyClassifier','strategy=\"stratified\"',0.0000,-0.0011,0.4994),\n",
    "    (4,'sklearn.naive_bayes','GaussianNB','-',0.0189, 0.0734,0.7936),\n",
    "    (5,'sklearn.ensemble','AdaBoostClassifier','Default',0.0078,0.0109,0.5022),\n",
    "    (6,'sklearn.ensemble','AdaBoostClassifier','After tunning',0.0154,0.0219,0.5044),\n",
    "    (7,'xgboost','XGBClassifier','Default',0.0816,0.1425,0.5224),\n",
    "    (8,'xgboost','XGBClassifier','After tunning',0.1286,0.1592,0.5403),\n",
    "    (9,'imblearn.ensemble','EasyEnsembleClassifier','Default',0.0152,0.0741,0.8660)\n",
    "]\n",
    "\n",
    "for i,package,name,hyperparam,f1,mcc,roc in models:\n",
    "    index.append(i)\n",
    "    packages.append(package)\n",
    "    names.append(name)\n",
    "    hyperparams.append(hyperparam)\n",
    "    f1s.append(f1)\n",
    "    mccs.append(mcc)\n",
    "    rocs.append(roc)\n",
    "\n",
    "style_test=pd.DataFrame(data=zip(packages,names,f1s,mccs,rocs),\n",
    "             index=index,columns=['Package','Name','F1','Mcc','ROC']).style.background_gradient()\n",
    "\n",
    "import dataframe_image as dfi\n",
    "\n",
    "if(saveImage):\n",
    "    dfi.export(style_test, '../imgs/FD99A-Summary-metrics.png')\n",
    "\n",
    "style_test"
   ]
  },
  {
   "cell_type": "code",
   "execution_count": null,
   "id": "ce847b56-431b-4521-a785-5207bac25ba1",
   "metadata": {},
   "outputs": [],
   "source": []
  }
 ],
 "metadata": {
  "kernelspec": {
   "display_name": "Python 3 (ipykernel)",
   "language": "python",
   "name": "python3"
  },
  "language_info": {
   "codemirror_mode": {
    "name": "ipython",
    "version": 3
   },
   "file_extension": ".py",
   "mimetype": "text/x-python",
   "name": "python",
   "nbconvert_exporter": "python",
   "pygments_lexer": "ipython3",
   "version": "3.12.4"
  }
 },
 "nbformat": 4,
 "nbformat_minor": 5
}
