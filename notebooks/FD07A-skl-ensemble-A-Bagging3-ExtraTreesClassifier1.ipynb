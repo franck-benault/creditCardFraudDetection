{
 "cells": [
  {
   "cell_type": "markdown",
   "id": "2d754aef-0c61-4f95-84c0-b8330c56d67b",
   "metadata": {},
   "source": [
    "# Extra Trees classifier introduction\n",
    "* this is  a ensemble bagging  method coming from sklearn\n",
    "\n"
   ]
  },
  {
   "cell_type": "code",
   "execution_count": null,
   "id": "6b9e922f-84cb-4556-a6d9-dea7ce222301",
   "metadata": {},
   "outputs": [],
   "source": [
    "#For Kaggle\n",
    "#date=''\n",
    "\n",
    "#For WL data\n",
    "source='WL'\n",
    "date='20241118'\n",
    "\n",
    "saveImage=False\n",
    "\n",
    "packageName='07-sklearn.ensemble.a-bagging'\n",
    "classifierName='ExtraTreesClassifier'\n",
    "extraParameterName='1-Default'\n",
    "\n",
    "print('done')"
   ]
  },
  {
   "cell_type": "code",
   "execution_count": null,
   "id": "53106652-5d8c-4b52-8d38-a65e992b1abe",
   "metadata": {},
   "outputs": [],
   "source": [
    "import sys\n",
    "import os\n",
    "from importlib import reload\n",
    "fpath = os.path.join('..//scripts')\n",
    "sys.path.append(fpath)\n",
    "\n",
    "import warnings\n",
    "warnings.filterwarnings('ignore')\n",
    "\n",
    "#loading internal scripts\n",
    "import frauddetection as fd\n",
    "import sourcedata as sd\n",
    "import dataimport as di\n",
    "import result as resultMd\n",
    "reload(fd)\n",
    "reload(sd)\n",
    "reload(di)\n",
    "reload(resultMd)\n",
    "\n",
    "print('done')"
   ]
  },
  {
   "cell_type": "code",
   "execution_count": null,
   "id": "759e33f2-08d6-42f1-8f7f-9ebed8c82d4d",
   "metadata": {},
   "outputs": [],
   "source": [
    "# Hyperparameters Results\n",
    "\n",
    "n_estimatorsFound=115\n",
    "max_depthFound=37\n",
    "min_samples_splitFound=2\n",
    "min_samples_leafFound=1\n",
    "\n",
    "resultMd.update_hyperparameter_config_result(packageName,classifierName,extraParameterName,max_depthFound,n_estimatorsFound)\n",
    "\n",
    "print('done')"
   ]
  },
  {
   "cell_type": "code",
   "execution_count": null,
   "id": "5a6f119e-bb6e-4236-88de-526cb617e9ec",
   "metadata": {},
   "outputs": [],
   "source": [
    "import pandas as pd\n",
    "\n",
    "dfTrx = pd.read_csv('../data/cleaned/'+source+'export'+date+'.csv')\n",
    "dfTrx.head(5)"
   ]
  },
  {
   "cell_type": "markdown",
   "id": "d50b4b4b-05dc-4db9-b6f3-26133ac817e6",
   "metadata": {},
   "source": [
    "# Test with default hyperparameters"
   ]
  },
  {
   "cell_type": "code",
   "execution_count": null,
   "id": "3f9c75f3-9d3a-45dd-a778-abbe0e12efc6",
   "metadata": {},
   "outputs": [],
   "source": [
    "from sklearn.ensemble import ExtraTreesClassifier\n",
    "import matplotlib.pyplot as plt\n",
    "from datetime import datetime\n",
    "\n",
    "then= datetime.now()\n",
    "predictors = fd.getPredictors(dfTrx)\n",
    "\n",
    "x_train, x_test, y_train, y_test, scaler =fd.split_data(dfTrx,predictors)\n",
    "\n",
    "modelClf = ExtraTreesClassifier(random_state=42)\n",
    "modelClf.fit(x_train, y_train)\n",
    "predsTrain = modelClf.predict(x_train)\n",
    "predsTest = modelClf.predict(x_test)\n",
    "\n",
    "now = datetime.now()\n",
    "duration= now - then\n",
    "duration_in_s = duration.total_seconds()\n",
    "print(\"Duration \",duration_in_s)\n",
    "resultMd.update_time_response_result('07-sklearn.ensemble.a-bagging','ExtraTreesClassifier','1-Default', duration_in_s)\n",
    "f1,mcc,roc=fd.print_scores(y_test, predsTest,'all')\n",
    "resultMd.update_performance_test_result('07-sklearn.ensemble-a-bagging','ExtraTreesClassifier','1-Default', f1,mcc,roc)\n",
    "\n",
    "fd.print_scores(y_train, predsTrain,'f1', False)\n",
    "fd.print_scores(y_test, predsTest,'f1')\n",
    "fd.show_importance(modelClf, predictors)\n",
    "fd.show_confusion_matrix(y_test, predsTest)\n"
   ]
  },
  {
   "cell_type": "code",
   "execution_count": null,
   "id": "f7e184e6-d026-45a6-90d7-e7bdf0fe9caa",
   "metadata": {},
   "outputs": [],
   "source": [
    "import numpy as np\n",
    "\n",
    "depth=[]\n",
    "for tree in modelClf.estimators_:\n",
    "    depth=np.append(depth, tree.get_depth())\n",
    "print(np.max(depth))"
   ]
  },
  {
   "cell_type": "markdown",
   "id": "4536e2ed-26d5-4cea-9be1-a73749aa9b40",
   "metadata": {},
   "source": [
    "# Scaling choice\n",
    "with ensemble algorithm the scaling has no influence"
   ]
  },
  {
   "cell_type": "markdown",
   "id": "79818645-df0a-44ed-91cd-68b87bca2cde",
   "metadata": {},
   "source": [
    "# Hyperparameters tuning"
   ]
  },
  {
   "cell_type": "code",
   "execution_count": null,
   "id": "921039dc-bfb5-4eab-b9c1-885d5605fa55",
   "metadata": {},
   "outputs": [],
   "source": [
    "%%script false\n",
    "\n",
    "from sklearn.ensemble import ExtraTreesClassifier\n",
    "from scipy.stats import randint\n",
    "\n",
    "modelClf = ExtraTreesClassifier(random_state=42)\n",
    "dic_param={\n",
    "    'n_estimators': randint(90,130),\n",
    "    'max_depth': randint(15,39),\n",
    "    'min_samples_leaf': [1],\n",
    "    'min_samples_split': [2]\n",
    "}\n",
    "res=fd.hyperparameterSelectionRandomizedSearchCV(modelClf, dic_param, 'f1', dfTrx, predictors, [], None,iter=5)\n",
    "print(res)\n",
    "\n",
    "#{'max_depth': 30, 'min_samples_leaf': 1, 'min_samples_split': 2, 'n_estimators': 108}\n",
    "#0.24912232751316427\n",
    "#score   0.9150599270453361\n",
    "#scoref1 0.9150599270453361\n",
    "\n",
    "#{'max_depth': 29, 'min_samples_leaf': 1, 'min_samples_split': 2, 'n_estimators': 97}\n",
    "#0.2519035584310886\n",
    "#score   0.8960763520678685\n",
    "#scoref1 0.8960763520678685\n",
    "\n",
    "#{'max_depth': 35, 'min_samples_leaf': 1, 'min_samples_split': 2, 'n_estimators': 119}\n",
    "#0.2684369780790882\n",
    "#score   0.9663032705649157\n"
   ]
  },
  {
   "cell_type": "code",
   "execution_count": null,
   "id": "78b0cba8-6444-4c91-a313-66c1d4e7e87e",
   "metadata": {},
   "outputs": [],
   "source": [
    "%%script false\n",
    "from sklearn.ensemble import ExtraTreesClassifier\n",
    "\n",
    "modelClf = ExtraTreesClassifier(random_state=42)\n",
    "\n",
    "dic_param={\n",
    "    'n_estimators': [114,115,116,117,118],\n",
    "    'max_depth': [35,36,37,38,39],\n",
    "    'min_samples_leaf': [1],\n",
    "    'min_samples_split': [2]\n",
    "}\n",
    "res=fd.hyperparameterSelectionGridSearchCV(modelClf, dic_param, 'f1', dfTrx, predictors, [], None)\n",
    "print(res)\n",
    "\n",
    "#{'max_depth': 29, 'min_samples_leaf': 1, 'min_samples_split': 2, 'n_estimators': 120}\n",
    "#0.2537067302221238\n",
    "#scoref1 0.8949044585987261\n",
    "\n",
    "#{'max_depth': 37, 'min_samples_leaf': 1, 'min_samples_split': 2, 'n_estimators': 118}\n",
    "#0.2735579082959772\n",
    "#scoref1 0.9754178957718781\n",
    "\n",
    "#{'max_depth': 37, 'min_samples_leaf': 1, 'min_samples_split': 2, 'n_estimators': 116}\n",
    "#0.2738991148336759\n",
    "#scoref1 0.9754178957718781\n",
    "\n",
    "#{'max_depth': 37, 'min_samples_leaf': 1, 'min_samples_split': 2, 'n_estimators': 115}\n",
    "#0.27559378583252736\n",
    "#scoref1 0.9754178957718781\n",
    "\n"
   ]
  },
  {
   "cell_type": "code",
   "execution_count": null,
   "id": "56ae1be4-a998-4ad9-8cd0-131e5ce3af52",
   "metadata": {},
   "outputs": [],
   "source": [
    "from sklearn.ensemble import ExtraTreesClassifier\n",
    "import matplotlib.pyplot as plt\n",
    "from datetime import datetime\n",
    "\n",
    "then= datetime.now()\n",
    "predictors = fd.getPredictors(dfTrx)\n",
    "\n",
    "x_train, x_test, y_train, y_test, scaler =fd.split_data(dfTrx,predictors)\n",
    "\n",
    "modelClf = ExtraTreesClassifier(random_state=42)\n",
    "parameters={'n_estimators':n_estimatorsFound,\n",
    "    'max_depth': max_depthFound, \n",
    "            'min_samples_leaf': min_samples_leafFound, \n",
    "            'min_samples_split': min_samples_splitFound,\n",
    "           }\n",
    "\n",
    "modelClf.set_params(**parameters)\n",
    "\n",
    "modelClf.fit(x_train, y_train)\n",
    "predsTrain = modelClf.predict(x_train)\n",
    "predsTest = modelClf.predict(x_test)\n",
    "\n",
    "now = datetime.now()\n",
    "duration= now - then\n",
    "duration_in_s = duration.total_seconds()\n",
    "print(\"Duration \",duration_in_s)\n",
    "resultMd.update_time_response_result('07-sklearn.ensemble.a-bagging','ExtraTreesClassifier','2-After tuning', duration_in_s)\n",
    "f1,mcc,roc=fd.print_scores(y_test, predsTest,'all')\n",
    "resultMd.update_performance_test_result('07-sklearn.ensemble.a-bagging','ExtraTreesClassifier','2-After tuning', f1,mcc,roc)\n",
    "\n",
    "fd.print_scores(y_train, predsTrain,'f1', False)\n",
    "fd.print_scores(y_test, predsTest,'f1')\n",
    "fd.show_importance(modelClf, predictors)\n",
    "fd.show_confusion_matrix(y_test, predsTest)\n",
    "fd.show_prediction_graph(modelClf, x_test,y_test,'../imgs/FD07A-BaggingClassifierClassifierProbaHistogram' if saveImage else None)\n",
    "\n"
   ]
  },
  {
   "cell_type": "code",
   "execution_count": null,
   "id": "9e8d9491-f833-4537-9a65-076404bde78c",
   "metadata": {},
   "outputs": [],
   "source": [
    "files = fd.getAllFiles()\n",
    "\n",
    "range = []\n",
    "f1s = []\n",
    "rocs = []\n",
    "loop =0\n",
    "for file in files:\n",
    "    loop=loop+1\n",
    "    range.append(loop)\n",
    "    print(file)\n",
    "  \n",
    "    dfTrx = pd.read_csv('../data/cleaned/'+source+file)\n",
    "    predictors = fd.getPredictors(dfTrx)\n",
    "\n",
    "    preds = modelClf.predict(dfTrx[predictors])\n",
    "\n",
    "    f1,mcc,roc= fd.print_scores(dfTrx['Class'], preds,'All', True)\n",
    "    #fd.show_importance(modelClf,predictors)\n",
    "    fd.show_confusion_matrix(dfTrx['Class'], preds)\n",
    "    f1s.append(f1)\n",
    "    rocs.append(roc)\n",
    "\n",
    "fd.plt_train_test(range, f1s)\n",
    "resultMd.update_performance_nextdays_result(packageName,classifierName,extraParameterName, f1s[0],f1s[1],f1s[2],f1s[3],rocs[0],rocs[1],rocs[2],rocs[3])\n",
    "\n"
   ]
  },
  {
   "cell_type": "code",
   "execution_count": null,
   "id": "c0873f93-7127-4739-9309-f50696481a2c",
   "metadata": {},
   "outputs": [],
   "source": []
  }
 ],
 "metadata": {
  "kernelspec": {
   "display_name": "Python 3 (ipykernel)",
   "language": "python",
   "name": "python3"
  },
  "language_info": {
   "codemirror_mode": {
    "name": "ipython",
    "version": 3
   },
   "file_extension": ".py",
   "mimetype": "text/x-python",
   "name": "python",
   "nbconvert_exporter": "python",
   "pygments_lexer": "ipython3",
   "version": "3.12.4"
  }
 },
 "nbformat": 4,
 "nbformat_minor": 5
}
