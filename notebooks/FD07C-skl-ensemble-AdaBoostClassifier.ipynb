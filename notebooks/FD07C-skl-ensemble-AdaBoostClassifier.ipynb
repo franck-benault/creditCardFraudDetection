{
 "cells": [
  {
   "cell_type": "code",
   "execution_count": null,
   "id": "6b9e922f-84cb-4556-a6d9-dea7ce222301",
   "metadata": {},
   "outputs": [],
   "source": [
    "#For Kaggle\n",
    "#date=''\n",
    "\n",
    "#For WL data\n",
    "source='WL'\n",
    "date='20241118'\n",
    "\n",
    "saveImage=False\n",
    "\n",
    "print('done')"
   ]
  },
  {
   "cell_type": "code",
   "execution_count": null,
   "id": "53106652-5d8c-4b52-8d38-a65e992b1abe",
   "metadata": {},
   "outputs": [],
   "source": [
    "import sys\n",
    "import os\n",
    "from importlib import reload\n",
    "fpath = os.path.join('..//scripts')\n",
    "sys.path.append(fpath)\n",
    "\n",
    "import warnings\n",
    "warnings.filterwarnings('ignore')\n",
    "\n",
    "#loading internal scripts\n",
    "import frauddetection as fd\n",
    "import sourcedata as sd\n",
    "import dataimport as di\n",
    "reload(fd)\n",
    "reload(sd)\n",
    "reload(di)\n",
    "\n",
    "print('done')"
   ]
  },
  {
   "cell_type": "code",
   "execution_count": null,
   "id": "5a6f119e-bb6e-4236-88de-526cb617e9ec",
   "metadata": {},
   "outputs": [],
   "source": [
    "import pandas as pd\n",
    "\n",
    "dfTrx = pd.read_csv('../data/cleaned/'+source+'export'+date+'.csv')\n",
    "dfTrx.head(5)"
   ]
  },
  {
   "cell_type": "markdown",
   "id": "d50b4b4b-05dc-4db9-b6f3-26133ac817e6",
   "metadata": {},
   "source": [
    "# Test with default hyperparameters"
   ]
  },
  {
   "cell_type": "code",
   "execution_count": null,
   "id": "3f9c75f3-9d3a-45dd-a778-abbe0e12efc6",
   "metadata": {},
   "outputs": [],
   "source": [
    "from sklearn.ensemble import AdaBoostClassifier\n",
    "import matplotlib.pyplot as plt\n",
    "from datetime import datetime\n",
    "\n",
    "then= datetime.now()\n",
    "predictors = fd.getPredictors(dfTrx)\n",
    "\n",
    "x_train, x_test, y_train, y_test, scaler =fd.split_data(dfTrx,predictors)\n",
    "\n",
    "modelClf = AdaBoostClassifier(random_state=42)\n",
    "modelClf.fit(x_train, y_train)\n",
    "predsTrain = modelClf.predict(x_train)\n",
    "predsTest = modelClf.predict(x_test)\n",
    "\n",
    "now = datetime.now()\n",
    "duration= now - then\n",
    "duration_in_s = duration.total_seconds()\n",
    "print(\"Duration \",duration_in_s)\n",
    "\n",
    "fd.print_scores(y_train, predsTrain,'f1', False)\n",
    "fd.print_scores(y_test, predsTest,'f1')\n",
    "fd.show_importance(modelClf, predictors)\n",
    "fd.show_confusion_matrix(y_test, predsTest)\n",
    "\n",
    "# default result\n",
    "# f1 = 0.0078\n",
    "# mcc= 0.0113\n",
    "# roc= 0.5022"
   ]
  },
  {
   "cell_type": "markdown",
   "id": "4536e2ed-26d5-4cea-9be1-a73749aa9b40",
   "metadata": {},
   "source": [
    "# Scaling choice\n",
    "with adaboost the scaling has no influence ?"
   ]
  },
  {
   "cell_type": "code",
   "execution_count": null,
   "id": "f7b16910-7607-43d1-8f40-7b0e10765714",
   "metadata": {},
   "outputs": [],
   "source": [
    "%%script false\n",
    "# scaling choice\n",
    "\n",
    "import matplotlib.pyplot as plt\n",
    "import numpy as np\n",
    "\n",
    "predictors = fd.getPredictors(dfTrx)\n",
    "parameters={}\n",
    "#parameters['max_iter']=1000\n",
    "\n",
    "modelClf = AdaBoostClassifier(random_state=42)\n",
    "duration_in_s,f1Train,f1Test, scaler = fd.processModel(modelClf,dfTrx, predictors,[], parameters, scaler=None)\n",
    "scalers = fd.getScalers()\n",
    "for key in scalers:\n",
    "    print(key)\n",
    "    scaler=scalers.get(key)\n",
    "    modelClf = AdaBoostClassifier(random_state=42)\n",
    "    duration_in_s,f1Train,f1Test, scaler = fd.processModel(modelClf,dfTrx, predictors, [],parameters,scaler=scaler)\n",
    "\n",
    "# scaler has no adding value for the result"
   ]
  },
  {
   "cell_type": "markdown",
   "id": "9f97321e-c728-4570-82f1-2991bbadf1bf",
   "metadata": {},
   "source": [
    "# Hyperparameters choice\n",
    "starting point\n",
    "n_estimators=50,learning_rate=1"
   ]
  },
  {
   "cell_type": "code",
   "execution_count": null,
   "id": "e9d35d7e-1461-4e89-a719-1bfa8d71e452",
   "metadata": {},
   "outputs": [],
   "source": [
    "%%script false\n",
    "\n",
    "modelClf = AdaBoostClassifier(random_state=42)\n",
    "# starting point n_estimators=100,  max_depth=7 \n",
    "dic_param={\n",
    "    'n_estimators':[5,10,25,50,75,100,200,500],\n",
    "    'learning_rate':[0.1,0.5,1,1.5,2]\n",
    "}\n",
    "res=fd.hyperparameterSelectionRandomizedSearchCV(modelClf, dic_param, 'f1', dfTrx, predictors, [], None)\n",
    "print(res)\n",
    "# found {'n_estimators': 500, 'learning_rate': 1.5} 0.041"
   ]
  },
  {
   "cell_type": "code",
   "execution_count": null,
   "id": "6dbce2a8-4478-4f86-a525-511298da766a",
   "metadata": {},
   "outputs": [],
   "source": [
    "%%script false\n",
    "modelClf = AdaBoostClassifier(random_state=42)\n",
    "# starting point n_estimators=100,  max_depth=7 \n",
    "dic_param={\n",
    "    'n_estimators':[200,250,300],\n",
    "    'learning_rate':[1,1.5,2]\n",
    "}\n",
    "res=fd.hyperparameterSelectionGridSearchCV(modelClf, dic_param, 'f1', dfTrx, predictors, [], None)\n",
    "print(res)\n",
    "#'n_estimators':[250,500,600],    'learning_rate':[1,1.5,2]\n",
    "#{'learning_rate': 1.5, 'n_estimators': 250}\n",
    "#{'learning_rate': 1.5, 'n_estimators': 250} scoref1 0.016"
   ]
  },
  {
   "cell_type": "code",
   "execution_count": null,
   "id": "56ae1be4-a998-4ad9-8cd0-131e5ce3af52",
   "metadata": {},
   "outputs": [],
   "source": [
    "from sklearn.ensemble import AdaBoostClassifier\n",
    "import matplotlib.pyplot as plt\n",
    "from datetime import datetime\n",
    "\n",
    "then= datetime.now()\n",
    "predictors = fd.getPredictors(dfTrx)\n",
    "\n",
    "x_train, x_test, y_train, y_test, scaler =fd.split_data(dfTrx,predictors)\n",
    "\n",
    "modelClf = AdaBoostClassifier(random_state=42)\n",
    "parameters={'learning_rate': 1.5, 'n_estimators': 250}\n",
    "modelClf.set_params(**parameters)\n",
    "\n",
    "modelClf.fit(x_train, y_train)\n",
    "predsTrain = modelClf.predict(x_train)\n",
    "predsTest = modelClf.predict(x_test)\n",
    "\n",
    "now = datetime.now()\n",
    "duration= now - then\n",
    "duration_in_s = duration.total_seconds()\n",
    "print(\"Duration \",duration_in_s)\n",
    "\n",
    "fd.print_scores(y_train, predsTrain,'f1', False)\n",
    "fd.print_scores(y_test, predsTest,'f1')\n",
    "fd.show_importance(modelClf, predictors)\n",
    "fd.show_confusion_matrix(y_test, predsTest)\n",
    "\n",
    "# default result (22/01/2025)\n",
    "# f1 = 0.0078\n",
    "# mcc= 0.0113\n",
    "# roc= 0.5022"
   ]
  },
  {
   "cell_type": "code",
   "execution_count": null,
   "id": "9e8d9491-f833-4537-9a65-076404bde78c",
   "metadata": {},
   "outputs": [],
   "source": [
    "files = fd.getAllFiles()\n",
    "\n",
    "range = []\n",
    "results = []\n",
    "loop =0\n",
    "for file in files:\n",
    "    loop=loop+1\n",
    "    range.append(loop)\n",
    "    print(file)\n",
    "  \n",
    "    dfTrx = pd.read_csv('../data/cleaned/'+source+file)\n",
    "    predictors = fd.getPredictors(dfTrx)\n",
    "\n",
    "    preds = modelClf.predict(dfTrx[predictors])\n",
    "\n",
    "    result= fd.print_scores(dfTrx['Class'], preds,'f1', True)\n",
    "    fd.show_confusion_matrix(dfTrx['Class'], preds)\n",
    "    results.append(result)\n",
    "\n",
    "fd.plt_train_test(range, results)\n",
    "\n",
    "#test result (22/01/2025)\n",
    "# d1 f1= 0.0236\n",
    "# d2 f1= 0.0000\n",
    "# d3 f1= 0.0080\n",
    "# d7 f1= 0.0134"
   ]
  }
 ],
 "metadata": {
  "kernelspec": {
   "display_name": "Python 3 (ipykernel)",
   "language": "python",
   "name": "python3"
  },
  "language_info": {
   "codemirror_mode": {
    "name": "ipython",
    "version": 3
   },
   "file_extension": ".py",
   "mimetype": "text/x-python",
   "name": "python",
   "nbconvert_exporter": "python",
   "pygments_lexer": "ipython3",
   "version": "3.12.4"
  }
 },
 "nbformat": 4,
 "nbformat_minor": 5
}
