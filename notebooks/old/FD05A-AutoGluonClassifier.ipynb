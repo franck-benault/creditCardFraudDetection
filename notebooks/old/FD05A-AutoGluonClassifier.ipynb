{
 "cells": [
  {
   "cell_type": "code",
   "execution_count": null,
   "id": "5f03ee75-4af6-4e7e-bce9-1443ab43d735",
   "metadata": {},
   "outputs": [],
   "source": [
    "#For Kaggle\n",
    "#date=''\n",
    "\n",
    "#For WL data\n",
    "source='WL'\n",
    "date='20241118'\n",
    "\n",
    "saveImage=False\n",
    "\n",
    "print('done')"
   ]
  },
  {
   "cell_type": "code",
   "execution_count": null,
   "id": "0a6539fd-ce70-459e-8a22-8c249b9921ca",
   "metadata": {},
   "outputs": [],
   "source": [
    "import sys\n",
    "import os\n",
    "from importlib import reload\n",
    "fpath = os.path.join('..//scripts')\n",
    "sys.path.append(fpath)\n",
    "\n",
    "import warnings\n",
    "warnings.filterwarnings('ignore')\n",
    "\n",
    "#loading internal scripts\n",
    "import frauddetection as fd\n",
    "import sourcedata as sd\n",
    "import dataimport as di\n",
    "import result as resultMd\n",
    "reload(fd)\n",
    "reload(sd)\n",
    "reload(di)\n",
    "reload(resultMd)\n",
    "\n",
    "print('done')"
   ]
  },
  {
   "cell_type": "code",
   "execution_count": null,
   "id": "4d7eea47-789b-44bf-b5f7-93cad4047fb4",
   "metadata": {},
   "outputs": [],
   "source": [
    "import pandas as pd\n",
    "\n",
    "dfTrx = pd.read_csv('../data/cleaned/'+source+'export'+date+'.csv')\n",
    "dfTrx.head(5)"
   ]
  },
  {
   "cell_type": "code",
   "execution_count": null,
   "id": "5ecf9c6f-94c0-415b-86e6-7399cba5e539",
   "metadata": {},
   "outputs": [],
   "source": [
    "from autogluon.tabular import TabularDataset, TabularPredictor\n",
    "from datetime import datetime\n",
    "from sklearn.model_selection import train_test_split\n",
    "then= datetime.now()\n",
    "\n",
    "target='Class'\n",
    "\n",
    "df_train, df_test =train_test_split(dfTrx, test_size = 0.2, \n",
    "                                                        stratify=dfTrx[target],\n",
    "                                                        random_state = 42)\n",
    "\n",
    "\n",
    "modelClf =  TabularPredictor(label=target, eval_metric='f1').fit(df_train)\n",
    "now = datetime.now()\n",
    "duration= now - then\n",
    "duration_in_s = duration.total_seconds()\n",
    "print(\"Duration \",duration_in_s)\n",
    "resultMd.update_time_response_result('05-autogluon.tabular','TabularPredictor', 'Default', duration_in_s)\n",
    "\n",
    "y_pred = modelClf.predict(df_test)\n",
    "y_pred.head()  # Predictions\n",
    "\n"
   ]
  },
  {
   "cell_type": "code",
   "execution_count": null,
   "id": "031c00b4-3134-4d82-a81d-db2944814280",
   "metadata": {},
   "outputs": [],
   "source": [
    "y_pred = modelClf.predict(df_test)\n",
    "y_pred.head()  # Predictions\n",
    "modelClf.evaluate(df_test, silent=True)"
   ]
  },
  {
   "cell_type": "code",
   "execution_count": null,
   "id": "624a2a58-3297-4041-a137-b37b3b0ef4ae",
   "metadata": {},
   "outputs": [],
   "source": [
    "modelClf.leaderboard(df_test)"
   ]
  },
  {
   "cell_type": "code",
   "execution_count": null,
   "id": "2cdf223c-5751-484f-a25d-c5556a214bb2",
   "metadata": {},
   "outputs": [],
   "source": [
    "fd.show_confusion_matrix(df_test['Class'], y_pred,None)"
   ]
  },
  {
   "cell_type": "code",
   "execution_count": null,
   "id": "c36ee7fb-0367-4ca8-86b2-d4f91de1b119",
   "metadata": {},
   "outputs": [],
   "source": []
  }
 ],
 "metadata": {
  "kernelspec": {
   "display_name": "Python 3 (ipykernel)",
   "language": "python",
   "name": "python3"
  },
  "language_info": {
   "codemirror_mode": {
    "name": "ipython",
    "version": 3
   },
   "file_extension": ".py",
   "mimetype": "text/x-python",
   "name": "python",
   "nbconvert_exporter": "python",
   "pygments_lexer": "ipython3",
   "version": "3.12.4"
  }
 },
 "nbformat": 4,
 "nbformat_minor": 5
}
