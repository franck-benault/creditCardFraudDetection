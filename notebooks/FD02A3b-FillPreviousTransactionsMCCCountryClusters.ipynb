{
 "cells": [
  {
   "cell_type": "code",
   "execution_count": null,
   "id": "59813d7a-5d6b-44c5-b2c2-1dc03002e78b",
   "metadata": {},
   "outputs": [],
   "source": [
    "import numpy as np\n",
    "from sklearn.cluster import SpectralClustering\n",
    "mat = np.array([[1.,.1,.6,.4],[.1,1.,.1,.2],[.6,.1,1.,.7],[.4,.2,.7,1.]])\n",
    "print(mat)\n",
    "SpectralClustering(3).fit_predict(mat)\n"
   ]
  },
  {
   "cell_type": "code",
   "execution_count": null,
   "id": "545d1d78-92ed-47e3-8f6e-a025221bc97a",
   "metadata": {
    "scrolled": true
   },
   "outputs": [],
   "source": [
    "import pickle\n",
    "model0 = pickle.load(open('../data/processed/wordV0Model', 'rb'))\n",
    "#print(model0.wv.similar_by_word('IRL'))\n",
    "tabs =[]\n",
    "for s in model0.wv.key_to_index.keys():\n",
    "    if(s!='.' and s!='BEL'):\n",
    "        #print(s)\n",
    "        tabs.append(s)\n",
    "mat=[]\n",
    "for count1 in np.arange(0,len(tabs),1):\n",
    "    row =[]\n",
    "    for count2 in np.arange(0,len(tabs),1):\n",
    "        row.append(model0.wv.similarity(tabs[count1],tabs[count2]))\n",
    "    mat.append(row)\n",
    "#print(mat)\n",
    "\n",
    "res=SpectralClustering(4).fit_predict(mat)\n",
    "tabs0 =[]\n",
    "tabs1 =[]\n",
    "tabs2 =[]\n",
    "tabs3 =[]\n",
    "tabs4 =[]\n",
    "for count in np.arange(0,len(tabs),1):\n",
    "    if(res[count]==0):\n",
    "        tabs0.append(tabs[count])\n",
    "    if(res[count]==1):\n",
    "        tabs1.append(tabs[count])\n",
    "    if(res[count]==2):\n",
    "        tabs2.append(tabs[count])\n",
    "    if(res[count]==3):\n",
    "        tabs3.append(tabs[count])\n",
    "    if(res[count]==4):\n",
    "        tabs4.append(tabs[count])\n",
    "\n",
    "print(tabs0)\n",
    "print('-----------------------------')\n",
    "print(tabs1)\n",
    "print('-----------------------------')\n",
    "print(tabs2)\n",
    "print('-----------------------------')\n",
    "print(tabs3)\n",
    "print('-----------------------------')\n",
    "print(tabs4)"
   ]
  },
  {
   "cell_type": "code",
   "execution_count": null,
   "id": "5f2fdcac-f556-46ab-9cad-48f0564d2978",
   "metadata": {},
   "outputs": [],
   "source": [
    "print(model0.wv.similar_by_word('ZWE'))"
   ]
  },
  {
   "cell_type": "code",
   "execution_count": null,
   "id": "717c3dc5-b7d6-4a19-9025-c39f6f23b09a",
   "metadata": {},
   "outputs": [],
   "source": [
    "import pickle\n",
    "model1 = pickle.load(open('../data/processed/wordV1Model', 'rb'))\n",
    "#print(model0.wv.similar_by_word('IRL'))\n",
    "tabs =[]\n",
    "for s in model1.wv.key_to_index.keys():\n",
    "    #print(s)\n",
    "    tabs.append(s)\n",
    "mat=[]\n",
    "for count1 in np.arange(0,len(tabs),1):\n",
    "    row =[]\n",
    "    for count2 in np.arange(0,len(tabs),1):\n",
    "        row.append(model1.wv.similarity(tabs[count1],tabs[count2]))\n",
    "    mat.append(row)\n",
    "#print(mat)\n",
    "\n",
    "res=SpectralClustering(5).fit_predict(mat)\n",
    "tabs0 =[]\n",
    "tabs1 =[]\n",
    "tabs2 =[]\n",
    "tabs3 =[]\n",
    "tabs4 =[]\n",
    "for count in np.arange(0,len(tabs),1):\n",
    "    if(res[count]==0):\n",
    "        tabs0.append(tabs[count])\n",
    "    if(res[count]==1):\n",
    "        tabs1.append(tabs[count])\n",
    "    if(res[count]==2):\n",
    "        tabs2.append(tabs[count])\n",
    "    if(res[count]==3):\n",
    "        tabs3.append(tabs[count])\n",
    "    if(res[count]==4):\n",
    "        tabs4.append(tabs[count])\n",
    "\n",
    "print(tabs0)\n",
    "print('-----------------------------')\n",
    "print(tabs1)\n",
    "print('-----------------------------')\n",
    "print(tabs2)\n",
    "print('-----------------------------')\n",
    "print(tabs3)\n",
    "print('-----------------------------')\n",
    "print(tabs4)"
   ]
  },
  {
   "cell_type": "code",
   "execution_count": null,
   "id": "2ed83109-16bf-4631-a651-bdcee4ed2f12",
   "metadata": {},
   "outputs": [],
   "source": []
  }
 ],
 "metadata": {
  "kernelspec": {
   "display_name": "Python 3 (ipykernel)",
   "language": "python",
   "name": "python3"
  },
  "language_info": {
   "codemirror_mode": {
    "name": "ipython",
    "version": 3
   },
   "file_extension": ".py",
   "mimetype": "text/x-python",
   "name": "python",
   "nbconvert_exporter": "python",
   "pygments_lexer": "ipython3",
   "version": "3.12.4"
  }
 },
 "nbformat": 4,
 "nbformat_minor": 5
}
