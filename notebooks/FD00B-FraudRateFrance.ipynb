{
 "cells": [
  {
   "cell_type": "code",
   "execution_count": null,
   "id": "1c3d2638-ace3-4330-b6a8-17aec146d86b",
   "metadata": {},
   "outputs": [],
   "source": [
    "%matplotlib inline\n",
    "import matplotlib.pyplot as plt\n",
    "import numpy as np\n",
    "\n",
    "saveDiagram=False\n",
    "\n",
    "def drawAndSaveFraudRatesFrance(dates,fraudRates,saveDiagram):\n",
    "    fig = plt.figure()\n",
    "    ax = plt.axes()\n",
    "    ax.plot(dates, fraudRates)\n",
    "    plt.title(\"Card payment fraud rates in France (in value)\")\n",
    "    plt.xlabel(\"Year\")\n",
    "    plt.ylabel(\"Fraud rate %\")\n",
    "    if(saveDiagram):\n",
    "        plt.savefig('../imgs/FD00B-fraudRateFrance.png')\n",
    "    plt.show()\n",
    "\n",
    "###############################################\n",
    "# data comming from\n",
    "# Banque de France\n",
    "# OBSERVATORY FOR THE SECURITY OF PAYMENT MEANS\n",
    "###############################################\n",
    "dates=[]\n",
    "fraudRates=[]\n",
    "dates=np.append(dates,2014)\n",
    "fraudRates=np.append(fraudRates,0.069)\n",
    "dates=np.append(dates,2015)\n",
    "fraudRates=np.append(fraudRates,0.074)\n",
    "dates=np.append(dates,2016)\n",
    "fraudRates=np.append(fraudRates,0.068)\n",
    "dates=np.append(dates,2017)\n",
    "fraudRates=np.append(fraudRates,0.058)\n",
    "dates=np.append(dates,2018)\n",
    "fraudRates=np.append(fraudRates,0.062)\n",
    "dates=np.append(dates,2019)\n",
    "fraudRates=np.append(fraudRates,0.064)\n",
    "dates=np.append(dates,2020)\n",
    "fraudRates=np.append(fraudRates,0.068)\n",
    "dates=np.append(dates,2021)\n",
    "fraudRates=np.append(fraudRates,0.059)\n",
    "dates=np.append(dates,2022)\n",
    "fraudRates=np.append(fraudRates,0.053)\n",
    "dates=np.append(dates,2023)\n",
    "fraudRates=np.append(fraudRates,0.053)\n",
    "\n",
    "drawAndSaveFraudRatesFrance(dates,fraudRates,saveDiagram)"
   ]
  },
  {
   "cell_type": "code",
   "execution_count": null,
   "id": "9e0ae766-b482-49e4-b307-b57ba0eceee6",
   "metadata": {},
   "outputs": [],
   "source": []
  }
 ],
 "metadata": {
  "kernelspec": {
   "display_name": "Python 3 (ipykernel)",
   "language": "python",
   "name": "python3"
  },
  "language_info": {
   "codemirror_mode": {
    "name": "ipython",
    "version": 3
   },
   "file_extension": ".py",
   "mimetype": "text/x-python",
   "name": "python",
   "nbconvert_exporter": "python",
   "pygments_lexer": "ipython3",
   "version": "3.12.4"
  }
 },
 "nbformat": 4,
 "nbformat_minor": 5
}
