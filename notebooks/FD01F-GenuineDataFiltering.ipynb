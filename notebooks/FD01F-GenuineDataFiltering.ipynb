{
 "cells": [
  {
   "cell_type": "code",
   "execution_count": null,
   "id": "f441311e-f505-4e20-a139-fb219e677da9",
   "metadata": {},
   "outputs": [],
   "source": [
    "#For Kaggle\n",
    "#date=''\n",
    "\n",
    "#For WL data\n",
    "source='WL'\n",
    "date='20241118'\n",
    "\n",
    "saveImg=False\n",
    "\n",
    "print('done')"
   ]
  },
  {
   "cell_type": "code",
   "execution_count": null,
   "id": "f05e5afd-3066-4bbe-8cd7-27b36909e458",
   "metadata": {},
   "outputs": [],
   "source": [
    "import sys\n",
    "import os\n",
    "from importlib import reload\n",
    "fpath = os.path.join('..//scripts')\n",
    "sys.path.append(fpath)\n",
    "\n",
    "import warnings\n",
    "warnings.filterwarnings('ignore')\n",
    "\n",
    "#loading internal scripts\n",
    "import frauddetection as fd\n",
    "import sourcedata as sd\n",
    "import datafilter as df\n",
    "reload(fd)\n",
    "reload(sd)\n",
    "reload(df)\n",
    "\n",
    "print('done')"
   ]
  },
  {
   "cell_type": "markdown",
   "id": "c6cec144-5061-4581-95ae-a4e287f13bae",
   "metadata": {},
   "source": [
    "# Loading raw data"
   ]
  },
  {
   "cell_type": "code",
   "execution_count": null,
   "id": "81317879-5692-4580-920c-b3d14d69aafd",
   "metadata": {},
   "outputs": [],
   "source": [
    "import dataimport as di\n",
    "import pandas as pd \n",
    "   \n",
    "dfTrx = di.read_file('../data/raw/'+source+'export'+date+'.csv')\n",
    "dfTrx.head(5)"
   ]
  },
  {
   "cell_type": "code",
   "execution_count": null,
   "id": "d1d83b20-6043-4839-849e-3080aec56f1f",
   "metadata": {},
   "outputs": [],
   "source": [
    "print(dfTrx.Class.value_counts())"
   ]
  },
  {
   "cell_type": "markdown",
   "id": "28284a07-0068-434b-88df-6fdaeb366ef2",
   "metadata": {},
   "source": [
    "# Filtering high amount"
   ]
  },
  {
   "cell_type": "code",
   "execution_count": null,
   "id": "e762d89c-a9cb-4184-b5b2-2ed53fa33198",
   "metadata": {},
   "outputs": [],
   "source": [
    "max_amount=5_000\n",
    "dfFiltered=dfTrx[(dfTrx['trx_amount']>=max_amount)]\n",
    "dfRemained=dfTrx[(dfTrx['trx_amount']<max_amount)]\n",
    "\n",
    "print('Filtered ',dfFiltered.shape[0]) \n",
    "print('Remained ',dfRemained.shape[0])\n",
    "print(f\"Filtered proportion {100*(dfFiltered.shape[0]/dfTrx.shape[0]):.3f}\")\n",
    "\n",
    "print(dfFiltered.Class.value_counts())\n",
    "print('----Remaining-----')\n",
    "print(dfRemained.Class.value_counts())"
   ]
  },
  {
   "cell_type": "markdown",
   "id": "a53fa0c3-eaf9-4904-a7e2-3477914b27bd",
   "metadata": {},
   "source": [
    "# Filtering PARTIAL REVERSAL"
   ]
  },
  {
   "cell_type": "code",
   "execution_count": null,
   "id": "dacd2988-b49d-4e1d-901c-da1768079dff",
   "metadata": {},
   "outputs": [],
   "source": [
    "dfFiltered=dfTrx[(dfTrx['trx_reversal']=='PARTIAL REVERSAL')]\n",
    "dfRemained=dfTrx[(dfTrx['trx_reversal']!='PARTIAL REVERSAL')]\n",
    "\n",
    "print('Filtered ',dfFiltered.shape[0]) \n",
    "print('Remained ',dfRemained.shape[0])\n",
    "print(f\"Filtered proportion {100*(dfFiltered.shape[0]/dfTrx.shape[0]):.3f}\")\n",
    "\n",
    "print(\"---- Before ----\")\n",
    "print(dfTrx.Class.value_counts())\n",
    "print(\"---- After filtering -----\");\n",
    "print(dfRemained.Class.value_counts())"
   ]
  },
  {
   "cell_type": "markdown",
   "id": "50b6ae55-4c5f-4566-a46a-865c2e172dc1",
   "metadata": {},
   "source": [
    "# Mcc filtering "
   ]
  },
  {
   "cell_type": "code",
   "execution_count": null,
   "id": "a8827fe3-38e2-4aa7-98dc-ed4bc847307b",
   "metadata": {},
   "outputs": [],
   "source": [
    "# mcc 5542 transactions related to EV charging involving any type of electric vehicle\n",
    "# has a very low fraud rate\n",
    "\n",
    "dfFiltered=dfTrx[(dfTrx['term_mcc'] ==5542)]\n",
    "dfRemained=dfTrx[(dfTrx['term_mcc'] !=5542)]\n",
    "\n",
    "print('Filtered ',dfFiltered.shape[0]) \n",
    "print('Remained ',dfRemained.shape[0])\n",
    "print(f\"Filtered proportion {100*(dfFiltered.shape[0]/dfTrx.shape[0]):.3f}\")\n",
    "\n",
    "\n",
    "print(\"---- Before ----\")\n",
    "print(dfTrx.Class.value_counts())\n",
    "print(\"---- After filtering -----\");\n",
    "print(dfRemained.Class.value_counts())"
   ]
  },
  {
   "cell_type": "markdown",
   "id": "1c5b90ab-54ca-4a5f-a89e-acb27ca700c4",
   "metadata": {},
   "source": [
    "# Ecom indicator"
   ]
  },
  {
   "cell_type": "code",
   "execution_count": null,
   "id": "7aa53837-3bf5-451d-9a94-38ba8b99aac6",
   "metadata": {},
   "outputs": [],
   "source": [
    "dfFiltered=dfTrx[(dfTrx['ecom_indicator']==62)]\n",
    "dfRemained=dfTrx[(dfTrx['ecom_indicator']!=62)]\n",
    "\n",
    "print('Filtered ',dfFiltered.shape[0]) \n",
    "print('Remained ',dfRemained.shape[0])\n",
    "print(f\"Filtered proportion {100*(dfFiltered.shape[0]/dfTrx.shape[0]):.3f}\")\n",
    "\n",
    "\n",
    "print(\"---- Before ----\")\n",
    "print(dfTrx.Class.value_counts())\n",
    "print(\"---- After filtering -----\");\n",
    "print(dfRemained.Class.value_counts())"
   ]
  },
  {
   "cell_type": "markdown",
   "id": "43615ece-3006-402f-a631-7b47c9ab2b30",
   "metadata": {},
   "source": [
    "# Full filtering "
   ]
  },
  {
   "cell_type": "code",
   "execution_count": null,
   "id": "b256800b-528a-4f20-aa59-27fc441640a9",
   "metadata": {},
   "outputs": [],
   "source": [
    "dfRemained=df.fullFiltering(dfTrx)\n",
    "print(\"---- Before ----\")\n",
    "print(dfTrx.Class.value_counts())\n",
    "print(\"---- After filtering -----\");\n",
    "print(dfRemained.Class.value_counts())\n",
    "print(f\"Filtered proportion {100*(dfFiltered.shape[0]/dfTrx.shape[0]):.2f}\")\n"
   ]
  },
  {
   "cell_type": "markdown",
   "id": "4ef726f5-62fd-46da-aa5d-68d5448fc79c",
   "metadata": {},
   "source": [
    "# Full filtering next days"
   ]
  },
  {
   "cell_type": "code",
   "execution_count": null,
   "id": "5ea52336-6cc7-45f5-ab83-c7394eefdfc8",
   "metadata": {},
   "outputs": [],
   "source": [
    "files = fd.getAllFiles()\n",
    "\n",
    "\n",
    "for file in files:\n",
    "    print(file)\n",
    "\n",
    "    dfTrx = di.read_file('../data/raw/'+source+file)\n",
    "    dfRemained=df.fullFiltering(dfTrx)\n",
    "    print(\"--------------------\")\n",
    "    print(\"---- Before ----\")\n",
    "    print(dfTrx.Class.value_counts())\n",
    "    print(\"---- After filtering -----\");\n",
    "    print(dfRemained.Class.value_counts())\n",
    "    print('Nb total filtered',dfTrx.Class.value_counts()[0]-dfRemained.Class.value_counts()[0])\n",
    "    print('Nb wrong filtered',dfTrx.Class.value_counts()[1]-dfRemained.Class.value_counts()[1])\n",
    "    df_diff = pd.concat([dfTrx,dfRemained]).drop_duplicates(keep=False)\n",
    "    print(df_diff[(df_diff.Class==1)][['ecom_indicator','trx_amount','term_mcc','trx_reversal']])\n",
    "    print(f\"Filtered proportion {100*((dfTrx.shape[0]-dfRemained.shape[0])/dfTrx.shape[0]):.2f}\")\n",
    "    print(\" \")\n",
    "\n",
    "\n"
   ]
  },
  {
   "cell_type": "code",
   "execution_count": null,
   "id": "fbc74fd8-92c7-41a0-b120-ae216a95d4d3",
   "metadata": {},
   "outputs": [],
   "source": [
    "print(dfTrx.shape)\n",
    "print(dfRemained.shape)"
   ]
  },
  {
   "cell_type": "code",
   "execution_count": null,
   "id": "532a30a6-4d77-419c-8e5a-0b6e9dc4d277",
   "metadata": {},
   "outputs": [],
   "source": []
  }
 ],
 "metadata": {
  "kernelspec": {
   "display_name": "Python 3 (ipykernel)",
   "language": "python",
   "name": "python3"
  },
  "language_info": {
   "codemirror_mode": {
    "name": "ipython",
    "version": 3
   },
   "file_extension": ".py",
   "mimetype": "text/x-python",
   "name": "python",
   "nbconvert_exporter": "python",
   "pygments_lexer": "ipython3",
   "version": "3.12.4"
  }
 },
 "nbformat": 4,
 "nbformat_minor": 5
}
