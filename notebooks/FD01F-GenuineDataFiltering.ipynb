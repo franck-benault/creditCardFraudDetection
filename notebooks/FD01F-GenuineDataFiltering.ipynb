{
 "cells": [
  {
   "cell_type": "code",
   "execution_count": null,
   "id": "f441311e-f505-4e20-a139-fb219e677da9",
   "metadata": {},
   "outputs": [],
   "source": [
    "#For Kaggle\n",
    "#date=''\n",
    "\n",
    "#For WL data\n",
    "source='WL'\n",
    "date='20241118'\n",
    "\n",
    "saveImg=False\n",
    "\n",
    "print('done')"
   ]
  },
  {
   "cell_type": "code",
   "execution_count": null,
   "id": "f05e5afd-3066-4bbe-8cd7-27b36909e458",
   "metadata": {},
   "outputs": [],
   "source": [
    "import sys\n",
    "import os\n",
    "from importlib import reload\n",
    "fpath = os.path.join('..//scripts')\n",
    "sys.path.append(fpath)\n",
    "\n",
    "import warnings\n",
    "warnings.filterwarnings('ignore')\n",
    "\n",
    "#loading internal scripts\n",
    "import frauddetection as fd\n",
    "import sourcedata as sd\n",
    "import datafilter as df\n",
    "reload(fd)\n",
    "reload(sd)\n",
    "reload(df)\n",
    "\n",
    "print('done')"
   ]
  },
  {
   "cell_type": "markdown",
   "id": "c6cec144-5061-4581-95ae-a4e287f13bae",
   "metadata": {},
   "source": [
    "# Loading raw data"
   ]
  },
  {
   "cell_type": "code",
   "execution_count": null,
   "id": "81317879-5692-4580-920c-b3d14d69aafd",
   "metadata": {},
   "outputs": [],
   "source": [
    "import dataimport as di\n",
    "import pandas as pd \n",
    "   \n",
    "dfTrx = di.read_file('../data/raw/'+source+'export'+date+'.csv')\n",
    "dfTrx.head(5)"
   ]
  },
  {
   "cell_type": "code",
   "execution_count": null,
   "id": "d1d83b20-6043-4839-849e-3080aec56f1f",
   "metadata": {},
   "outputs": [],
   "source": [
    "print(dfTrx.Class.value_counts())"
   ]
  },
  {
   "cell_type": "markdown",
   "id": "28284a07-0068-434b-88df-6fdaeb366ef2",
   "metadata": {},
   "source": [
    "# Filtering high amount"
   ]
  },
  {
   "cell_type": "code",
   "execution_count": null,
   "id": "e762d89c-a9cb-4184-b5b2-2ed53fa33198",
   "metadata": {},
   "outputs": [],
   "source": [
    "max_amount=5_000\n",
    "dfFiltered=dfTrx[(dfTrx['trx_amount']>=max_amount)]\n",
    "dfRemained=dfTrx[(dfTrx['trx_amount']<max_amount)]\n",
    "\n",
    "print('Filtered ',dfFiltered.shape[0]) \n",
    "print('Remained ',dfRemained.shape[0])\n",
    "\n",
    "print('Filtered proportion',100*(dfFiltered.shape[0]/dfTrx.shape[0]))\n",
    "print(dfFiltered.Class.value_counts())\n",
    "print('----Remaining-----')\n",
    "print(dfRemained.Class.value_counts())"
   ]
  },
  {
   "cell_type": "code",
   "execution_count": null,
   "id": "dacd2988-b49d-4e1d-901c-da1768079dff",
   "metadata": {},
   "outputs": [],
   "source": [
    "dfFiltered=dfTrx[(dfTrx['trx_reversal']=='PARTIAL REVERSAL')]\n",
    "dfRemained=dfTrx[(dfTrx['trx_reversal']!='PARTIAL REVERSAL')]\n",
    "\n",
    "print('Filtered proportion',100*(dfFiltered.shape[0]/dfTrx.shape[0]))\n",
    "print(dfFiltered.Class.value_counts())\n",
    "\n",
    "print(\"---- Before ----\")\n",
    "print(dfTrx.Class.value_counts())\n",
    "print(\"---- After filtering -----\");\n",
    "print(dfRemained.Class.value_counts())"
   ]
  },
  {
   "cell_type": "code",
   "execution_count": null,
   "id": "b256800b-528a-4f20-aa59-27fc441640a9",
   "metadata": {},
   "outputs": [],
   "source": [
    "dfRemained=df.fullFiltering(dfTrx)\n",
    "print(\"---- Before ----\")\n",
    "print(dfTrx.Class.value_counts())\n",
    "print(\"---- After filtering -----\");\n",
    "print(dfRemained.Class.value_counts())\n"
   ]
  },
  {
   "cell_type": "code",
   "execution_count": null,
   "id": "5ea52336-6cc7-45f5-ab83-c7394eefdfc8",
   "metadata": {},
   "outputs": [],
   "source": [
    "files = fd.getAllFiles()\n",
    "\n",
    "\n",
    "for file in files:\n",
    "    print(file)\n",
    "\n",
    "    dfTrx = di.read_file('../data/raw/'+source+file)\n",
    "    dfRemained=df.fullFiltering(dfTrx)\n",
    "    print(\"---- Before ----\")\n",
    "    print(dfTrx.Class.value_counts())\n",
    "    print(\"---- After filtering -----\");\n",
    "    print(dfRemained.Class.value_counts())\n",
    "    print('Nb total filtered',dfTrx.Class.value_counts()[0]-dfRemained.Class.value_counts()[0])\n",
    "    print('Nb wrong filtered',dfTrx.Class.value_counts()[1]-dfRemained.Class.value_counts()[1])\n",
    "\n",
    "\n"
   ]
  },
  {
   "cell_type": "code",
   "execution_count": null,
   "id": "0d6ba6b1-bc90-4771-8f15-4f2fb96e05e1",
   "metadata": {},
   "outputs": [],
   "source": []
  }
 ],
 "metadata": {
  "kernelspec": {
   "display_name": "Python 3 (ipykernel)",
   "language": "python",
   "name": "python3"
  },
  "language_info": {
   "codemirror_mode": {
    "name": "ipython",
    "version": 3
   },
   "file_extension": ".py",
   "mimetype": "text/x-python",
   "name": "python",
   "nbconvert_exporter": "python",
   "pygments_lexer": "ipython3",
   "version": "3.12.4"
  }
 },
 "nbformat": 4,
 "nbformat_minor": 5
}
