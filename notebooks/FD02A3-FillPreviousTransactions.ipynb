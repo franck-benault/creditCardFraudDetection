{
 "cells": [
  {
   "cell_type": "code",
   "execution_count": null,
   "id": "4b9f612e-b4da-497f-b54d-27c485b2f564",
   "metadata": {},
   "outputs": [],
   "source": [
    "import sys\n",
    "import os\n",
    "from importlib import reload\n",
    "fpath = os.path.join('..//scripts')\n",
    "sys.path.append(fpath)\n",
    "\n",
    "import warnings\n",
    "warnings.filterwarnings('ignore')\n",
    "\n",
    "#loading internal scripts\n",
    "import frauddetection as fd\n",
    "import sourcedata as sd\n",
    "import countrymanagement as cm\n",
    "import mccmanagement as mccm\n",
    "reload(fd)\n",
    "reload(sd)\n",
    "reload(cm)\n",
    "reload(mccm)\n",
    "\n",
    "print('done')"
   ]
  },
  {
   "cell_type": "code",
   "execution_count": null,
   "id": "eace7ce9-638b-43f5-bb04-cc5d425ef5df",
   "metadata": {},
   "outputs": [],
   "source": [
    "import pandas as pd\n",
    "\n",
    "#For Kaggle\n",
    "#date=''\n",
    "\n",
    "#For WL data\n",
    "date='20241118'\n",
    "source='WL'\n",
    "\n",
    "saveImg=False\n",
    "\n",
    "print('done')\n",
    "\n",
    "dfTrxSaved = pd.read_csv('../data/cleaned/'+source+'export'+date+'.csv')\n",
    "dfTrxSaved.head(5)"
   ]
  },
  {
   "cell_type": "code",
   "execution_count": null,
   "id": "9d5a4a4e-9fef-4cbc-8fdf-e1e860cfe317",
   "metadata": {},
   "outputs": [],
   "source": [
    "sorted_df = dfTrxSaved.sort_values(by=['card_pan_id','trx_date_time'])\n",
    "sorted_df=sorted_df.drop(columns=['mcd_fraud_score','vaa_score',\n",
    "                                 'trx_amount_log10','ecom',\t'card_brand_MCD',\t'card_brand_VIS','country_group_BELGIUM','country_group_EUROPE',\n",
    "                                 'clusterCardHolder_cluster0',\t'clusterCardHolder_cluster1',\t'clusterCardHolder_cluster2',\t'clusterCardHolder_cluster3',\t\n",
    "                                 'clusterCardHolder_cluster4',\t'clusterMerchant_M0',\t'clusterMerchant_M1','clusterMerchant_M2','clusterMerchant_M3',\n",
    "                                 'clusterMerchant_UNKNOWN',\n",
    "                                  'country_group_WORLD','mcc_group_CLOTHING_STORES',\t\n",
    "                                  'mcc_group_GOUVERNEMENT_SERVICES','mcc_group_OTHER','mcc_group_PROFESSIONAL_SERVICES',\t\n",
    "                                  'mcc_group_RETAIL_OUTLET_SERVICES','mcc_group_UTILITY_SERVICES','mcc_group_ATM',\t\n",
    "                                  'trx_reversal_FULL_REVERSAL',\t'trx_reversal_NO_RESERSAL',\t\n",
    "                                  'trx_reversal_PARTIAL_REVERSAL','clusterCardHolder_UNKNOWN'\n",
    "                                 ])\n",
    "#print(sorted_df.head(10))\n",
    "sorted_df['mcc_group'] = sorted_df['term_mcc'].apply(mccm.get_mcc_group_citybank)\n",
    "sorted_df['mcc_group'] = np.where(sorted_df.term_mcc.isin([mccm.get_mcc_group_ATM]),'ATM',sorted_df['mcc_group'] )\n",
    "sorted_df['mcc_group'] = np.where(sorted_df.mcc_group.isin(['AGRICULTURAL']), 'OTHER',sorted_df['mcc_group'] )\n",
    "sorted_df['mcc_group'] = np.where(sorted_df.mcc_group.isin(['CONTRACTED_SERVICES']), 'OTHER',sorted_df['mcc_group'] )\n",
    "sorted_df['mcc_group'] = np.where(sorted_df.mcc_group.isin(['AIRLINES']),'OTHER',sorted_df['mcc_group'] )\n",
    "sorted_df['mcc_group'] = np.where(sorted_df.mcc_group.isin(['CAR_RENTAL']), 'OTHER',sorted_df['mcc_group'] )\n",
    "sorted_df['mcc_group'] = np.where(sorted_df.mcc_group.isin(['LODGING']),'OTHER',sorted_df['mcc_group'] )\n",
    "sorted_df['mcc_group'] = np.where(sorted_df.mcc_group.isin(['TRANSPORTATION_SERVICES']), 'OTHER',sorted_df['mcc_group'] )\n",
    "sorted_df['mcc_group'] = np.where(sorted_df.mcc_group.isin(['MISCELLANOUS_STORES']), 'OTHER',sorted_df['mcc_group'] )\n",
    "sorted_df['mcc_group'] = np.where(sorted_df.mcc_group.isin(['BUSINESS_SERVICES']), 'OTHER',sorted_df['mcc_group'] )\n",
    "\n",
    "sorted_df['term_mcc'] = sorted_df['term_mcc'].astype('str')\n",
    "\n",
    "sorted_df['card_pan_id1'] = sorted_df['card_pan_id'].shift(-1)\n",
    "#sorted_df['term_mcc1']= sorted_df['term_mcc'].shift(-1) if sorted_df['card_pan_id1'] == sorted_df['card_pan_id'] else 'XXXX'\n",
    "sorted_df['term_mcc1'] = sorted_df['term_mcc'].shift(-1)\n",
    "sorted_df['mcc_group1'] = sorted_df['mcc_group'].shift(-1)\n",
    "sorted_df['term_country1'] = sorted_df['term_country'].shift(-1)\n",
    "sorted_df['db_uuid1'] = sorted_df['db_uuid'].shift(-1)\n",
    "sorted_df.head(10)\n"
   ]
  },
  {
   "cell_type": "code",
   "execution_count": null,
   "id": "54debcfa-5182-4602-91ed-187b760a9b68",
   "metadata": {},
   "outputs": [],
   "source": [
    "sorted_df1=sorted_df[(sorted_df['card_pan_id']==sorted_df['card_pan_id1'])]\n",
    "sorted_df0=sorted_df[(sorted_df['card_pan_id']!=sorted_df['card_pan_id1'])]\n",
    "\n",
    "print(sorted_df.shape)\n",
    "print(sorted_df0.shape)\n",
    "print(sorted_df1.shape)\n",
    "\n",
    "print(sorted_df.Class.value_counts(normalize=True))\n",
    "print(sorted_df0.Class.value_counts(normalize=True))\n",
    "print(sorted_df1.Class.value_counts(normalize=True))\n",
    "\n",
    "\n",
    "#sorted_df4.head(50)"
   ]
  },
  {
   "cell_type": "code",
   "execution_count": null,
   "id": "e5e2c977-06e1-4054-8c60-7e36f4a69a05",
   "metadata": {},
   "outputs": [],
   "source": [
    "import numpy as np\n",
    "\n",
    "dfTrxSaved['previous_trx']=0\n",
    "\n",
    "sorted_dfTemp=sorted_df[(sorted_df['card_pan_id']==sorted_df['card_pan_id1'])]\n",
    "dfTrxSaved['previous_trx']=np.where(sorted_df.index.isin(sorted_dfTemp.index),1,dfTrxSaved['previous_trx'])\n",
    "#dfTrxSaved['term_mcc1']=np.where(sorted_df.index.isin(sorted_dfTemp.index),dfTrxSaved['term_mcc1'],'')\n",
    "#dfTrxSaved['term_country1']=np.where(sorted_df.index.isin(sorted_dfTemp.index),dfTrxSaved['term_country1'],'')\n",
    "\n",
    "dfTrxSaved['card_pan_id1']=sorted_df['card_pan_id1']\n",
    "\n",
    "dfTrxSaved['term_mcc1']=sorted_df['term_mcc1']\n",
    "dfTrxSaved['mcc_group']=sorted_df['mcc_group']\n",
    "dfTrxSaved['mcc_group1']=sorted_df['mcc_group1']\n",
    "dfTrxSaved['term_country1']=sorted_df['term_country1']\n",
    "dfTrxSaved['db_uuid1']=sorted_df['db_uuid1']\n",
    "\n",
    "dfTrxSaved['previous_trx'].value_counts()\n"
   ]
  },
  {
   "cell_type": "code",
   "execution_count": null,
   "id": "dbf35f5c-031b-4a5f-a538-5c209def768f",
   "metadata": {},
   "outputs": [],
   "source": [
    "dfTrxSaved['country_group'] = dfTrxSaved['term_country'].apply(cm.get_country_group)\n",
    "dfTrxSaved['country_group1'] = dfTrxSaved['term_country1'].apply(cm.get_country_group)\n",
    "\n",
    "dfTrxSaved['term_mcc1'].fillna('99999',inplace=True)\n",
    "dfTrxSaved['term_mcc'] = dfTrxSaved['term_mcc'].astype('int')\n",
    "dfTrxSaved['term_mcc1'] = dfTrxSaved['term_mcc1'].astype('int')\n",
    "\n",
    "\n",
    "dfTrxSaved[['country_group','country_group1','mcc_group','mcc_group1']].head(5)"
   ]
  },
  {
   "cell_type": "code",
   "execution_count": null,
   "id": "54f239be-a4ce-4341-872b-859653a8d003",
   "metadata": {},
   "outputs": [],
   "source": [
    "print(f'IV previous_trx  {fd.calc_iv(dfTrxSaved,'previous_trx','Class',pr=0)}')"
   ]
  },
  {
   "cell_type": "code",
   "execution_count": null,
   "id": "9e847159-786a-4afb-84db-d6cb0b8a60f0",
   "metadata": {},
   "outputs": [],
   "source": [
    "\n",
    "\n",
    "temp=dfTrxSaved[(dfTrxSaved['Class']==1)]\n",
    "\n",
    "temp[['previous_trx','card_pan_id1','card_pan_id','term_country','term_country1', 'Class']].head(5)"
   ]
  },
  {
   "cell_type": "code",
   "execution_count": null,
   "id": "7d3586b6-ffca-42f5-a3af-53420b3e55da",
   "metadata": {},
   "outputs": [],
   "source": [
    "for i in range(0,3,1):\n",
    "    print(i)\n",
    "    print(dfTrxSaved[(dfTrxSaved['previous_trx']==i)].shape[0])\n",
    "    print(dfTrxSaved['Class'][(dfTrxSaved['previous_trx']==i)].value_counts(normalize=True))"
   ]
  },
  {
   "cell_type": "code",
   "execution_count": null,
   "id": "53d9d736-5b4b-4091-b583-81cd0ee8464c",
   "metadata": {},
   "outputs": [],
   "source": [
    "dfTrxSaved[(dfTrxSaved['previous_trx']==1)][['term_country','term_country1','term_mcc','term_mcc1']].head()"
   ]
  },
  {
   "cell_type": "code",
   "execution_count": null,
   "id": "c5a22ffb-f374-445c-ad6b-f3c6d3584b42",
   "metadata": {},
   "outputs": [],
   "source": [
    "dfTrxSaved[(dfTrxSaved['previous_trx']==1)][['term_country','term_country1','term_mcc','term_mcc1']].head()"
   ]
  },
  {
   "cell_type": "code",
   "execution_count": null,
   "id": "2ab9a1f9-d63e-4848-9724-7dd5befc67c0",
   "metadata": {},
   "outputs": [],
   "source": [
    "dfTrxSaved['term_mcc'] = dfTrxSaved['term_mcc'].astype('str')\n",
    "dfTrxSaved.info()"
   ]
  },
  {
   "cell_type": "code",
   "execution_count": null,
   "id": "75858656-ac04-45f4-a777-d1d6c3d23325",
   "metadata": {},
   "outputs": [],
   "source": [
    "dfTrxSaved['distancePrevTrx']=1.0 #cosinus distance ?"
   ]
  },
  {
   "cell_type": "code",
   "execution_count": null,
   "id": "3c4a9332-a008-4163-9fa1-e734add91145",
   "metadata": {},
   "outputs": [],
   "source": [
    "dfTemp=dfTrxSaved[(dfTrxSaved['previous_trx']==1) \n",
    "    & (dfTrxSaved['term_mcc']==dfTrxSaved['term_mcc1']) \n",
    "    & (dfTrxSaved['term_country']==dfTrxSaved['term_country1']) ]\n",
    "dfTrxSaved['distancePrevTrx']=np.where(sorted_df.index.isin(dfTemp.index),1,dfTrxSaved['distancePrevTrx'])\n",
    "\n",
    "dfTemp=dfTrxSaved[(dfTrxSaved['previous_trx']==1) \n",
    "    & (dfTrxSaved['term_mcc']==dfTrxSaved['term_mcc1']) \n",
    "    & (dfTrxSaved['term_country']!=dfTrxSaved['term_country1']) ]\n",
    "dfTrxSaved['distancePrevTrx']=np.where(sorted_df.index.isin(dfTemp.index),0.4,dfTrxSaved['distancePrevTrx'])\n",
    "\n",
    "dfTemp=dfTrxSaved[(dfTrxSaved['previous_trx']==1) \n",
    "    & (dfTrxSaved['term_mcc']!=dfTrxSaved['term_mcc1']) \n",
    "    & (dfTrxSaved['term_country']==dfTrxSaved['term_country1']) ]\n",
    "dfTrxSaved['distancePrevTrx']=np.where(sorted_df.index.isin(dfTemp.index),0.6,dfTrxSaved['distancePrevTrx'])\n",
    "\n",
    "dfTemp=dfTrxSaved[(dfTrxSaved['previous_trx']==1) \n",
    "    & (dfTrxSaved['term_mcc']!=dfTrxSaved['term_mcc1']) \n",
    "    & (dfTrxSaved['term_country']!=dfTrxSaved['term_country1']) ]\n",
    "dfTrxSaved['distancePrevTrx']=np.where(sorted_df.index.isin(dfTemp.index),0,dfTrxSaved['distancePrevTrx'])\n",
    "\n",
    "print(f'IV previous_trx  {fd.calc_iv(dfTrxSaved,'distancePrevTrx','Class',pr=0)}')\n",
    "print(\"1.0 \",dfTrxSaved[(dfTrxSaved['distancePrevTrx']==1.0)].Class.value_counts(normalize=True))\n",
    "print(\"0.6 \",dfTrxSaved[(dfTrxSaved['distancePrevTrx']==0.6)].Class.value_counts(normalize=True))\n",
    "#print(\"0.4 \",dfTrxSaved[(dfTrxSaved['distancePrevTrx']==0.4)].Class.value_counts(normalize=True))\n",
    "print(\"0.0 \",dfTrxSaved[(dfTrxSaved['distancePrevTrx']==0.0)].Class.value_counts(normalize=True))\n",
    "dfTrxSaved['distancePrevTrx'].value_counts()"
   ]
  },
  {
   "cell_type": "code",
   "execution_count": null,
   "id": "730b90f0-5063-4646-997a-da5e739e82a0",
   "metadata": {},
   "outputs": [],
   "source": [
    "dfTemp=dfTrxSaved[(dfTrxSaved['previous_trx']==1) \n",
    "    & (dfTrxSaved['mcc_group']==dfTrxSaved['mcc_group1']) \n",
    "    & (dfTrxSaved['country_group']==dfTrxSaved['country_group1']) ]\n",
    "dfTrxSaved['distancePrevTrx']=np.where(sorted_df.index.isin(dfTemp.index),1,dfTrxSaved['distancePrevTrx'])\n",
    "\n",
    "dfTemp=dfTrxSaved[(dfTrxSaved['previous_trx']==1) \n",
    "    & (dfTrxSaved['mcc_group']==dfTrxSaved['mcc_group1']) \n",
    "    & (dfTrxSaved['country_group']!=dfTrxSaved['country_group1']) ]\n",
    "dfTrxSaved['distancePrevTrx']=np.where(sorted_df.index.isin(dfTemp.index),0.4,dfTrxSaved['distancePrevTrx'])\n",
    "\n",
    "dfTemp=dfTrxSaved[(dfTrxSaved['previous_trx']==1) \n",
    "    & (dfTrxSaved['mcc_group']!=dfTrxSaved['mcc_group1']) \n",
    "    & (dfTrxSaved['country_group']==dfTrxSaved['country_group1']) ]\n",
    "dfTrxSaved['distancePrevTrx']=np.where(sorted_df.index.isin(dfTemp.index),0.6,dfTrxSaved['distancePrevTrx'])\n",
    "\n",
    "dfTemp=dfTrxSaved[(dfTrxSaved['previous_trx']==1) \n",
    "    & (dfTrxSaved['mcc_group']!=dfTrxSaved['mcc_group1']) \n",
    "    & (dfTrxSaved['country_group']!=dfTrxSaved['country_group1']) ]\n",
    "dfTrxSaved['distancePrevTrx']=np.where(sorted_df.index.isin(dfTemp.index),0,dfTrxSaved['distancePrevTrx'])\n",
    "\n",
    "\n",
    "print(f'IV previous_trx  {fd.calc_iv(dfTrxSaved,'distancePrevTrx','Class',pr=0)}')\n",
    "print(\"1.0 \",dfTrxSaved[(dfTrxSaved['distancePrevTrx']==1.0)].Class.value_counts(normalize=True))\n",
    "print(\"0.6 \",dfTrxSaved[(dfTrxSaved['distancePrevTrx']==0.6)].Class.value_counts(normalize=True))\n",
    "print(\"0.4 \",dfTrxSaved[(dfTrxSaved['distancePrevTrx']==0.4)].Class.value_counts(normalize=True))\n",
    "print(\"0.0 \",dfTrxSaved[(dfTrxSaved['distancePrevTrx']==0.0)].Class.value_counts(normalize=True))\n",
    "dfTrxSaved['distancePrevTrx'].value_counts()"
   ]
  },
  {
   "cell_type": "code",
   "execution_count": null,
   "id": "bd5c71ea-c885-44ec-8e77-2f21a9ceb03c",
   "metadata": {},
   "outputs": [],
   "source": []
  },
  {
   "cell_type": "code",
   "execution_count": null,
   "id": "c10d7769-8277-4bd9-90dd-949a1dd6d7f9",
   "metadata": {},
   "outputs": [],
   "source": []
  }
 ],
 "metadata": {
  "kernelspec": {
   "display_name": "Python 3 (ipykernel)",
   "language": "python",
   "name": "python3"
  },
  "language_info": {
   "codemirror_mode": {
    "name": "ipython",
    "version": 3
   },
   "file_extension": ".py",
   "mimetype": "text/x-python",
   "name": "python",
   "nbconvert_exporter": "python",
   "pygments_lexer": "ipython3",
   "version": "3.12.4"
  }
 },
 "nbformat": 4,
 "nbformat_minor": 5
}
