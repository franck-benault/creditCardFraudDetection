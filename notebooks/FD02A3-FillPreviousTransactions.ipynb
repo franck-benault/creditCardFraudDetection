{
 "cells": [
  {
   "cell_type": "code",
   "execution_count": null,
   "id": "eace7ce9-638b-43f5-bb04-cc5d425ef5df",
   "metadata": {},
   "outputs": [],
   "source": [
    "import pandas as pd\n",
    "\n",
    "#For Kaggle\n",
    "#date=''\n",
    "\n",
    "#For WL data\n",
    "date='20241118'\n",
    "source='WL'\n",
    "\n",
    "saveImg=False\n",
    "\n",
    "print('done')\n",
    "\n",
    "dfTrxSaved = pd.read_csv('../data/cleaned/'+source+'export'+date+'.csv')\n",
    "dfTrxSaved.head(5)"
   ]
  },
  {
   "cell_type": "code",
   "execution_count": null,
   "id": "9d5a4a4e-9fef-4cbc-8fdf-e1e860cfe317",
   "metadata": {},
   "outputs": [],
   "source": [
    "sorted_df = dfTrxSaved.sort_values(by=['card_pan_id','trx_date_time'])\n",
    "sorted_df=sorted_df.drop(columns=['mcd_fraud_score','vaa_score',\n",
    "                                 'trx_amount_log10','ecom',\t'card_brand_MCD',\t'card_brand_VIS','country_group_BELGIUM','country_group_EUROPE',\n",
    "                                 'clusterCardHolder_cluster0',\t'clusterCardHolder_cluster1',\t'clusterCardHolder_cluster2',\t'clusterCardHolder_cluster3',\t\n",
    "                                 'clusterCardHolder_cluster4',\t'clusterMerchant_M0',\t'clusterMerchant_M1','clusterMerchant_M2','clusterMerchant_M3',\n",
    "                                 'clusterMerchant_UNKNOWN',\n",
    "                                  'country_group_WORLD','mcc_group_CLOTHING_STORES',\t\n",
    "                                  'mcc_group_GOUVERNEMENT_SERVICES','mcc_group_OTHER','mcc_group_PROFESSIONAL_SERVICES',\t\n",
    "                                  'mcc_group_RETAIL_OUTLET_SERVICES','mcc_group_UTILITY_SERVICES',\t\n",
    "                                  'trx_reversal_FULL_REVERSAL',\t'trx_reversal_NO_RESERSAL',\t\n",
    "                                  'trx_reversal_PARTIAL_REVERSAL','clusterCardHolder_UNKNOWN'\n",
    "                                 ])\n",
    "#print(sorted_df.head(10))\n",
    "#print(sorted_df.shift(-1).head(10))\n",
    "\n",
    "\n",
    "sorted_df['card_pan_id1'] = sorted_df['card_pan_id'].shift(-1)\n",
    "sorted_df['term_mcc1'] = sorted_df['term_mcc'].shift(-1)\n",
    "sorted_df['term_country1'] = sorted_df['term_country'].shift(-1)\n",
    "sorted_df.head(10)\n",
    "\n",
    "sorted_df['card_pan_id2'] = sorted_df['card_pan_id'].shift(-2)\n",
    "sorted_df['term_mcc2'] = sorted_df['term_mcc'].shift(-2)\n",
    "sorted_df['term_country2'] = sorted_df['term_country'].shift(-2)\n",
    "\n",
    "sorted_df['card_pan_id3'] = sorted_df['card_pan_id'].shift(-3)\n",
    "sorted_df['term_mcc3'] = sorted_df['term_mcc'].shift(-3)\n",
    "sorted_df['term_country3'] = sorted_df['term_country'].shift(-3)\n",
    "\n",
    "sorted_df['card_pan_id4'] = sorted_df['card_pan_id'].shift(-4)\n",
    "sorted_df['term_mcc4'] = sorted_df['term_mcc'].shift(-4)\n",
    "sorted_df['term_country4'] = sorted_df['term_country'].shift(-4)\n",
    "\n",
    "sorted_df['card_pan_id5'] = sorted_df['card_pan_id'].shift(-5)\n",
    "sorted_df['term_mcc5'] = sorted_df['term_mcc'].shift(-5)\n",
    "sorted_df['term_country5'] = sorted_df['term_country'].shift(-5)\n",
    "\n",
    "sorted_df['card_pan_id6'] = sorted_df['card_pan_id'].shift(-6)\n",
    "sorted_df['term_mcc6'] = sorted_df['term_mcc'].shift(-6)\n",
    "sorted_df['term_country6'] = sorted_df['term_country'].shift(-6)\n",
    "\n",
    "sorted_df['card_pan_id7'] = sorted_df['card_pan_id'].shift(-7)\n",
    "sorted_df['term_mcc7'] = sorted_df['term_mcc'].shift(-7)\n",
    "sorted_df['term_country7'] = sorted_df['term_country'].shift(-7)\n"
   ]
  },
  {
   "cell_type": "code",
   "execution_count": null,
   "id": "54debcfa-5182-4602-91ed-187b760a9b68",
   "metadata": {},
   "outputs": [],
   "source": [
    "sorted_df1=sorted_df[(sorted_df['card_pan_id']==sorted_df['card_pan_id1'])]\n",
    "sorted_df2=sorted_df[(sorted_df['card_pan_id']==sorted_df['card_pan_id2'])]\n",
    "sorted_df3=sorted_df[(sorted_df['card_pan_id']==sorted_df['card_pan_id3'])]\n",
    "sorted_df4=sorted_df[(sorted_df['card_pan_id']==sorted_df['card_pan_id4'])]\n",
    "sorted_df5=sorted_df[(sorted_df['card_pan_id']==sorted_df['card_pan_id5'])]\n",
    "sorted_df6=sorted_df[(sorted_df['card_pan_id']==sorted_df['card_pan_id6'])]\n",
    "sorted_df7=sorted_df[(sorted_df['card_pan_id']==sorted_df['card_pan_id7'])]\n",
    "\n",
    "print(sorted_df.shape)\n",
    "print(sorted_df1.shape)\n",
    "print(sorted_df2.shape)\n",
    "print(sorted_df3.shape)\n",
    "print(sorted_df4.shape)\n",
    "print(sorted_df5.shape)\n",
    "print(sorted_df6.shape)\n",
    "print(sorted_df7.shape)\n",
    "print(sorted_df.Class.value_counts(normalize=True))\n",
    "print(sorted_df1.Class.value_counts(normalize=True))\n",
    "print(sorted_df2.Class.value_counts(normalize=True))\n",
    "print(sorted_df3.Class.value_counts(normalize=True))\n",
    "print(sorted_df4.Class.value_counts(normalize=True))\n",
    "print(sorted_df5.Class.value_counts(normalize=True))\n",
    "print(sorted_df6.Class.value_counts(normalize=True))\n",
    "print(sorted_df7.Class.value_counts(normalize=True))\n",
    "\n",
    "#sorted_df4.head(50)"
   ]
  },
  {
   "cell_type": "code",
   "execution_count": null,
   "id": "e5e2c977-06e1-4054-8c60-7e36f4a69a05",
   "metadata": {},
   "outputs": [],
   "source": [
    "import numpy as np\n",
    "\n",
    "dfTrxSaved['previous_trx']=0\n",
    "for i in range(1,2,1):\n",
    "    sorted_df['card_pan_id1'] = sorted_df['card_pan_id'].shift(-i)\n",
    "    sorted_dfTemp=sorted_df[(sorted_df['card_pan_id']==sorted_df['card_pan_id1'])]\n",
    "    dfTrxSaved['previous_trx']=np.where(sorted_df.index.isin(sorted_dfTemp.index),i,dfTrxSaved['previous_trx'])\n",
    "    \n",
    "\n",
    "\n",
    "\n",
    "#sorted_df['card_pan_id2'] = sorted_df['card_pan_id'].shift(-2)\n",
    "#sorted_dfTemp=sorted_df[(sorted_df['card_pan_id']==sorted_df['card_pan_id2'])]\n",
    "#dfTrxSaved['previous_trx']=np.where(sorted_df.index.isin(sorted_dfTemp.index),2,dfTrxSaved['previous_trx'] )\n",
    "\n",
    "dfTrxSaved['previous_trx'].value_counts()"
   ]
  },
  {
   "cell_type": "code",
   "execution_count": null,
   "id": "9e847159-786a-4afb-84db-d6cb0b8a60f0",
   "metadata": {},
   "outputs": [],
   "source": [
    "dfTrxSaved.head()"
   ]
  },
  {
   "cell_type": "code",
   "execution_count": null,
   "id": "7d3586b6-ffca-42f5-a3af-53420b3e55da",
   "metadata": {},
   "outputs": [],
   "source": [
    "for i in range(0,3,1):\n",
    "    print(i)\n",
    "    print(dfTrxSaved[(dfTrxSaved['previous_trx']==i)].shape[0])\n",
    "    print(dfTrxSaved['Class'][(dfTrxSaved['previous_trx']==i)].value_counts(normalize=True))"
   ]
  },
  {
   "cell_type": "code",
   "execution_count": null,
   "id": "9e4dfb50-33fc-4cdd-b2d9-4dd9a5de56fe",
   "metadata": {},
   "outputs": [],
   "source": [
    "print(dfTrxSaved['Class'].value_counts(normalize=True))\n",
    "print(dfTrxSaved['Class'][(dfTrxSaved['clusterCardHolder_cluster0']==1) & (dfTrxSaved['previous_trx']==1)].value_counts(normalize=True))\n",
    "print(dfTrxSaved['Class'][(dfTrxSaved['clusterCardHolder_cluster1']==1) & (dfTrxSaved['previous_trx']==1)].value_counts(normalize=True))\n",
    "print(dfTrxSaved['Class'][(dfTrxSaved['clusterCardHolder_cluster2']==1) & (dfTrxSaved['previous_trx']==1)].value_counts(normalize=True))\n",
    "print(dfTrxSaved['Class'][(dfTrxSaved['clusterCardHolder_cluster3']==1) & (dfTrxSaved['previous_trx']==1)].value_counts(normalize=True))\n",
    "print(dfTrxSaved['Class'][(dfTrxSaved['clusterCardHolder_cluster4']==1) & (dfTrxSaved['previous_trx']==1)].value_counts(normalize=True))"
   ]
  },
  {
   "cell_type": "code",
   "execution_count": null,
   "id": "53d9d736-5b4b-4091-b583-81cd0ee8464c",
   "metadata": {},
   "outputs": [],
   "source": []
  }
 ],
 "metadata": {
  "kernelspec": {
   "display_name": "Python 3 (ipykernel)",
   "language": "python",
   "name": "python3"
  },
  "language_info": {
   "codemirror_mode": {
    "name": "ipython",
    "version": 3
   },
   "file_extension": ".py",
   "mimetype": "text/x-python",
   "name": "python",
   "nbconvert_exporter": "python",
   "pygments_lexer": "ipython3",
   "version": "3.12.4"
  }
 },
 "nbformat": 4,
 "nbformat_minor": 5
}
