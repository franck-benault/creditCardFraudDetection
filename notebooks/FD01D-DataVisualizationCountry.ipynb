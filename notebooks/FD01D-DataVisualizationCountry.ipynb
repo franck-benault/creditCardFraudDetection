{
 "cells": [
  {
   "cell_type": "code",
   "execution_count": null,
   "id": "c1945d63-80f7-4ab0-a1af-d0e08c71309d",
   "metadata": {},
   "outputs": [],
   "source": [
    "#For Kaggle\n",
    "\n",
    "#For WL data\n",
    "date='20241118'\n",
    "source='WL'\n",
    "saveImg=False\n",
    "\n",
    "print('done')"
   ]
  },
  {
   "cell_type": "code",
   "execution_count": null,
   "id": "f0941727-c3ef-42ba-b96b-7ec8da494b1d",
   "metadata": {},
   "outputs": [],
   "source": [
    "import sys\n",
    "import os\n",
    "from importlib import reload\n",
    "fpath = os.path.join('..//scripts')\n",
    "sys.path.append(fpath)\n",
    "\n",
    "import warnings\n",
    "warnings.filterwarnings('ignore')\n",
    "\n",
    "#loading internal scripts\n",
    "import frauddetection as fd\n",
    "import sourcedata as sd\n",
    "import countrymanagement as cm\n",
    "reload(fd)\n",
    "reload(sd)\n",
    "reload(cm)\n",
    "\n",
    "print('done')"
   ]
  },
  {
   "cell_type": "markdown",
   "id": "3e81ab8b-7a49-478c-b480-fa8c7e12e660",
   "metadata": {},
   "source": [
    "# Loading raw transactions file"
   ]
  },
  {
   "cell_type": "code",
   "execution_count": null,
   "id": "2d5b5c74-eefa-4701-bbde-fa75b768f061",
   "metadata": {},
   "outputs": [],
   "source": [
    "import dataimport as di\n",
    "import pandas as pd \n",
    "   \n",
    "dfTrx = di.read_file('../data/raw/'+source+'export'+date+'.csv')\n",
    "dfTrx.head(5)"
   ]
  },
  {
   "cell_type": "code",
   "execution_count": null,
   "id": "fee52c92-1271-4583-9734-fa1dd3ec1a7f",
   "metadata": {},
   "outputs": [],
   "source": [
    "print(dfTrx['term_country'].value_counts())"
   ]
  },
  {
   "cell_type": "code",
   "execution_count": null,
   "id": "df6c4f17-c332-498a-81c0-a1e427d2cd5f",
   "metadata": {
    "scrolled": true
   },
   "outputs": [],
   "source": [
    "dfTrx['term_country'].value_counts()[:20].plot(kind='barh')"
   ]
  },
  {
   "cell_type": "code",
   "execution_count": null,
   "id": "98d7c76f-3bce-49ac-a461-84bf58df993b",
   "metadata": {},
   "outputs": [],
   "source": [
    "from datetime import datetime\n",
    "\n",
    "then= datetime.now()\n",
    "print(f\"IV term_country {fd.calc_iv(dfTrx,'term_country','Class',pr=0):.3f}\")\n",
    "now = datetime.now()\n",
    "duration= now - then\n",
    "duration_in_s = duration.total_seconds()\n",
    "print(f\"Duration {duration_in_s:.1f} s\")\n",
    "#result 1.907 (18/01/2025)"
   ]
  },
  {
   "cell_type": "markdown",
   "id": "eb0c8d07-b883-4d4a-91cf-039b22eca37a",
   "metadata": {},
   "source": [
    "# Grouping countries"
   ]
  },
  {
   "cell_type": "code",
   "execution_count": null,
   "id": "bfbc4f40-e0bd-4853-ade8-7ac3610a702b",
   "metadata": {},
   "outputs": [],
   "source": [
    "dfTrx['country_group'] = dfTrx['term_country'].apply(cm.get_country_group)\n",
    "dfTrx.head()"
   ]
  },
  {
   "cell_type": "code",
   "execution_count": null,
   "id": "689e4035-b885-4daa-aa63-b1b146cd07a7",
   "metadata": {},
   "outputs": [],
   "source": [
    "dfTrx['country_group'].value_counts().plot(kind='barh')"
   ]
  },
  {
   "cell_type": "code",
   "execution_count": null,
   "id": "ea4a7a87-bba7-4f4a-961f-3b94fccd7812",
   "metadata": {},
   "outputs": [],
   "source": [
    "print(f\"IV country_group {fd.calc_iv(dfTrx,'country_group','Class',pr=0):.3f}\")\n",
    "#result 1.117 (18/01/2025)"
   ]
  },
  {
   "cell_type": "code",
   "execution_count": null,
   "id": "bf27ebf7-cb21-4bf9-baa1-d730560a3d7a",
   "metadata": {},
   "outputs": [],
   "source": [
    "import matplotlib.pyplot as plt\n",
    "\n",
    "print(\"Country group:\")\n",
    "plt.pie(dfTrx['country_group'].value_counts(),autopct='%1.1f%%', labels=['Europe','Belgium','World'])\n",
    "if(saveImg):\n",
    "    plt.savefig('../imgs/FD01D-piediag-country-group.png')\n",
    "plt.show()"
   ]
  },
  {
   "cell_type": "code",
   "execution_count": null,
   "id": "4a1c2d63-ced5-4f2d-848e-de14f1349d15",
   "metadata": {},
   "outputs": [],
   "source": []
  }
 ],
 "metadata": {
  "kernelspec": {
   "display_name": "Python 3 (ipykernel)",
   "language": "python",
   "name": "python3"
  },
  "language_info": {
   "codemirror_mode": {
    "name": "ipython",
    "version": 3
   },
   "file_extension": ".py",
   "mimetype": "text/x-python",
   "name": "python",
   "nbconvert_exporter": "python",
   "pygments_lexer": "ipython3",
   "version": "3.12.4"
  }
 },
 "nbformat": 4,
 "nbformat_minor": 5
}
