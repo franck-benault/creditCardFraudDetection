{
 "cells": [
  {
   "cell_type": "markdown",
   "id": "2d754aef-0c61-4f95-84c0-b8330c56d67b",
   "metadata": {},
   "source": [
    "# Random forest classifier introduction\n",
    "* this is  a ensemble bagging method coming from sklearn\n",
    "* there is risk of overfitting \n",
    "* to avoid overfitting the max_depth must not be bigger than 15\n",
    "* Because it is a bagging method good result is not expected for imbalanced data\n",
    "* Does not need scaling or normalisation"
   ]
  },
  {
   "cell_type": "code",
   "execution_count": null,
   "id": "6b9e922f-84cb-4556-a6d9-dea7ce222301",
   "metadata": {},
   "outputs": [],
   "source": [
    "#For Kaggle\n",
    "#date=''\n",
    "\n",
    "#For WL data\n",
    "source='WL'\n",
    "date='20241118'\n",
    "\n",
    "saveImage=False\n",
    "\n",
    "packageName='07-sklearn.ensemble.a-bagging'\n",
    "classifierName='2-RandomForestClassifier'\n",
    "extraParameterName='1-Default'\n",
    "\n",
    "print('done')"
   ]
  },
  {
   "cell_type": "code",
   "execution_count": null,
   "id": "53106652-5d8c-4b52-8d38-a65e992b1abe",
   "metadata": {},
   "outputs": [],
   "source": [
    "import sys\n",
    "import os\n",
    "from importlib import reload\n",
    "fpath = os.path.join('..//scripts')\n",
    "sys.path.append(fpath)\n",
    "\n",
    "import warnings\n",
    "warnings.filterwarnings('ignore')\n",
    "\n",
    "#loading internal scripts\n",
    "import frauddetection as fd\n",
    "import sourcedata as sd\n",
    "import dataimport as di\n",
    "import result as resultMd\n",
    "reload(fd)\n",
    "reload(sd)\n",
    "reload(di)\n",
    "reload(resultMd)\n",
    "\n",
    "print('done')"
   ]
  },
  {
   "cell_type": "code",
   "execution_count": null,
   "id": "815caabe-4406-48c6-871b-6e926c85d9d2",
   "metadata": {},
   "outputs": [],
   "source": [
    "# Hyperparameters Results\n",
    "\n",
    "n_estimatorsFound=37\n",
    "max_depthFound=31\n",
    "\n",
    "resultMd.update_hyperparameter_config_result(packageName,classifierName,extraParameterName,max_depthFound,n_estimatorsFound)\n",
    "\n",
    "\n",
    "print('done')"
   ]
  },
  {
   "cell_type": "code",
   "execution_count": null,
   "id": "5a6f119e-bb6e-4236-88de-526cb617e9ec",
   "metadata": {},
   "outputs": [],
   "source": [
    "import pandas as pd\n",
    "\n",
    "dfTrx0 = pd.read_csv('../data/cleaned/'+source+'export'+date+'.csv')\n",
    "predictors = fd.getPredictors(dfTrx0)\n",
    "dfTrx=fd.getStandardScaledData('export'+date+'.csv',source,predictors)\n",
    "dfTrx.head(5)"
   ]
  },
  {
   "cell_type": "markdown",
   "id": "d50b4b4b-05dc-4db9-b6f3-26133ac817e6",
   "metadata": {},
   "source": [
    "# Test with default hyperparameters"
   ]
  },
  {
   "cell_type": "code",
   "execution_count": null,
   "id": "3f9c75f3-9d3a-45dd-a778-abbe0e12efc6",
   "metadata": {},
   "outputs": [],
   "source": [
    "%%script false\n",
    "\n",
    "from sklearn.ensemble import RandomForestClassifier\n",
    "import matplotlib.pyplot as plt\n",
    "from datetime import datetime\n",
    "\n",
    "then= datetime.now()\n",
    "predictors = fd.getPredictors(dfTrx0)\n",
    "\n",
    "x_train, x_test, y_train, y_test, scaler =fd.split_data(dfTrx,predictors)\n",
    "\n",
    "modelClf = RandomForestClassifier(random_state=42)\n",
    "modelClf.fit(x_train, y_train)\n",
    "predsTrain = modelClf.predict(x_train)\n",
    "predsTest = modelClf.predict(x_test)\n",
    "\n",
    "now = datetime.now()\n",
    "duration= now - then\n",
    "duration_in_s = duration.total_seconds()\n",
    "print(\"Duration \",duration_in_s)\n",
    "resultMd.update_time_response_result('07-sklearn.ensemble.a-bagging','RandomForest','1-Default', duration_in_s)\n",
    "f1,mcc,roc=fd.print_scores(y_test, predsTest,'all')\n",
    "resultMd.update_performance_test_result('07-sklearn.ensemble-a-bagging','RandomForest','1-Default', f1,mcc,roc)\n",
    "\n",
    "fd.print_scores(y_train, predsTrain,'f1', False)\n",
    "fd.print_scores(y_test, predsTest,'f1')\n",
    "fd.show_importance(modelClf, predictors)\n",
    "fd.show_confusion_matrix(y_test, predsTest)\n"
   ]
  },
  {
   "cell_type": "code",
   "execution_count": null,
   "id": "4f3e9442-ebfb-4425-b421-ee7b66d04bb3",
   "metadata": {},
   "outputs": [],
   "source": [
    "%%script false\n",
    "import numpy as np\n",
    "\n",
    "depth=[]\n",
    "for tree in modelClf.estimators_:\n",
    "    depth=np.append(depth, tree.get_depth())\n",
    "print(np.max(depth))"
   ]
  },
  {
   "cell_type": "markdown",
   "id": "f7da6108-76d2-4cbb-b2b3-2b99565fe999",
   "metadata": {},
   "source": [
    "# Default parameters conclusion\n",
    "Overfitting probably due to the default parameter max_depth=None"
   ]
  },
  {
   "cell_type": "markdown",
   "id": "79818645-df0a-44ed-91cd-68b87bca2cde",
   "metadata": {},
   "source": [
    "# Hyperparameters tuning"
   ]
  },
  {
   "cell_type": "code",
   "execution_count": null,
   "id": "921039dc-bfb5-4eab-b9c1-885d5605fa55",
   "metadata": {},
   "outputs": [],
   "source": [
    "%%script false\n",
    "\n",
    "from scipy.stats import randint\n",
    "\n",
    "modelClf = RandomForestClassifier(random_state=42)\n",
    "dic_param={\n",
    "    'n_estimators': randint(35,90),\n",
    "    'max_depth': randint(17,33)\n",
    "}\n",
    "res=fd.hyperparameterSelectionRandomizedSearchCV(modelClf, dic_param, 'f1', dfTrx, predictors, [], None,iter=4)\n",
    "print(res)\n",
    "\n",
    "#[CV 5/5; 10/10] END max_depth=20, n_estimators=106;, score=0.121 total time= 2.8min\n",
    "#{'max_depth': 22, 'n_estimators': 60}\n",
    "#0.16552081045379466\n",
    "#score   0.8500551267916208\n",
    "#scoref1 0.8500551267916208\n",
    "\n",
    "#{'max_depth': 29, 'n_estimators': 46}\n",
    "#0.20666197372708545\n",
    "#score   0.9669135802469135\n",
    "#scoref1 0.9669135802469135\n"
   ]
  },
  {
   "cell_type": "code",
   "execution_count": null,
   "id": "78b0cba8-6444-4c91-a313-66c1d4e7e87e",
   "metadata": {},
   "outputs": [],
   "source": [
    "%%script false\n",
    "\n",
    "from sklearn.ensemble import RandomForestClassifier\n",
    "\n",
    "modelClf = RandomForestClassifier(random_state=42)\n",
    "\n",
    "dic_param={\n",
    "    'n_estimators':[36,37,38],\n",
    "    'max_depth':[30,31,32]\n",
    "}\n",
    "res=fd.hyperparameterSelectionGridSearchCV(modelClf, dic_param, 'f1', dfTrx, predictors, [], None)\n",
    "print(res)\n",
    "\n",
    "\n",
    "\n",
    "#{'max_depth': 32, 'n_estimators': 39}\n",
    "#0.21652747099234754\n",
    "#scoref1 0.9776264591439688\n",
    "\n",
    "#[CV 5/5; 25/25] END max_depth=34, n_estimators=41;, score=0.221 total time= 1.6min\n",
    "#{'max_depth': 32, 'n_estimators': 37}\n",
    "#0.21685312600926157\n",
    "#scoref1 0.9755620723362659\n",
    "\n",
    "#{'max_depth': 31, 'n_estimators': 37}\n",
    "#0.21358217338757218\n",
    "#scoref1 0.9724950884086444\n"
   ]
  },
  {
   "cell_type": "code",
   "execution_count": null,
   "id": "56ae1be4-a998-4ad9-8cd0-131e5ce3af52",
   "metadata": {},
   "outputs": [],
   "source": [
    "from sklearn.ensemble import RandomForestClassifier\n",
    "import matplotlib.pyplot as plt\n",
    "from datetime import datetime\n",
    "\n",
    "then= datetime.now()\n",
    "predictors = fd.getPredictors(dfTrx0)\n",
    "\n",
    "x_train, x_test, y_train, y_test, scaler =fd.split_data(dfTrx,predictors)\n",
    "\n",
    "modelClf = RandomForestClassifier(random_state=42)\n",
    "parameters={'max_depth': max_depthFound, 'n_estimators':n_estimatorsFound}\n",
    "modelClf.set_params(**parameters)\n",
    "\n",
    "modelClf.fit(x_train, y_train)\n",
    "predsTrain = modelClf.predict(x_train)\n",
    "predsTest = modelClf.predict(x_test)\n",
    "\n",
    "now = datetime.now()\n",
    "duration= now - then\n",
    "duration_in_s = duration.total_seconds()\n",
    "print(\"Duration \",duration_in_s)\n",
    "resultMd.update_time_response_result('07-sklearn.ensemble.a-bagging','RandomForest','2-After tuning', duration_in_s)\n",
    "f1,mcc,roc=fd.print_scores(y_test, predsTest,'all')\n",
    "resultMd.update_performance_test_result('07-sklearn.ensemble.a-bagging','RandomForest','2-After tuning', f1,mcc,roc)\n",
    "\n",
    "f1Train=fd.print_scores(y_train, predsTrain,'f1', False)\n",
    "f1Test=fd.print_scores(y_test, predsTest,'f1')\n",
    "fd.show_importance(modelClf, predictors)\n",
    "fd.show_confusion_matrix(y_test, predsTest)\n",
    "fd.show_prediction_graph(modelClf, x_test,y_test,'../imgs/FD07A-RandomForestClassifierProbaHistogram' if saveImage else None)\n",
    "\n",
    "diffF1=f1Train-f1Test\n",
    "print(\"diffF1\",diffF1)\n",
    "\n",
    "tmp = pd.DataFrame({'Feature': predictors, 'Feature importance': modelClf.feature_importances_})\n",
    "val=tmp[(tmp['Feature']=='trx_amount_log10')]['Feature importance']\n",
    "amountImportance =val.values[0]\n",
    "print(\"amount importance\",amountImportance)"
   ]
  },
  {
   "cell_type": "code",
   "execution_count": null,
   "id": "9e8d9491-f833-4537-9a65-076404bde78c",
   "metadata": {},
   "outputs": [],
   "source": [
    "files = fd.getAllFiles()\n",
    "predictors = fd.getPredictors(dfTrx0)\n",
    "\n",
    "range = []\n",
    "f1s = []\n",
    "rocs = []\n",
    "loop =0\n",
    "for file in files:\n",
    "    loop=loop+1\n",
    "    range.append(loop)\n",
    "    print(file)\n",
    "  \n",
    "    dfTrx=fd.getStandardScaledData(file,source,predictors)\n",
    "    preds = modelClf.predict(dfTrx[predictors])\n",
    "\n",
    "    f1,mcc,roc= fd.print_scores(dfTrx['Class'], preds,'All', True)\n",
    "    #fd.show_importance(modelClf,predictors)\n",
    "    fd.show_confusion_matrix(dfTrx['Class'], preds)\n",
    "    f1s.append(f1)\n",
    "    rocs.append(roc)\n",
    "\n",
    "fd.plt_train_test(range, f1s)\n",
    "resultMd.update_performance_nextdays_result(packageName,classifierName,extraParameterName, f1s[0],f1s[1],f1s[2],f1s[3],rocs[0],rocs[1],rocs[2],rocs[3],diffF1,amountImportance)\n"
   ]
  },
  {
   "cell_type": "markdown",
   "id": "8e067771-f278-4280-96ab-15c06dc89bc7",
   "metadata": {},
   "source": [
    "# "
   ]
  }
 ],
 "metadata": {
  "kernelspec": {
   "display_name": "Python 3 (ipykernel)",
   "language": "python",
   "name": "python3"
  },
  "language_info": {
   "codemirror_mode": {
    "name": "ipython",
    "version": 3
   },
   "file_extension": ".py",
   "mimetype": "text/x-python",
   "name": "python",
   "nbconvert_exporter": "python",
   "pygments_lexer": "ipython3",
   "version": "3.12.4"
  }
 },
 "nbformat": 4,
 "nbformat_minor": 5
}
