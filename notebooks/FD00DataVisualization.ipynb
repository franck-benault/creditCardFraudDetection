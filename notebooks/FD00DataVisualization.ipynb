{
 "cells": [
  {
   "cell_type": "code",
   "execution_count": null,
   "id": "cd91aa18-64bb-4bd6-822e-1b2adef0b714",
   "metadata": {},
   "outputs": [],
   "source": [
    "import sys\n",
    "import os\n",
    "from importlib import reload\n",
    "fpath = os.path.join('..//scripts')\n",
    "sys.path.append(fpath)\n",
    "\n",
    "import warnings\n",
    "warnings.filterwarnings('ignore')\n",
    "\n",
    "#loading internal scripts\n",
    "import frauddetection as fd\n",
    "import sourcedata as sd\n",
    "reload(fd)\n",
    "reload(sd)\n",
    "\n",
    "date='20241118'\n",
    "\n",
    "print('done')"
   ]
  },
  {
   "cell_type": "markdown",
   "id": "95d70ff9-057e-40c9-977f-3f55d9ab21b9",
   "metadata": {},
   "source": [
    "# loading raw transaction file"
   ]
  },
  {
   "cell_type": "code",
   "execution_count": null,
   "id": "9ec043a1-d43b-4815-876a-ed238ff0a401",
   "metadata": {},
   "outputs": [],
   "source": [
    "import frauddetection as fd\n",
    "import pandas as pd \n",
    "   \n",
    "dfTrx = fd.read_file('../data/raw/'+sd.source+'export'+date+'.csv')\n",
    "dfTrx.head(5)\n"
   ]
  },
  {
   "cell_type": "markdown",
   "id": "c2b06671-a32f-445e-9c31-5c92601fb35f",
   "metadata": {},
   "source": [
    "# Pie diagram showing the imbalanced data"
   ]
  },
  {
   "cell_type": "code",
   "execution_count": null,
   "id": "c0e7892f-ac03-4505-ba06-98a8d7d0f02d",
   "metadata": {
    "scrolled": true
   },
   "outputs": [],
   "source": [
    "import matplotlib.pyplot as plt\n",
    "\n",
    "print(\"Class as pie chart fraud are very unbalanced data:\")\n",
    "plt.pie(dfTrx['Class'].value_counts(),autopct='%1.3f%%', labels=['Genuine','Fraud'], colors=['yellowgreen','r'])\n",
    "plt.savefig('../imgs/piediag-transaction.png')\n",
    "plt.show()\n"
   ]
  },
  {
   "cell_type": "code",
   "execution_count": null,
   "id": "4e27ce14-2835-4983-bdb0-df63669922c7",
   "metadata": {},
   "outputs": [],
   "source": [
    "dfTrx.info()"
   ]
  },
  {
   "cell_type": "code",
   "execution_count": null,
   "id": "4c577d07-09a7-4df2-bf95-a568f1c10a6f",
   "metadata": {},
   "outputs": [],
   "source": [
    "nan_count = dfTrx.isnull().sum()\n",
    "print('Number of NaN values:', nan_count)"
   ]
  },
  {
   "cell_type": "markdown",
   "id": "73d26d63-f428-4584-8835-fa5851cf6dd3",
   "metadata": {},
   "source": [
    "# issue with cluster profile"
   ]
  },
  {
   "cell_type": "code",
   "execution_count": null,
   "id": "188f1bd6-95a2-49dc-bdea-ab4635297c41",
   "metadata": {},
   "outputs": [],
   "source": [
    "# issue cluster profile\n",
    "print(\"All transactions\")\n",
    "print( dfTrx.cluster_profile.value_counts())\n",
    "print(\"-----------------------\")\n",
    "print(\"Fraudulent transactions\")\n",
    "print( dfTrx[dfTrx['Class']==1].cluster_profile.value_counts())\n",
    "# bug almost all fraudulent transaction have cluster profile equals to UNKNOWN"
   ]
  }
 ],
 "metadata": {
  "kernelspec": {
   "display_name": "Python 3 (ipykernel)",
   "language": "python",
   "name": "python3"
  },
  "language_info": {
   "codemirror_mode": {
    "name": "ipython",
    "version": 3
   },
   "file_extension": ".py",
   "mimetype": "text/x-python",
   "name": "python",
   "nbconvert_exporter": "python",
   "pygments_lexer": "ipython3",
   "version": "3.12.4"
  }
 },
 "nbformat": 4,
 "nbformat_minor": 5
}
