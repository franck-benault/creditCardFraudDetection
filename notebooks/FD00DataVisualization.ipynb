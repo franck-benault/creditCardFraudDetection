{
 "cells": [
  {
   "cell_type": "code",
   "execution_count": null,
   "id": "cd91aa18-64bb-4bd6-822e-1b2adef0b714",
   "metadata": {},
   "outputs": [],
   "source": [
    "import sys\n",
    "import os\n",
    "from importlib import reload\n",
    "fpath = os.path.join('..//scripts')\n",
    "sys.path.append(fpath)\n",
    "\n",
    "import warnings\n",
    "warnings.filterwarnings('ignore')\n",
    "\n",
    "#loading internal scripts\n",
    "import frauddetection as fd\n",
    "import sourcedata as sd\n",
    "reload(fd)\n",
    "reload(sd)\n",
    "\n",
    "date='20241118'\n",
    "\n",
    "print('done')"
   ]
  },
  {
   "cell_type": "code",
   "execution_count": null,
   "id": "9ec043a1-d43b-4815-876a-ed238ff0a401",
   "metadata": {},
   "outputs": [],
   "source": [
    "import frauddetection as fd\n",
    "import pandas as pd \n",
    "   \n",
    "dfTrx = fd.read_file('../data/raw/'+sd.source+'export'+date+'.csv')\n",
    "dfTrx.head(5)\n"
   ]
  },
  {
   "cell_type": "code",
   "execution_count": null,
   "id": "c0e7892f-ac03-4505-ba06-98a8d7d0f02d",
   "metadata": {
    "scrolled": true
   },
   "outputs": [],
   "source": [
    "import matplotlib.pyplot as plt\n",
    "\n",
    "print(\"Class as pie chart fraud are very unbalanced data:\")\n",
    "plt.pie(dfTrx['Class'].value_counts(),autopct='%1.3f%%', labels=['Genuine','Fraud'], colors=['yellowgreen','r'])\n",
    "plt.savefig('../imgs/piediag-transaction.png')\n",
    "plt.show()\n"
   ]
  },
  {
   "cell_type": "code",
   "execution_count": null,
   "id": "188f1bd6-95a2-49dc-bdea-ab4635297c41",
   "metadata": {},
   "outputs": [],
   "source": []
  }
 ],
 "metadata": {
  "kernelspec": {
   "display_name": "Python 3 (ipykernel)",
   "language": "python",
   "name": "python3"
  },
  "language_info": {
   "codemirror_mode": {
    "name": "ipython",
    "version": 3
   },
   "file_extension": ".py",
   "mimetype": "text/x-python",
   "name": "python",
   "nbconvert_exporter": "python",
   "pygments_lexer": "ipython3",
   "version": "3.12.4"
  }
 },
 "nbformat": 4,
 "nbformat_minor": 5
}
