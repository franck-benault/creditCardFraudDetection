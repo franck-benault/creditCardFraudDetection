{
 "cells": [
  {
   "cell_type": "code",
   "execution_count": null,
   "id": "6b9e922f-84cb-4556-a6d9-dea7ce222301",
   "metadata": {},
   "outputs": [],
   "source": [
    "#For Kaggle\n",
    "#date=''\n",
    "\n",
    "#For WL data\n",
    "source='WL'\n",
    "date='20241118'\n",
    "\n",
    "saveImage=False\n",
    "\n",
    "print('done')"
   ]
  },
  {
   "cell_type": "code",
   "execution_count": null,
   "id": "53106652-5d8c-4b52-8d38-a65e992b1abe",
   "metadata": {},
   "outputs": [],
   "source": [
    "import sys\n",
    "import os\n",
    "from importlib import reload\n",
    "fpath = os.path.join('..//scripts')\n",
    "sys.path.append(fpath)\n",
    "\n",
    "import warnings\n",
    "warnings.filterwarnings('ignore')\n",
    "\n",
    "#loading internal scripts\n",
    "import frauddetection as fd\n",
    "import sourcedata as sd\n",
    "import dataimport as di\n",
    "import result as resultMd\n",
    "import sampling as sp\n",
    "reload(fd)\n",
    "reload(sd)\n",
    "reload(di)\n",
    "reload(resultMd)\n",
    "reload(sp)\n",
    "\n",
    "print('done')"
   ]
  },
  {
   "cell_type": "code",
   "execution_count": null,
   "id": "5a6f119e-bb6e-4236-88de-526cb617e9ec",
   "metadata": {},
   "outputs": [],
   "source": [
    "import pandas as pd\n",
    "\n",
    "dfTrx = pd.read_csv('../data/cleaned/'+source+'export'+date+'.csv')\n",
    "dfTrx.head(5)"
   ]
  },
  {
   "cell_type": "code",
   "execution_count": null,
   "id": "d9b77da5-499e-4568-a579-1ec5ab677920",
   "metadata": {},
   "outputs": [],
   "source": [
    "# Hyperparameters Results\n",
    "\n",
    "n_estimatorsFound=68\n",
    "max_depthFound=31\n",
    "\n",
    "print('done')"
   ]
  },
  {
   "cell_type": "code",
   "execution_count": null,
   "id": "5ef1a6ac-10f2-4b80-a3ad-ebd67d7ea707",
   "metadata": {},
   "outputs": [],
   "source": [
    "from sklearn.model_selection import train_test_split\n",
    "\n",
    "predictors = fd.getPredictors(dfTrx)\n",
    "TEST_SIZE = 0.20 # test size using_train_test_split\n",
    "RANDOM_STATE = 0\n",
    "x_train0, x_test, y_train0, y_test = train_test_split(dfTrx[predictors], dfTrx['Class'], test_size = TEST_SIZE, \n",
    "                                                        stratify= dfTrx['Class'],\n",
    "                                                        random_state = RANDOM_STATE)\n",
    "\n",
    "x_train, y_train = sp.randomOverUnderSampling(x_train0, y_train0)"
   ]
  },
  {
   "cell_type": "code",
   "execution_count": null,
   "id": "a815cfa7-1239-48d6-b21e-6117014d5b3b",
   "metadata": {},
   "outputs": [],
   "source": [
    "from sklearn.ensemble import RandomForestClassifier\n",
    "import matplotlib.pyplot as plt\n",
    "from datetime import datetime\n",
    "\n",
    "then= datetime.now()\n",
    "\n",
    "modelClf = RandomForestClassifier(random_state=42)\n",
    "modelClf.fit(x_train, y_train)\n",
    "predsTrain = modelClf.predict(x_train)\n",
    "predsTest = modelClf.predict(x_test)\n",
    "\n",
    "now = datetime.now()\n",
    "duration= now - then\n",
    "duration_in_s = duration.total_seconds()\n",
    "print(\"Duration \",duration_in_s)\n",
    "f1,mcc,roc=fd.print_scores(y_test, predsTest,'all')\n",
    "\n",
    "\n",
    "fd.print_scores(y_train, predsTrain,'f1', False)\n",
    "fd.print_scores(y_test, predsTest,'f1')\n",
    "fd.show_importance(modelClf, predictors)\n",
    "fd.show_confusion_matrix(y_test, predsTest)"
   ]
  },
  {
   "cell_type": "markdown",
   "id": "135f96cf-92de-48c6-86ca-2d1c2cce8536",
   "metadata": {},
   "source": [
    "# Hyperparameters tuning"
   ]
  },
  {
   "cell_type": "code",
   "execution_count": null,
   "id": "0c3465b2-7f9f-448e-bbf6-d03dccf0a9d6",
   "metadata": {},
   "outputs": [],
   "source": [
    "%%script false\n",
    "\n",
    "from scipy.stats import randint\n",
    "\n",
    "modelClf = RandomForestClassifier(random_state=42)\n",
    "dic_param={\n",
    "    'n_estimators': randint(35,90),\n",
    "    'max_depth': randint(17,33)\n",
    "}\n",
    "res=fd.hyperparameterSelectionRandomizedSearchCVSampling(modelClf, dic_param, 'f1', x_train, y_train)\n",
    "print(res)\n",
    "\n",
    "#{'max_depth': 31, 'n_estimators': 46}\n",
    "#0.9697458637378056\n",
    "#score   0.996832101372756\n",
    "#scoref1 0.996832101372756\n",
    "\n",
    "#{'max_depth': 30, 'n_estimators': 68}\n",
    "#0.9685826226923411\n",
    "#score   0.9960641259479697\n",
    "\n"
   ]
  },
  {
   "cell_type": "code",
   "execution_count": null,
   "id": "d05ef32f-7959-423f-8307-54d68d0b94f2",
   "metadata": {},
   "outputs": [],
   "source": [
    "%%script false\n",
    "\n",
    "\n",
    "modelClf = RandomForestClassifier(random_state=42)\n",
    "\n",
    "dic_param={\n",
    "    'n_estimators':[67,68,69],\n",
    "    'max_depth':[29,30,31]\n",
    "}\n",
    "res=fd.hyperparameterSelectionGridSearchCVSampling(modelClf, dic_param, 'f1', x_train, y_train)\n",
    "print(res)\n",
    "\n",
    "#{'max_depth': 30, 'n_estimators': 46}\n",
    "#0.9710074329593026\n",
    "#scoref1 0.9974025974025974\n",
    "\n",
    "#{'max_depth': 31, 'n_estimators': 68}\n",
    "#0.968910202760745\n",
    "#scoref1 0.9963510658728635\n",
    "\n"
   ]
  },
  {
   "cell_type": "markdown",
   "id": "76be3214-178e-40f4-90a4-df0f1bd7fff7",
   "metadata": {},
   "source": [
    "# Final validation"
   ]
  },
  {
   "cell_type": "code",
   "execution_count": null,
   "id": "56ae1be4-a998-4ad9-8cd0-131e5ce3af52",
   "metadata": {},
   "outputs": [],
   "source": [
    "import numpy as np\n",
    "from sklearn.ensemble import RandomForestClassifier\n",
    "\n",
    " \n",
    "modelClf = RandomForestClassifier(random_state=42)\n",
    "parameters={'max_depth': max_depthFound, 'n_estimators':n_estimatorsFound}\n",
    "modelClf.set_params(**parameters)\n",
    "modelClf.fit(x_train, y_train)\n",
    "\n",
    "predsTrain = modelClf.predict(x_train)\n",
    "predsTest = modelClf.predict(x_test)\n",
    "\n",
    "fd.print_scores(y_train, predsTrain,'f1', False)\n",
    "fd.print_scores(y_test, predsTest,'f1')\n",
    "fd.show_importance(modelClf, predictors)\n",
    "fd.show_confusion_matrix(y_test, predsTest)\n",
    "fd.show_prediction_graph(modelClf, x_test,y_test)\n"
   ]
  },
  {
   "cell_type": "code",
   "execution_count": null,
   "id": "9e8d9491-f833-4537-9a65-076404bde78c",
   "metadata": {},
   "outputs": [],
   "source": [
    "files = fd.getAllFiles()\n",
    "\n",
    "range = []\n",
    "f1s = []\n",
    "rocs = []\n",
    "loop =0\n",
    "threshold=0.4\n",
    "for file in files:\n",
    "    loop=loop+1\n",
    "    range.append(loop)\n",
    "    print(file)\n",
    "  \n",
    "    dfTrx = pd.read_csv('../data/cleaned/'+source+file)\n",
    "    predictors = fd.getPredictors(dfTrx)\n",
    "\n",
    "    y_pred_prob = modelClf.predict_proba(dfTrx[predictors])[:,1]\n",
    "    y_pred_adjusted = (y_pred_prob>threshold).astype(int)\n",
    "\n",
    "    f1,mcc,roc= fd.print_scores(dfTrx['Class'], y_pred_adjusted,'All', True)\n",
    "    \n",
    "    #fd.show_importance(modelClf,predictors)\n",
    "    fd.show_confusion_matrix(dfTrx['Class'], y_pred_adjusted)\n",
    "\n",
    "    f1s.append(f1)\n",
    "    rocs.append(roc)\n",
    "\n",
    "fd.plt_train_test(range, f1s)\n",
    "\n",
    "resultMd.update_performance_nextdays_result('07-sklearn.ensemble.a-bagging','RandomForestClassifier','6-After overUnderSampling', f1s[0],f1s[1],f1s[2],f1s[3],rocs[0],rocs[1],rocs[2],rocs[3])\n",
    "\n"
   ]
  },
  {
   "cell_type": "code",
   "execution_count": null,
   "id": "dc3136a0-130e-4a4e-8c05-362b0e56fe5d",
   "metadata": {},
   "outputs": [],
   "source": []
  }
 ],
 "metadata": {
  "kernelspec": {
   "display_name": "Python 3 (ipykernel)",
   "language": "python",
   "name": "python3"
  },
  "language_info": {
   "codemirror_mode": {
    "name": "ipython",
    "version": 3
   },
   "file_extension": ".py",
   "mimetype": "text/x-python",
   "name": "python",
   "nbconvert_exporter": "python",
   "pygments_lexer": "ipython3",
   "version": "3.12.4"
  }
 },
 "nbformat": 4,
 "nbformat_minor": 5
}
