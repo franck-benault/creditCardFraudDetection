{
 "cells": [
  {
   "cell_type": "code",
   "execution_count": null,
   "id": "3ecbb02b-a00e-4b7b-b44f-4dc87a47f930",
   "metadata": {},
   "outputs": [],
   "source": [
    "#For Kaggle\n",
    "#date=''\n",
    "\n",
    "#For WL data\n",
    "source='SIM'\n",
    "date='20241118'\n",
    "\n",
    "saveImg=False\n",
    "\n",
    "print('done')"
   ]
  },
  {
   "cell_type": "code",
   "execution_count": null,
   "id": "89901f5a-e243-4439-be4e-07543b0798da",
   "metadata": {},
   "outputs": [],
   "source": [
    "import sys\n",
    "import os\n",
    "from importlib import reload\n",
    "fpath = os.path.join('..//scripts')\n",
    "sys.path.append(fpath)\n",
    "\n",
    "import warnings\n",
    "warnings.filterwarnings('ignore')\n",
    "\n",
    "#loading internal scripts\n",
    "import frauddetection as fd\n",
    "import sourcedata as sd\n",
    "import dataimport as di\n",
    "reload(fd)\n",
    "reload(sd)\n",
    "reload(di)\n",
    "\n",
    "print('done')"
   ]
  },
  {
   "cell_type": "code",
   "execution_count": null,
   "id": "9b7d817d-2c9c-4312-bc62-536420483cf4",
   "metadata": {},
   "outputs": [],
   "source": [
    "import random\n",
    "\n",
    "items = ['VIS', 'MCD']\n",
    "weights=[1/3, 2/3]\n",
    "cardBrand=random.choices(\n",
    "    population=items,\n",
    "    weights=weights,\n",
    "    k=1000000)\n"
   ]
  },
  {
   "cell_type": "code",
   "execution_count": null,
   "id": "1b721b99-d54d-4b6b-99d9-bdefb8fa2b3a",
   "metadata": {},
   "outputs": [],
   "source": [
    "import random\n",
    "import pandas as pd\n",
    "\n",
    "Class=random.choices(\n",
    "    population=[0,1],\n",
    "    weights=[0.9999, 0.001],\n",
    "    k=1000000)\n",
    "\n",
    "dfTrx = pd.DataFrame({'cardBrand':cardBrand, 'Class':Class})\n",
    "dfTrx.columns=['cardBrand','Class']\n",
    "dfTrx.head()"
   ]
  },
  {
   "cell_type": "code",
   "execution_count": null,
   "id": "21212ae9-e68d-4213-88b4-13b4ce043610",
   "metadata": {},
   "outputs": [],
   "source": [
    "import matplotlib.pyplot as plt\n",
    "\n",
    "print(\"Class as pie chart fraud are very unbalanced data:\")\n",
    "plt.pie(dfTrx['Class'].value_counts(),autopct='%1.3f%%', labels=['Genuine','Fraud'], colors=['yellowgreen','r'])\n",
    "\n",
    "plt.show()"
   ]
  },
  {
   "cell_type": "code",
   "execution_count": null,
   "id": "c5689c71-b92d-41d0-9398-6485e9042617",
   "metadata": {},
   "outputs": [],
   "source": [
    "import matplotlib.pyplot as plt\n",
    "\n",
    "print(\"Visa of 1/3 transactions, Mastercard  2/3 of transactions:\")\n",
    "plt.pie(dfTrx['cardBrand'].value_counts(),autopct='%1.1f%%',labels=['Mastercard','Visa'], colors=['yellowgreen','r'])\n",
    "\n",
    "plt.show()"
   ]
  },
  {
   "cell_type": "code",
   "execution_count": null,
   "id": "65571bfe-3c58-48ad-92e2-5e4376eeafd6",
   "metadata": {},
   "outputs": [],
   "source": [
    " dfTrx.to_csv('../data/cleaned/'+source+'export'+date+'.csv', index=False) \n",
    "print('done')"
   ]
  },
  {
   "cell_type": "code",
   "execution_count": null,
   "id": "a7873581-a962-46ef-a4ff-cb6a8419f890",
   "metadata": {},
   "outputs": [],
   "source": []
  }
 ],
 "metadata": {
  "kernelspec": {
   "display_name": "Python 3 (ipykernel)",
   "language": "python",
   "name": "python3"
  },
  "language_info": {
   "codemirror_mode": {
    "name": "ipython",
    "version": 3
   },
   "file_extension": ".py",
   "mimetype": "text/x-python",
   "name": "python",
   "nbconvert_exporter": "python",
   "pygments_lexer": "ipython3",
   "version": "3.12.4"
  }
 },
 "nbformat": 4,
 "nbformat_minor": 5
}
