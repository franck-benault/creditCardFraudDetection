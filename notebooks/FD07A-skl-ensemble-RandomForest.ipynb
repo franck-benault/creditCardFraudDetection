{
 "cells": [
  {
   "cell_type": "code",
   "execution_count": null,
   "id": "6b9e922f-84cb-4556-a6d9-dea7ce222301",
   "metadata": {},
   "outputs": [],
   "source": [
    "#For Kaggle\n",
    "#date=''\n",
    "\n",
    "#For WL data\n",
    "source='WL'\n",
    "date='20241118'\n",
    "\n",
    "saveImage=False\n",
    "\n",
    "print('done')"
   ]
  },
  {
   "cell_type": "code",
   "execution_count": null,
   "id": "53106652-5d8c-4b52-8d38-a65e992b1abe",
   "metadata": {},
   "outputs": [],
   "source": [
    "import sys\n",
    "import os\n",
    "from importlib import reload\n",
    "fpath = os.path.join('..//scripts')\n",
    "sys.path.append(fpath)\n",
    "\n",
    "import warnings\n",
    "warnings.filterwarnings('ignore')\n",
    "\n",
    "#loading internal scripts\n",
    "import frauddetection as fd\n",
    "import sourcedata as sd\n",
    "import dataimport as di\n",
    "import result as resultMd\n",
    "reload(fd)\n",
    "reload(sd)\n",
    "reload(di)\n",
    "reload(resultMd)\n",
    "\n",
    "print('done')"
   ]
  },
  {
   "cell_type": "code",
   "execution_count": null,
   "id": "5a6f119e-bb6e-4236-88de-526cb617e9ec",
   "metadata": {},
   "outputs": [],
   "source": [
    "import pandas as pd\n",
    "\n",
    "dfTrx = pd.read_csv('../data/cleaned/'+source+'export'+date+'.csv')\n",
    "dfTrx.head(5)"
   ]
  },
  {
   "cell_type": "markdown",
   "id": "d50b4b4b-05dc-4db9-b6f3-26133ac817e6",
   "metadata": {},
   "source": [
    "# Test with default hyperparameters"
   ]
  },
  {
   "cell_type": "code",
   "execution_count": null,
   "id": "3f9c75f3-9d3a-45dd-a778-abbe0e12efc6",
   "metadata": {},
   "outputs": [],
   "source": [
    "from sklearn.ensemble import RandomForestClassifier\n",
    "import matplotlib.pyplot as plt\n",
    "from datetime import datetime\n",
    "\n",
    "then= datetime.now()\n",
    "predictors = fd.getPredictors(dfTrx)\n",
    "\n",
    "x_train, x_test, y_train, y_test, scaler =fd.split_data(dfTrx,predictors)\n",
    "\n",
    "modelClf = RandomForestClassifier(random_state=42)\n",
    "modelClf.fit(x_train, y_train)\n",
    "predsTrain = modelClf.predict(x_train)\n",
    "predsTest = modelClf.predict(x_test)\n",
    "\n",
    "now = datetime.now()\n",
    "duration= now - then\n",
    "duration_in_s = duration.total_seconds()\n",
    "print(\"Duration \",duration_in_s)\n",
    "resultMd.update_time_response_result('07-sklearn.ensemble','RandomForest','1-Default', duration_in_s)\n",
    "f1,mcc,roc=fd.print_scores(y_test, predsTest,'all')\n",
    "resultMd.update_performance_test_result('07-sklearn.ensemble','RandomForest','1-Default', f1,mcc,roc)\n",
    "\n",
    "fd.print_scores(y_train, predsTrain,'f1', False)\n",
    "fd.print_scores(y_test, predsTest,'f1')\n",
    "fd.show_importance(modelClf, predictors)\n",
    "fd.show_confusion_matrix(y_test, predsTest)\n",
    "\n"
   ]
  },
  {
   "cell_type": "markdown",
   "id": "4536e2ed-26d5-4cea-9be1-a73749aa9b40",
   "metadata": {},
   "source": [
    "# Scaling choice\n",
    "with adaboost the scaling has no influence ?"
   ]
  },
  {
   "cell_type": "code",
   "execution_count": null,
   "id": "f7b16910-7607-43d1-8f40-7b0e10765714",
   "metadata": {},
   "outputs": [],
   "source": [
    "%%script false\n",
    "# scaling choice\n",
    "\n",
    "import matplotlib.pyplot as plt\n",
    "import numpy as np\n",
    "\n",
    "predictors = fd.getPredictors(dfTrx)\n",
    "parameters={}\n",
    "#parameters['max_iter']=1000\n",
    "\n",
    "modelClf = RandomForestClassifier(random_state=42)\n",
    "duration_in_s,f1Train,f1Test, scaler = fd.processModel(modelClf,dfTrx, predictors,[], parameters, scaler=None)\n",
    "scalers = fd.getScalers()\n",
    "for key in scalers:\n",
    "    print(key)\n",
    "    scaler=scalers.get(key)\n",
    "    modelClf = AdaBoostClassifier(random_state=42)\n",
    "    duration_in_s,f1Train,f1Test, scaler = fd.processModel(modelClf,dfTrx, predictors, [],parameters,scaler=scaler)\n",
    "\n",
    "# scaler has no adding value for the result"
   ]
  },
  {
   "cell_type": "code",
   "execution_count": null,
   "id": "56ae1be4-a998-4ad9-8cd0-131e5ce3af52",
   "metadata": {},
   "outputs": [],
   "source": [
    "from sklearn.ensemble import RandomForestClassifier\n",
    "import matplotlib.pyplot as plt\n",
    "from datetime import datetime\n",
    "\n",
    "then= datetime.now()\n",
    "predictors = fd.getPredictors(dfTrx)\n",
    "\n",
    "x_train, x_test, y_train, y_test, scaler =fd.split_data(dfTrx,predictors)\n",
    "\n",
    "modelClf = RandomForestClassifier(random_state=42)\n",
    "\n",
    "modelClf.fit(x_train, y_train)\n",
    "predsTrain = modelClf.predict(x_train)\n",
    "predsTest = modelClf.predict(x_test)\n",
    "\n",
    "now = datetime.now()\n",
    "duration= now - then\n",
    "duration_in_s = duration.total_seconds()\n",
    "print(\"Duration \",duration_in_s)\n",
    "resultMd.update_time_response_result('07-sklearn.ensemble','RandomForest','1-Default', duration_in_s)\n",
    "f1,mcc,roc=fd.print_scores(y_test, predsTest,'all')\n",
    "resultMd.update_performance_test_result('07-sklearn.ensemble','RandomForest','1-Default', f1,mcc,roc)\n",
    "\n",
    "fd.print_scores(y_train, predsTrain,'f1', False)\n",
    "fd.print_scores(y_test, predsTest,'f1')\n",
    "fd.show_importance(modelClf, predictors)\n",
    "fd.show_confusion_matrix(y_test, predsTest)\n",
    "fd.show_prediction_graph(modelClf, x_test,y_test,'../imgs/FD07A-RandomForestClassifierProbaHistogram' if saveImage else None)\n",
    "\n"
   ]
  },
  {
   "cell_type": "code",
   "execution_count": null,
   "id": "9e8d9491-f833-4537-9a65-076404bde78c",
   "metadata": {},
   "outputs": [],
   "source": [
    "files = fd.getAllFiles()\n",
    "\n",
    "range = []\n",
    "f1s = []\n",
    "rocs = []\n",
    "loop =0\n",
    "for file in files:\n",
    "    loop=loop+1\n",
    "    range.append(loop)\n",
    "    print(file)\n",
    "  \n",
    "    dfTrx = pd.read_csv('../data/cleaned/'+source+file)\n",
    "    predictors = fd.getPredictors(dfTrx)\n",
    "\n",
    "    preds = modelClf.predict(dfTrx[predictors])\n",
    "\n",
    "    f1,mcc,roc= fd.print_scores(dfTrx['Class'], preds,'All', True)\n",
    "    #fd.show_importance(modelClf,predictors)\n",
    "    fd.show_confusion_matrix(dfTrx['Class'], preds)\n",
    "    f1s.append(f1)\n",
    "    rocs.append(roc)\n",
    "\n",
    "fd.plt_train_test(range, f1s)\n",
    "resultMd.update_performance_nextdays_result('07-sklearn.ensemble','RandomForestClassifier','2-After tuning', f1s[0],f1s[1],f1s[2],f1s[3],rocs[0],rocs[1],rocs[2],rocs[3])\n",
    "\n"
   ]
  },
  {
   "cell_type": "code",
   "execution_count": null,
   "id": "c0873f93-7127-4739-9309-f50696481a2c",
   "metadata": {},
   "outputs": [],
   "source": []
  }
 ],
 "metadata": {
  "kernelspec": {
   "display_name": "Python 3 (ipykernel)",
   "language": "python",
   "name": "python3"
  },
  "language_info": {
   "codemirror_mode": {
    "name": "ipython",
    "version": 3
   },
   "file_extension": ".py",
   "mimetype": "text/x-python",
   "name": "python",
   "nbconvert_exporter": "python",
   "pygments_lexer": "ipython3",
   "version": "3.12.4"
  }
 },
 "nbformat": 4,
 "nbformat_minor": 5
}
