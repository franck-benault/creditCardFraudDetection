{
 "cells": [
  {
   "cell_type": "code",
   "execution_count": null,
   "id": "7d81b91d-fbf1-4242-a8d5-e80b750be34b",
   "metadata": {},
   "outputs": [],
   "source": [
    "#For Kaggle\n",
    "#date=''\n",
    "\n",
    "#For WL data\n",
    "date='20241118'\n",
    "source='WL'\n",
    "\n",
    "saveImg=False\n",
    "\n",
    "print('done')"
   ]
  },
  {
   "cell_type": "code",
   "execution_count": null,
   "id": "6af3711f-0265-4a23-b3c8-4cd49e3c200c",
   "metadata": {},
   "outputs": [],
   "source": [
    "import sys\n",
    "import os\n",
    "from importlib import reload\n",
    "fpath = os.path.join('..//scripts')\n",
    "sys.path.append(fpath)\n",
    "\n",
    "import warnings\n",
    "warnings.filterwarnings('ignore')\n",
    "\n",
    "#loading internal scripts\n",
    "import frauddetection as fd\n",
    "import sourcedata as sd\n",
    "import dataimport as di\n",
    "import countrymanagement as cm\n",
    "import mccmanagement\n",
    "reload(fd)\n",
    "reload(sd)\n",
    "reload(di)\n",
    "reload(cm)\n",
    "reload(mccmanagement)\n",
    "\n",
    "print('done')"
   ]
  },
  {
   "cell_type": "code",
   "execution_count": null,
   "id": "3e002cad-514d-459e-acae-99dc22c9bf0e",
   "metadata": {},
   "outputs": [],
   "source": [
    "max_silouhette=0\n",
    "silouhette_config=''\n",
    "print('max silouhette and context',max_silouhette,silouhette_config )"
   ]
  },
  {
   "cell_type": "code",
   "execution_count": null,
   "id": "5c5a7b21-a1cc-491b-abd3-4ea08fe7f9ec",
   "metadata": {},
   "outputs": [],
   "source": [
    "import pandas as pd\n",
    "\n",
    "\n",
    "PATH=\"../data/raw/\"\n",
    "merchants = pd.read_csv(PATH+'WLacceptorIdSummary30d.csv', sep=\";\")\n",
    "print(merchants.shape)\n",
    "merchants.head()"
   ]
  },
  {
   "cell_type": "code",
   "execution_count": null,
   "id": "0030f6df-6760-47e1-b6d3-ee6043b15ff8",
   "metadata": {},
   "outputs": [],
   "source": [
    "merchants.isnull().sum()\n"
   ]
  },
  {
   "cell_type": "code",
   "execution_count": null,
   "id": "8de191df-728d-47f3-ac7f-0d5b978cdf18",
   "metadata": {},
   "outputs": [],
   "source": [
    "merchants['country_group'] = merchants['term_country'].apply(cm.get_country_group)\n",
    "#merchants= merchants.drop(columns=['term_country'])\n",
    "merchants.head()"
   ]
  },
  {
   "cell_type": "code",
   "execution_count": null,
   "id": "c94a9e07-067e-4036-ada3-3c0e2696bee4",
   "metadata": {},
   "outputs": [],
   "source": [
    "merchants=pd.get_dummies(merchants,columns=['country_group'], dtype = int)"
   ]
  },
  {
   "cell_type": "code",
   "execution_count": null,
   "id": "ea6868fa-a545-46dc-84d6-866636925994",
   "metadata": {},
   "outputs": [],
   "source": [
    "import numpy as np\n",
    "import seaborn as sns\n",
    "\n",
    "# Creating plot\n",
    "sns.boxplot(data=merchants,y='count_amount')"
   ]
  },
  {
   "cell_type": "code",
   "execution_count": null,
   "id": "64acbd4d-9231-414c-9706-7fe89f54e102",
   "metadata": {},
   "outputs": [],
   "source": [
    "import matplotlib.pyplot as plt\n",
    "\n",
    "# An \"interface\" to matplotlib.axes.Axes.hist() method\n",
    "plt.hist(x=merchants['count_amount'], bins=75, color='#0504aa', alpha=0.7, rwidth=0.85)\n",
    "plt.grid(axis='y', alpha=0.75)\n",
    "plt.xlabel('Value (sum amount')\n",
    "plt.ylabel('Frequency')\n",
    "plt.title('Card holder sum amount histogram')\n",
    "\n",
    "plt.show()"
   ]
  },
  {
   "cell_type": "code",
   "execution_count": null,
   "id": "9f9dbcc7-e1d1-47b2-add7-99ef198cc431",
   "metadata": {},
   "outputs": [],
   "source": [
    "import matplotlib.pyplot as plt\n",
    "import seaborn as sns\n",
    "\n",
    "merchants['count_amount_log10']=np.log10(1+merchants['count_amount'])\n",
    "merchants['sum_amount_log10']=np.log10(1+merchants['sum_amount'])\n",
    "\n",
    "# Creating plot\n",
    "sns.boxplot(data=merchants,y='count_amount_log10')\n",
    "plt.title('merchant sum amount log10 box plot')\n",
    "\n",
    "plt.show()"
   ]
  },
  {
   "cell_type": "code",
   "execution_count": null,
   "id": "02e68668-6c6b-4e19-ac2d-8b90c9699ccf",
   "metadata": {},
   "outputs": [],
   "source": [
    "import matplotlib.pyplot as plt\n",
    "\n",
    "# An \"interface\" to matplotlib.axes.Axes.hist() method\n",
    "plt.hist(x=merchants['count_amount_log10'], bins=75, color='#0504aa', alpha=0.7, rwidth=0.85)\n",
    "plt.grid(axis='y', alpha=0.75)\n",
    "plt.xlabel('Value (sum amount')\n",
    "plt.ylabel('Frequency')\n",
    "plt.title('Merchant sum amount histogram')\n",
    "\n",
    "plt.show()"
   ]
  },
  {
   "cell_type": "code",
   "execution_count": null,
   "id": "b0940035-00f3-470d-bc10-e0b80a6e0e77",
   "metadata": {},
   "outputs": [],
   "source": [
    "import matplotlib.pyplot as plt\n",
    "\n",
    "# An \"interface\" to matplotlib.axes.Axes.hist() method\n",
    "plt.hist(x=merchants['ecom_rate'], bins=75, color='#0504aa', alpha=0.7, rwidth=0.85)\n",
    "plt.grid(axis='y', alpha=0.75)\n",
    "plt.xlabel('Value (ecom rate')\n",
    "plt.ylabel('Frequency')\n",
    "plt.title('Merchant sum amount histogram')\n",
    "\n",
    "plt.show()"
   ]
  },
  {
   "cell_type": "code",
   "execution_count": null,
   "id": "c861f3e1-e7d7-4831-b2b3-40b6cef5a0b7",
   "metadata": {},
   "outputs": [],
   "source": [
    "import numpy as np\n",
    "from sklearn.cluster import KMeans\n",
    "from sklearn.metrics import silhouette_score\n",
    "\n",
    "scalers = fd.getScalers()\n",
    "merchants2=merchants.drop(['acceptor_id', 'sum_amount', 'count_amount','term_mcc','term_country'], axis=1)\n",
    "print(merchants2.head(5))\n",
    "for key in scalers:\n",
    "    print(key)\n",
    "    scaler=scalers.get(key)\n",
    "    merchants3 = scaler.fit_transform(merchants2)\n",
    "    #merchants4 = pd.DataFrame(merchants3)\n",
    "   \n",
    "    kmeans = KMeans(n_clusters=3, random_state=42)\n",
    "    kmeans.fit(merchants3)\n",
    "    y_pred = kmeans.predict(merchants3)\n",
    "    pred = pd.DataFrame(y_pred)\n",
    "    print(pred[0].value_counts())\n",
    "    print('silhouette score',silhouette_score(merchants3,y_pred, sample_size=5000))\n",
    "    print('-----------------')"
   ]
  },
  {
   "cell_type": "code",
   "execution_count": null,
   "id": "7e7bc0f8-4cc7-483c-af51-a01928499a94",
   "metadata": {},
   "outputs": [],
   "source": [
    "max_silouhette=0"
   ]
  },
  {
   "cell_type": "code",
   "execution_count": null,
   "id": "45eb2512-d8be-4bce-b186-60a0f1fa29e6",
   "metadata": {},
   "outputs": [],
   "source": [
    "import numpy as np\n",
    "from sklearn.preprocessing import StandardScaler\n",
    "from sklearn.metrics import silhouette_score\n",
    "\n",
    "range_n_clusters = np.arange(2,5,1)\n",
    "print(range_n_clusters)\n",
    "\n",
    "\n",
    "scalers =StandardScaler()\n",
    "merchants2=merchants.drop(['acceptor_id', 'sum_amount', 'count_amount','term_mcc','term_country'], axis=1)\n",
    "merchants3 = scaler.fit_transform(merchants2)\n",
    "\n",
    "\n",
    "#print(card3.head())\n",
    "ssd=[]\n",
    "silhouettes=[]\n",
    "for n_clusters in range_n_clusters: \n",
    "    kmeans = KMeans(n_clusters=n_clusters, random_state=42)\n",
    "    kmeans.fit(merchants3)\n",
    "    y_pred = kmeans.predict(merchants3)\n",
    "    \n",
    "    #cards3[\"label\"]=y_pred\n",
    "    pred = pd.DataFrame(y_pred)\n",
    "    print(pred[0].value_counts())\n",
    "    ssd.append(kmeans.inertia_)    \n",
    "    score = silhouette_score(merchants3,y_pred, sample_size=5000)\n",
    "    silhouettes.append(score)\n",
    "    if(n_clusters>3 and score>max_silouhette):\n",
    "        max_silouhette=score\n",
    "        silouhette_config=''+str(n_clusters)+' StandardScaler'\n",
    "    print('--', n_clusters, score)\n",
    "print('-----------------')\n",
    "print('max silouhette and context',max_silouhette,silouhette_config )"
   ]
  },
  {
   "cell_type": "code",
   "execution_count": null,
   "id": "383f2017-e300-473e-bf23-9974814639bb",
   "metadata": {},
   "outputs": [],
   "source": [
    "fig, ax = plt.subplots() # Create the figure and axes object\n",
    "# Plot the first x and y axes:\n",
    "ax.plot(range_n_clusters, ssd) \n",
    "ax.set_ylabel(\"ssd\",color=\"b\")\n",
    "ax2 = ax.twinx()\n",
    "\n",
    "ax2.plot(range_n_clusters, silhouettes, color='r') \n",
    "ax2.set_ylabel(\"silhouette\",color=\"r\")"
   ]
  },
  {
   "cell_type": "code",
   "execution_count": null,
   "id": "45ba1fea-1c7d-4a67-9dd1-8a6e87758e42",
   "metadata": {},
   "outputs": [],
   "source": [
    "import numpy as np\n",
    "from sklearn.preprocessing import MinMaxScaler\n",
    "from sklearn.metrics import silhouette_score\n",
    "\n",
    "range_n_clusters = np.arange(2,5,1)\n",
    "print(range_n_clusters)\n",
    "\n",
    "\n",
    "scalers =MinMaxScaler()\n",
    "merchants2=merchants.drop(['acceptor_id', 'sum_amount', 'count_amount','term_mcc','term_country'], axis=1)\n",
    "merchants3 = scaler.fit_transform(merchants2)\n",
    "\n",
    "\n",
    "#print(card3.head())\n",
    "ssd=[]\n",
    "silhouettes=[]\n",
    "for n_clusters in range_n_clusters: \n",
    "    kmeans = KMeans(n_clusters=n_clusters, random_state=42)\n",
    "    kmeans.fit(merchants3)\n",
    "    y_pred = kmeans.predict(merchants3)\n",
    "    \n",
    "    #cards3[\"label\"]=y_pred\n",
    "    pred = pd.DataFrame(y_pred)\n",
    "    print(pred[0].value_counts())\n",
    "    ssd.append(kmeans.inertia_)    \n",
    "    score = silhouette_score(merchants3,y_pred, sample_size=5000)\n",
    "    silhouettes.append(score)\n",
    "    if(n_clusters>3 and score>max_silouhette):\n",
    "        max_silouhette=score\n",
    "        silouhette_config=''+str(n_clusters)+' MinMaxScaler'\n",
    "    print('--', n_clusters, score)\n",
    "print('-----------------')\n",
    "print('max silouhette and context',max_silouhette,silouhette_config )"
   ]
  },
  {
   "cell_type": "code",
   "execution_count": null,
   "id": "c5881e04-609b-4966-b3cc-5f78e482e8b6",
   "metadata": {},
   "outputs": [],
   "source": [
    "fig, ax = plt.subplots() # Create the figure and axes object\n",
    "# Plot the first x and y axes:\n",
    "ax.plot(range_n_clusters, ssd) \n",
    "ax.set_ylabel(\"ssd\",color=\"b\")\n",
    "ax2 = ax.twinx()\n",
    "\n",
    "ax2.plot(range_n_clusters, silhouettes, color='r') \n",
    "ax2.set_ylabel(\"silhouette\",color=\"r\")"
   ]
  },
  {
   "cell_type": "code",
   "execution_count": null,
   "id": "b7e602f9-d0e4-4e86-aa54-66eb0b39361e",
   "metadata": {},
   "outputs": [],
   "source": [
    "import numpy as np\n",
    "from sklearn.preprocessing import RobustScaler\n",
    "from sklearn.metrics import silhouette_score\n",
    "\n",
    "range_n_clusters = np.arange(2,5,1)\n",
    "print(range_n_clusters)\n",
    "\n",
    "\n",
    "scalers =MinMaxScaler()\n",
    "merchants2=merchants.drop(['acceptor_id', 'sum_amount', 'count_amount','term_mcc','term_country'], axis=1)\n",
    "merchants3 = scaler.fit_transform(merchants2)\n",
    "\n",
    "\n",
    "#print(card3.head())\n",
    "ssd=[]\n",
    "silhouettes=[]\n",
    "for n_clusters in range_n_clusters: \n",
    "    kmeans = KMeans(n_clusters=n_clusters, random_state=42)\n",
    "    kmeans.fit(merchants3)\n",
    "    y_pred = kmeans.predict(merchants3)\n",
    "    \n",
    "    #cards3[\"label\"]=y_pred\n",
    "    pred = pd.DataFrame(y_pred)\n",
    "    print(pred[0].value_counts())\n",
    "    ssd.append(kmeans.inertia_)    \n",
    "    score = silhouette_score(merchants3,y_pred, sample_size=5000)\n",
    "    silhouettes.append(score)\n",
    "    if(n_clusters>3 and score>max_silouhette):\n",
    "        max_silouhette=score\n",
    "        silouhette_config=''+str(n_clusters)+' RobustScaler'\n",
    "    print('--', n_clusters, score)\n",
    "print('-----------------')\n",
    "print('max silouhette and context',max_silouhette,silouhette_config )"
   ]
  },
  {
   "cell_type": "code",
   "execution_count": null,
   "id": "c62c01eb-2460-41ef-bee4-8fd66cb37e60",
   "metadata": {},
   "outputs": [],
   "source": [
    "fig, ax = plt.subplots() # Create the figure and axes object\n",
    "# Plot the first x and y axes:\n",
    "ax.plot(range_n_clusters, ssd) \n",
    "ax.set_ylabel(\"ssd\",color=\"b\")\n",
    "ax2 = ax.twinx()\n",
    "\n",
    "ax2.plot(range_n_clusters, silhouettes, color='r') \n",
    "ax2.set_ylabel(\"silhouette\",color=\"r\")"
   ]
  },
  {
   "cell_type": "markdown",
   "id": "646c6ffd-ec10-41cd-84b4-0ed96cd685bc",
   "metadata": {},
   "source": [
    "# Final choice StandardScaler nb cluster =4"
   ]
  },
  {
   "cell_type": "code",
   "execution_count": null,
   "id": "e792f3c6-f746-4ba7-8c00-decbc8aabc19",
   "metadata": {},
   "outputs": [],
   "source": [
    "import numpy as np\n",
    "from sklearn.preprocessing import StandardScaler\n",
    "from sklearn.metrics import silhouette_score\n",
    "\n",
    "\n",
    "scalers =StandardScaler()\n",
    " \n",
    "\n",
    "merchants2=merchants.drop(['acceptor_id', 'sum_amount', 'count_amount','term_mcc','term_country'], axis=1)\n",
    "merchants3 = scaler.fit_transform(merchants2)\n",
    "merchants3=pd.DataFrame(merchants3)\n",
    "#print(merchants3.head())\n",
    "merchants3.columns=['ecom_rate','recency','country_group_BELGIUM','country_group_EUROPE','country_group_WORLD','count_amount_log10','sum_amount_log10']\n",
    "\n",
    "\n",
    "kmeans = KMeans(n_clusters=4, random_state=42)\n",
    "kmeans.fit(merchants3)\n",
    "y_pred = kmeans.predict(merchants3)\n",
    "    \n",
    "#cards3[\"label\"]=y_pred\n",
    "pred = pd.DataFrame(y_pred)\n",
    "print(pred[0].value_counts())\n",
    "  \n",
    "score = silhouette_score(merchants3,y_pred, sample_size=5000)\n",
    "silhouettes.append(score)\n",
    "print('--', n_clusters, score)\n",
    "print('-----------------')\n",
    "result = merchants.join(pred)\n",
    "result[0]='M'+result[0].map(str)\n",
    "result.head(5)\n"
   ]
  },
  {
   "cell_type": "code",
   "execution_count": null,
   "id": "6ae409f1-dfd3-4529-ac69-704e2fb96418",
   "metadata": {},
   "outputs": [],
   "source": [
    "import numpy as np\n",
    "\n",
    "# Creating plot\n",
    "sns.boxplot(data=result,y='count_amount_log10', hue=0)"
   ]
  },
  {
   "cell_type": "code",
   "execution_count": null,
   "id": "b1dca7c4-03c3-4b4f-a019-d3c7564cb9bd",
   "metadata": {},
   "outputs": [],
   "source": [
    "import numpy as np\n",
    "\n",
    "# Creating plot\n",
    "sns.boxplot(data=result,y='recency', hue=0)"
   ]
  },
  {
   "cell_type": "code",
   "execution_count": null,
   "id": "49dea5cf-fe18-4de4-b5b4-051491ebddc9",
   "metadata": {},
   "outputs": [],
   "source": [
    "import numpy as np\n",
    "\n",
    "# Creating plot\n",
    "sns.boxplot(data=result,y='sum_amount_log10', hue=0)"
   ]
  },
  {
   "cell_type": "code",
   "execution_count": null,
   "id": "b010eecc-637f-465f-bc11-c1a3932a9c6d",
   "metadata": {},
   "outputs": [],
   "source": [
    "result2=result.drop(['sum_amount','count_amount','ecom_rate','recency','country_group_BELGIUM','country_group_EUROPE','country_group_WORLD','count_amount_log10','sum_amount_log10'] , axis=1)\n",
    "result2.columns=['acceptor_id','term_mcc','term_country', 'clusterMerchant']\n",
    "result2['acceptor_id']=result2['acceptor_id'][:-1]\n",
    "result2.head()"
   ]
  },
  {
   "cell_type": "code",
   "execution_count": null,
   "id": "1c662f53-7cd0-4423-8d38-800d8e2b887b",
   "metadata": {},
   "outputs": [],
   "source": [
    "#result2.to_csv('../data/processed/WLAcceptorProfile.csv', index=False)"
   ]
  },
  {
   "cell_type": "code",
   "execution_count": null,
   "id": "3e2cf5ff-ebd9-4a75-b8e9-090e2d585cfe",
   "metadata": {},
   "outputs": [],
   "source": []
  }
 ],
 "metadata": {
  "kernelspec": {
   "display_name": "Python 3 (ipykernel)",
   "language": "python",
   "name": "python3"
  },
  "language_info": {
   "codemirror_mode": {
    "name": "ipython",
    "version": 3
   },
   "file_extension": ".py",
   "mimetype": "text/x-python",
   "name": "python",
   "nbconvert_exporter": "python",
   "pygments_lexer": "ipython3",
   "version": "3.12.4"
  }
 },
 "nbformat": 4,
 "nbformat_minor": 5
}
