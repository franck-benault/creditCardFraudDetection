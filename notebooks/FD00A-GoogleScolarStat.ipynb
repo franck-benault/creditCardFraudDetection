{
 "cells": [
  {
   "cell_type": "code",
   "execution_count": null,
   "id": "5bbfc3b3-c8a8-4edf-ab52-e7d0d42ec1e6",
   "metadata": {},
   "outputs": [],
   "source": [
    "import requests\n",
    "\n",
    "url='http://scholar.google.fr/scholar?q=machine+learning%22+OR+%22data+mining%22%29+AND+%22credit+card%22+AND+%22fraud+detection%22+AND+%28review+OR+survey%29&hl=en&as_ylo={}&as_yhi={}'\n",
    "\n",
    "from urllib.request import urlopen\n",
    "from bs4 import BeautifulSoup\n",
    "\n",
    "\n",
    "headers = {\n",
    "    'User-Agent': 'Mozilla/5.0 (Windows NT 10.0; Win64; x64) AppleWebKit/537.36 (KHTML, like Gecko) Chrome/88.0.4324.150 Safari/537.36',\n",
    "    'Accept': 'text/html,application/xhtml+xml,application/xml;q=0.9,image/avif,image/webp,image/apng,*/*;q=0.8,application/signed-exchange;v=b3;q=0.9',\n",
    "    'Accept-Language': 'en-US,en;q=0.9',\n",
    "    'Accept-Encoding': 'gzip, deflate, br',\n",
    "    'Connection': 'keep-alive',\n",
    "    'Referer': 'https://www.google.com/'\n",
    "}\n",
    "\n",
    "for date in range(2023,2024,1):\n",
    "    print(date)\n",
    "    with requests.Session() as session:\n",
    "        session.headers.update(headers)\n",
    "        res = session.get(url)\n",
    "        print(url.format(date,date))\n",
    "        print('res=', res)\n",
    "        response = requests.get(url.format(date,date))\n",
    "\n",
    "        # parse the HTML content of the page\n",
    "        soup = BeautifulSoup(response.content, \"html.parser\")\n",
    "        nbArticles = soup.find(id=\"gs_ab_md\")\n",
    "        print(nbArticles)\n",
    "\n",
    "\n",
    "\n"
   ]
  },
  {
   "cell_type": "code",
   "execution_count": null,
   "id": "27314c2b-652e-4048-a5d8-d46a01fdc5c7",
   "metadata": {},
   "outputs": [],
   "source": [
    "\n",
    "value=2025\n",
    "st='text{}{}'.format(value,value)\n",
    "print(st)"
   ]
  },
  {
   "cell_type": "code",
   "execution_count": null,
   "id": "4dab1a7f-8c22-41f1-9165-83f457b546be",
   "metadata": {},
   "outputs": [],
   "source": [
    "response=\"toto About 15.800 results tata\"\n",
    "\n",
    "words = response.split(\"About \")   \n",
    "print(words[1])\n",
    "words = words[1].split(\" result\")  \n",
    "print(words[0])\n",
    "\n",
    "number_str = words[0].replace('.', '')\n",
    "number_int = int(number_str)\n",
    "print(number_int)  # Output: 10"
   ]
  },
  {
   "cell_type": "code",
   "execution_count": null,
   "id": "a90d3775-768a-4b7f-a214-a52e26eb1867",
   "metadata": {},
   "outputs": [],
   "source": []
  }
 ],
 "metadata": {
  "kernelspec": {
   "display_name": "Python 3 (ipykernel)",
   "language": "python",
   "name": "python3"
  },
  "language_info": {
   "codemirror_mode": {
    "name": "ipython",
    "version": 3
   },
   "file_extension": ".py",
   "mimetype": "text/x-python",
   "name": "python",
   "nbconvert_exporter": "python",
   "pygments_lexer": "ipython3",
   "version": "3.12.4"
  }
 },
 "nbformat": 4,
 "nbformat_minor": 5
}
